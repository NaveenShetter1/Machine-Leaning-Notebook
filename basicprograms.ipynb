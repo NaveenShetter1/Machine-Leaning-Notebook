{
 "cells": [
  {
   "cell_type": "code",
   "execution_count": 1,
   "id": "e58805ab-bf5e-460c-b111-f17f29af0c01",
   "metadata": {},
   "outputs": [],
   "source": [
    "# add two numbers by taking inputs"
   ]
  },
  {
   "cell_type": "code",
   "execution_count": 4,
   "id": "9b30f2a5-dd5a-4c5c-acaf-a681454ea365",
   "metadata": {},
   "outputs": [
    {
     "name": "stdout",
     "output_type": "stream",
     "text": [
      "Enter a number 10\n",
      "Enter a number 2\n"
     ]
    },
    {
     "name": "stdout",
     "output_type": "stream",
     "text": [
      "Sum = 12\n"
     ]
    }
   ],
   "source": [
    "num1=int(input(\"Enter a number\"))\n",
    "num2=int(input(\"Enter a number\"))\n",
    "\n",
    "sum=num1+num2\n",
    "print('Sum =',sum)"
   ]
  },
  {
   "cell_type": "code",
   "execution_count": 5,
   "id": "3544b832-30b7-472c-86e1-0370f7eaec6b",
   "metadata": {},
   "outputs": [],
   "source": [
    "# maximum of two numbers"
   ]
  },
  {
   "cell_type": "code",
   "execution_count": 6,
   "id": "8f58848d-14b4-4a47-98b6-3e2b34e779c7",
   "metadata": {},
   "outputs": [
    {
     "name": "stdout",
     "output_type": "stream",
     "text": [
      "Enter a number 10\n",
      "Enter a number 20\n"
     ]
    },
    {
     "name": "stdout",
     "output_type": "stream",
     "text": [
      "20  is greater than 10\n"
     ]
    }
   ],
   "source": [
    "num1=int(input(\"Enter a number\"))\n",
    "num2=int(input(\"Enter a number\"))\n",
    "\n",
    "if num1>num2:\n",
    "    print(num1,\" is greater than\", num2)\n",
    "else:\n",
    "    print(num2,\" is greater than\", num1)"
   ]
  },
  {
   "cell_type": "code",
   "execution_count": 7,
   "id": "ba86b640-2889-45b0-bedb-3f9a16ce65ad",
   "metadata": {},
   "outputs": [],
   "source": [
    "# factorial of a number"
   ]
  },
  {
   "cell_type": "code",
   "execution_count": 8,
   "id": "90614ba5-8ea3-44b1-8150-6e64105f19d6",
   "metadata": {},
   "outputs": [
    {
     "name": "stdout",
     "output_type": "stream",
     "text": [
      "Enter a number  5\n"
     ]
    },
    {
     "name": "stdout",
     "output_type": "stream",
     "text": [
      "Factorial = 120\n"
     ]
    }
   ],
   "source": [
    "num=int(input(\"Enter a number \"))\n",
    "fact=1\n",
    "for i in range(1,num+1):\n",
    "    fact=fact*i\n",
    "\n",
    "print('Factorial =',fact)"
   ]
  },
  {
   "cell_type": "code",
   "execution_count": 1,
   "id": "8556d6b5-1b07-4941-8777-f69896f9994c",
   "metadata": {},
   "outputs": [],
   "source": [
    "# Input : 153\n",
    "# Output : Yes\n",
    "# 153 is an Armstrong number.\n",
    "# 1*1*1 + 5*5*5 + 3*3*3 = 153\n",
    "\n",
    "# Input : 120\n",
    "# Output : No\n",
    "# 120 is not a Armstrong number.\n",
    "# 1*1*1 + 2*2*2 + 0*0*0 = 9"
   ]
  },
  {
   "cell_type": "code",
   "execution_count": 12,
   "id": "e10c9c65-c9c4-4442-a225-6f409cefbf06",
   "metadata": {},
   "outputs": [
    {
     "name": "stdin",
     "output_type": "stream",
     "text": [
      "Enter a number:  153\n"
     ]
    },
    {
     "name": "stdout",
     "output_type": "stream",
     "text": [
      "yes\n"
     ]
    }
   ],
   "source": [
    "num=int(input(\"Enter a number: \"))\n",
    "num2=num\n",
    "leng=len(str(num))\n",
    "mul=0\n",
    "new=1\n",
    "for i in range(leng):\n",
    "    if num%10!=0:\n",
    "        # print(num%10)\n",
    "        new=num%10\n",
    "        new=new*new*new\n",
    "        # print(new)\n",
    "        mul=new+mul\n",
    "        # print(mul)\n",
    "        num=num//10\n",
    "        # print(num)\n",
    "if num2==mul:\n",
    "    print('yes')\n",
    "else:\n",
    "    print(\"No\")"
   ]
  },
  {
   "cell_type": "code",
   "execution_count": 1,
   "id": "e4bbda22-363e-46e8-b9de-c0bf9ede9062",
   "metadata": {},
   "outputs": [
    {
     "name": "stdout",
     "output_type": "stream",
     "text": [
      "Area is 78.550000\n"
     ]
    }
   ],
   "source": [
    "# Python program to find Area of a circle\n",
    "\n",
    "def findArea(r):\n",
    "    PI = 3.142\n",
    "    return PI * (r*r);\n",
    "\n",
    "# Driver method\n",
    "print(\"Area is %.6f\" % findArea(5));"
   ]
  },
  {
   "cell_type": "code",
   "execution_count": null,
   "id": "b7fbb5f8-715b-4e88-819e-812a5d04e706",
   "metadata": {},
   "outputs": [],
   "source": []
  }
 ],
 "metadata": {
  "kernelspec": {
   "display_name": "Python 3 (ipykernel)",
   "language": "python",
   "name": "python3"
  },
  "language_info": {
   "codemirror_mode": {
    "name": "ipython",
    "version": 3
   },
   "file_extension": ".py",
   "mimetype": "text/x-python",
   "name": "python",
   "nbconvert_exporter": "python",
   "pygments_lexer": "ipython3",
   "version": "3.12.4"
  }
 },
 "nbformat": 4,
 "nbformat_minor": 5
}
