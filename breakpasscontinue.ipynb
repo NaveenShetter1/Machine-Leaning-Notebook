{
 "cells": [
  {
   "cell_type": "code",
   "execution_count": 1,
   "id": "3517bdf6-2c5a-4299-bdbf-3929f8928954",
   "metadata": {},
   "outputs": [],
   "source": [
    "# use of break, pass and continue"
   ]
  },
  {
   "cell_type": "code",
   "execution_count": 2,
   "id": "d1051a5e-6cba-4b54-9546-a96a92c6eb0d",
   "metadata": {},
   "outputs": [],
   "source": [
    "# break: to exit from the current loop"
   ]
  },
  {
   "cell_type": "code",
   "execution_count": 3,
   "id": "7edea1a1-e2b8-4c23-8d70-254c1ef734ca",
   "metadata": {},
   "outputs": [],
   "source": [
    "# print 1 to 5 in  list containing 1 to 10"
   ]
  },
  {
   "cell_type": "code",
   "execution_count": 4,
   "id": "47e3b676-2a39-4815-9b25-4c06f17bc794",
   "metadata": {},
   "outputs": [
    {
     "name": "stdout",
     "output_type": "stream",
     "text": [
      "1\n",
      "2\n",
      "3\n",
      "4\n",
      "5\n"
     ]
    }
   ],
   "source": [
    "li=[1,2,3,4,5,6,7,8,9,10]\n",
    "\n",
    "for i in li:\n",
    "    if i==6:\n",
    "        break\n",
    "    else:\n",
    "        print(i)"
   ]
  },
  {
   "cell_type": "code",
   "execution_count": 5,
   "id": "77b7ea91-35bd-4010-95ae-8be1ddd09bae",
   "metadata": {},
   "outputs": [],
   "source": [
    "# pass :- used to leave a loop or class or function to write later "
   ]
  },
  {
   "cell_type": "code",
   "execution_count": 6,
   "id": "9c90dd1d-2bc0-428f-a1b9-594b7a86e879",
   "metadata": {},
   "outputs": [],
   "source": [
    "for i in range(1,10):\n",
    "    pass"
   ]
  },
  {
   "cell_type": "code",
   "execution_count": 9,
   "id": "9eb610c5-f0f1-446a-8181-b25951df9da0",
   "metadata": {},
   "outputs": [],
   "source": [
    "# continue: - to go to next iteration without continueing the current iteraion or jumping to next iteration\n",
    "\n",
    "# To skip a product in online site we can use this code by using filters"
   ]
  },
  {
   "cell_type": "code",
   "execution_count": 10,
   "id": "aa8d8355-dff8-455e-9d83-62a37620892d",
   "metadata": {},
   "outputs": [
    {
     "name": "stdout",
     "output_type": "stream",
     "text": [
      "0\n",
      "1\n",
      "2\n",
      "3\n",
      "4\n",
      "6\n",
      "7\n",
      "8\n",
      "9\n"
     ]
    }
   ],
   "source": [
    "for i in range(10):\n",
    "    if i==5:\n",
    "        continue\n",
    "    else:\n",
    "        print(i)"
   ]
  },
  {
   "cell_type": "code",
   "execution_count": null,
   "id": "71e3d167-cced-4579-86e5-09abfc64d25e",
   "metadata": {},
   "outputs": [],
   "source": []
  }
 ],
 "metadata": {
  "kernelspec": {
   "display_name": "Python 3 (ipykernel)",
   "language": "python",
   "name": "python3"
  },
  "language_info": {
   "codemirror_mode": {
    "name": "ipython",
    "version": 3
   },
   "file_extension": ".py",
   "mimetype": "text/x-python",
   "name": "python",
   "nbconvert_exporter": "python",
   "pygments_lexer": "ipython3",
   "version": "3.12.4"
  }
 },
 "nbformat": 4,
 "nbformat_minor": 5
}
