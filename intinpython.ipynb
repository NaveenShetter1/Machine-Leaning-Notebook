{
 "cells": [
  {
   "cell_type": "markdown",
   "id": "91eee668",
   "metadata": {},
   "source": [
    "1. Declare an int value and store it in a variable.\n",
    "Check the type and print the id of the same."
   ]
  },
  {
   "cell_type": "code",
   "execution_count": 2,
   "id": "4115151c",
   "metadata": {},
   "outputs": [
    {
     "name": "stdout",
     "output_type": "stream",
     "text": [
      "<class 'int'>\n",
      "140723051140168\n"
     ]
    }
   ],
   "source": [
    "number=10\n",
    "print(type(number))\n",
    "print(id(number))"
   ]
  },
  {
   "cell_type": "markdown",
   "id": "2f2388dc",
   "metadata": {},
   "source": [
    "2. Take one int value between 0 - 256.\n",
    "Assign it to two different variables.\n",
    "Check the id of both the variables. It should come the same. Check why?\n",
    "\n",
    "\n",
    "ans---value of both will are same the int number between -5 and 256 are memory reusability preloaded values"
   ]
  },
  {
   "cell_type": "code",
   "execution_count": 4,
   "id": "636f472d",
   "metadata": {},
   "outputs": [
    {
     "name": "stdout",
     "output_type": "stream",
     "text": [
      "140723051140168\n",
      "140723051140168\n"
     ]
    }
   ],
   "source": [
    "value1=10\n",
    "value2=10\n",
    "print(id(value1))\n",
    "print(id(value2))"
   ]
  },
  {
   "cell_type": "markdown",
   "id": "912773e8",
   "metadata": {},
   "source": [
    "3. Take one int value either less than -5 or greater than 256.\n",
    "Assign it to two different variables.\n",
    "Check the id of both the variables. It should come different.Check why?\n",
    "\n",
    "ans--because python will assign new memory for integer values which are not part of preloaded values or memory reusable values"
   ]
  },
  {
   "cell_type": "code",
   "execution_count": 7,
   "id": "49442e07",
   "metadata": {},
   "outputs": [
    {
     "name": "stdout",
     "output_type": "stream",
     "text": [
      "2067830652464\n",
      "2067830651728\n"
     ]
    }
   ],
   "source": [
    "value1=1001\n",
    "value2=1000\n",
    "print(id(value1))\n",
    "print(id(value2))"
   ]
  },
  {
   "cell_type": "markdown",
   "id": "a4ef40f5",
   "metadata": {},
   "source": [
    "4. Arithmetic Operations on integers\n",
    "Take two different integer values.\n",
    "Store them in two different variables.\n",
    "Do below operations on them:-\n",
    "Find sum of both numbers\n",
    "Find difference between them\n",
    "Find the product of both numbers.\n",
    "Find value after dividing first num with second number\n",
    "Find the remainder after dividing first number with second number\n",
    "Find the quotient after dividing first number with second number\n",
    "Find the result of the first num to the power of the second number."
   ]
  },
  {
   "cell_type": "code",
   "execution_count": 10,
   "id": "bcb45c74",
   "metadata": {},
   "outputs": [
    {
     "name": "stdout",
     "output_type": "stream",
     "text": [
      "15\n",
      "5\n",
      "50\n",
      "2.0\n",
      "0\n",
      "2\n",
      "100000\n"
     ]
    }
   ],
   "source": [
    "num1=10\n",
    "num2=5\n",
    "sumoftwo=num1+num2\n",
    "diffoftwo=num1-num2\n",
    "prooftwo=num1*num2\n",
    "divoftwo=num1/num2\n",
    "remoftwo=num1%num2\n",
    "quooftwo=num1//num2\n",
    "powoftwo=num1**num2\n",
    "print(sumoftwo)\n",
    "print(diffoftwo)\n",
    "print(prooftwo)\n",
    "print(divoftwo)\n",
    "print(remoftwo)\n",
    "print(quooftwo)\n",
    "print(powoftwo)\n"
   ]
  },
  {
   "cell_type": "markdown",
   "id": "d7b0d9fd",
   "metadata": {},
   "source": [
    "5. Comparison Operators on integers\n",
    "Take two different integer values.\n",
    "Store them in two different variables.\n",
    "Do below operations on them:-\n",
    "Compare se two numbers with below operator:-\n",
    "Greater than, '>'\n",
    "Smaller than, '<'\n",
    "Greater than or equal to, '>='\n",
    "Less than or equal to, '<='\n",
    "Observe their output(return type should be boolean)"
   ]
  },
  {
   "cell_type": "code",
   "execution_count": 12,
   "id": "83c32851",
   "metadata": {},
   "outputs": [
    {
     "name": "stdout",
     "output_type": "stream",
     "text": [
      "False\n",
      "True\n",
      "False\n",
      "True\n"
     ]
    }
   ],
   "source": [
    "va1=10\n",
    "va2=20\n",
    "print(va1>va2)\n",
    "print(va1<va2)\n",
    "print(va1>=va2)\n",
    "print(va1<=va2)"
   ]
  },
  {
   "cell_type": "markdown",
   "id": "9d210926",
   "metadata": {},
   "source": [
    "6. Equality Operator\n",
    "Take two different integer values.\n",
    "Store them in two different variables.\n",
    "Equate them using equality operators (==, !=)\n",
    "Observe the output(return type should be boolean)"
   ]
  },
  {
   "cell_type": "code",
   "execution_count": 14,
   "id": "5336630f",
   "metadata": {},
   "outputs": [
    {
     "name": "stdout",
     "output_type": "stream",
     "text": [
      "False\n",
      "True\n"
     ]
    }
   ],
   "source": [
    "valu1=10\n",
    "valu2=20\n",
    "print(valu1==valu2)\n",
    "print(valu1!=valu2)"
   ]
  },
  {
   "cell_type": "markdown",
   "id": "405fdb0e",
   "metadata": {},
   "source": [
    "Logical operators\n",
    "Observe the output of below code\n",
    "\n",
    "Cross check the output manually\n",
    "print(10 and 20)\n",
    "#----------------------------------------->Output is 20\n",
    "print(0 and 20)\n",
    "#----------------------------------------->Output is 0\n",
    "print(20 and 0)\n",
    "#----------------------------------------->Output is 0\n",
    "print(0 and 0)\n",
    "#----------------------------------------->Output is 0\n",
    "print(10 or 20)\n",
    "#----------------------------------------->Output is 10\n",
    "print(0 or 20)\n",
    "#----------------------------------------->Output is 20\n",
    "print(20 or 0)\n",
    "#----------------------------------------->Output is 20\n",
    "print(0 or 0)\n",
    "#----------------------------------------->Output is 0\n",
    "print(not 10)\n",
    "#----------------------------------------->Output is False\n",
    "print(not 0)\n",
    "#----------------------------------------->Output is True"
   ]
  },
  {
   "cell_type": "code",
   "execution_count": 14,
   "id": "f71db6a8",
   "metadata": {},
   "outputs": [
    {
     "name": "stdout",
     "output_type": "stream",
     "text": [
      "90\n"
     ]
    }
   ],
   "source": [
    "print(10 and 20)\n"
   ]
  },
  {
   "cell_type": "code",
   "execution_count": 4,
   "id": "17032b7d",
   "metadata": {},
   "outputs": [
    {
     "name": "stdout",
     "output_type": "stream",
     "text": [
      "0\n"
     ]
    }
   ],
   "source": [
    "print(0 and 20)"
   ]
  },
  {
   "cell_type": "code",
   "execution_count": 6,
   "id": "b1fc5843",
   "metadata": {},
   "outputs": [
    {
     "name": "stdout",
     "output_type": "stream",
     "text": [
      "0\n"
     ]
    }
   ],
   "source": [
    "print(20 and 0)"
   ]
  },
  {
   "cell_type": "code",
   "execution_count": 8,
   "id": "8a21e860",
   "metadata": {},
   "outputs": [
    {
     "name": "stdout",
     "output_type": "stream",
     "text": [
      "0\n"
     ]
    }
   ],
   "source": [
    "print(0 and 0)"
   ]
  },
  {
   "cell_type": "code",
   "execution_count": 15,
   "id": "1560a83f",
   "metadata": {},
   "outputs": [
    {
     "name": "stdout",
     "output_type": "stream",
     "text": [
      "10\n"
     ]
    }
   ],
   "source": [
    "print(10 or 20)"
   ]
  },
  {
   "cell_type": "code",
   "execution_count": 17,
   "id": "df8e586b",
   "metadata": {},
   "outputs": [
    {
     "name": "stdout",
     "output_type": "stream",
     "text": [
      "20\n"
     ]
    }
   ],
   "source": [
    "print(0 or 20)"
   ]
  },
  {
   "cell_type": "code",
   "execution_count": 19,
   "id": "48675f7b",
   "metadata": {},
   "outputs": [
    {
     "name": "stdout",
     "output_type": "stream",
     "text": [
      "20\n"
     ]
    }
   ],
   "source": [
    "print(20 or 0)"
   ]
  },
  {
   "cell_type": "code",
   "execution_count": 21,
   "id": "d5bb108a",
   "metadata": {},
   "outputs": [
    {
     "name": "stdout",
     "output_type": "stream",
     "text": [
      "0\n"
     ]
    }
   ],
   "source": [
    "print(0 or 0)"
   ]
  },
  {
   "cell_type": "code",
   "execution_count": 23,
   "id": "5a9dc356",
   "metadata": {},
   "outputs": [
    {
     "name": "stdout",
     "output_type": "stream",
     "text": [
      "True\n"
     ]
    }
   ],
   "source": [
    "print(not 0)"
   ]
  },
  {
   "cell_type": "code",
   "execution_count": 25,
   "id": "6f99caa0",
   "metadata": {},
   "outputs": [
    {
     "name": "stdout",
     "output_type": "stream",
     "text": [
      "False\n"
     ]
    }
   ],
   "source": [
    "print(not 10)"
   ]
  },
  {
   "cell_type": "markdown",
   "id": "48880337",
   "metadata": {},
   "source": [
    "Bitwise Operators\n",
    "Do below operations on the values provided below:-\n",
    "Bitwise and(&) -----------------------------------------> 10, 20\n",
    "-------> Output is 0\n",
    "Bitwise or(|) -----------------------------------------> 10, 20\n",
    "-------> Output is 30\n",
    "Bitwise(^) -----------------------------------------> 10, 20\n",
    "-------> Output is 30\n",
    "Bitwise negation(~) ------------------------------------> 10\n",
    "-------> Output is -11\n",
    "Bitwise left shift ------------------------------------> 10,2\n",
    "-------> Output is 40\n",
    "Bitwise right shift ------------------------------------> 10,2\n",
    "-------> Output is 2\n",
    "Cross check the output manually"
   ]
  },
  {
   "cell_type": "code",
   "execution_count": 27,
   "id": "e77a2637",
   "metadata": {},
   "outputs": [
    {
     "name": "stdout",
     "output_type": "stream",
     "text": [
      "0\n"
     ]
    }
   ],
   "source": [
    "print(10 & 20)"
   ]
  },
  {
   "cell_type": "code",
   "execution_count": 29,
   "id": "ad8cef4a",
   "metadata": {},
   "outputs": [
    {
     "name": "stdout",
     "output_type": "stream",
     "text": [
      "30\n"
     ]
    }
   ],
   "source": [
    "print(10 | 20)"
   ]
  },
  {
   "cell_type": "code",
   "execution_count": 35,
   "id": "cb44a764",
   "metadata": {},
   "outputs": [
    {
     "name": "stdout",
     "output_type": "stream",
     "text": [
      "30\n"
     ]
    }
   ],
   "source": [
    "print(10^20)"
   ]
  },
  {
   "cell_type": "code",
   "execution_count": 1,
   "id": "197f12d5",
   "metadata": {},
   "outputs": [
    {
     "name": "stdout",
     "output_type": "stream",
     "text": [
      "-11\n"
     ]
    }
   ],
   "source": [
    "print(~10)"
   ]
  },
  {
   "cell_type": "code",
   "execution_count": 4,
   "id": "96ffb8bf",
   "metadata": {},
   "outputs": [
    {
     "data": {
      "text/plain": [
       "40"
      ]
     },
     "execution_count": 4,
     "metadata": {},
     "output_type": "execute_result"
    }
   ],
   "source": [
    "10<<2"
   ]
  },
  {
   "cell_type": "code",
   "execution_count": 6,
   "id": "c1398cd6",
   "metadata": {},
   "outputs": [
    {
     "data": {
      "text/plain": [
       "2"
      ]
     },
     "execution_count": 6,
     "metadata": {},
     "output_type": "execute_result"
    }
   ],
   "source": [
    "10>>2"
   ]
  },
  {
   "cell_type": "markdown",
   "id": "11eddd18",
   "metadata": {},
   "source": [
    "a = 10\n",
    "b = 10\n",
    "print(a is b) #True or False?\n",
    "print(a is not b) #True or False?\n",
    "a = 1000\n",
    "b = 1000\n",
    "print(a is b) #True or False?\n",
    "print(a is not b) #True or False?\n",
    "\n",
    "\n",
    "ans-->because of memory reusability for storing num b/w -5 to 256 thier id will be same  "
   ]
  },
  {
   "cell_type": "code",
   "execution_count": 8,
   "id": "be682d6b",
   "metadata": {},
   "outputs": [
    {
     "name": "stdout",
     "output_type": "stream",
     "text": [
      "True\n"
     ]
    }
   ],
   "source": [
    "a=10\n",
    "b=10\n",
    "print(a is b)"
   ]
  },
  {
   "cell_type": "code",
   "execution_count": 10,
   "id": "ece7d163",
   "metadata": {},
   "outputs": [
    {
     "name": "stdout",
     "output_type": "stream",
     "text": [
      "False\n"
     ]
    }
   ],
   "source": [
    "print(a is not b)"
   ]
  },
  {
   "cell_type": "code",
   "execution_count": 12,
   "id": "d0824acb",
   "metadata": {},
   "outputs": [
    {
     "name": "stdout",
     "output_type": "stream",
     "text": [
      "False\n"
     ]
    }
   ],
   "source": [
    "a=1000\n",
    "b=1000\n",
    "print(a is b)"
   ]
  },
  {
   "cell_type": "code",
   "execution_count": 14,
   "id": "16d19f14",
   "metadata": {},
   "outputs": [
    {
     "name": "stdout",
     "output_type": "stream",
     "text": [
      "True\n"
     ]
    }
   ],
   "source": [
    "print(a is not b)"
   ]
  },
  {
   "cell_type": "markdown",
   "id": "ed5538fa",
   "metadata": {},
   "source": [
    "What is the output of expression inside print statement. Cross check\n",
    "before running the program.\n",
    "print(10+(10*32)//2**5&20+(~(-10))<<2)"
   ]
  },
  {
   "cell_type": "code",
   "execution_count": 16,
   "id": "a51e627f",
   "metadata": {},
   "outputs": [
    {
     "name": "stdout",
     "output_type": "stream",
     "text": [
      "20\n"
     ]
    }
   ],
   "source": [
    "print(10+(10*32)//2**5&20+(~(-10))<<2)"
   ]
  },
  {
   "cell_type": "markdown",
   "id": "0bdf9468",
   "metadata": {},
   "source": [
    "Membership operation\n",
    "in, not in are two membership operators and it returns boolean value\n",
    "print('2' in 'Python2.7.8')\n",
    "print(10 in [10,10.20,10+20j,'Python'])\n",
    "print(10 in (10,10.20,10+20j,'Python'))\n",
    "print(2 in {1,2,3})\n",
    "print(3 in {1:100, 2:200, 3:300})\n",
    "print(10 in range(20))"
   ]
  },
  {
   "cell_type": "code",
   "execution_count": 18,
   "id": "a76f933b",
   "metadata": {},
   "outputs": [
    {
     "name": "stdout",
     "output_type": "stream",
     "text": [
      "True\n"
     ]
    }
   ],
   "source": [
    "print('2' in 'Python2.7.8')"
   ]
  },
  {
   "cell_type": "code",
   "execution_count": 20,
   "id": "60bab921",
   "metadata": {},
   "outputs": [
    {
     "name": "stdout",
     "output_type": "stream",
     "text": [
      "True\n"
     ]
    }
   ],
   "source": [
    "print(10 in [10,10.20,10+20j,'Python'])"
   ]
  },
  {
   "cell_type": "code",
   "execution_count": 22,
   "id": "1c4c6b00",
   "metadata": {},
   "outputs": [
    {
     "name": "stdout",
     "output_type": "stream",
     "text": [
      "True\n"
     ]
    }
   ],
   "source": [
    "print(10 in (10,10.20,10+20j,'Python'))"
   ]
  },
  {
   "cell_type": "code",
   "execution_count": 26,
   "id": "47b387a4",
   "metadata": {},
   "outputs": [
    {
     "name": "stdout",
     "output_type": "stream",
     "text": [
      "True\n"
     ]
    }
   ],
   "source": [
    "print(2 in {1,2,3})"
   ]
  },
  {
   "cell_type": "code",
   "execution_count": 27,
   "id": "39d7ef35",
   "metadata": {},
   "outputs": [
    {
     "name": "stdout",
     "output_type": "stream",
     "text": [
      "True\n"
     ]
    }
   ],
   "source": [
    "print(3 in {1:100, 2:200, 3:300})"
   ]
  },
  {
   "cell_type": "code",
   "execution_count": 28,
   "id": "2169543f",
   "metadata": {},
   "outputs": [
    {
     "name": "stdout",
     "output_type": "stream",
     "text": [
      "True\n"
     ]
    }
   ],
   "source": [
    "print(10 in range(20))"
   ]
  },
  {
   "cell_type": "markdown",
   "id": "2cebf483",
   "metadata": {},
   "source": [
    "An integer can be represented in binary, octal or hexadecimal form.\n",
    "Declare one binary, one octal and one hexadecimal value and store them\n",
    "in three different variables.\n",
    "Convert 9876 to its binary, octal and hexadecimal equivalent and print\n",
    "their corresponding value."
   ]
  },
  {
   "cell_type": "code",
   "execution_count": 43,
   "id": "e3a94d76",
   "metadata": {},
   "outputs": [],
   "source": [
    "binNu=0b0101\n",
    "octNu=0o0123\n",
    "hexNu=0x248\n",
    "a=bin(9876)\n",
    "b=oct(9876)\n",
    "c=hex(9876)"
   ]
  },
  {
   "cell_type": "code",
   "execution_count": 46,
   "id": "92b165a5",
   "metadata": {},
   "outputs": [
    {
     "name": "stdout",
     "output_type": "stream",
     "text": [
      "5 \n",
      "\n",
      "83 \n",
      "\n",
      "584 \n",
      "\n",
      "0b10011010010100 \n",
      "\n",
      "0o23224 \n",
      "\n",
      "0x2694 \n",
      "\n"
     ]
    }
   ],
   "source": [
    "print(binNu,\"\\n\")\n",
    "print(octNu,\"\\n\")\n",
    "print(hexNu,\"\\n\")\n",
    "print(a,\"\\n\")\n",
    "print(b,\"\\n\")\n",
    "print(c,\"\\n\")"
   ]
  },
  {
   "cell_type": "markdown",
   "id": "563ccfa8",
   "metadata": {},
   "source": [
    "What will be the output of following:-\n",
    "a = 0b1010000\n",
    "print(a)\n",
    "b = 0o7436\n",
    "print(b)\n",
    "c = 0xfade\n",
    "print(c)\n",
    "print(bin(80))\n",
    "\n",
    "print(oct(3870))\n",
    "print(hex(64222))\n",
    "print(bin(0b1010000))\n",
    "print(bin(0xfade))\n",
    "print(oct(0xfade))\n",
    "print(oct(0o7436))\n",
    "print(hex(0b1010000))\n",
    "print(hex(0xfade))"
   ]
  },
  {
   "cell_type": "code",
   "execution_count": 48,
   "id": "48013c85",
   "metadata": {},
   "outputs": [
    {
     "name": "stdout",
     "output_type": "stream",
     "text": [
      "80\n"
     ]
    }
   ],
   "source": [
    "a = 0b1010000\n",
    "print(a)"
   ]
  },
  {
   "cell_type": "code",
   "execution_count": 50,
   "id": "4fb419ae",
   "metadata": {},
   "outputs": [
    {
     "name": "stdout",
     "output_type": "stream",
     "text": [
      "3870\n"
     ]
    }
   ],
   "source": [
    "b = 0o7436\n",
    "print(b)"
   ]
  },
  {
   "cell_type": "code",
   "execution_count": 52,
   "id": "c0f3fa15",
   "metadata": {},
   "outputs": [
    {
     "name": "stdout",
     "output_type": "stream",
     "text": [
      "64222\n"
     ]
    }
   ],
   "source": [
    "c = 0xfade\n",
    "print(c)"
   ]
  },
  {
   "cell_type": "code",
   "execution_count": 53,
   "id": "3f99d705",
   "metadata": {},
   "outputs": [
    {
     "name": "stdout",
     "output_type": "stream",
     "text": [
      "0b1010000\n",
      "0o7436\n",
      "0xfade\n",
      "0b1010000\n",
      "0b1111101011011110\n",
      "0o175336\n",
      "0o7436\n",
      "0x50\n",
      "0xfade\n"
     ]
    }
   ],
   "source": [
    "print(bin(80))\n",
    "print(oct(3870))\n",
    "print(hex(64222))\n",
    "print(bin(0b1010000))\n",
    "print(bin(0xfade))\n",
    "print(oct(0xfade))\n",
    "print(oct(0o7436))\n",
    "print(hex(0b1010000))\n",
    "print(hex(0xfade))"
   ]
  }
 ],
 "metadata": {
  "kernelspec": {
   "display_name": "Python 3 (ipykernel)",
   "language": "python",
   "name": "python3"
  },
  "language_info": {
   "codemirror_mode": {
    "name": "ipython",
    "version": 3
   },
   "file_extension": ".py",
   "mimetype": "text/x-python",
   "name": "python",
   "nbconvert_exporter": "python",
   "pygments_lexer": "ipython3",
   "version": "3.11.4"
  }
 },
 "nbformat": 4,
 "nbformat_minor": 5
}
