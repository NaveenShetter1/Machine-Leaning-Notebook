{
 "cells": [
  {
   "cell_type": "markdown",
   "id": "fc0f996b",
   "metadata": {},
   "source": [
    "Q. Declare a boolean value and store it in a variable.\n",
    "Check the type and print the id of the same."
   ]
  },
  {
   "cell_type": "code",
   "execution_count": 3,
   "id": "c94889cc",
   "metadata": {},
   "outputs": [
    {
     "name": "stdout",
     "output_type": "stream",
     "text": [
      "<class 'bool'>\n",
      "140723068480032\n"
     ]
    }
   ],
   "source": [
    "bool1=True\n",
    "print(type(bool1))\n",
    "print(id(bool1))"
   ]
  },
  {
   "cell_type": "markdown",
   "id": "32b4f326",
   "metadata": {},
   "source": [
    "Q. Take one boolean value between 0 - 256.\n",
    "Assign it to two different variables.\n",
    "Check the id of both the variables. It should come the same. Check why?\n"
   ]
  },
  {
   "cell_type": "code",
   "execution_count": 5,
   "id": "6ddb1960",
   "metadata": {},
   "outputs": [
    {
     "name": "stdout",
     "output_type": "stream",
     "text": [
      "True\n"
     ]
    }
   ],
   "source": [
    "a=0\n",
    "b=0\n",
    "print(a is b) #you can use print(id(a)==id(b))"
   ]
  },
  {
   "cell_type": "markdown",
   "id": "e096218c",
   "metadata": {},
   "source": [
    "Q. Arithmetic Operations on boolean data\n",
    "Take two different boolean values.\n",
    "Store them in two different variables.\n",
    "Do below operations on them:-\n",
    " Find sum of both values\n",
    " Find difference between them\n",
    " Find the product of both.\n",
    " Find value after dividing first value with second value\n",
    " Find the remainder after dividing first value with second value\n",
    " Find the quotient after dividing first value with second value\n",
    " Find the result of first value to the power of second value."
   ]
  },
  {
   "cell_type": "code",
   "execution_count": 8,
   "id": "67f9942c",
   "metadata": {},
   "outputs": [
    {
     "name": "stdout",
     "output_type": "stream",
     "text": [
      "1\n",
      "-1\n",
      "0\n",
      "0.0\n",
      "0\n",
      "0\n",
      "0\n"
     ]
    }
   ],
   "source": [
    "num1=False\n",
    "num2=True\n",
    "sumoftwo=num1+num2\n",
    "diffoftwo=num1-num2\n",
    "prooftwo=num1*num2\n",
    "divoftwo=num1/num2\n",
    "remoftwo=num1%num2\n",
    "quooftwo=num1//num2\n",
    "powoftwo=num1**num2\n",
    "print(sumoftwo)\n",
    "print(diffoftwo)\n",
    "print(prooftwo)\n",
    "print(divoftwo)\n",
    "print(remoftwo)\n",
    "print(quooftwo)\n",
    "print(powoftwo)"
   ]
  },
  {
   "cell_type": "markdown",
   "id": "2f61d42a",
   "metadata": {},
   "source": [
    "Q. Comparison Operators on boolean values\n",
    "Take two different boolean values.\n",
    "Store them in two different variables.\n",
    "Do below operations on them:-\n",
    " Compare these two values with below operator:-\n",
    " Greater than, '>'\n",
    " less than, '<'\n",
    " Greater than or equal to, '>='\n",
    " Less than or equal to, '<='\n",
    "Observe their output(return type should be boolean)"
   ]
  },
  {
   "cell_type": "code",
   "execution_count": 10,
   "id": "d85d71d7",
   "metadata": {},
   "outputs": [
    {
     "name": "stdout",
     "output_type": "stream",
     "text": [
      "True\n",
      "False\n",
      "True\n",
      "False\n"
     ]
    }
   ],
   "source": [
    "va1=True\n",
    "va2=False\n",
    "print(va1>va2)\n",
    "print(va1<va2)\n",
    "print(va1>=va2)\n",
    "print(va1<=va2)"
   ]
  },
  {
   "cell_type": "markdown",
   "id": "2af6e178",
   "metadata": {},
   "source": [
    "Q. Equality Operator\n",
    "Take two different boolean values.\n",
    "Store them in two different variables.\n",
    "Equate them using equality operators (==, !=)\n",
    "Observe the output(return type should be boolean)"
   ]
  },
  {
   "cell_type": "code",
   "execution_count": 12,
   "id": "0eddda03",
   "metadata": {},
   "outputs": [
    {
     "name": "stdout",
     "output_type": "stream",
     "text": [
      "False\n",
      "True\n"
     ]
    }
   ],
   "source": [
    "valu1=True\n",
    "valu2=False\n",
    "print(valu1==valu2)\n",
    "print(valu1!=valu2)"
   ]
  },
  {
   "cell_type": "markdown",
   "id": "ec31f59c",
   "metadata": {},
   "source": [
    "Q. Logical operators\n",
    "Observe the output of below code\n",
    "Cross check the output manually\n",
    "print(True and True)\n",
    "#----------------------------------------->Output is True\n",
    "print(False and True)\n",
    "#----------------------------------------->Output is False\n",
    "print(True and False)\n",
    "#----------------------------------------->Output is False\n",
    "print(False and False)\n",
    "#----------------------------------------->Output is False\n",
    "print(True or True)\n",
    "#----------------------------------------->Output is True\n",
    "print(False or True)\n",
    "#----------------------------------------->Output is True\n",
    "print(True or False)\n",
    "#----------------------------------------->Output is True\n",
    "print(False or False)\n",
    "#----------------------------------------->Output is False\n",
    "print(not True)\n",
    "#----------------------------------------->Output is False\n",
    "print(not False)\n",
    "#----------------------------------------->Output is True"
   ]
  },
  {
   "cell_type": "code",
   "execution_count": 14,
   "id": "f9767fdd",
   "metadata": {},
   "outputs": [
    {
     "name": "stdout",
     "output_type": "stream",
     "text": [
      "True\n"
     ]
    }
   ],
   "source": [
    "print(True and True)"
   ]
  },
  {
   "cell_type": "code",
   "execution_count": 15,
   "id": "23324ae0",
   "metadata": {},
   "outputs": [
    {
     "name": "stdout",
     "output_type": "stream",
     "text": [
      "False\n"
     ]
    }
   ],
   "source": [
    "print(False and True)"
   ]
  },
  {
   "cell_type": "code",
   "execution_count": 17,
   "id": "cb24d86a",
   "metadata": {},
   "outputs": [
    {
     "name": "stdout",
     "output_type": "stream",
     "text": [
      "False\n"
     ]
    }
   ],
   "source": [
    "print(True and False)"
   ]
  },
  {
   "cell_type": "code",
   "execution_count": 19,
   "id": "dbf2821f",
   "metadata": {},
   "outputs": [
    {
     "name": "stdout",
     "output_type": "stream",
     "text": [
      "False\n"
     ]
    }
   ],
   "source": [
    "print(False and False)"
   ]
  },
  {
   "cell_type": "code",
   "execution_count": 21,
   "id": "e22e8212",
   "metadata": {},
   "outputs": [
    {
     "name": "stdout",
     "output_type": "stream",
     "text": [
      "True\n"
     ]
    }
   ],
   "source": [
    "print(True or True)"
   ]
  },
  {
   "cell_type": "code",
   "execution_count": 23,
   "id": "6bd0b958",
   "metadata": {},
   "outputs": [
    {
     "name": "stdout",
     "output_type": "stream",
     "text": [
      "True\n"
     ]
    }
   ],
   "source": [
    "print(False or True)"
   ]
  },
  {
   "cell_type": "code",
   "execution_count": 25,
   "id": "86b909f9",
   "metadata": {},
   "outputs": [
    {
     "name": "stdout",
     "output_type": "stream",
     "text": [
      "True\n"
     ]
    }
   ],
   "source": [
    "print(True or False)"
   ]
  },
  {
   "cell_type": "code",
   "execution_count": 27,
   "id": "da48d4f2",
   "metadata": {},
   "outputs": [
    {
     "name": "stdout",
     "output_type": "stream",
     "text": [
      "False\n"
     ]
    }
   ],
   "source": [
    "print(False or False)"
   ]
  },
  {
   "cell_type": "code",
   "execution_count": 30,
   "id": "8c452088",
   "metadata": {},
   "outputs": [
    {
     "name": "stdout",
     "output_type": "stream",
     "text": [
      "False\n"
     ]
    }
   ],
   "source": [
    "print(not True)"
   ]
  },
  {
   "cell_type": "code",
   "execution_count": 32,
   "id": "da8ae876",
   "metadata": {},
   "outputs": [
    {
     "name": "stdout",
     "output_type": "stream",
     "text": [
      "True\n"
     ]
    }
   ],
   "source": [
    "print(not False)"
   ]
  },
  {
   "cell_type": "markdown",
   "id": "7fde2b8e",
   "metadata": {},
   "source": [
    "Q. Bitwise Operators\n",
    "Do below operations on the values provided below:-\n",
    " Bitwise and(&) --------------> True, True -------> Output is True\n",
    " Bitwise or(|) --------------> True, False -------> Output is True\n",
    " Bitwise(^) --------------> True, False -------> Output is True\n",
    " Bitwise negation(~) ---------> True -------> Output is -2\n",
    " Bitwise left shift ---------> True,2 -------> Output is 4\n",
    " Bitwise right shift ---------> True,2 -------> Output is 0\n",
    "Cross check the output manually"
   ]
  },
  {
   "cell_type": "code",
   "execution_count": 34,
   "id": "a541e9ff",
   "metadata": {},
   "outputs": [
    {
     "name": "stdout",
     "output_type": "stream",
     "text": [
      "True\n"
     ]
    }
   ],
   "source": [
    "print(True & True)"
   ]
  },
  {
   "cell_type": "code",
   "execution_count": 36,
   "id": "7d2eb6e8",
   "metadata": {},
   "outputs": [
    {
     "name": "stdout",
     "output_type": "stream",
     "text": [
      "True\n"
     ]
    }
   ],
   "source": [
    "print(True | False)"
   ]
  },
  {
   "cell_type": "code",
   "execution_count": 38,
   "id": "e7046de5",
   "metadata": {},
   "outputs": [
    {
     "name": "stdout",
     "output_type": "stream",
     "text": [
      "True\n"
     ]
    }
   ],
   "source": [
    "print(True ^ False)"
   ]
  },
  {
   "cell_type": "code",
   "execution_count": 41,
   "id": "b69c0965",
   "metadata": {},
   "outputs": [
    {
     "name": "stdout",
     "output_type": "stream",
     "text": [
      "-2\n"
     ]
    }
   ],
   "source": [
    "print(~1)"
   ]
  },
  {
   "cell_type": "code",
   "execution_count": 43,
   "id": "0686aa70",
   "metadata": {},
   "outputs": [
    {
     "name": "stdout",
     "output_type": "stream",
     "text": [
      "4\n"
     ]
    }
   ],
   "source": [
    "print(True << 2)"
   ]
  },
  {
   "cell_type": "code",
   "execution_count": 45,
   "id": "69c435c7",
   "metadata": {},
   "outputs": [
    {
     "name": "stdout",
     "output_type": "stream",
     "text": [
      "0\n"
     ]
    }
   ],
   "source": [
    "print(True >> 2)"
   ]
  },
  {
   "cell_type": "markdown",
   "id": "33fee1e2",
   "metadata": {},
   "source": [
    "Q. What is the output of expression inside the print statement. Cross\n",
    "check before running the program.\n",
    "a = True\n",
    "b = True\n",
    "print(a is b) #True or False? #\n",
    "print(a is not b) #True or False?\n",
    "a = False\n",
    "b = False\n",
    "print(a is b) #True or False?\n",
    "print(a is not b) #True or False?"
   ]
  },
  {
   "cell_type": "code",
   "execution_count": 46,
   "id": "a6440128",
   "metadata": {},
   "outputs": [
    {
     "name": "stdout",
     "output_type": "stream",
     "text": [
      "True\n",
      "False\n",
      "True\n",
      "False\n"
     ]
    }
   ],
   "source": [
    "a = True\n",
    "b = True\n",
    "print(a is b)\n",
    "print(a is not b)\n",
    "a = False\n",
    "b = False\n",
    "print(a is b)\n",
    "print(a is not b)"
   ]
  },
  {
   "cell_type": "markdown",
   "id": "2daa1c20",
   "metadata": {},
   "source": [
    "Q. Membership operation\n",
    "in, not in are two membership operators and it returns boolean value\n",
    "print(True in [10,10.20,10+20j,'Python', True])\n",
    "print(False in (10,10.20,10+20j,'Python', False))\n",
    "print(True in {1,2,3, True})\n",
    "print(True in {True:100, False:200, True:300})\n",
    "print(False in {True:100, False:200, True:300}"
   ]
  },
  {
   "cell_type": "code",
   "execution_count": 48,
   "id": "c3a59484",
   "metadata": {},
   "outputs": [
    {
     "name": "stdout",
     "output_type": "stream",
     "text": [
      "True\n",
      "True\n",
      "True\n",
      "True\n",
      "True\n"
     ]
    }
   ],
   "source": [
    "print(True in [10,10.20,10+20j,'Python', True])\n",
    "print(False in (10,10.20,10+20j,'Python', False))\n",
    "print(True in {1,2,3, True})\n",
    "print(True in {True:100, False:200, True:300})\n",
    "print(False in {True:100, False:200, True:300})"
   ]
  }
 ],
 "metadata": {
  "kernelspec": {
   "display_name": "Python 3 (ipykernel)",
   "language": "python",
   "name": "python3"
  },
  "language_info": {
   "codemirror_mode": {
    "name": "ipython",
    "version": 3
   },
   "file_extension": ".py",
   "mimetype": "text/x-python",
   "name": "python",
   "nbconvert_exporter": "python",
   "pygments_lexer": "ipython3",
   "version": "3.12.4"
  }
 },
 "nbformat": 4,
 "nbformat_minor": 5
}
