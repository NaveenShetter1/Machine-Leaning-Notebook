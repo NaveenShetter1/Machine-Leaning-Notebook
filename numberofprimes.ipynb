{
 "cells": [
  {
   "cell_type": "code",
   "execution_count": 1,
   "id": "752b971a-db3e-46d8-b0a0-136c31ad3e91",
   "metadata": {},
   "outputs": [],
   "source": [
    "# find all prime numbers b/w two limits"
   ]
  },
  {
   "cell_type": "code",
   "execution_count": 3,
   "id": "95f1c03e-6f2e-4747-86d9-d30538e418a3",
   "metadata": {},
   "outputs": [
    {
     "name": "stdin",
     "output_type": "stream",
     "text": [
      "Enter lower limit 10\n",
      "Enter upper limit 100\n"
     ]
    },
    {
     "name": "stdout",
     "output_type": "stream",
     "text": [
      "11\n",
      "13\n",
      "17\n",
      "19\n",
      "23\n",
      "29\n",
      "31\n",
      "37\n",
      "41\n",
      "43\n",
      "47\n",
      "53\n",
      "59\n",
      "61\n",
      "67\n",
      "71\n",
      "73\n",
      "79\n",
      "83\n",
      "89\n",
      "97\n"
     ]
    }
   ],
   "source": [
    "def findprimes(lower,upper):\n",
    "    for i in range(lower,upper):\n",
    "        for j in range(2,i):\n",
    "            if i%j==0:\n",
    "                break\n",
    "        else:\n",
    "            print(i)\n",
    "\n",
    "\n",
    "lower=int(input(\"Enter lower limit\"))\n",
    "upper=int(input(\"Enter upper limit\"))\n",
    "\n",
    "# find primes\n",
    "findprimes(lower,upper)"
   ]
  },
  {
   "cell_type": "code",
   "execution_count": null,
   "id": "391f1136-8332-42ff-af43-8749606499e9",
   "metadata": {},
   "outputs": [],
   "source": [
    "\n"
   ]
  }
 ],
 "metadata": {
  "kernelspec": {
   "display_name": "Python 3 (ipykernel)",
   "language": "python",
   "name": "python3"
  },
  "language_info": {
   "codemirror_mode": {
    "name": "ipython",
    "version": 3
   },
   "file_extension": ".py",
   "mimetype": "text/x-python",
   "name": "python",
   "nbconvert_exporter": "python",
   "pygments_lexer": "ipython3",
   "version": "3.12.4"
  }
 },
 "nbformat": 4,
 "nbformat_minor": 5
}
