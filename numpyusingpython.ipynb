{
 "cells": [
  {
   "cell_type": "code",
   "execution_count": 1,
   "id": "8d4d9c8f-0c4b-4501-8743-36a18a096906",
   "metadata": {},
   "outputs": [],
   "source": [
    "#Numpy is used for data analysis"
   ]
  },
  {
   "cell_type": "code",
   "execution_count": 3,
   "id": "560e401b-916f-49b8-8f6b-05e793b05e14",
   "metadata": {},
   "outputs": [],
   "source": [
    "# numerical python to deal with numerical data \n",
    "# numpy is 3rd party library it does not belong to official python group not present in docs.python.org\n",
    "# it works with homogenious data,\n",
    "#it is a open source,\n",
    "#easy to use,\n",
    "#good performance(fast),\n",
    "#used in engineering and science"
   ]
  },
  {
   "cell_type": "code",
   "execution_count": 5,
   "id": "cf85564b-61b0-4c2d-bea5-0f6012431e59",
   "metadata": {},
   "outputs": [],
   "source": [
    "# pip is a software which helps installing python libraries\n",
    "#pip install numpy\n",
    "#import numpy"
   ]
  },
  {
   "cell_type": "code",
   "execution_count": 6,
   "id": "76640478-011d-4622-bb1c-d59c35962acf",
   "metadata": {},
   "outputs": [],
   "source": [
    "#list supports heterogenious data but numpy supports homogenious only"
   ]
  },
  {
   "cell_type": "code",
   "execution_count": 7,
   "id": "c13f33ff-8f90-4d3d-9739-78f2d0aec184",
   "metadata": {},
   "outputs": [],
   "source": [
    "# numpy array -- multidimentional array as _ndarray"
   ]
  },
  {
   "cell_type": "code",
   "execution_count": 8,
   "id": "35821901-ce4b-4ec4-b092-8a107e3ceb4b",
   "metadata": {},
   "outputs": [],
   "source": [
    "import numpy as np\n",
    "arr1=np.array([1,2,3,4])"
   ]
  },
  {
   "cell_type": "code",
   "execution_count": 9,
   "id": "52ad04fa-2095-41af-aac2-cfdf7f7542ac",
   "metadata": {},
   "outputs": [],
   "source": [
    "# array is a function that to create a array"
   ]
  },
  {
   "cell_type": "code",
   "execution_count": 10,
   "id": "ad5bfff6-2dd9-4f65-8fcb-fbaa22718566",
   "metadata": {},
   "outputs": [
    {
     "name": "stdout",
     "output_type": "stream",
     "text": [
      "[1 2 3 4]\n"
     ]
    }
   ],
   "source": [
    "print(arr1)"
   ]
  },
  {
   "cell_type": "code",
   "execution_count": 11,
   "id": "17b5f00d-e2b3-4845-9d73-df654797c124",
   "metadata": {},
   "outputs": [
    {
     "name": "stdout",
     "output_type": "stream",
     "text": [
      "<class 'numpy.ndarray'>\n"
     ]
    }
   ],
   "source": [
    "print(type(arr1))"
   ]
  },
  {
   "cell_type": "code",
   "execution_count": 12,
   "id": "f9b29c3d-39e3-46a2-8ad9-cee33843b965",
   "metadata": {},
   "outputs": [
    {
     "name": "stdout",
     "output_type": "stream",
     "text": [
      "int32\n"
     ]
    }
   ],
   "source": [
    "print(arr1.dtype)"
   ]
  },
  {
   "cell_type": "code",
   "execution_count": 13,
   "id": "a8f3df76-f872-46c6-af27-f3963c5d7900",
   "metadata": {},
   "outputs": [
    {
     "name": "stdout",
     "output_type": "stream",
     "text": [
      "1\n"
     ]
    }
   ],
   "source": [
    "print(arr1.ndim)"
   ]
  },
  {
   "cell_type": "code",
   "execution_count": 14,
   "id": "e0d5e926-3492-4f43-b77a-034a98751b58",
   "metadata": {},
   "outputs": [
    {
     "name": "stdout",
     "output_type": "stream",
     "text": [
      "(4,)\n"
     ]
    }
   ],
   "source": [
    "print(arr1.shape)"
   ]
  },
  {
   "cell_type": "code",
   "execution_count": 15,
   "id": "c869ac1a-cbe7-4601-b549-edc2999d73ca",
   "metadata": {},
   "outputs": [
    {
     "name": "stdout",
     "output_type": "stream",
     "text": [
      "4\n"
     ]
    }
   ],
   "source": [
    "print(arr1.size)"
   ]
  },
  {
   "cell_type": "code",
   "execution_count": 16,
   "id": "aaabd909-9ba9-466e-9e42-c364c5f8770b",
   "metadata": {},
   "outputs": [
    {
     "name": "stdout",
     "output_type": "stream",
     "text": [
      "4\n"
     ]
    }
   ],
   "source": [
    "print(len(arr1))"
   ]
  },
  {
   "cell_type": "code",
   "execution_count": 17,
   "id": "22d5c966-632b-46d9-b549-cc242fe31d8a",
   "metadata": {},
   "outputs": [],
   "source": [
    "l2=[[1,2,3],[1,2,3]]"
   ]
  },
  {
   "cell_type": "code",
   "execution_count": 18,
   "id": "b1cc6aa9-4a5b-44e9-adf5-3edf17fd30c6",
   "metadata": {},
   "outputs": [],
   "source": [
    "arr2=np.array(l2)"
   ]
  },
  {
   "cell_type": "code",
   "execution_count": 19,
   "id": "45cd2f9b-df75-4fd5-999c-d97a405af2cb",
   "metadata": {},
   "outputs": [
    {
     "data": {
      "text/plain": [
       "array([[1, 2, 3],\n",
       "       [1, 2, 3]])"
      ]
     },
     "execution_count": 19,
     "metadata": {},
     "output_type": "execute_result"
    }
   ],
   "source": [
    "arr2"
   ]
  },
  {
   "cell_type": "code",
   "execution_count": 20,
   "id": "3a8e0ff5-8a76-40ff-af39-c7ec9da75fb2",
   "metadata": {},
   "outputs": [
    {
     "name": "stdout",
     "output_type": "stream",
     "text": [
      "<class 'numpy.ndarray'>\n"
     ]
    }
   ],
   "source": [
    "print(type(arr2))"
   ]
  },
  {
   "cell_type": "code",
   "execution_count": 21,
   "id": "1885041d-ba5d-4302-9b8e-3a6b77bdba83",
   "metadata": {},
   "outputs": [
    {
     "name": "stdout",
     "output_type": "stream",
     "text": [
      "int32\n"
     ]
    }
   ],
   "source": [
    "print(arr2.dtype)"
   ]
  },
  {
   "cell_type": "code",
   "execution_count": 22,
   "id": "7f01e5f5-b8bc-49d0-8f07-4c2586304093",
   "metadata": {},
   "outputs": [
    {
     "name": "stdout",
     "output_type": "stream",
     "text": [
      "2\n"
     ]
    }
   ],
   "source": [
    "print(arr2.ndim)"
   ]
  },
  {
   "cell_type": "code",
   "execution_count": 23,
   "id": "cc3ea6ef-5382-4665-a6b9-02144bef5ceb",
   "metadata": {},
   "outputs": [
    {
     "name": "stdout",
     "output_type": "stream",
     "text": [
      "(2, 3)\n"
     ]
    }
   ],
   "source": [
    "print(arr2.shape)"
   ]
  },
  {
   "cell_type": "code",
   "execution_count": 24,
   "id": "85e12987-2d6c-4efe-a299-2cfac3e42fc0",
   "metadata": {},
   "outputs": [
    {
     "name": "stdout",
     "output_type": "stream",
     "text": [
      "6\n"
     ]
    }
   ],
   "source": [
    "print(arr2.size)"
   ]
  },
  {
   "cell_type": "code",
   "execution_count": 25,
   "id": "e8aacee1-0e15-4137-83da-6449f72c8e7a",
   "metadata": {},
   "outputs": [
    {
     "name": "stdout",
     "output_type": "stream",
     "text": [
      "2\n"
     ]
    }
   ],
   "source": [
    "print(len(arr2))"
   ]
  },
  {
   "cell_type": "code",
   "execution_count": 27,
   "id": "ff24271f-d0ed-40c9-b778-21373f46b8f8",
   "metadata": {},
   "outputs": [],
   "source": [
    "l3=[[[1,2,3],[4,5,6]],[[1,2,3],[4,5,6]]]"
   ]
  },
  {
   "cell_type": "code",
   "execution_count": 28,
   "id": "459aa2dc-47cd-4330-ae18-b7f276a04304",
   "metadata": {},
   "outputs": [
    {
     "name": "stdout",
     "output_type": "stream",
     "text": [
      "[[[1, 2, 3], [4, 5, 6]], [[1, 2, 3], [4, 5, 6]]]\n"
     ]
    }
   ],
   "source": [
    "print(l3)"
   ]
  },
  {
   "cell_type": "code",
   "execution_count": 29,
   "id": "a55d72cc-203d-4eb4-9f4d-13b156d3793a",
   "metadata": {},
   "outputs": [
    {
     "name": "stdout",
     "output_type": "stream",
     "text": [
      "<class 'list'>\n"
     ]
    }
   ],
   "source": [
    "print(type(l3))"
   ]
  },
  {
   "cell_type": "code",
   "execution_count": 30,
   "id": "d8983957-7a13-446d-8a6a-24b835eb31e3",
   "metadata": {},
   "outputs": [],
   "source": [
    "arr3=np.array(l3)"
   ]
  },
  {
   "cell_type": "code",
   "execution_count": 31,
   "id": "33c3f864-cf1b-4c16-8009-745ea62d81d1",
   "metadata": {},
   "outputs": [
    {
     "name": "stdout",
     "output_type": "stream",
     "text": [
      "[[[1 2 3]\n",
      "  [4 5 6]]\n",
      "\n",
      " [[1 2 3]\n",
      "  [4 5 6]]]\n"
     ]
    }
   ],
   "source": [
    "print(arr3)"
   ]
  },
  {
   "cell_type": "code",
   "execution_count": 33,
   "id": "d547e21c-0b2c-4343-ac4b-9301b0ce4e15",
   "metadata": {},
   "outputs": [
    {
     "name": "stdout",
     "output_type": "stream",
     "text": [
      "<class 'numpy.ndarray'>\n"
     ]
    }
   ],
   "source": [
    "print(type(arr3))"
   ]
  },
  {
   "cell_type": "code",
   "execution_count": 34,
   "id": "4c03b1b4-c569-4fd0-869e-ce4f0081f459",
   "metadata": {},
   "outputs": [
    {
     "name": "stdout",
     "output_type": "stream",
     "text": [
      "int32\n"
     ]
    }
   ],
   "source": [
    "print(arr3.dtype)"
   ]
  },
  {
   "cell_type": "code",
   "execution_count": 35,
   "id": "4725f220-772e-48ae-911f-a60450ab5186",
   "metadata": {},
   "outputs": [
    {
     "name": "stdout",
     "output_type": "stream",
     "text": [
      "3\n"
     ]
    }
   ],
   "source": [
    "print(arr3.ndim)"
   ]
  },
  {
   "cell_type": "code",
   "execution_count": 36,
   "id": "28bfab50-edde-4e63-9b05-215956c093af",
   "metadata": {},
   "outputs": [
    {
     "name": "stdout",
     "output_type": "stream",
     "text": [
      "(2, 2, 3)\n"
     ]
    }
   ],
   "source": [
    "print(arr3.shape)"
   ]
  },
  {
   "cell_type": "code",
   "execution_count": 37,
   "id": "290d1aae-ab2b-4245-9a05-ccefd7cc8e9e",
   "metadata": {},
   "outputs": [
    {
     "name": "stdout",
     "output_type": "stream",
     "text": [
      "12\n"
     ]
    }
   ],
   "source": [
    "print(arr3.size)"
   ]
  },
  {
   "cell_type": "code",
   "execution_count": 38,
   "id": "ffcfcbdc-2f06-4d04-8c91-b5aec9728efc",
   "metadata": {},
   "outputs": [],
   "source": [
    "import pickle"
   ]
  },
  {
   "cell_type": "code",
   "execution_count": 39,
   "id": "7613a075-3247-48a1-a8c9-64a51ea0b421",
   "metadata": {},
   "outputs": [
    {
     "name": "stdin",
     "output_type": "stream",
     "text": [
      "Enter array [[1,2,3],[2,3,4]]\n"
     ]
    }
   ],
   "source": [
    "with open('stru_file','wb') as fh:\n",
    "    con=eval(input('Enter array'))\n",
    "    pickle.dump(con,fh)"
   ]
  },
  {
   "cell_type": "code",
   "execution_count": 40,
   "id": "8b9e28a1-ce2f-4486-9b11-2b1ba4a02a24",
   "metadata": {},
   "outputs": [
    {
     "name": "stdout",
     "output_type": "stream",
     "text": [
      "[[1, 2, 3], [2, 3, 4]]\n"
     ]
    }
   ],
   "source": [
    "with open('stru_file','rb') as fh:\n",
    "    con0=pickle.load(fh)\n",
    "\n",
    "print(con)"
   ]
  },
  {
   "cell_type": "code",
   "execution_count": 41,
   "id": "5dbefe3f-78a3-4fd7-a7d7-deca7700ffb2",
   "metadata": {},
   "outputs": [
    {
     "name": "stdout",
     "output_type": "stream",
     "text": [
      "<class 'list'>\n"
     ]
    }
   ],
   "source": [
    "print(type(con))"
   ]
  },
  {
   "cell_type": "code",
   "execution_count": 42,
   "id": "594a4ff5-05db-467e-8489-659420a3ea13",
   "metadata": {},
   "outputs": [],
   "source": [
    "#here in python it is list only if we want to convert to array we need to use numpy library"
   ]
  },
  {
   "cell_type": "code",
   "execution_count": 48,
   "id": "86acc29a-c877-4005-ab1d-1b8264c331da",
   "metadata": {},
   "outputs": [
    {
     "ename": "TypeError",
     "evalue": "can only concatenate list (not \"int\") to list",
     "output_type": "error",
     "traceback": [
      "\u001b[1;31m---------------------------------------------------------------------------\u001b[0m",
      "\u001b[1;31mTypeError\u001b[0m                                 Traceback (most recent call last)",
      "Cell \u001b[1;32mIn[48], line 1\u001b[0m\n\u001b[1;32m----> 1\u001b[0m con\u001b[38;5;241m+\u001b[39m\u001b[38;5;241m10\u001b[39m\n",
      "\u001b[1;31mTypeError\u001b[0m: can only concatenate list (not \"int\") to list"
     ]
    }
   ],
   "source": [
    "con+10"
   ]
  },
  {
   "cell_type": "code",
   "execution_count": 46,
   "id": "8a55a305-3990-4f63-a0ca-302f7f88a1a0",
   "metadata": {},
   "outputs": [],
   "source": [
    "#here to add 10 to all elements of array\n",
    "\n",
    "arr4=np.array(con)"
   ]
  },
  {
   "cell_type": "code",
   "execution_count": 47,
   "id": "2f0f6f07-48f1-4463-a506-db676b354b4e",
   "metadata": {},
   "outputs": [
    {
     "data": {
      "text/plain": [
       "array([[11, 12, 13],\n",
       "       [12, 13, 14]])"
      ]
     },
     "execution_count": 47,
     "metadata": {},
     "output_type": "execute_result"
    }
   ],
   "source": [
    "10+arr4"
   ]
  },
  {
   "cell_type": "code",
   "execution_count": 49,
   "id": "7014e635-c235-4102-9095-38a24b7c5922",
   "metadata": {},
   "outputs": [],
   "source": [
    "# if you want to add all elements by 10 for a list you can use comprehension or map function"
   ]
  },
  {
   "cell_type": "code",
   "execution_count": 54,
   "id": "2085bc5b-e53b-4dbb-91d6-2562a271cde7",
   "metadata": {},
   "outputs": [
    {
     "name": "stdout",
     "output_type": "stream",
     "text": [
      "[[1, 2, 3], [2, 3, 4]]\n",
      "[11, 13, 14, 15]\n"
     ]
    }
   ],
   "source": [
    "# using list\n",
    "\n",
    "def my_fun(x):\n",
    "    return x+10\n",
    "print(con)\n",
    "y=map(my_fun,[1,3,4,5])\n",
    "\n",
    "\n",
    "print(list(y))"
   ]
  },
  {
   "cell_type": "code",
   "execution_count": 58,
   "id": "ed802e0d-20af-462e-a250-094410bce230",
   "metadata": {},
   "outputs": [
    {
     "name": "stdout",
     "output_type": "stream",
     "text": [
      "[11, 12, 13, 14]\n"
     ]
    }
   ],
   "source": [
    "# using list\n",
    "\n",
    "def my_fun(x):\n",
    "    return x+10\n",
    "# print(con)\n",
    "l1=[1,2,3,4]\n",
    "y=map(my_fun,l1)\n",
    "\n",
    "\n",
    "print(list(y))"
   ]
  },
  {
   "cell_type": "code",
   "execution_count": 61,
   "id": "9b85e332-3792-4d83-a94d-0e59bd8e3d3d",
   "metadata": {},
   "outputs": [],
   "source": [
    "# for arrays"
   ]
  },
  {
   "cell_type": "code",
   "execution_count": 62,
   "id": "d428eb58-be42-4cba-b398-d6d021a6fb73",
   "metadata": {},
   "outputs": [],
   "source": [
    "arr1=np.array(l1)"
   ]
  },
  {
   "cell_type": "code",
   "execution_count": 63,
   "id": "e0947160-daae-4c26-a3e2-426486600df9",
   "metadata": {},
   "outputs": [
    {
     "data": {
      "text/plain": [
       "array([2, 4, 6, 8])"
      ]
     },
     "execution_count": 63,
     "metadata": {},
     "output_type": "execute_result"
    }
   ],
   "source": [
    "arr1*2"
   ]
  },
  {
   "cell_type": "code",
   "execution_count": 64,
   "id": "2511143d-8839-4e67-8c64-7c9cb7b5e6c5",
   "metadata": {},
   "outputs": [
    {
     "data": {
      "text/plain": [
       "array([3, 4, 5, 6])"
      ]
     },
     "execution_count": 64,
     "metadata": {},
     "output_type": "execute_result"
    }
   ],
   "source": [
    "arr1+2"
   ]
  },
  {
   "cell_type": "code",
   "execution_count": 65,
   "id": "6da90c13-19fe-41bb-a139-58587f022e7f",
   "metadata": {},
   "outputs": [
    {
     "data": {
      "text/plain": [
       "array([0.5, 1. , 1.5, 2. ])"
      ]
     },
     "execution_count": 65,
     "metadata": {},
     "output_type": "execute_result"
    }
   ],
   "source": [
    "arr1/2"
   ]
  },
  {
   "cell_type": "code",
   "execution_count": 66,
   "id": "465ed2c6-2337-4097-b98e-5f9f9e380628",
   "metadata": {},
   "outputs": [
    {
     "data": {
      "text/plain": [
       "array([1, 0, 1, 0], dtype=int32)"
      ]
     },
     "execution_count": 66,
     "metadata": {},
     "output_type": "execute_result"
    }
   ],
   "source": [
    "arr1%2"
   ]
  },
  {
   "cell_type": "code",
   "execution_count": 67,
   "id": "a89b0097-e893-452c-b1a7-c8abe9e49832",
   "metadata": {},
   "outputs": [
    {
     "data": {
      "text/plain": [
       "array([0, 1, 1, 2], dtype=int32)"
      ]
     },
     "execution_count": 67,
     "metadata": {},
     "output_type": "execute_result"
    }
   ],
   "source": [
    "arr1//2"
   ]
  },
  {
   "cell_type": "code",
   "execution_count": 68,
   "id": "49a09435-db06-4824-9701-1212aa95f6e5",
   "metadata": {},
   "outputs": [
    {
     "data": {
      "text/plain": [
       "[False, False, False, False]"
      ]
     },
     "execution_count": 68,
     "metadata": {},
     "output_type": "execute_result"
    }
   ],
   "source": [
    "list(arr1/2==0)"
   ]
  },
  {
   "cell_type": "code",
   "execution_count": 71,
   "id": "f8d0e852-adaf-4cf3-8511-263d73f33a1d",
   "metadata": {},
   "outputs": [],
   "source": [
    "# arange is used to arange start, end, step\n",
    "\n",
    "\n",
    "arr2=np.arange(10,20,2)"
   ]
  },
  {
   "cell_type": "code",
   "execution_count": 72,
   "id": "2525dbf3-d4af-49a4-93fa-a1954e3e5fef",
   "metadata": {},
   "outputs": [
    {
     "data": {
      "text/plain": [
       "array([10, 12, 14, 16, 18])"
      ]
     },
     "execution_count": 72,
     "metadata": {},
     "output_type": "execute_result"
    }
   ],
   "source": [
    "arr2"
   ]
  },
  {
   "cell_type": "code",
   "execution_count": 73,
   "id": "80d908b3-00eb-498c-a247-3486a0ef5ab0",
   "metadata": {},
   "outputs": [
    {
     "data": {
      "text/plain": [
       "[0, 1, 2, 3, 4, 5, 6, 7, 8, 9]"
      ]
     },
     "execution_count": 73,
     "metadata": {},
     "output_type": "execute_result"
    }
   ],
   "source": [
    "list(range(10))"
   ]
  },
  {
   "cell_type": "code",
   "execution_count": 74,
   "id": "9f202ad2-d224-4728-8714-aadf9e59e584",
   "metadata": {},
   "outputs": [],
   "source": [
    "arr4=np.arange(0,11,1)"
   ]
  },
  {
   "cell_type": "code",
   "execution_count": 75,
   "id": "09f06c72-281c-497c-9059-99bf0c1cea03",
   "metadata": {},
   "outputs": [
    {
     "data": {
      "text/plain": [
       "array([ 0,  1,  2,  3,  4,  5,  6,  7,  8,  9, 10])"
      ]
     },
     "execution_count": 75,
     "metadata": {},
     "output_type": "execute_result"
    }
   ],
   "source": [
    "arr4"
   ]
  },
  {
   "cell_type": "code",
   "execution_count": 96,
   "id": "48c96361-b1a0-4f21-bae2-6054dff3daf8",
   "metadata": {},
   "outputs": [],
   "source": [
    "# dates using array\n",
    "# need to check this\n",
    "date1=np.arange('2023-11-01','2023-12-01',1,dtype='datetime64[D]')"
   ]
  },
  {
   "cell_type": "code",
   "execution_count": 97,
   "id": "a109ef5a-c8ae-4510-b433-51aa4aa19583",
   "metadata": {},
   "outputs": [
    {
     "data": {
      "text/plain": [
       "array(['2023-11-01', '2023-11-02', '2023-11-03', '2023-11-04',\n",
       "       '2023-11-05', '2023-11-06', '2023-11-07', '2023-11-08',\n",
       "       '2023-11-09', '2023-11-10', '2023-11-11', '2023-11-12',\n",
       "       '2023-11-13', '2023-11-14', '2023-11-15', '2023-11-16',\n",
       "       '2023-11-17', '2023-11-18', '2023-11-19', '2023-11-20',\n",
       "       '2023-11-21', '2023-11-22', '2023-11-23', '2023-11-24',\n",
       "       '2023-11-25', '2023-11-26', '2023-11-27', '2023-11-28',\n",
       "       '2023-11-29', '2023-11-30'], dtype='datetime64[D]')"
      ]
     },
     "execution_count": 97,
     "metadata": {},
     "output_type": "execute_result"
    }
   ],
   "source": [
    "date1"
   ]
  },
  {
   "cell_type": "code",
   "execution_count": 98,
   "id": "f0008980-e360-4def-b2bc-fa6a2ad94b9c",
   "metadata": {},
   "outputs": [
    {
     "data": {
      "text/plain": [
       "array([10, 12, 14, 16, 18])"
      ]
     },
     "execution_count": 98,
     "metadata": {},
     "output_type": "execute_result"
    }
   ],
   "source": [
    "np.array(range(10,20,2))"
   ]
  },
  {
   "cell_type": "code",
   "execution_count": 99,
   "id": "201c82e9-0ea7-4414-a28c-264f2a21d12d",
   "metadata": {},
   "outputs": [
    {
     "ename": "TypeError",
     "evalue": "'float' object cannot be interpreted as an integer",
     "output_type": "error",
     "traceback": [
      "\u001b[1;31m---------------------------------------------------------------------------\u001b[0m",
      "\u001b[1;31mTypeError\u001b[0m                                 Traceback (most recent call last)",
      "Cell \u001b[1;32mIn[99], line 1\u001b[0m\n\u001b[1;32m----> 1\u001b[0m np\u001b[38;5;241m.\u001b[39marray(\u001b[38;5;28mrange\u001b[39m(\u001b[38;5;241m10\u001b[39m,\u001b[38;5;241m20\u001b[39m,\u001b[38;5;241m.5\u001b[39m))\n",
      "\u001b[1;31mTypeError\u001b[0m: 'float' object cannot be interpreted as an integer"
     ]
    }
   ],
   "source": [
    "\n",
    "# We will not be able to give float in under python range\n",
    "np.array(range(10,20,.5))"
   ]
  },
  {
   "cell_type": "code",
   "execution_count": 100,
   "id": "4a5fdbd5-bb74-4aaf-bd2b-176b80692c07",
   "metadata": {},
   "outputs": [
    {
     "ename": "TypeError",
     "evalue": "'float' object cannot be interpreted as an integer",
     "output_type": "error",
     "traceback": [
      "\u001b[1;31m---------------------------------------------------------------------------\u001b[0m",
      "\u001b[1;31mTypeError\u001b[0m                                 Traceback (most recent call last)",
      "Cell \u001b[1;32mIn[100], line 1\u001b[0m\n\u001b[1;32m----> 1\u001b[0m \u001b[38;5;28mrange\u001b[39m(\u001b[38;5;241m10\u001b[39m,\u001b[38;5;241m20\u001b[39m,\u001b[38;5;241m.5\u001b[39m)\n",
      "\u001b[1;31mTypeError\u001b[0m: 'float' object cannot be interpreted as an integer"
     ]
    }
   ],
   "source": [
    "range(10,20,.5)"
   ]
  },
  {
   "cell_type": "code",
   "execution_count": 103,
   "id": "e7591692-ad30-4d91-82cf-e60059647426",
   "metadata": {},
   "outputs": [
    {
     "data": {
      "text/plain": [
       "array([10. , 10.5, 11. , 11.5, 12. , 12.5, 13. , 13.5, 14. , 14.5, 15. ,\n",
       "       15.5, 16. , 16.5, 17. , 17.5, 18. , 18.5, 19. , 19.5])"
      ]
     },
     "execution_count": 103,
     "metadata": {},
     "output_type": "execute_result"
    }
   ],
   "source": [
    "# but we can use arange function in numpy to get the required array of floating number difference\n",
    "\n",
    "np.arange(10,20,.5)"
   ]
  },
  {
   "cell_type": "code",
   "execution_count": 108,
   "id": "9ceb4afe-c979-4a6f-b60e-18e9cca5d5f2",
   "metadata": {},
   "outputs": [
    {
     "name": "stdout",
     "output_type": "stream",
     "text": [
      "<class 'numpy.ndarray'>\n",
      "float64\n"
     ]
    }
   ],
   "source": [
    "# if we use floating point number for step than we will get data in form of 10. or 111. ext\n",
    "\n",
    "arr1=np.arange(10,20,5.5)\n",
    "\n",
    "print(type(arr1))\n",
    "print(arr1.dtype)"
   ]
  },
  {
   "cell_type": "code",
   "execution_count": 109,
   "id": "42d4ae65-f22b-4319-bd4d-81d76412714b",
   "metadata": {},
   "outputs": [
    {
     "name": "stdout",
     "output_type": "stream",
     "text": [
      "<class 'numpy.ndarray'>\n",
      "int32\n"
     ]
    }
   ],
   "source": [
    "# but if we use step with int number will get in int form 10, and 20 ext\n",
    "arr1=np.arange(10,20,1)\n",
    "\n",
    "\n",
    "print(type(arr1))\n",
    "print(arr1.dtype)"
   ]
  },
  {
   "cell_type": "code",
   "execution_count": 116,
   "id": "f06b23ce-f32e-47d6-abc4-f5231a1fd973",
   "metadata": {},
   "outputs": [
    {
     "name": "stdout",
     "output_type": "stream",
     "text": [
      "['2023-01' '2023-02' '2023-03' '2023-04' '2023-05' '2023-06' '2023-07'\n",
      " '2023-08' '2023-09' '2023-10' '2023-11' '2023-12']\n",
      "--------------------------------------------------------------------------\n",
      "[numpy.datetime64('2023-01'), numpy.datetime64('2023-02'), numpy.datetime64('2023-03'), numpy.datetime64('2023-04'), numpy.datetime64('2023-05'), numpy.datetime64('2023-06'), numpy.datetime64('2023-07'), numpy.datetime64('2023-08'), numpy.datetime64('2023-09'), numpy.datetime64('2023-10'), numpy.datetime64('2023-11'), numpy.datetime64('2023-12')]\n"
     ]
    }
   ],
   "source": [
    "# using numpy arange to print datatime64 in month wise\n",
    "\n",
    "arr1=np.arange('2023-01-01','2024-01-01',1,dtype='datetime64[M]')\n",
    "\n",
    "print(arr1)\n",
    "\n",
    "a=list(arr1)\n",
    "\n",
    "print('--------------------------------------------------------------------------')\n",
    "print(a)"
   ]
  },
  {
   "cell_type": "code",
   "execution_count": 117,
   "id": "ca7adf62-3f20-4954-b576-1eaeaf31a125",
   "metadata": {},
   "outputs": [
    {
     "ename": "TypeError",
     "evalue": "arange() not supported for inputs with DType <class 'numpy.dtypes.StrDType'>.",
     "output_type": "error",
     "traceback": [
      "\u001b[1;31m---------------------------------------------------------------------------\u001b[0m",
      "\u001b[1;31mTypeError\u001b[0m                                 Traceback (most recent call last)",
      "Cell \u001b[1;32mIn[117], line 1\u001b[0m\n\u001b[1;32m----> 1\u001b[0m arr1\u001b[38;5;241m=\u001b[39mnp\u001b[38;5;241m.\u001b[39marange(\u001b[38;5;124m'\u001b[39m\u001b[38;5;124m2023-01-01\u001b[39m\u001b[38;5;124m'\u001b[39m,\u001b[38;5;124m'\u001b[39m\u001b[38;5;124m2024-01-01\u001b[39m\u001b[38;5;124m'\u001b[39m,\u001b[38;5;241m1\u001b[39m)\n\u001b[0;32m      3\u001b[0m \u001b[38;5;28mprint\u001b[39m(arr1)\n",
      "\u001b[1;31mTypeError\u001b[0m: arange() not supported for inputs with DType <class 'numpy.dtypes.StrDType'>."
     ]
    }
   ],
   "source": [
    "\n",
    "\n",
    "arr1=np.arange('2023-01-01','2024-01-01',1)\n",
    "\n",
    "print(arr1)\n"
   ]
  },
  {
   "cell_type": "code",
   "execution_count": 118,
   "id": "6cf4088c-874a-4a34-95ff-3794dc4ced72",
   "metadata": {},
   "outputs": [],
   "source": [
    "# print year using arange in numpy python"
   ]
  },
  {
   "cell_type": "code",
   "execution_count": 120,
   "id": "78a79ad9-ff0e-402c-b06c-113e55a11d73",
   "metadata": {},
   "outputs": [],
   "source": [
    "arr1=np.arange('2011','2024',1,dtype='datetime64[Y]')"
   ]
  },
  {
   "cell_type": "code",
   "execution_count": 123,
   "id": "ceab5952-374a-487f-8a72-2a3bfa4aca89",
   "metadata": {},
   "outputs": [
    {
     "name": "stdout",
     "output_type": "stream",
     "text": [
      "['2011' '2012' '2013' '2014' '2015' '2016' '2017' '2018' '2019' '2020'\n",
      " '2021' '2022' '2023']\n"
     ]
    }
   ],
   "source": [
    "print(arr1)"
   ]
  },
  {
   "cell_type": "code",
   "execution_count": 126,
   "id": "6f25b17e-c118-4896-8584-42f75b8d4032",
   "metadata": {},
   "outputs": [],
   "source": [
    "arr1=np.arange('2011-01-01T00:00:00','2011-01-01T10:00:00',1,dtype='datetime64[h]')"
   ]
  },
  {
   "cell_type": "code",
   "execution_count": 133,
   "id": "035432e9-9ef8-4c63-9a19-f08e41eb6e7b",
   "metadata": {},
   "outputs": [
    {
     "name": "stdout",
     "output_type": "stream",
     "text": [
      "['2011-01-01T00' '2011-01-01T01' '2011-01-01T02' '2011-01-01T03'\n",
      " '2011-01-01T04' '2011-01-01T05' '2011-01-01T06' '2011-01-01T07'\n",
      " '2011-01-01T08' '2011-01-01T09']\n"
     ]
    }
   ],
   "source": [
    "print(arr1)"
   ]
  },
  {
   "cell_type": "code",
   "execution_count": 134,
   "id": "1cc68e67-0149-49ba-ae23-fe97b548bfeb",
   "metadata": {},
   "outputs": [
    {
     "name": "stdout",
     "output_type": "stream",
     "text": [
      "2011-01-01T00\n",
      "2011-01-01T01\n",
      "2011-01-01T02\n",
      "2011-01-01T03\n",
      "2011-01-01T04\n",
      "2011-01-01T05\n",
      "2011-01-01T06\n",
      "2011-01-01T07\n",
      "2011-01-01T08\n",
      "2011-01-01T09\n"
     ]
    }
   ],
   "source": [
    "for i in arr1:\n",
    "    print(i)"
   ]
  },
  {
   "cell_type": "code",
   "execution_count": 135,
   "id": "965f6b33-d127-4b43-90e5-a9dc87bc35ee",
   "metadata": {},
   "outputs": [
    {
     "name": "stdout",
     "output_type": "stream",
     "text": [
      "2011-01-01T00\n",
      "2011-01-01T01\n",
      "2011-01-01T02\n",
      "2011-01-01T03\n",
      "2011-01-01T04\n",
      "2011-01-01T05\n",
      "2011-01-01T06\n",
      "2011-01-01T07\n",
      "2011-01-01T08\n",
      "2011-01-01T09\n"
     ]
    }
   ],
   "source": [
    "for i in list(arr1):\n",
    "    print(i)"
   ]
  },
  {
   "cell_type": "code",
   "execution_count": 138,
   "id": "c836cd69-6c0c-4517-9811-8d29234e9624",
   "metadata": {},
   "outputs": [
    {
     "data": {
      "text/plain": [
       "[numpy.datetime64('2011-01-01T00','h'),\n",
       " numpy.datetime64('2011-01-01T01','h'),\n",
       " numpy.datetime64('2011-01-01T02','h'),\n",
       " numpy.datetime64('2011-01-01T03','h'),\n",
       " numpy.datetime64('2011-01-01T04','h'),\n",
       " numpy.datetime64('2011-01-01T05','h'),\n",
       " numpy.datetime64('2011-01-01T06','h'),\n",
       " numpy.datetime64('2011-01-01T07','h'),\n",
       " numpy.datetime64('2011-01-01T08','h'),\n",
       " numpy.datetime64('2011-01-01T09','h')]"
      ]
     },
     "execution_count": 138,
     "metadata": {},
     "output_type": "execute_result"
    }
   ],
   "source": [
    "list(arr1)"
   ]
  },
  {
   "cell_type": "code",
   "execution_count": 137,
   "id": "763723ab-3832-4e1e-be3c-fd67ac676d59",
   "metadata": {},
   "outputs": [
    {
     "name": "stdout",
     "output_type": "stream",
     "text": [
      "[numpy.datetime64('2011-01-01T00','h'), numpy.datetime64('2011-01-01T01','h'), numpy.datetime64('2011-01-01T02','h'), numpy.datetime64('2011-01-01T03','h'), numpy.datetime64('2011-01-01T04','h'), numpy.datetime64('2011-01-01T05','h'), numpy.datetime64('2011-01-01T06','h'), numpy.datetime64('2011-01-01T07','h'), numpy.datetime64('2011-01-01T08','h'), numpy.datetime64('2011-01-01T09','h')]\n"
     ]
    }
   ],
   "source": [
    "print(list(arr1))"
   ]
  },
  {
   "cell_type": "code",
   "execution_count": 128,
   "id": "c046a69d-73e6-41e7-b53b-555d2cf7c0b7",
   "metadata": {},
   "outputs": [],
   "source": [
    "# to put datetime data into a file"
   ]
  },
  {
   "cell_type": "code",
   "execution_count": 129,
   "id": "f29f8639-8733-497b-b072-3fc378c9c33c",
   "metadata": {},
   "outputs": [],
   "source": [
    "import pickle\n",
    "\n",
    "with open('datetime.txt','wb') as fh:\n",
    "    pickle.dump(arr1,fh)"
   ]
  },
  {
   "cell_type": "code",
   "execution_count": 132,
   "id": "2fca95ff-b6a2-4ebd-81d1-a73c1bfece32",
   "metadata": {},
   "outputs": [
    {
     "name": "stdout",
     "output_type": "stream",
     "text": [
      "['2011-01-01T00' '2011-01-01T01' '2011-01-01T02' '2011-01-01T03'\n",
      " '2011-01-01T04' '2011-01-01T05' '2011-01-01T06' '2011-01-01T07'\n",
      " '2011-01-01T08' '2011-01-01T09']\n",
      "------------------------------------\n",
      "2011-01-01T00\n",
      "2011-01-01T01\n",
      "2011-01-01T02\n",
      "2011-01-01T03\n",
      "2011-01-01T04\n",
      "2011-01-01T05\n",
      "2011-01-01T06\n",
      "2011-01-01T07\n",
      "2011-01-01T08\n",
      "2011-01-01T09\n"
     ]
    }
   ],
   "source": [
    "with open('datetime.txt','rb') as fh:\n",
    "    con=pickle.load(fh)\n",
    "\n",
    "\n",
    "print(con)\n",
    "\n",
    "print(\"------------------------------------\")\n",
    "\n",
    "\n",
    "for i in con:\n",
    "    print(i)"
   ]
  },
  {
   "cell_type": "code",
   "execution_count": 139,
   "id": "9c8b5282-0d72-447f-b966-3e8cf8087135",
   "metadata": {},
   "outputs": [],
   "source": [
    "# to check processing of list and arry"
   ]
  },
  {
   "cell_type": "code",
   "execution_count": 143,
   "id": "38c6a2a7-e8ef-4e10-8636-47cd4e23fd10",
   "metadata": {},
   "outputs": [
    {
     "name": "stdout",
     "output_type": "stream",
     "text": [
      "CPU times: total: 844 ms\n",
      "Wall time: 1.09 s\n"
     ]
    }
   ],
   "source": [
    "%time l1=list(range(1,10000000))"
   ]
  },
  {
   "cell_type": "code",
   "execution_count": 144,
   "id": "adc72bc1-4519-4f81-b6a6-afc97e8c3d55",
   "metadata": {},
   "outputs": [
    {
     "name": "stdout",
     "output_type": "stream",
     "text": [
      "CPU times: total: 31.2 ms\n",
      "Wall time: 45 ms\n"
     ]
    }
   ],
   "source": [
    "%time arr1=np.arange(1,10000000)"
   ]
  },
  {
   "cell_type": "code",
   "execution_count": 145,
   "id": "0ffa13fd-0d71-45d6-b997-f57643f91e39",
   "metadata": {},
   "outputs": [],
   "source": [
    "# convert data homogenious \n",
    "\n",
    "l3=[1,2,'hello']\n",
    "\n",
    "arr3=np.array(l3)"
   ]
  },
  {
   "cell_type": "code",
   "execution_count": 146,
   "id": "b8f862d8-dd24-4cdb-ac27-40bd01453faa",
   "metadata": {},
   "outputs": [
    {
     "data": {
      "text/plain": [
       "array(['1', '2', 'hello'], dtype='<U11')"
      ]
     },
     "execution_count": 146,
     "metadata": {},
     "output_type": "execute_result"
    }
   ],
   "source": [
    "arr3"
   ]
  },
  {
   "cell_type": "code",
   "execution_count": 147,
   "id": "85e95c5c-2cf7-4d86-b92c-72ef5b20436c",
   "metadata": {},
   "outputs": [
    {
     "data": {
      "text/plain": [
       "dtype('<U11')"
      ]
     },
     "execution_count": 147,
     "metadata": {},
     "output_type": "execute_result"
    }
   ],
   "source": [
    "arr3.dtype"
   ]
  },
  {
   "cell_type": "code",
   "execution_count": 148,
   "id": "e8b68a83-59a3-42ee-a07a-5b32232b05a4",
   "metadata": {},
   "outputs": [
    {
     "name": "stdout",
     "output_type": "stream",
     "text": [
      "<class 'numpy.ndarray'>\n"
     ]
    }
   ],
   "source": [
    "print(type(arr3))"
   ]
  },
  {
   "cell_type": "code",
   "execution_count": 149,
   "id": "c4a69af2-4ee2-42c6-bc02-338992887346",
   "metadata": {},
   "outputs": [],
   "source": [
    "# random package: - To create an array of random data\n",
    "a4=np.random.randint(10,20,(10))"
   ]
  },
  {
   "cell_type": "code",
   "execution_count": 150,
   "id": "0255a6ca-b461-43dd-bd51-ba696fc230f1",
   "metadata": {},
   "outputs": [
    {
     "name": "stdout",
     "output_type": "stream",
     "text": [
      "[12 17 19 18 16 15 12 16 17 18]\n"
     ]
    }
   ],
   "source": [
    "print(a4)"
   ]
  },
  {
   "cell_type": "code",
   "execution_count": 157,
   "id": "c8ef2d4f-6e98-4429-b385-0544935afebf",
   "metadata": {},
   "outputs": [],
   "source": [
    "a5=np.random.randint(10,20,(20,3))"
   ]
  },
  {
   "cell_type": "code",
   "execution_count": 158,
   "id": "8ae7bba4-696e-455b-ae68-b54ffe3a065b",
   "metadata": {},
   "outputs": [
    {
     "name": "stdout",
     "output_type": "stream",
     "text": [
      "[[12 10 16]\n",
      " [10 14 10]\n",
      " [19 17 18]\n",
      " [17 19 13]\n",
      " [16 17 15]\n",
      " [13 11 14]\n",
      " [19 10 11]\n",
      " [10 15 10]\n",
      " [14 12 13]\n",
      " [19 17 10]\n",
      " [10 13 16]\n",
      " [17 13 15]\n",
      " [17 14 12]\n",
      " [14 17 12]\n",
      " [19 11 15]\n",
      " [18 19 10]\n",
      " [11 12 16]\n",
      " [13 10 15]\n",
      " [17 14 10]\n",
      " [17 11 16]]\n"
     ]
    }
   ],
   "source": [
    "print(a5)"
   ]
  },
  {
   "cell_type": "code",
   "execution_count": 159,
   "id": "609a3f7e-fc8f-4b0e-80c8-294f6bfd7c84",
   "metadata": {},
   "outputs": [],
   "source": [
    "a5=np.random.randint(10,20,(20,3,2))"
   ]
  },
  {
   "cell_type": "code",
   "execution_count": 160,
   "id": "3dbc692a-15ce-4fd6-87a9-b6457e85656c",
   "metadata": {},
   "outputs": [
    {
     "name": "stdout",
     "output_type": "stream",
     "text": [
      "[[[13 15]\n",
      "  [17 14]\n",
      "  [19 18]]\n",
      "\n",
      " [[18 10]\n",
      "  [18 19]\n",
      "  [12 12]]\n",
      "\n",
      " [[13 17]\n",
      "  [18 10]\n",
      "  [14 17]]\n",
      "\n",
      " [[17 17]\n",
      "  [15 11]\n",
      "  [13 19]]\n",
      "\n",
      " [[11 16]\n",
      "  [13 15]\n",
      "  [18 17]]\n",
      "\n",
      " [[14 19]\n",
      "  [12 16]\n",
      "  [13 16]]\n",
      "\n",
      " [[19 11]\n",
      "  [15 19]\n",
      "  [12 16]]\n",
      "\n",
      " [[11 10]\n",
      "  [12 14]\n",
      "  [17 13]]\n",
      "\n",
      " [[12 10]\n",
      "  [11 18]\n",
      "  [19 16]]\n",
      "\n",
      " [[10 15]\n",
      "  [18 15]\n",
      "  [17 12]]\n",
      "\n",
      " [[14 15]\n",
      "  [19 13]\n",
      "  [10 10]]\n",
      "\n",
      " [[10 19]\n",
      "  [11 12]\n",
      "  [14 10]]\n",
      "\n",
      " [[16 17]\n",
      "  [10 14]\n",
      "  [10 10]]\n",
      "\n",
      " [[11 18]\n",
      "  [12 18]\n",
      "  [14 12]]\n",
      "\n",
      " [[14 17]\n",
      "  [12 16]\n",
      "  [19 15]]\n",
      "\n",
      " [[16 10]\n",
      "  [16 14]\n",
      "  [18 13]]\n",
      "\n",
      " [[19 17]\n",
      "  [12 13]\n",
      "  [10 14]]\n",
      "\n",
      " [[16 14]\n",
      "  [19 10]\n",
      "  [12 14]]\n",
      "\n",
      " [[10 19]\n",
      "  [18 12]\n",
      "  [19 19]]\n",
      "\n",
      " [[17 12]\n",
      "  [12 12]\n",
      "  [14 19]]]\n"
     ]
    }
   ],
   "source": [
    "print(a5)"
   ]
  },
  {
   "cell_type": "code",
   "execution_count": 161,
   "id": "8edc7283-df5a-44da-b9dd-50c6654bad57",
   "metadata": {},
   "outputs": [],
   "source": [
    "# creating an array b/w 0 and 1"
   ]
  },
  {
   "cell_type": "code",
   "execution_count": 162,
   "id": "4be80062-e26a-4a18-8454-1f285b52d8b4",
   "metadata": {},
   "outputs": [
    {
     "name": "stdout",
     "output_type": "stream",
     "text": [
      "Help on built-in function rand:\n",
      "\n",
      "rand(...) method of numpy.random.mtrand.RandomState instance\n",
      "    rand(d0, d1, ..., dn)\n",
      "\n",
      "    Random values in a given shape.\n",
      "\n",
      "    .. note::\n",
      "        This is a convenience function for users porting code from Matlab,\n",
      "        and wraps `random_sample`. That function takes a\n",
      "        tuple to specify the size of the output, which is consistent with\n",
      "        other NumPy functions like `numpy.zeros` and `numpy.ones`.\n",
      "\n",
      "    Create an array of the given shape and populate it with\n",
      "    random samples from a uniform distribution\n",
      "    over ``[0, 1)``.\n",
      "\n",
      "    Parameters\n",
      "    ----------\n",
      "    d0, d1, ..., dn : int, optional\n",
      "        The dimensions of the returned array, must be non-negative.\n",
      "        If no argument is given a single Python float is returned.\n",
      "\n",
      "    Returns\n",
      "    -------\n",
      "    out : ndarray, shape ``(d0, d1, ..., dn)``\n",
      "        Random values.\n",
      "\n",
      "    See Also\n",
      "    --------\n",
      "    random\n",
      "\n",
      "    Examples\n",
      "    --------\n",
      "    >>> np.random.rand(3,2)\n",
      "    array([[ 0.14022471,  0.96360618],  #random\n",
      "           [ 0.37601032,  0.25528411],  #random\n",
      "           [ 0.49313049,  0.94909878]]) #random\n",
      "\n"
     ]
    }
   ],
   "source": [
    "help(np.random.rand)"
   ]
  },
  {
   "cell_type": "code",
   "execution_count": 165,
   "id": "1362b65a-8002-4e2c-864b-ba924da014cc",
   "metadata": {},
   "outputs": [],
   "source": [
    "arr4=np.random.rand(1,2)\n",
    "# above one row two column\n",
    "\n",
    "# b/w zero and 1 "
   ]
  },
  {
   "cell_type": "code",
   "execution_count": 166,
   "id": "0577c2d8-64cd-4f03-9926-07d8676eebdd",
   "metadata": {},
   "outputs": [
    {
     "name": "stdout",
     "output_type": "stream",
     "text": [
      "[[0.260158   0.08777516]]\n"
     ]
    }
   ],
   "source": [
    "print(arr4)"
   ]
  },
  {
   "cell_type": "code",
   "execution_count": 167,
   "id": "0a9cc35f-95d3-4419-9dcd-6cf395b71c4b",
   "metadata": {},
   "outputs": [],
   "source": [
    "ar5=np.random.randn(2,2)"
   ]
  },
  {
   "cell_type": "code",
   "execution_count": 168,
   "id": "c0d60659-e05f-4a28-9fc0-367f138a81a1",
   "metadata": {},
   "outputs": [
    {
     "name": "stdout",
     "output_type": "stream",
     "text": [
      "[[ 1.03526814 -0.41866036]\n",
      " [ 1.99971922 -1.76185446]]\n"
     ]
    }
   ],
   "source": [
    "print(ar5)"
   ]
  },
  {
   "cell_type": "code",
   "execution_count": 169,
   "id": "aefbb7b8-1ea8-4dc3-b25e-48f310bd816e",
   "metadata": {},
   "outputs": [
    {
     "name": "stdout",
     "output_type": "stream",
     "text": [
      "[[0. 0. 0. 0.]\n",
      " [0. 0. 0. 0.]\n",
      " [0. 0. 0. 0.]]\n"
     ]
    }
   ],
   "source": [
    "# zeros\n",
    "\n",
    "# default dtype is float\n",
    "z1=np.zeros((3,4))\n",
    "\n",
    "print(z1)"
   ]
  },
  {
   "cell_type": "code",
   "execution_count": 170,
   "id": "268f7d2c-96e1-4b1e-9b75-33f1d5c1cbd1",
   "metadata": {},
   "outputs": [
    {
     "name": "stdout",
     "output_type": "stream",
     "text": [
      "float64\n"
     ]
    }
   ],
   "source": [
    "print(z1.dtype)"
   ]
  },
  {
   "cell_type": "code",
   "execution_count": 172,
   "id": "5ccfe31d-ed05-4837-b652-b77d562f927b",
   "metadata": {},
   "outputs": [],
   "source": [
    "z1=np.zeros((3,4),dtype='int32')"
   ]
  },
  {
   "cell_type": "code",
   "execution_count": 173,
   "id": "5a8bef1e-11c7-4da8-8245-978503f775dd",
   "metadata": {},
   "outputs": [
    {
     "name": "stdout",
     "output_type": "stream",
     "text": [
      "int32\n"
     ]
    }
   ],
   "source": [
    "print(z1.dtype)"
   ]
  },
  {
   "cell_type": "code",
   "execution_count": 174,
   "id": "ca9c6dec-805c-4936-873f-52b095da3c63",
   "metadata": {},
   "outputs": [
    {
     "name": "stdout",
     "output_type": "stream",
     "text": [
      "(3, 4)\n"
     ]
    }
   ],
   "source": [
    "print(z1.shape)"
   ]
  },
  {
   "cell_type": "code",
   "execution_count": 175,
   "id": "2289dde7-c2f2-4a7a-9b90-6e223b0638cf",
   "metadata": {},
   "outputs": [
    {
     "name": "stdout",
     "output_type": "stream",
     "text": [
      "12\n"
     ]
    }
   ],
   "source": [
    "print(z1.size)"
   ]
  },
  {
   "cell_type": "code",
   "execution_count": 176,
   "id": "4d331166-1441-4f45-bf47-a238dfa9243c",
   "metadata": {},
   "outputs": [
    {
     "name": "stdout",
     "output_type": "stream",
     "text": [
      "[[0 0 0 0]\n",
      " [0 0 0 0]\n",
      " [0 0 0 0]]\n"
     ]
    }
   ],
   "source": [
    "print(z1)"
   ]
  },
  {
   "cell_type": "code",
   "execution_count": 180,
   "id": "63f01a0c-a0d5-470d-b737-bdf779b6f3be",
   "metadata": {},
   "outputs": [],
   "source": [
    "# for ones\n",
    "# default is floar\n",
    "one1=np.ones((1,4))"
   ]
  },
  {
   "cell_type": "code",
   "execution_count": 181,
   "id": "6c71237e-b19a-4ba8-9bc5-e8044a1bc7f5",
   "metadata": {},
   "outputs": [
    {
     "name": "stdout",
     "output_type": "stream",
     "text": [
      "[[1. 1. 1. 1.]]\n"
     ]
    }
   ],
   "source": [
    "print(one1)"
   ]
  },
  {
   "cell_type": "code",
   "execution_count": 182,
   "id": "5013f473-0721-41a8-b568-8bc1e524bea2",
   "metadata": {},
   "outputs": [],
   "source": [
    "one1=np.ones((1,4),dtype='int32')"
   ]
  },
  {
   "cell_type": "code",
   "execution_count": 183,
   "id": "64b4e1c3-24d3-4196-9501-78eb7d934a3c",
   "metadata": {},
   "outputs": [
    {
     "name": "stdout",
     "output_type": "stream",
     "text": [
      "[[1 1 1 1]]\n"
     ]
    }
   ],
   "source": [
    "print(one1)"
   ]
  },
  {
   "cell_type": "code",
   "execution_count": 184,
   "id": "2668db16-afb1-445c-96c1-dd3be91d8e7c",
   "metadata": {},
   "outputs": [
    {
     "name": "stdout",
     "output_type": "stream",
     "text": [
      "[12 12 12 12 12 12 12 12 12 12]\n"
     ]
    }
   ],
   "source": [
    "# if you want to fill with specific data to array you can use full\n",
    "\n",
    "anyN=np.full((10,),12)\n",
    "\n",
    "print(anyN)"
   ]
  },
  {
   "cell_type": "code",
   "execution_count": 185,
   "id": "dd95cc0f-4f60-4cd6-b1fc-df0c1b20b21e",
   "metadata": {},
   "outputs": [],
   "source": [
    "anyN=np.full((10,),1.4)"
   ]
  },
  {
   "cell_type": "code",
   "execution_count": 186,
   "id": "87a7a3f9-bc45-4f35-a345-568d7f31c932",
   "metadata": {},
   "outputs": [
    {
     "name": "stdout",
     "output_type": "stream",
     "text": [
      "[1.4 1.4 1.4 1.4 1.4 1.4 1.4 1.4 1.4 1.4]\n"
     ]
    }
   ],
   "source": [
    "print(anyN)"
   ]
  },
  {
   "cell_type": "code",
   "execution_count": 187,
   "id": "eb6b6373-f680-4915-b7f0-1c959f6ce919",
   "metadata": {},
   "outputs": [],
   "source": [
    "# as we can do arithmatica operation on array as zero is default float"
   ]
  },
  {
   "cell_type": "code",
   "execution_count": 189,
   "id": "bd604a62-a299-409f-9646-3db8b7b06f5d",
   "metadata": {},
   "outputs": [],
   "source": [
    "arr1=(np.zeros((10,),dtype='int32'))+2"
   ]
  },
  {
   "cell_type": "code",
   "execution_count": 190,
   "id": "5fc8525b-3b5b-4220-bb24-77dc156c8c87",
   "metadata": {},
   "outputs": [
    {
     "name": "stdout",
     "output_type": "stream",
     "text": [
      "[2 2 2 2 2 2 2 2 2 2]\n"
     ]
    }
   ],
   "source": [
    "print(arr1)"
   ]
  },
  {
   "cell_type": "code",
   "execution_count": 193,
   "id": "1dcb9089-0168-4727-bd69-d7fd1beb4528",
   "metadata": {},
   "outputs": [],
   "source": [
    "# multiplication\n",
    "\n",
    "arr1=(np.full((10,),2,dtype='int32'))+2"
   ]
  },
  {
   "cell_type": "code",
   "execution_count": 194,
   "id": "44a689f5-c22b-4e83-adfc-7aaffaae8be3",
   "metadata": {},
   "outputs": [
    {
     "name": "stdout",
     "output_type": "stream",
     "text": [
      "[4 4 4 4 4 4 4 4 4 4]\n"
     ]
    }
   ],
   "source": [
    "print(arr1)"
   ]
  },
  {
   "cell_type": "code",
   "execution_count": 195,
   "id": "e4b936f4-6cc9-4be6-8c52-00f2a24ec9f8",
   "metadata": {},
   "outputs": [],
   "source": [
    "# matrix that is 2d array\n",
    "\n",
    "# identity(): is a square matrix (rows == columns) whose diagonal are 1 rest are 0"
   ]
  },
  {
   "cell_type": "code",
   "execution_count": 196,
   "id": "6d6c7f6b-78c3-41b8-b33c-8985a43ed3f0",
   "metadata": {},
   "outputs": [],
   "source": [
    "ide1=np.identity(3)"
   ]
  },
  {
   "cell_type": "code",
   "execution_count": 197,
   "id": "2aac4a61-2a08-4273-9a6f-60532c62d881",
   "metadata": {},
   "outputs": [
    {
     "name": "stdout",
     "output_type": "stream",
     "text": [
      "[[1. 0. 0.]\n",
      " [0. 1. 0.]\n",
      " [0. 0. 1.]]\n"
     ]
    }
   ],
   "source": [
    "print(ide1)"
   ]
  },
  {
   "cell_type": "code",
   "execution_count": 198,
   "id": "94a319c0-5dda-443d-b1c6-0e06a9b3e004",
   "metadata": {},
   "outputs": [],
   "source": [
    "ide1=np.identity(3,dtype='int32')"
   ]
  },
  {
   "cell_type": "code",
   "execution_count": 199,
   "id": "91ffd203-ae64-4441-b885-088299073e23",
   "metadata": {},
   "outputs": [
    {
     "name": "stdout",
     "output_type": "stream",
     "text": [
      "[[1 0 0]\n",
      " [0 1 0]\n",
      " [0 0 1]]\n"
     ]
    }
   ],
   "source": [
    "print(ide1)"
   ]
  },
  {
   "cell_type": "code",
   "execution_count": 200,
   "id": "8971943e-0b36-4cf9-95dd-99622dc6cc64",
   "metadata": {},
   "outputs": [],
   "source": [
    "# eye function\n",
    "# help np.eye but default is float\n",
    "e1=np.eye(3,3,k=0,dtype='int32')"
   ]
  },
  {
   "cell_type": "code",
   "execution_count": 201,
   "id": "2c34b984-a7d6-4b55-b0d8-118528652c42",
   "metadata": {},
   "outputs": [
    {
     "name": "stdout",
     "output_type": "stream",
     "text": [
      "[[1 0 0]\n",
      " [0 1 0]\n",
      " [0 0 1]]\n"
     ]
    }
   ],
   "source": [
    "print(e1)"
   ]
  },
  {
   "cell_type": "code",
   "execution_count": 202,
   "id": "078db856-c97c-481e-a331-16f4a5ccd7a8",
   "metadata": {},
   "outputs": [],
   "source": [
    "# here k means dialgonal if k==0\n",
    "# if k =1 than 1 up from diagonal\n",
    "# if k=-1 means one down from diagonal\n",
    "\n"
   ]
  },
  {
   "cell_type": "code",
   "execution_count": 203,
   "id": "df76e310-b783-418e-9fb1-e1e0f27e77cd",
   "metadata": {},
   "outputs": [
    {
     "name": "stdout",
     "output_type": "stream",
     "text": [
      "[[0 1 0]\n",
      " [0 0 1]\n",
      " [0 0 0]]\n"
     ]
    }
   ],
   "source": [
    "e2=np.eye(3,3,k=1,dtype='int32')\n",
    "\n",
    "print(e2)"
   ]
  },
  {
   "cell_type": "code",
   "execution_count": 204,
   "id": "e43f8c05-2c5c-457d-a7d3-decad8b7508a",
   "metadata": {},
   "outputs": [],
   "source": [
    "e3=np.eye(3,3,k=-1,dtype='int32')"
   ]
  },
  {
   "cell_type": "code",
   "execution_count": 205,
   "id": "2a58071a-a423-4950-a15e-9b7927844a51",
   "metadata": {},
   "outputs": [
    {
     "name": "stdout",
     "output_type": "stream",
     "text": [
      "[[0 0 0]\n",
      " [1 0 0]\n",
      " [0 1 0]]\n"
     ]
    }
   ],
   "source": [
    "print(e3)"
   ]
  },
  {
   "cell_type": "code",
   "execution_count": 209,
   "id": "4c374fab-c141-4eb6-997f-ce25f182885a",
   "metadata": {},
   "outputs": [
    {
     "ename": "TypeError",
     "evalue": "identity() got an unexpected keyword argument 'k'",
     "output_type": "error",
     "traceback": [
      "\u001b[1;31m---------------------------------------------------------------------------\u001b[0m",
      "\u001b[1;31mTypeError\u001b[0m                                 Traceback (most recent call last)",
      "Cell \u001b[1;32mIn[209], line 3\u001b[0m\n\u001b[0;32m      1\u001b[0m \u001b[38;5;66;03m# k=0 main diagonal\u001b[39;00m\n\u001b[1;32m----> 3\u001b[0m i1\u001b[38;5;241m=\u001b[39mnp\u001b[38;5;241m.\u001b[39midentity((\u001b[38;5;241m4\u001b[39m,\u001b[38;5;241m3\u001b[39m),k\u001b[38;5;241m=\u001b[39m\u001b[38;5;241m10\u001b[39m,dtype\u001b[38;5;241m=\u001b[39m\u001b[38;5;124m'\u001b[39m\u001b[38;5;124mint32\u001b[39m\u001b[38;5;124m'\u001b[39m)\n",
      "\u001b[1;31mTypeError\u001b[0m: identity() got an unexpected keyword argument 'k'"
     ]
    }
   ],
   "source": [
    "# k=0 main diagonal\n",
    "\n",
    "i1=np.identity((4,3),k=10,dtype='int32')"
   ]
  },
  {
   "cell_type": "code",
   "execution_count": 210,
   "id": "aaa502c5-67fa-438f-811d-4e337d33a5a7",
   "metadata": {},
   "outputs": [
    {
     "name": "stdout",
     "output_type": "stream",
     "text": [
      "[[8 5 1]\n",
      " [9 3 8]\n",
      " [3 7 4]]\n"
     ]
    }
   ],
   "source": [
    "# diagonal elements\n",
    "# Fetal diagonal elements \n",
    "\n",
    "arr1=np.random.randint(1,10,(3,3))\n",
    "\n",
    "print(arr1)"
   ]
  },
  {
   "cell_type": "code",
   "execution_count": 212,
   "id": "0bef37f3-4a58-43c6-8227-12c8755952fa",
   "metadata": {},
   "outputs": [
    {
     "name": "stdout",
     "output_type": "stream",
     "text": [
      "[8 3 4]\n"
     ]
    }
   ],
   "source": [
    "d1=np.diag(arr1,k=0)\n",
    "\n",
    "print(d1)"
   ]
  },
  {
   "cell_type": "code",
   "execution_count": 213,
   "id": "3c63b2b6-7faf-432c-82c3-107aebe53f1d",
   "metadata": {},
   "outputs": [
    {
     "name": "stdout",
     "output_type": "stream",
     "text": [
      "[[8 5 1]\n",
      " [9 3 8]\n",
      " [3 7 4]]\n"
     ]
    }
   ],
   "source": [
    "# all() and any() in python\n",
    "\n",
    "\n",
    "print(arr1)"
   ]
  },
  {
   "cell_type": "code",
   "execution_count": 214,
   "id": "cf26fbba-9322-4ddf-bed7-46a5d12b24c1",
   "metadata": {},
   "outputs": [
    {
     "name": "stdout",
     "output_type": "stream",
     "text": [
      "True\n"
     ]
    }
   ],
   "source": [
    "print(np.all(arr1))"
   ]
  },
  {
   "cell_type": "code",
   "execution_count": 215,
   "id": "73265086-1fda-49f2-b986-1215c0b775e6",
   "metadata": {},
   "outputs": [
    {
     "name": "stdout",
     "output_type": "stream",
     "text": [
      "True\n"
     ]
    }
   ],
   "source": [
    "print(np.any(arr1))"
   ]
  },
  {
   "cell_type": "code",
   "execution_count": 217,
   "id": "c46482bd-da7e-4357-94e4-3c709e7a4838",
   "metadata": {},
   "outputs": [
    {
     "name": "stdout",
     "output_type": "stream",
     "text": [
      "[ True  True  True]\n"
     ]
    }
   ],
   "source": [
    "# first row elemenets\n",
    "\n",
    "print(np.all(arr1,1))"
   ]
  },
  {
   "cell_type": "code",
   "execution_count": 218,
   "id": "8925cc87-15f1-4256-afbe-81066679b3fe",
   "metadata": {},
   "outputs": [],
   "source": [
    "# if all we apply any one is zero we will get false"
   ]
  },
  {
   "cell_type": "code",
   "execution_count": 220,
   "id": "582804c0-1f22-4199-994a-6a3cd73af63e",
   "metadata": {},
   "outputs": [],
   "source": [
    "arr1=np.random.randint(0,10,(3,3))"
   ]
  },
  {
   "cell_type": "code",
   "execution_count": 221,
   "id": "9cd87e4c-8aba-4d32-9dfc-4c3af81be27f",
   "metadata": {},
   "outputs": [
    {
     "data": {
      "text/plain": [
       "array([[8, 5, 0],\n",
       "       [9, 2, 1],\n",
       "       [0, 6, 3]])"
      ]
     },
     "execution_count": 221,
     "metadata": {},
     "output_type": "execute_result"
    }
   ],
   "source": [
    "arr1"
   ]
  },
  {
   "cell_type": "code",
   "execution_count": 222,
   "id": "49c05c21-00af-4b98-82c9-80db6bd55b16",
   "metadata": {},
   "outputs": [
    {
     "name": "stdout",
     "output_type": "stream",
     "text": [
      "[False  True False]\n"
     ]
    }
   ],
   "source": [
    "print(np.all(arr1,1))"
   ]
  },
  {
   "cell_type": "code",
   "execution_count": 223,
   "id": "400e33fd-5cff-45b2-999e-04119dfcdddc",
   "metadata": {},
   "outputs": [
    {
     "name": "stdout",
     "output_type": "stream",
     "text": [
      "False\n"
     ]
    }
   ],
   "source": [
    "print(np.all(arr1))"
   ]
  },
  {
   "cell_type": "code",
   "execution_count": 225,
   "id": "e7435b34-b74e-4cbb-9a0c-f7b5f78cfdde",
   "metadata": {},
   "outputs": [
    {
     "name": "stdout",
     "output_type": "stream",
     "text": [
      "True\n"
     ]
    }
   ],
   "source": [
    "print(np.any(arr1))\n",
    "\n",
    "# if any one element is non zero we will get true"
   ]
  },
  {
   "cell_type": "code",
   "execution_count": 226,
   "id": "5c9768f3-8a4e-4272-b683-93b266118426",
   "metadata": {},
   "outputs": [
    {
     "name": "stdout",
     "output_type": "stream",
     "text": [
      "True\n"
     ]
    }
   ],
   "source": [
    "print(np.any(arr1))\n",
    "\n",
    "# axis=1 for row axis=0 for column"
   ]
  },
  {
   "cell_type": "code",
   "execution_count": 228,
   "id": "1ae66d90-970d-4d52-a106-3a68591c16c7",
   "metadata": {},
   "outputs": [
    {
     "name": "stdout",
     "output_type": "stream",
     "text": [
      "[ True  True  True]\n"
     ]
    }
   ],
   "source": [
    "print(np.any(arr1,axis=1))"
   ]
  },
  {
   "cell_type": "code",
   "execution_count": 229,
   "id": "f11a3e63-1a37-46fe-bfae-30873f790782",
   "metadata": {},
   "outputs": [
    {
     "name": "stdout",
     "output_type": "stream",
     "text": [
      "[ True  True  True]\n"
     ]
    }
   ],
   "source": [
    "print(np.any(arr1,axis=1))"
   ]
  },
  {
   "cell_type": "code",
   "execution_count": 230,
   "id": "16cb8274-46ed-45b5-b5de-5c8d11a903e2",
   "metadata": {},
   "outputs": [
    {
     "name": "stdout",
     "output_type": "stream",
     "text": [
      "[3 2 6 9 1]\n"
     ]
    }
   ],
   "source": [
    "# brodcasting: - applieng operation on 2 or more arrays\n",
    "\n",
    "arr1=np.random.randint(0,10,(5,))\n",
    "\n",
    "print(arr1)"
   ]
  },
  {
   "cell_type": "code",
   "execution_count": 243,
   "id": "f33c081e-3bc7-47cd-9fc8-619fd65cd78a",
   "metadata": {},
   "outputs": [
    {
     "name": "stdout",
     "output_type": "stream",
     "text": [
      "[6 4 2 3 1]\n"
     ]
    }
   ],
   "source": [
    "arr2=np.random.randint(1,10,(5,))\n",
    "print(arr2)"
   ]
  },
  {
   "cell_type": "code",
   "execution_count": 232,
   "id": "d54eea2d-b60d-4408-a2bf-3a172a77baa3",
   "metadata": {},
   "outputs": [
    {
     "name": "stdout",
     "output_type": "stream",
     "text": [
      "[ 6  5  9 14  6]\n"
     ]
    }
   ],
   "source": [
    "print(arr1+arr2)"
   ]
  },
  {
   "cell_type": "code",
   "execution_count": 234,
   "id": "d8556d97-9e97-4145-8d74-a4f1b014f8a2",
   "metadata": {},
   "outputs": [],
   "source": [
    "# operands could not broadcast together with shape 5 or 4 or with different shape"
   ]
  },
  {
   "cell_type": "code",
   "execution_count": 245,
   "id": "07b7b70c-fd7e-45b7-9c16-841962a054b1",
   "metadata": {},
   "outputs": [
    {
     "name": "stdout",
     "output_type": "stream",
     "text": [
      "[4 2 9 1]\n"
     ]
    }
   ],
   "source": [
    "arr3=np.random.randint(1,10,(4,))\n",
    "print(arr3)"
   ]
  },
  {
   "cell_type": "code",
   "execution_count": 246,
   "id": "1734f839-b126-4eb9-a777-cf911017ef3f",
   "metadata": {},
   "outputs": [
    {
     "ename": "ValueError",
     "evalue": "operands could not be broadcast together with shapes (5,) (4,) ",
     "output_type": "error",
     "traceback": [
      "\u001b[1;31m---------------------------------------------------------------------------\u001b[0m",
      "\u001b[1;31mValueError\u001b[0m                                Traceback (most recent call last)",
      "Cell \u001b[1;32mIn[246], line 1\u001b[0m\n\u001b[1;32m----> 1\u001b[0m \u001b[38;5;28mprint\u001b[39m(arr1\u001b[38;5;241m+\u001b[39marr3)\n",
      "\u001b[1;31mValueError\u001b[0m: operands could not be broadcast together with shapes (5,) (4,) "
     ]
    }
   ],
   "source": [
    "print(arr1+arr3)"
   ]
  },
  {
   "cell_type": "code",
   "execution_count": 237,
   "id": "9e61b517-9f63-4cc7-b0ce-8fc3f6f351a6",
   "metadata": {},
   "outputs": [],
   "source": [
    "# we can perform any arithmatic operation on any array unless it is not having diff shape"
   ]
  },
  {
   "cell_type": "code",
   "execution_count": 247,
   "id": "0a57b5bf-9e0c-496d-8d50-0f7850276d95",
   "metadata": {},
   "outputs": [
    {
     "ename": "TypeError",
     "evalue": "unsupported operand type(s) for /: 'list' and 'list'",
     "output_type": "error",
     "traceback": [
      "\u001b[1;31m---------------------------------------------------------------------------\u001b[0m",
      "\u001b[1;31mTypeError\u001b[0m                                 Traceback (most recent call last)",
      "Cell \u001b[1;32mIn[247], line 6\u001b[0m\n\u001b[0;32m      3\u001b[0m a\u001b[38;5;241m=\u001b[39m[\u001b[38;5;241m1\u001b[39m,\u001b[38;5;241m0\u001b[39m,\u001b[38;5;241m1\u001b[39m]\n\u001b[0;32m      4\u001b[0m b\u001b[38;5;241m=\u001b[39m[\u001b[38;5;241m2\u001b[39m,\u001b[38;5;241m0\u001b[39m,\u001b[38;5;241m1\u001b[39m]\n\u001b[1;32m----> 6\u001b[0m a\u001b[38;5;241m/\u001b[39mb\n",
      "\u001b[1;31mTypeError\u001b[0m: unsupported operand type(s) for /: 'list' and 'list'"
     ]
    }
   ],
   "source": [
    "# this cannot be done on lists\n",
    "\n",
    "a=[1,0,1]\n",
    "b=[2,0,1]\n",
    "\n",
    "a/b"
   ]
  },
  {
   "cell_type": "code",
   "execution_count": 240,
   "id": "c86aceaf-1b33-4350-82d8-ebc92c4ad809",
   "metadata": {},
   "outputs": [],
   "source": [
    "# we have function for broadcasting"
   ]
  },
  {
   "cell_type": "code",
   "execution_count": 248,
   "id": "3259547a-9b24-4105-bbdd-74a69cf85739",
   "metadata": {},
   "outputs": [
    {
     "name": "stdout",
     "output_type": "stream",
     "text": [
      "[ 9  6  8 12  2]\n"
     ]
    }
   ],
   "source": [
    "print(np.add(arr1,arr2))"
   ]
  },
  {
   "cell_type": "code",
   "execution_count": 249,
   "id": "2b715bd6-4c35-473d-8d01-321e24751efa",
   "metadata": {},
   "outputs": [
    {
     "name": "stdout",
     "output_type": "stream",
     "text": [
      "[-3 -2  4  6  0]\n"
     ]
    }
   ],
   "source": [
    "print(np.subtract(arr1,arr2))"
   ]
  },
  {
   "cell_type": "code",
   "execution_count": 250,
   "id": "9a3ac761-662a-4162-b4c9-76851f393fcc",
   "metadata": {},
   "outputs": [
    {
     "name": "stdout",
     "output_type": "stream",
     "text": [
      "[18  8 12 27  1]\n"
     ]
    }
   ],
   "source": [
    "print(np.multiply(arr1,arr2))"
   ]
  },
  {
   "cell_type": "code",
   "execution_count": 251,
   "id": "01d4c6b7-ad17-401b-a767-0e0ace0607f7",
   "metadata": {},
   "outputs": [
    {
     "name": "stdout",
     "output_type": "stream",
     "text": [
      "[0.5 0.5 3.  3.  1. ]\n"
     ]
    }
   ],
   "source": [
    "print(np.divide(arr1,arr2))"
   ]
  },
  {
   "cell_type": "code",
   "execution_count": 254,
   "id": "595b14a8-6445-40cf-8208-4ceb091cda7b",
   "metadata": {},
   "outputs": [
    {
     "name": "stdout",
     "output_type": "stream",
     "text": [
      "[False False  True  True False]\n"
     ]
    }
   ],
   "source": [
    "# comparision we can do for arrays\n",
    "\n",
    "print(arr1 > arr2)"
   ]
  },
  {
   "cell_type": "code",
   "execution_count": 255,
   "id": "afa31fcd-0c41-45b3-a449-6626136e5040",
   "metadata": {},
   "outputs": [
    {
     "ename": "ValueError",
     "evalue": "The truth value of an array with more than one element is ambiguous. Use a.any() or a.all()",
     "output_type": "error",
     "traceback": [
      "\u001b[1;31m---------------------------------------------------------------------------\u001b[0m",
      "\u001b[1;31mValueError\u001b[0m                                Traceback (most recent call last)",
      "Cell \u001b[1;32mIn[255], line 3\u001b[0m\n\u001b[0;32m      1\u001b[0m \u001b[38;5;66;03m# we cant apply logical operators on arrays\u001b[39;00m\n\u001b[1;32m----> 3\u001b[0m \u001b[38;5;28mprint\u001b[39m(arr1 \u001b[38;5;129;01mand\u001b[39;00m arr2)\n",
      "\u001b[1;31mValueError\u001b[0m: The truth value of an array with more than one element is ambiguous. Use a.any() or a.all()"
     ]
    }
   ],
   "source": [
    "# we cant apply logical operators on arrays\n",
    "\n",
    "print(arr1 and arr2)"
   ]
  },
  {
   "cell_type": "code",
   "execution_count": 256,
   "id": "f9cbacaa-0d6c-4036-8801-bc55e9ce5359",
   "metadata": {},
   "outputs": [
    {
     "ename": "ValueError",
     "evalue": "The truth value of an array with more than one element is ambiguous. Use a.any() or a.all()",
     "output_type": "error",
     "traceback": [
      "\u001b[1;31m---------------------------------------------------------------------------\u001b[0m",
      "\u001b[1;31mValueError\u001b[0m                                Traceback (most recent call last)",
      "Cell \u001b[1;32mIn[256], line 1\u001b[0m\n\u001b[1;32m----> 1\u001b[0m \u001b[38;5;28mprint\u001b[39m(arr1 \u001b[38;5;129;01mor\u001b[39;00m arr2)\n",
      "\u001b[1;31mValueError\u001b[0m: The truth value of an array with more than one element is ambiguous. Use a.any() or a.all()"
     ]
    }
   ],
   "source": [
    "print(arr1 or arr2)"
   ]
  },
  {
   "cell_type": "code",
   "execution_count": 257,
   "id": "5b75cb17-71aa-412d-a294-67995aef521b",
   "metadata": {},
   "outputs": [],
   "source": [
    "# matrix"
   ]
  },
  {
   "cell_type": "code",
   "execution_count": 258,
   "id": "92f99596-b006-4baf-9989-2170f0213e9b",
   "metadata": {},
   "outputs": [],
   "source": [
    "m1=np.random.randint(1,10,(3,3))"
   ]
  },
  {
   "cell_type": "code",
   "execution_count": 259,
   "id": "3699d1ff-e92c-4460-9470-d2a6d1ba7b2d",
   "metadata": {},
   "outputs": [
    {
     "name": "stdout",
     "output_type": "stream",
     "text": [
      "[[4 5 1]\n",
      " [9 8 9]\n",
      " [4 2 1]]\n"
     ]
    }
   ],
   "source": [
    "print(m1)"
   ]
  },
  {
   "cell_type": "code",
   "execution_count": 260,
   "id": "4a3bf93a-2d7e-4386-b289-04a279c9f63d",
   "metadata": {},
   "outputs": [],
   "source": [
    "m2=np.random.randint(1,10,(3,3))"
   ]
  },
  {
   "cell_type": "code",
   "execution_count": 261,
   "id": "5cfa4469-7a86-4cc0-bbe4-c70c8c323009",
   "metadata": {},
   "outputs": [
    {
     "name": "stdout",
     "output_type": "stream",
     "text": [
      "[[6 8 3]\n",
      " [5 4 8]\n",
      " [9 8 1]]\n"
     ]
    }
   ],
   "source": [
    "print(m2)"
   ]
  },
  {
   "cell_type": "code",
   "execution_count": 263,
   "id": "591377b7-4086-4cbf-9f0d-151fdaba5fad",
   "metadata": {},
   "outputs": [
    {
     "name": "stdout",
     "output_type": "stream",
     "text": [
      "[[24 40  3]\n",
      " [45 32 72]\n",
      " [36 16  1]]\n"
     ]
    }
   ],
   "source": [
    "print(np.multiply(m1,m2))"
   ]
  },
  {
   "cell_type": "code",
   "execution_count": 264,
   "id": "0a7a903c-c28c-4726-988b-52befa2e9230",
   "metadata": {},
   "outputs": [
    {
     "name": "stdout",
     "output_type": "stream",
     "text": [
      "[[24 40  3]\n",
      " [45 32 72]\n",
      " [36 16  1]]\n"
     ]
    }
   ],
   "source": [
    "print(m1*m2)"
   ]
  },
  {
   "cell_type": "code",
   "execution_count": 266,
   "id": "65a68d17-2c8e-4ea8-9d58-ea7b58a77c8f",
   "metadata": {},
   "outputs": [],
   "source": [
    "# @ means dot product\n",
    "\n",
    "# no of rows of first matrix = no of columns of 2nd matrix\n",
    "# shape of new matrix will be no of rows of 1st matrix and no of columns of 2nd matrix"
   ]
  },
  {
   "cell_type": "code",
   "execution_count": 267,
   "id": "f663bd1f-bb83-4d28-acdd-e59b23397e64",
   "metadata": {},
   "outputs": [
    {
     "name": "stdout",
     "output_type": "stream",
     "text": [
      "[[ 58  60  53]\n",
      " [175 176 100]\n",
      " [ 43  48  29]]\n"
     ]
    }
   ],
   "source": [
    "print(m1@m2)"
   ]
  },
  {
   "cell_type": "code",
   "execution_count": 268,
   "id": "8b0e06b8-57ea-4423-8508-47c2372c56d9",
   "metadata": {},
   "outputs": [
    {
     "name": "stdout",
     "output_type": "stream",
     "text": [
      "[[ 58  60  53]\n",
      " [175 176 100]\n",
      " [ 43  48  29]]\n"
     ]
    }
   ],
   "source": [
    "print(np.dot(m1,m2))"
   ]
  },
  {
   "cell_type": "code",
   "execution_count": 269,
   "id": "7806141f-e816-4b6c-b372-c7b925666ed3",
   "metadata": {},
   "outputs": [],
   "source": [
    "# transpose of matrix: here columns became rows and rows became columns"
   ]
  },
  {
   "cell_type": "code",
   "execution_count": 270,
   "id": "a14400e7-041e-4827-ad77-2d5b2d2723c2",
   "metadata": {},
   "outputs": [],
   "source": [
    "# some statistical functions on matrix"
   ]
  },
  {
   "cell_type": "code",
   "execution_count": 271,
   "id": "ab87ee1c-a82f-41b3-a689-a85193ec340b",
   "metadata": {},
   "outputs": [],
   "source": [
    "arr1=np.random.randint(1,10,(6))"
   ]
  },
  {
   "cell_type": "code",
   "execution_count": 272,
   "id": "c2c1ef3c-dcff-4563-acde-5cc788a6b414",
   "metadata": {},
   "outputs": [
    {
     "name": "stdout",
     "output_type": "stream",
     "text": [
      "[4 5 2 3 2 5]\n"
     ]
    }
   ],
   "source": [
    "print(arr1)"
   ]
  },
  {
   "cell_type": "code",
   "execution_count": 273,
   "id": "f38e6706-0fd0-4f2e-838b-81bda47ec1a2",
   "metadata": {},
   "outputs": [
    {
     "name": "stdout",
     "output_type": "stream",
     "text": [
      "3.5\n"
     ]
    }
   ],
   "source": [
    "print(np.mean(arr1))"
   ]
  },
  {
   "cell_type": "code",
   "execution_count": 274,
   "id": "080157e4-ce20-4298-9221-e74bbfcca5eb",
   "metadata": {},
   "outputs": [
    {
     "name": "stdout",
     "output_type": "stream",
     "text": [
      "3.5\n"
     ]
    }
   ],
   "source": [
    "print(np.median(arr1))"
   ]
  },
  {
   "cell_type": "code",
   "execution_count": 288,
   "id": "17882f32-88b7-4d0d-95ab-8efb789ff84e",
   "metadata": {},
   "outputs": [
    {
     "ename": "AttributeError",
     "evalue": "module 'numpy' has no attribute 'mode'",
     "output_type": "error",
     "traceback": [
      "\u001b[1;31m---------------------------------------------------------------------------\u001b[0m",
      "\u001b[1;31mAttributeError\u001b[0m                            Traceback (most recent call last)",
      "Cell \u001b[1;32mIn[288], line 1\u001b[0m\n\u001b[1;32m----> 1\u001b[0m \u001b[38;5;28mprint\u001b[39m(np\u001b[38;5;241m.\u001b[39mmode(arr1))\n",
      "File \u001b[1;32mC:\\ProgramData\\anaconda3\\Lib\\site-packages\\numpy\\__init__.py:333\u001b[0m, in \u001b[0;36m__getattr__\u001b[1;34m(attr)\u001b[0m\n\u001b[0;32m    330\u001b[0m     \u001b[38;5;124m\"\u001b[39m\u001b[38;5;124mRemoved in NumPy 1.25.0\u001b[39m\u001b[38;5;124m\"\u001b[39m\n\u001b[0;32m    331\u001b[0m     \u001b[38;5;28;01mraise\u001b[39;00m \u001b[38;5;167;01mRuntimeError\u001b[39;00m(\u001b[38;5;124m\"\u001b[39m\u001b[38;5;124mTester was removed in NumPy 1.25.\u001b[39m\u001b[38;5;124m\"\u001b[39m)\n\u001b[1;32m--> 333\u001b[0m \u001b[38;5;28;01mraise\u001b[39;00m \u001b[38;5;167;01mAttributeError\u001b[39;00m(\u001b[38;5;124m\"\u001b[39m\u001b[38;5;124mmodule \u001b[39m\u001b[38;5;132;01m{!r}\u001b[39;00m\u001b[38;5;124m has no attribute \u001b[39m\u001b[38;5;124m\"\u001b[39m\n\u001b[0;32m    334\u001b[0m                      \u001b[38;5;124m\"\u001b[39m\u001b[38;5;132;01m{!r}\u001b[39;00m\u001b[38;5;124m\"\u001b[39m\u001b[38;5;241m.\u001b[39mformat(\u001b[38;5;18m__name__\u001b[39m, attr))\n",
      "\u001b[1;31mAttributeError\u001b[0m: module 'numpy' has no attribute 'mode'"
     ]
    }
   ],
   "source": [
    "print(np.mode(arr1))\n",
    "# it gives error because mode is categorical data"
   ]
  },
  {
   "cell_type": "code",
   "execution_count": 278,
   "id": "2a66c9e5-facf-44fc-9286-e5d0a0a0077f",
   "metadata": {},
   "outputs": [
    {
     "name": "stdout",
     "output_type": "stream",
     "text": [
      "(array([0., 0., 0., 0., 0., 0.]), array([4., 5., 2., 3., 2., 5.]))\n"
     ]
    }
   ],
   "source": [
    "print(np.modf(arr1))"
   ]
  },
  {
   "cell_type": "code",
   "execution_count": 279,
   "id": "139faff4-fd89-49ee-b611-fdb81d30f123",
   "metadata": {},
   "outputs": [
    {
     "name": "stdout",
     "output_type": "stream",
     "text": [
      "1.2583057392117916\n"
     ]
    }
   ],
   "source": [
    "print(np.std(arr1))"
   ]
  },
  {
   "cell_type": "code",
   "execution_count": 280,
   "id": "329962ab-bb63-40d2-b500-b716a0049686",
   "metadata": {},
   "outputs": [
    {
     "name": "stdout",
     "output_type": "stream",
     "text": [
      "1.5833333333333333\n"
     ]
    }
   ],
   "source": [
    "print(np.var(arr1))"
   ]
  },
  {
   "cell_type": "code",
   "execution_count": 283,
   "id": "4c35f1e2-17b4-4fb7-9f10-a4fea585a3ef",
   "metadata": {},
   "outputs": [],
   "source": [
    "# var is square of std\n",
    "\n",
    "st=np.std(arr1)\n",
    "var=np.var(arr1)"
   ]
  },
  {
   "cell_type": "code",
   "execution_count": 284,
   "id": "8e08cb45-9583-4ca9-a50b-2da6d818a656",
   "metadata": {},
   "outputs": [
    {
     "name": "stdout",
     "output_type": "stream",
     "text": [
      "False\n"
     ]
    }
   ],
   "source": [
    "print(st==var)"
   ]
  },
  {
   "cell_type": "code",
   "execution_count": 286,
   "id": "2ff22822-514c-4802-ae31-686819c88fef",
   "metadata": {},
   "outputs": [
    {
     "name": "stdout",
     "output_type": "stream",
     "text": [
      "True\n"
     ]
    }
   ],
   "source": [
    "print(st*st==var)"
   ]
  },
  {
   "cell_type": "code",
   "execution_count": 289,
   "id": "5a831870-55b3-46e4-824b-cd565985e971",
   "metadata": {},
   "outputs": [
    {
     "name": "stdout",
     "output_type": "stream",
     "text": [
      "4\n"
     ]
    }
   ],
   "source": [
    "# indexing and slicing\n",
    "\n",
    "print(arr1[0])"
   ]
  },
  {
   "cell_type": "code",
   "execution_count": 290,
   "id": "cfccdd5a-1804-4d68-a021-8a0361753bd1",
   "metadata": {},
   "outputs": [
    {
     "name": "stdout",
     "output_type": "stream",
     "text": [
      "2\n"
     ]
    }
   ],
   "source": [
    "print(arr1[2])"
   ]
  },
  {
   "cell_type": "code",
   "execution_count": 291,
   "id": "1fbd75ea-30b4-4b15-85ce-dbeb201559aa",
   "metadata": {},
   "outputs": [
    {
     "name": "stdout",
     "output_type": "stream",
     "text": [
      "[4 5 2 3 2 5]\n"
     ]
    }
   ],
   "source": [
    "print(arr1[0:])"
   ]
  },
  {
   "cell_type": "code",
   "execution_count": 292,
   "id": "b8fe3718-7f97-45f4-b685-17fbea92be5d",
   "metadata": {},
   "outputs": [
    {
     "name": "stdout",
     "output_type": "stream",
     "text": [
      "[4 5 2 3 2 5]\n"
     ]
    }
   ],
   "source": [
    "print(arr1)"
   ]
  },
  {
   "cell_type": "code",
   "execution_count": 293,
   "id": "b6dafec6-7ead-4270-a36a-a6ca99325594",
   "metadata": {},
   "outputs": [
    {
     "name": "stdout",
     "output_type": "stream",
     "text": [
      "[5 2 3 2 5 4]\n"
     ]
    }
   ],
   "source": [
    "print(arr1[::-1])"
   ]
  },
  {
   "cell_type": "code",
   "execution_count": 295,
   "id": "4b3234ae-ec56-4771-a136-3f7e775cf0c3",
   "metadata": {},
   "outputs": [
    {
     "name": "stdout",
     "output_type": "stream",
     "text": [
      "[5 2 3 2 5 4]\n"
     ]
    }
   ],
   "source": [
    "print(arr1[-1::-1])"
   ]
  },
  {
   "cell_type": "code",
   "execution_count": 296,
   "id": "a3ca40c1-2fe1-4759-9991-dc52db1dfe00",
   "metadata": {},
   "outputs": [
    {
     "name": "stdout",
     "output_type": "stream",
     "text": [
      "[5]\n"
     ]
    }
   ],
   "source": [
    "print(arr1[-1::])"
   ]
  },
  {
   "cell_type": "code",
   "execution_count": 297,
   "id": "9a9d5cde-a38b-4efc-be67-54dd4e824a67",
   "metadata": {},
   "outputs": [
    {
     "name": "stdout",
     "output_type": "stream",
     "text": [
      "[4 5 2 3 2]\n"
     ]
    }
   ],
   "source": [
    "print(arr1[:-1:])"
   ]
  },
  {
   "cell_type": "code",
   "execution_count": 298,
   "id": "5520aee6-cd3e-42b0-8718-9f74b1c40f38",
   "metadata": {},
   "outputs": [],
   "source": [
    "# array are mutable"
   ]
  },
  {
   "cell_type": "code",
   "execution_count": 299,
   "id": "ff4af679-f9ec-4e3b-bed9-5fa6a0f3901e",
   "metadata": {},
   "outputs": [
    {
     "name": "stdout",
     "output_type": "stream",
     "text": [
      "2572239827472\n"
     ]
    }
   ],
   "source": [
    "print(id(arr1))"
   ]
  },
  {
   "cell_type": "code",
   "execution_count": 300,
   "id": "469c0a16-7834-41ba-859d-80078979b264",
   "metadata": {},
   "outputs": [
    {
     "data": {
      "text/plain": [
       "array([4, 5, 2, 3, 2, 5])"
      ]
     },
     "execution_count": 300,
     "metadata": {},
     "output_type": "execute_result"
    }
   ],
   "source": [
    "arr1"
   ]
  },
  {
   "cell_type": "code",
   "execution_count": 301,
   "id": "5852cc3e-8553-4613-98a1-56c86879d9b8",
   "metadata": {},
   "outputs": [],
   "source": [
    "arr1[0]=6"
   ]
  },
  {
   "cell_type": "code",
   "execution_count": 302,
   "id": "afcfa428-8a4f-479d-be6c-a424b0c439ff",
   "metadata": {},
   "outputs": [
    {
     "name": "stdout",
     "output_type": "stream",
     "text": [
      "[6 5 2 3 2 5]\n"
     ]
    }
   ],
   "source": [
    "print(arr1)"
   ]
  },
  {
   "cell_type": "code",
   "execution_count": 303,
   "id": "4f519bad-4bf6-400f-9579-ed26a8a751dc",
   "metadata": {},
   "outputs": [
    {
     "name": "stdout",
     "output_type": "stream",
     "text": [
      "2572239827472\n"
     ]
    }
   ],
   "source": [
    "print(id(arr1))"
   ]
  },
  {
   "cell_type": "code",
   "execution_count": 304,
   "id": "86f28692-8fc3-401a-a929-f33a2625901c",
   "metadata": {},
   "outputs": [],
   "source": [
    "# as no change in id so it is mutable"
   ]
  },
  {
   "cell_type": "code",
   "execution_count": 305,
   "id": "05497970-1995-43d6-b79a-062c706cf83b",
   "metadata": {},
   "outputs": [],
   "source": [
    "arr1[0:2:1]=-1"
   ]
  },
  {
   "cell_type": "code",
   "execution_count": 306,
   "id": "acd9a73b-9892-446d-bfc0-63699a30744e",
   "metadata": {},
   "outputs": [
    {
     "data": {
      "text/plain": [
       "array([-1, -1,  2,  3,  2,  5])"
      ]
     },
     "execution_count": 306,
     "metadata": {},
     "output_type": "execute_result"
    }
   ],
   "source": [
    "arr1"
   ]
  },
  {
   "cell_type": "code",
   "execution_count": 308,
   "id": "d7201c62-7152-412d-92c5-49efaa56b282",
   "metadata": {},
   "outputs": [],
   "source": [
    "arr1[0:2:]=20,30"
   ]
  },
  {
   "cell_type": "code",
   "execution_count": 309,
   "id": "bdb09ab9-0fb9-48b2-974c-b0645a577c8b",
   "metadata": {},
   "outputs": [
    {
     "data": {
      "text/plain": [
       "array([20, 30,  2,  3,  2,  5])"
      ]
     },
     "execution_count": 309,
     "metadata": {},
     "output_type": "execute_result"
    }
   ],
   "source": [
    "arr1"
   ]
  },
  {
   "cell_type": "code",
   "execution_count": 310,
   "id": "d6c46d07-cc3c-4a24-aefb-ae0fb0e707e6",
   "metadata": {},
   "outputs": [
    {
     "name": "stdout",
     "output_type": "stream",
     "text": [
      "[20 30  2  3  2  5]\n"
     ]
    }
   ],
   "source": [
    "print(arr1)"
   ]
  },
  {
   "cell_type": "code",
   "execution_count": 311,
   "id": "fa03f33e-3589-4d70-9397-bfb651fc57b9",
   "metadata": {},
   "outputs": [
    {
     "name": "stdout",
     "output_type": "stream",
     "text": [
      "[2 3 2]\n"
     ]
    }
   ],
   "source": [
    "# view \n",
    "\n",
    "slice1=arr1[2:5]\n",
    "\n",
    "print(slice1)"
   ]
  },
  {
   "cell_type": "code",
   "execution_count": 312,
   "id": "7ee3e541-bdc0-4fdc-b46a-6a15f886424b",
   "metadata": {},
   "outputs": [
    {
     "name": "stdout",
     "output_type": "stream",
     "text": [
      "<class 'numpy.ndarray'>\n"
     ]
    }
   ],
   "source": [
    "print(type(slice1))"
   ]
  },
  {
   "cell_type": "code",
   "execution_count": 313,
   "id": "cbb67056-440c-480e-b092-c5b2c887d970",
   "metadata": {},
   "outputs": [
    {
     "name": "stdout",
     "output_type": "stream",
     "text": [
      "int32\n"
     ]
    }
   ],
   "source": [
    "print(slice1.dtype)"
   ]
  },
  {
   "cell_type": "code",
   "execution_count": 314,
   "id": "c2c9fd9f-878e-4836-b41a-1a6a1319c48c",
   "metadata": {},
   "outputs": [],
   "source": [
    "slice1[0]=900"
   ]
  },
  {
   "cell_type": "code",
   "execution_count": 315,
   "id": "2ac8afec-d3f6-4ac1-adc3-4ddabadf6eef",
   "metadata": {},
   "outputs": [
    {
     "name": "stdout",
     "output_type": "stream",
     "text": [
      "[ 20  30 900   3   2   5]\n"
     ]
    }
   ],
   "source": [
    "print(arr1)"
   ]
  },
  {
   "cell_type": "code",
   "execution_count": 316,
   "id": "472fb227-d7df-4204-9393-d84afaa83ab7",
   "metadata": {},
   "outputs": [],
   "source": [
    "# hence slice1 is taken from arr1, hence it is a part of that, so if you change in slice1 arr1 corresponding element will change"
   ]
  },
  {
   "cell_type": "code",
   "execution_count": 317,
   "id": "e874216d-3fe4-4340-89e6-59654947bfaa",
   "metadata": {},
   "outputs": [],
   "source": [
    "# slice shares same memory loc hence this is not there in lists"
   ]
  },
  {
   "cell_type": "code",
   "execution_count": 318,
   "id": "de98512a-6dfd-443f-ad5c-805bf62e44ef",
   "metadata": {},
   "outputs": [],
   "source": [
    "# but memory address will be different for slice and array"
   ]
  },
  {
   "cell_type": "code",
   "execution_count": 319,
   "id": "5d4ea2f9-4de1-4c9d-bf0a-58e87b430451",
   "metadata": {},
   "outputs": [
    {
     "name": "stdout",
     "output_type": "stream",
     "text": [
      "[[5 3 8]\n",
      " [5 1 6]\n",
      " [9 3 1]]\n"
     ]
    }
   ],
   "source": [
    "m1=np.random.randint(1,10,(3,3))\n",
    "\n",
    "print(m1)"
   ]
  },
  {
   "cell_type": "code",
   "execution_count": 320,
   "id": "48325a34-42a0-4115-90a9-c15381fddcfe",
   "metadata": {},
   "outputs": [
    {
     "data": {
      "text/plain": [
       "5"
      ]
     },
     "execution_count": 320,
     "metadata": {},
     "output_type": "execute_result"
    }
   ],
   "source": [
    "m1[0][0]"
   ]
  },
  {
   "cell_type": "code",
   "execution_count": 321,
   "id": "fe42155d-6cdd-47ab-92ab-19379751280e",
   "metadata": {},
   "outputs": [],
   "source": [
    "m1=np.random.randint(1,10,(3,4))"
   ]
  },
  {
   "cell_type": "code",
   "execution_count": 322,
   "id": "710b5232-979f-4df3-9e7d-b143ade7a1c9",
   "metadata": {},
   "outputs": [
    {
     "name": "stdout",
     "output_type": "stream",
     "text": [
      "[[8 5 9 5]\n",
      " [7 7 5 2]\n",
      " [3 9 2 3]]\n"
     ]
    }
   ],
   "source": [
    "print(m1)"
   ]
  },
  {
   "cell_type": "code",
   "execution_count": 327,
   "id": "48d17fef-06e3-4794-b96b-59514ead3f06",
   "metadata": {},
   "outputs": [],
   "source": [
    "slice1=m1[0:2,2:4]"
   ]
  },
  {
   "cell_type": "code",
   "execution_count": 328,
   "id": "f5f3a7f4-a3e0-4027-b63f-869f4702c708",
   "metadata": {},
   "outputs": [
    {
     "name": "stdout",
     "output_type": "stream",
     "text": [
      "[[9 5]\n",
      " [5 2]]\n"
     ]
    }
   ],
   "source": [
    "print(slice1)"
   ]
  },
  {
   "cell_type": "code",
   "execution_count": 329,
   "id": "c4bf3383-f9a7-4829-baa2-625659763f07",
   "metadata": {},
   "outputs": [],
   "source": [
    "# here last element will be excluded"
   ]
  },
  {
   "cell_type": "code",
   "execution_count": 330,
   "id": "4893769a-064d-45c4-8052-e6c639c53926",
   "metadata": {},
   "outputs": [],
   "source": [
    "slice1[0,0]=-100"
   ]
  },
  {
   "cell_type": "code",
   "execution_count": 331,
   "id": "cb90fc34-c1b1-456b-af20-b91a2d250b46",
   "metadata": {},
   "outputs": [
    {
     "name": "stdout",
     "output_type": "stream",
     "text": [
      "[[-100    5]\n",
      " [   5    2]]\n"
     ]
    }
   ],
   "source": [
    "print(slice1)"
   ]
  },
  {
   "cell_type": "code",
   "execution_count": 332,
   "id": "b6bdeefe-8f45-4ca3-976b-f87886c2decc",
   "metadata": {},
   "outputs": [
    {
     "name": "stdout",
     "output_type": "stream",
     "text": [
      "[[   8    5 -100    5]\n",
      " [   7    7    5    2]\n",
      " [   3    9    2    3]]\n"
     ]
    }
   ],
   "source": [
    "print(m1)"
   ]
  },
  {
   "cell_type": "code",
   "execution_count": 333,
   "id": "ac71aa42-4b5e-4775-b56e-1d1b53a5a16f",
   "metadata": {},
   "outputs": [],
   "source": [
    "# so basically in array if you change value in slice data will change in array also"
   ]
  },
  {
   "cell_type": "code",
   "execution_count": 335,
   "id": "460267ee-7438-4942-8091-f2022680f2ba",
   "metadata": {},
   "outputs": [],
   "source": [
    "# arithmatica progression:- elements are evenly spaced from each other"
   ]
  },
  {
   "cell_type": "code",
   "execution_count": 338,
   "id": "2871f0b1-8d54-42c6-9781-813a9b31f74f",
   "metadata": {},
   "outputs": [
    {
     "data": {
      "text/plain": [
       "array([ 0. ,  0.5,  1. ,  1.5,  2. ,  2.5,  3. ,  3.5,  4. ,  4.5,  5. ,\n",
       "        5.5,  6. ,  6.5,  7. ,  7.5,  8. ,  8.5,  9. ,  9.5, 10. ])"
      ]
     },
     "execution_count": 338,
     "metadata": {},
     "output_type": "execute_result"
    }
   ],
   "source": [
    "np.linspace(0,10,21)"
   ]
  },
  {
   "cell_type": "code",
   "execution_count": 340,
   "id": "54e65224-ec9b-4aa9-b79f-1fc99b8c85f8",
   "metadata": {},
   "outputs": [
    {
     "data": {
      "text/plain": [
       "array([ 1.        ,  1.39495079,  1.94588772,  2.71441762,  3.78647901,\n",
       "        5.2819519 ,  7.368063  , 10.27808533, 14.33742329, 20.        ])"
      ]
     },
     "execution_count": 340,
     "metadata": {},
     "output_type": "execute_result"
    }
   ],
   "source": [
    "# geometrical progression\n",
    "np.geomspace(1,20,10)"
   ]
  },
  {
   "cell_type": "code",
   "execution_count": 341,
   "id": "e2a56de4-1bf3-490c-b9c9-44450da208a9",
   "metadata": {},
   "outputs": [],
   "source": [
    "# reshape\n",
    "\n",
    "arr1=np.random.randint(1,10,(4,5))"
   ]
  },
  {
   "cell_type": "code",
   "execution_count": 342,
   "id": "202d8e2f-2925-438e-bddb-7856e8b5aa1c",
   "metadata": {},
   "outputs": [
    {
     "name": "stdout",
     "output_type": "stream",
     "text": [
      "[[4 4 1 5 9]\n",
      " [5 5 8 7 9]\n",
      " [4 2 4 9 2]\n",
      " [2 4 3 5 8]]\n"
     ]
    }
   ],
   "source": [
    "print(arr1)"
   ]
  },
  {
   "cell_type": "code",
   "execution_count": 343,
   "id": "cabe1985-2991-4d2d-8839-2dddde5070d1",
   "metadata": {},
   "outputs": [
    {
     "name": "stdout",
     "output_type": "stream",
     "text": [
      "[[4 4 1 5]\n",
      " [9 5 5 8]\n",
      " [7 9 4 2]\n",
      " [4 9 2 2]\n",
      " [4 3 5 8]]\n"
     ]
    }
   ],
   "source": [
    "print(np.reshape(arr1,(5,4)))"
   ]
  },
  {
   "cell_type": "code",
   "execution_count": 344,
   "id": "aa46053d-a434-4736-8647-d114ddfc5198",
   "metadata": {},
   "outputs": [],
   "source": [
    "# for reshape you need to have same size both in original and in reshaped one"
   ]
  },
  {
   "cell_type": "code",
   "execution_count": 345,
   "id": "59025d31-db62-49a8-8af6-0d3b2eabec79",
   "metadata": {},
   "outputs": [],
   "source": [
    "# size=product(shape)"
   ]
  },
  {
   "cell_type": "code",
   "execution_count": 346,
   "id": "a1b0dfa3-2293-42e8-955d-044cc1f08ad1",
   "metadata": {},
   "outputs": [],
   "source": [
    "# cancatination of an array\n",
    "\n",
    "arr1=np.random.randint(1,10,(2,3))\n",
    "arr2=np.random.randint(1,10,(2,3))"
   ]
  },
  {
   "cell_type": "code",
   "execution_count": 350,
   "id": "61d84c19-b387-486c-9cb6-fbe018a3e70b",
   "metadata": {},
   "outputs": [
    {
     "name": "stdout",
     "output_type": "stream",
     "text": [
      "[[2 6 9]\n",
      " [7 4 4]]\n"
     ]
    }
   ],
   "source": [
    "print(arr1)"
   ]
  },
  {
   "cell_type": "code",
   "execution_count": 351,
   "id": "bdfa4180-f901-43b0-aae1-c8c9f2449248",
   "metadata": {},
   "outputs": [
    {
     "name": "stdout",
     "output_type": "stream",
     "text": [
      "[[8 7 9]\n",
      " [7 2 2]]\n"
     ]
    }
   ],
   "source": [
    "print(arr2)"
   ]
  },
  {
   "cell_type": "code",
   "execution_count": 349,
   "id": "6f341988-e76a-447c-b1a5-b88f10735f56",
   "metadata": {},
   "outputs": [
    {
     "name": "stdout",
     "output_type": "stream",
     "text": [
      "[[2 6 9]\n",
      " [7 4 4]\n",
      " [8 7 9]\n",
      " [7 2 2]]\n"
     ]
    }
   ],
   "source": [
    "print(np.concatenate([arr1,arr2]))"
   ]
  },
  {
   "cell_type": "code",
   "execution_count": 353,
   "id": "49738b8d-fcbd-45a1-9a4a-183144aea6c9",
   "metadata": {},
   "outputs": [
    {
     "name": "stdout",
     "output_type": "stream",
     "text": [
      "[[2 6 9 8 7 9]\n",
      " [7 4 4 7 2 2]]\n"
     ]
    }
   ],
   "source": [
    "print(np.concatenate([arr1,arr2],axis=1))"
   ]
  },
  {
   "cell_type": "code",
   "execution_count": 354,
   "id": "3c86d5e4-f9e3-4e55-a81b-6e84e3cfcd9f",
   "metadata": {},
   "outputs": [],
   "source": [
    "# splitting of an array"
   ]
  },
  {
   "cell_type": "code",
   "execution_count": 357,
   "id": "46331360-ea3a-4d67-b6a4-96ba7803e6a9",
   "metadata": {},
   "outputs": [],
   "source": [
    "arr1=np.random.randint(1,10,(8,))"
   ]
  },
  {
   "cell_type": "code",
   "execution_count": 358,
   "id": "c86c1a65-d376-4c1f-bb0c-d1234d8681e5",
   "metadata": {},
   "outputs": [
    {
     "name": "stdout",
     "output_type": "stream",
     "text": [
      "[7 3 1 2 3 1 6 8]\n"
     ]
    }
   ],
   "source": [
    "print(arr1)"
   ]
  },
  {
   "cell_type": "code",
   "execution_count": 368,
   "id": "040f8da3-dcb4-438d-8148-ed9ecd960205",
   "metadata": {},
   "outputs": [
    {
     "ename": "TypeError",
     "evalue": "split() missing 1 required positional argument: 'indices_or_sections'",
     "output_type": "error",
     "traceback": [
      "\u001b[1;31m---------------------------------------------------------------------------\u001b[0m",
      "\u001b[1;31mTypeError\u001b[0m                                 Traceback (most recent call last)",
      "Cell \u001b[1;32mIn[368], line 1\u001b[0m\n\u001b[1;32m----> 1\u001b[0m np\u001b[38;5;241m.\u001b[39msplit(\u001b[38;5;241m3\u001b[39m)\n",
      "\u001b[1;31mTypeError\u001b[0m: split() missing 1 required positional argument: 'indices_or_sections'"
     ]
    }
   ],
   "source": [
    "np.split(3)\n",
    "# here np.split only for equally splitting array with number"
   ]
  },
  {
   "cell_type": "code",
   "execution_count": 360,
   "id": "d330698c-a670-43c9-b921-0698d42df4cd",
   "metadata": {},
   "outputs": [
    {
     "data": {
      "text/plain": [
       "[array([7, 3]), array([1, 2]), array([3, 1]), array([6, 8])]"
      ]
     },
     "execution_count": 360,
     "metadata": {},
     "output_type": "execute_result"
    }
   ],
   "source": [
    "np.split(arr1,4)"
   ]
  },
  {
   "cell_type": "code",
   "execution_count": 359,
   "id": "c0eed132-6d10-4b90-92db-4a3c4315e619",
   "metadata": {},
   "outputs": [],
   "source": [
    "# for unequal splits"
   ]
  },
  {
   "cell_type": "code",
   "execution_count": 361,
   "id": "ef57aca1-0267-48ae-ab9e-c0857ac2b5eb",
   "metadata": {},
   "outputs": [],
   "source": [
    "a,b,c=np.array_split(arr1,3)"
   ]
  },
  {
   "cell_type": "code",
   "execution_count": 363,
   "id": "9d372d05-fc10-4470-8d1d-e5aaf5cab235",
   "metadata": {},
   "outputs": [
    {
     "name": "stdout",
     "output_type": "stream",
     "text": [
      "[7 3 1 2 3 1 6 8]\n"
     ]
    }
   ],
   "source": [
    "print(arr1)"
   ]
  },
  {
   "cell_type": "code",
   "execution_count": 362,
   "id": "0d32442b-b705-4894-b7aa-f680bbb16e85",
   "metadata": {},
   "outputs": [
    {
     "name": "stdout",
     "output_type": "stream",
     "text": [
      "[7 3 1]\n"
     ]
    }
   ],
   "source": [
    "print(a)"
   ]
  },
  {
   "cell_type": "code",
   "execution_count": 364,
   "id": "5b34ecac-0e53-4044-ba73-bf17376e6832",
   "metadata": {},
   "outputs": [
    {
     "name": "stdout",
     "output_type": "stream",
     "text": [
      "[2 3 1]\n"
     ]
    }
   ],
   "source": [
    "print(b)"
   ]
  },
  {
   "cell_type": "code",
   "execution_count": 365,
   "id": "ac477426-0707-4f64-b1d7-880ad7e3a95c",
   "metadata": {},
   "outputs": [
    {
     "name": "stdout",
     "output_type": "stream",
     "text": [
      "[6 8]\n"
     ]
    }
   ],
   "source": [
    "print(c)"
   ]
  },
  {
   "cell_type": "code",
   "execution_count": null,
   "id": "e7498d85-5b59-412a-9ed6-7ddb0650a67e",
   "metadata": {},
   "outputs": [],
   "source": []
  },
  {
   "cell_type": "code",
   "execution_count": null,
   "id": "14dc4e8a-11dc-4b97-805c-d8a7bb13d037",
   "metadata": {},
   "outputs": [],
   "source": []
  }
 ],
 "metadata": {
  "kernelspec": {
   "display_name": "Python 3 (ipykernel)",
   "language": "python",
   "name": "python3"
  },
  "language_info": {
   "codemirror_mode": {
    "name": "ipython",
    "version": 3
   },
   "file_extension": ".py",
   "mimetype": "text/x-python",
   "name": "python",
   "nbconvert_exporter": "python",
   "pygments_lexer": "ipython3",
   "version": "3.12.4"
  }
 },
 "nbformat": 4,
 "nbformat_minor": 5
}
