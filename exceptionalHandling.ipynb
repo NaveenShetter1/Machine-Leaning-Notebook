{
 "cells": [
  {
   "cell_type": "code",
   "execution_count": 5,
   "id": "53685723-bd1b-4fc7-8793-3d887089d21d",
   "metadata": {},
   "outputs": [
    {
     "name": "stdin",
     "output_type": "stream",
     "text": [
      "Enter number 1\n",
      "Enter number 0\n"
     ]
    },
    {
     "ename": "ZeroDivisionError",
     "evalue": "division by zero",
     "output_type": "error",
     "traceback": [
      "\u001b[1;31m---------------------------------------------------------------------------\u001b[0m",
      "\u001b[1;31mZeroDivisionError\u001b[0m                         Traceback (most recent call last)",
      "Cell \u001b[1;32mIn[5], line 6\u001b[0m\n\u001b[0;32m      3\u001b[0m num1\u001b[38;5;241m=\u001b[39m\u001b[38;5;28meval\u001b[39m(\u001b[38;5;28minput\u001b[39m(\u001b[38;5;124m'\u001b[39m\u001b[38;5;124mEnter number\u001b[39m\u001b[38;5;124m'\u001b[39m))\n\u001b[0;32m      4\u001b[0m num2\u001b[38;5;241m=\u001b[39m\u001b[38;5;28meval\u001b[39m(\u001b[38;5;28minput\u001b[39m(\u001b[38;5;124m'\u001b[39m\u001b[38;5;124mEnter number\u001b[39m\u001b[38;5;124m'\u001b[39m))\n\u001b[1;32m----> 6\u001b[0m res\u001b[38;5;241m=\u001b[39mnum1\u001b[38;5;241m/\u001b[39mnum2\n\u001b[0;32m      7\u001b[0m \u001b[38;5;28mprint\u001b[39m(res)\n",
      "\u001b[1;31mZeroDivisionError\u001b[0m: division by zero"
     ]
    }
   ],
   "source": [
    "#exception handling-- to handle runtime error in python\n",
    "\n",
    "num1=eval(input('Enter number'))\n",
    "num2=eval(input('Enter number'))\n",
    "\n",
    "res=num1/num2\n",
    "print(res)"
   ]
  },
  {
   "cell_type": "code",
   "execution_count": 7,
   "id": "deda121b-25b7-40cd-8292-ddd188ab9250",
   "metadata": {},
   "outputs": [],
   "source": [
    "#above we got zero division error, to give user the correct info to enter we use exception here"
   ]
  },
  {
   "cell_type": "code",
   "execution_count": 13,
   "id": "a9951e4d-09a6-4d8b-ae83-8a020210e0ce",
   "metadata": {},
   "outputs": [
    {
     "name": "stdin",
     "output_type": "stream",
     "text": [
      "Enter numerator number 1\n",
      "Enter denominator number 0\n"
     ]
    },
    {
     "name": "stdout",
     "output_type": "stream",
     "text": [
      "Enter correct data\n"
     ]
    }
   ],
   "source": [
    "#exception handling-- to handle runtime error in python\n",
    "\n",
    "num1=eval(input('Enter numerator number'))\n",
    "num2=eval(input('Enter denominator number'))\n",
    "\n",
    "try:\n",
    "    res=num1/num2\n",
    "    print(res)\n",
    "except Exception:\n",
    "    print('Enter correct data')"
   ]
  },
  {
   "cell_type": "code",
   "execution_count": 14,
   "id": "b59a2260-ae13-4d02-b21d-ae831bb76b72",
   "metadata": {},
   "outputs": [
    {
     "name": "stdin",
     "output_type": "stream",
     "text": [
      "Enter numerator number 1\n",
      "Enter denominator number 0\n"
     ]
    },
    {
     "name": "stdout",
     "output_type": "stream",
     "text": [
      "Denominator should not be zero\n"
     ]
    }
   ],
   "source": [
    "#exception handling-- to handle runtime error in python\n",
    "\n",
    "num1=eval(input('Enter numerator number'))\n",
    "num2=eval(input('Enter denominator number'))\n",
    "\n",
    "try:\n",
    "    res=num1/num2\n",
    "    print(res)\n",
    "except ZeroDivisionError:\n",
    "    print('Denominator should not be zero')"
   ]
  },
  {
   "cell_type": "code",
   "execution_count": 27,
   "id": "8fbdf846-8aae-4737-9ee9-75b61e151d2f",
   "metadata": {},
   "outputs": [
    {
     "name": "stdin",
     "output_type": "stream",
     "text": [
      "Enter numerator number 1\n",
      "Enter denominator number f\n"
     ]
    },
    {
     "name": "stdout",
     "output_type": "stream",
     "text": [
      "Enter data\n"
     ]
    }
   ],
   "source": [
    "#exception handling-- to give multiple error exception\n",
    "\n",
    "num1=input('Enter numerator number')\n",
    "num2=input('Enter denominator number')\n",
    "\n",
    "try:\n",
    "    res=num1/num2\n",
    "    print(res)\n",
    "except ZeroDivisionError:\n",
    "    print('Denominator should not be zero')\n",
    "except Exception:\n",
    "    print('Enter data')"
   ]
  },
  {
   "cell_type": "code",
   "execution_count": 32,
   "id": "7bf82509-a4dc-41c6-b752-9281372b9e37",
   "metadata": {},
   "outputs": [
    {
     "name": "stdin",
     "output_type": "stream",
     "text": [
      "Enter numerator number 1\n",
      "Enter denominator number d\n"
     ]
    },
    {
     "name": "stdout",
     "output_type": "stream",
     "text": [
      "enter correct name\n"
     ]
    }
   ],
   "source": [
    "#exception handling-- to give multiple error exception\n",
    "\n",
    "num1=input('Enter numerator number')\n",
    "num2=input('Enter denominator number')\n",
    "\n",
    "try:\n",
    "    res=num1/num2\n",
    "    print(res)\n",
    "\n",
    "except NameError:\n",
    "    print('Enter data')\n",
    "except TypeError:\n",
    "    print('enter correct name')\n",
    "except (ZeroDivisionError):\n",
    "    print('Denominator should not be zero')\n"
   ]
  },
  {
   "cell_type": "code",
   "execution_count": null,
   "id": "914d17e9-85d4-4bc2-b224-25027698511a",
   "metadata": {},
   "outputs": [],
   "source": []
  },
  {
   "cell_type": "code",
   "execution_count": null,
   "id": "3ba5a21b-46ef-44df-9813-b1ec6acff34f",
   "metadata": {},
   "outputs": [],
   "source": []
  },
  {
   "cell_type": "code",
   "execution_count": 34,
   "id": "47d95d52-c78d-4de0-818e-2fd8d4f62b17",
   "metadata": {},
   "outputs": [
    {
     "name": "stdout",
     "output_type": "stream",
     "text": [
      "NameError: The variable 'my_variable' is not defined.\n"
     ]
    }
   ],
   "source": [
    "try:\n",
    "    # Attempt to use a variable that might not be defined\n",
    "    print(my_variable)\n",
    "except NameError:\n",
    "    # Handle the error\n",
    "    print(\"NameError: The variable 'my_variable' is not defined.\")\n"
   ]
  },
  {
   "cell_type": "code",
   "execution_count": null,
   "id": "8a0f1b49-962a-4d32-84ea-08a028aa9813",
   "metadata": {},
   "outputs": [],
   "source": []
  }
 ],
 "metadata": {
  "kernelspec": {
   "display_name": "Python 3 (ipykernel)",
   "language": "python",
   "name": "python3"
  },
  "language_info": {
   "codemirror_mode": {
    "name": "ipython",
    "version": 3
   },
   "file_extension": ".py",
   "mimetype": "text/x-python",
   "name": "python",
   "nbconvert_exporter": "python",
   "pygments_lexer": "ipython3",
   "version": "3.12.4"
  }
 },
 "nbformat": 4,
 "nbformat_minor": 5
}
