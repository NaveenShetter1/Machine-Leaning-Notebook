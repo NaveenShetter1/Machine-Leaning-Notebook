{
  "nbformat": 4,
  "nbformat_minor": 0,
  "metadata": {
    "colab": {
      "provenance": []
    },
    "kernelspec": {
      "name": "python3",
      "display_name": "Python 3"
    },
    "language_info": {
      "name": "python"
    }
  },
  "cells": [
    {
      "cell_type": "markdown",
      "source": [
        "lambda arguments: expression,         \n",
        "\n",
        "use of lambda function in pyhton\n",
        "lambda functions are a concise way to write anonymous functions (functions without a name).\n",
        " They are useful when you need a simple function for a short period of time, usually in the context\n",
        " of functions like map(), filter(), sorted(), etc., where you don't want to define a full function using def. '''\n",
        "\n",
        "\n"
      ],
      "metadata": {
        "id": "pr1vyd3GQnS6"
      }
    },
    {
      "cell_type": "code",
      "source": [
        "add_ten = lambda x: x + 10\n",
        "print(add_ten(5))  # Output: 15\n"
      ],
      "metadata": {
        "colab": {
          "base_uri": "https://localhost:8080/"
        },
        "id": "PE8aUxV0QYeV",
        "outputId": "21d17cd7-353e-4834-803a-8cd0e436292d"
      },
      "execution_count": 2,
      "outputs": [
        {
          "output_type": "stream",
          "name": "stdout",
          "text": [
            "15\n"
          ]
        }
      ]
    },
    {
      "cell_type": "code",
      "execution_count": 3,
      "metadata": {
        "colab": {
          "base_uri": "https://localhost:8080/"
        },
        "id": "QfIpCennQGMW",
        "outputId": "c25c51e5-24cd-4564-9792-133b4127506f"
      },
      "outputs": [
        {
          "output_type": "stream",
          "name": "stdout",
          "text": [
            "30\n"
          ]
        }
      ],
      "source": [
        "add_twenty=lambda x:x+20\n",
        "print(add_twenty(10))"
      ]
    },
    {
      "cell_type": "code",
      "source": [
        "mul_ten=lambda x:x*10\n",
        "print(mul_ten(10))"
      ],
      "metadata": {
        "colab": {
          "base_uri": "https://localhost:8080/"
        },
        "id": "n3R3e0nPQ1sc",
        "outputId": "18e8244d-6a95-4473-a706-dfb5d39e2b8c"
      },
      "execution_count": 4,
      "outputs": [
        {
          "output_type": "stream",
          "name": "stdout",
          "text": [
            "100\n"
          ]
        }
      ]
    },
    {
      "cell_type": "code",
      "source": [
        "multiply=lambda x, y: x+y\n",
        "print(multiply(10,20))"
      ],
      "metadata": {
        "colab": {
          "base_uri": "https://localhost:8080/"
        },
        "id": "UcEWDHpPRl8N",
        "outputId": "ce7e3c1f-aa1b-453b-d578-f72ca150367e"
      },
      "execution_count": 6,
      "outputs": [
        {
          "output_type": "stream",
          "name": "stdout",
          "text": [
            "30\n"
          ]
        }
      ]
    },
    {
      "cell_type": "code",
      "source": [
        "# Using Lambda with map(), filter(), and sorted()"
      ],
      "metadata": {
        "id": "oBVqpVMVRqTN"
      },
      "execution_count": 7,
      "outputs": []
    },
    {
      "cell_type": "code",
      "source": [
        "# map() applies a function to every item in an iterable (like a list). Here's an example where we square each number in a list using lambda:"
      ],
      "metadata": {
        "id": "Hgc3BIlaSAmY"
      },
      "execution_count": 8,
      "outputs": []
    },
    {
      "cell_type": "code",
      "source": [
        "numbers=[1,2,3,4]\n",
        "\n",
        "square_num=map(lambda x:x**2, numbers)\n",
        "print(list(square_num))"
      ],
      "metadata": {
        "colab": {
          "base_uri": "https://localhost:8080/"
        },
        "id": "Q4WaNcwISI-Q",
        "outputId": "e08b7aa4-b4ce-4b06-e2a4-8164ae3a4532"
      },
      "execution_count": 9,
      "outputs": [
        {
          "output_type": "stream",
          "name": "stdout",
          "text": [
            "[1, 4, 9, 16]\n"
          ]
        }
      ]
    },
    {
      "cell_type": "code",
      "source": [
        "# Using Lambda with filter()"
      ],
      "metadata": {
        "id": "ChxreepdSgaO"
      },
      "execution_count": 10,
      "outputs": []
    },
    {
      "cell_type": "code",
      "source": [
        "# filter() filters elements in an iterable based on a condition. Here's an example where we filter out even numbers from a list:"
      ],
      "metadata": {
        "id": "sfmHFnKESkTm"
      },
      "execution_count": 11,
      "outputs": []
    },
    {
      "cell_type": "code",
      "source": [
        "number=[1,2,3,4,5,6,7]\n",
        "even_num=filter(lambda x: x%2==0,number)\n",
        "print(list(even_num))"
      ],
      "metadata": {
        "colab": {
          "base_uri": "https://localhost:8080/"
        },
        "id": "7-wNGMSwSrXX",
        "outputId": "35b339fc-d449-4ae0-9965-31a653f7d0e7"
      },
      "execution_count": 16,
      "outputs": [
        {
          "output_type": "stream",
          "name": "stdout",
          "text": [
            "[2, 4, 6]\n"
          ]
        }
      ]
    },
    {
      "cell_type": "code",
      "source": [
        "number=[1,2,3,4,5,6,7]\n",
        "even_num=map(lambda x: x%2==0,number)\n",
        "print(list(even_num))"
      ],
      "metadata": {
        "colab": {
          "base_uri": "https://localhost:8080/"
        },
        "id": "BPt7FXWuS_sX",
        "outputId": "2849ac0d-503e-4277-d8b2-d14bc1671353"
      },
      "execution_count": 17,
      "outputs": [
        {
          "output_type": "stream",
          "name": "stdout",
          "text": [
            "[False, True, False, True, False, True, False]\n"
          ]
        }
      ]
    }
  ]
}