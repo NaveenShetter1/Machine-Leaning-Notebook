{
 "cells": [
  {
   "cell_type": "code",
   "execution_count": 1,
   "id": "d3e3677f-a76d-4124-9df6-494c2e7d266c",
   "metadata": {},
   "outputs": [],
   "source": [
    "#File handling has 3 modes\n",
    "\n",
    "#modes \n",
    "\n",
    "#write deletes all old data of the file and writes\n",
    "#x--if old file exists it will give an error, it is only for new files\n",
    "#a--appends to existing data\n"
   ]
  },
  {
   "cell_type": "code",
   "execution_count": 2,
   "id": "bcd35495-999e-4c34-8b65-1a3126678ed6",
   "metadata": {},
   "outputs": [],
   "source": [
    "\n",
    "fh=open('new.txt','wt')\n",
    "fh.write(\"Naveen shetter\")\n",
    "fh.close()"
   ]
  },
  {
   "cell_type": "code",
   "execution_count": 4,
   "id": "d47919e4-3d3e-4aa1-a678-a671b35d3c41",
   "metadata": {},
   "outputs": [
    {
     "ename": "FileExistsError",
     "evalue": "[Errno 17] File exists: 'new.txt'",
     "output_type": "error",
     "traceback": [
      "\u001b[1;31m---------------------------------------------------------------------------\u001b[0m",
      "\u001b[1;31mFileExistsError\u001b[0m                           Traceback (most recent call last)",
      "Cell \u001b[1;32mIn[4], line 3\u001b[0m\n\u001b[0;32m      1\u001b[0m \u001b[38;5;66;03m#X mode-- creates a new file and writes if old file is there than gives an error.\u001b[39;00m\n\u001b[1;32m----> 3\u001b[0m fh\u001b[38;5;241m=\u001b[39m\u001b[38;5;28mopen\u001b[39m(\u001b[38;5;124m'\u001b[39m\u001b[38;5;124mnew.txt\u001b[39m\u001b[38;5;124m'\u001b[39m,\u001b[38;5;124m'\u001b[39m\u001b[38;5;124mxt\u001b[39m\u001b[38;5;124m'\u001b[39m)\n\u001b[0;32m      4\u001b[0m fh\u001b[38;5;241m.\u001b[39mwrite(\u001b[38;5;124m'\u001b[39m\u001b[38;5;124mNaveen Shetter\u001b[39m\u001b[38;5;124m'\u001b[39m)\n\u001b[0;32m      5\u001b[0m fh\u001b[38;5;241m.\u001b[39mclose()\n",
      "File \u001b[1;32mC:\\ProgramData\\anaconda3\\Lib\\site-packages\\IPython\\core\\interactiveshell.py:324\u001b[0m, in \u001b[0;36m_modified_open\u001b[1;34m(file, *args, **kwargs)\u001b[0m\n\u001b[0;32m    317\u001b[0m \u001b[38;5;28;01mif\u001b[39;00m file \u001b[38;5;129;01min\u001b[39;00m {\u001b[38;5;241m0\u001b[39m, \u001b[38;5;241m1\u001b[39m, \u001b[38;5;241m2\u001b[39m}:\n\u001b[0;32m    318\u001b[0m     \u001b[38;5;28;01mraise\u001b[39;00m \u001b[38;5;167;01mValueError\u001b[39;00m(\n\u001b[0;32m    319\u001b[0m         \u001b[38;5;124mf\u001b[39m\u001b[38;5;124m\"\u001b[39m\u001b[38;5;124mIPython won\u001b[39m\u001b[38;5;124m'\u001b[39m\u001b[38;5;124mt let you open fd=\u001b[39m\u001b[38;5;132;01m{\u001b[39;00mfile\u001b[38;5;132;01m}\u001b[39;00m\u001b[38;5;124m by default \u001b[39m\u001b[38;5;124m\"\u001b[39m\n\u001b[0;32m    320\u001b[0m         \u001b[38;5;124m\"\u001b[39m\u001b[38;5;124mas it is likely to crash IPython. If you know what you are doing, \u001b[39m\u001b[38;5;124m\"\u001b[39m\n\u001b[0;32m    321\u001b[0m         \u001b[38;5;124m\"\u001b[39m\u001b[38;5;124myou can use builtins\u001b[39m\u001b[38;5;124m'\u001b[39m\u001b[38;5;124m open.\u001b[39m\u001b[38;5;124m\"\u001b[39m\n\u001b[0;32m    322\u001b[0m     )\n\u001b[1;32m--> 324\u001b[0m \u001b[38;5;28;01mreturn\u001b[39;00m io_open(file, \u001b[38;5;241m*\u001b[39margs, \u001b[38;5;241m*\u001b[39m\u001b[38;5;241m*\u001b[39mkwargs)\n",
      "\u001b[1;31mFileExistsError\u001b[0m: [Errno 17] File exists: 'new.txt'"
     ]
    }
   ],
   "source": [
    "\n",
    "\n",
    "#X mode-- creates a new file and writes if old file is there than gives an error.\n",
    "\n",
    "fh=open('new.txt','xt')\n",
    "fh.write('Naveen Shetter')\n",
    "fh.close()"
   ]
  },
  {
   "cell_type": "code",
   "execution_count": 7,
   "id": "4dd7fb8c-eb13-4665-9aa6-db6ca2bb94b3",
   "metadata": {},
   "outputs": [],
   "source": [
    "#append-- adds data to file, if no file is present creates one and adds"
   ]
  },
  {
   "cell_type": "code",
   "execution_count": 38,
   "id": "af12c389-58eb-4275-9335-8308859b6cb4",
   "metadata": {},
   "outputs": [],
   "source": [
    "fh=open('new.txt','wt')\n",
    "fh.write('Naveen, \\n Is a good boy')\n",
    "fh.close()"
   ]
  },
  {
   "cell_type": "code",
   "execution_count": 39,
   "id": "de0f96da-ccd0-46fc-abc0-28684991ea2d",
   "metadata": {},
   "outputs": [],
   "source": [
    "# for reading"
   ]
  },
  {
   "cell_type": "code",
   "execution_count": 40,
   "id": "ea09188f-0c51-4e9b-bdd6-b1f86079192a",
   "metadata": {},
   "outputs": [
    {
     "name": "stdout",
     "output_type": "stream",
     "text": [
      "Naveen, \n",
      "\n"
     ]
    }
   ],
   "source": [
    "fh=open('new.txt','rt')\n",
    "con=fh.readline()\n",
    "fh.close()\n",
    "\n",
    "print(con)"
   ]
  },
  {
   "cell_type": "code",
   "execution_count": 41,
   "id": "b0f70255-c3d0-4c40-9107-babca6690d86",
   "metadata": {},
   "outputs": [
    {
     "name": "stdout",
     "output_type": "stream",
     "text": [
      "Naveen, \n",
      " Is a good boy\n"
     ]
    }
   ],
   "source": [
    "fh=open('new.txt','rt')\n",
    "con=fh.read()\n",
    "fh.close()\n",
    "\n",
    "print(con)"
   ]
  },
  {
   "cell_type": "code",
   "execution_count": 42,
   "id": "33e1235e-02e4-4b96-bf20-95efae075d53",
   "metadata": {},
   "outputs": [
    {
     "name": "stdout",
     "output_type": "stream",
     "text": [
      "Naveen, \n",
      " \n"
     ]
    }
   ],
   "source": [
    "fh=open('new.txt','rt')\n",
    "con=fh.read(10)\n",
    "fh.close()\n",
    "\n",
    "print(con)"
   ]
  },
  {
   "cell_type": "code",
   "execution_count": 13,
   "id": "a8e1f7eb-024a-436e-a643-0d306c61261e",
   "metadata": {},
   "outputs": [],
   "source": [
    "# classification of files in python"
   ]
  },
  {
   "cell_type": "code",
   "execution_count": 15,
   "id": "d461bfaa-e706-416b-846a-bd1464cdb648",
   "metadata": {},
   "outputs": [],
   "source": [
    "# text files, .txt,.py\n",
    "# binary files- images, vedios, audios\n",
    "\n",
    "#file_handler=open('filename','mode')\n",
    "# read-- fh.read()\n",
    "\n",
    "#write-- fh.write()"
   ]
  },
  {
   "cell_type": "code",
   "execution_count": 16,
   "id": "4e9b43ec-9765-440d-9269-f36d26cba5fc",
   "metadata": {},
   "outputs": [],
   "source": [
    "# X mode gives error if file already exists\n",
    "#a and w mode creates file if no file exists"
   ]
  },
  {
   "cell_type": "code",
   "execution_count": 24,
   "id": "1873ffa1-c822-4d24-a18b-c46dd384d631",
   "metadata": {},
   "outputs": [],
   "source": [
    "fh=open('im','wb')\n",
    "fh.write(b'\\x12hellow')\n",
    "fh.close()\n"
   ]
  },
  {
   "cell_type": "code",
   "execution_count": 25,
   "id": "619f5874-9f5b-4190-9af6-fc8ac6020da1",
   "metadata": {},
   "outputs": [
    {
     "name": "stdout",
     "output_type": "stream",
     "text": [
      "\u0012hellow\n"
     ]
    }
   ],
   "source": [
    "fh=open('im','rt')\n",
    "con=fh.read(10)\n",
    "fh.close()\n",
    "\n",
    "print(con)"
   ]
  },
  {
   "cell_type": "code",
   "execution_count": 26,
   "id": "a98e5b1e-b493-48f5-bca1-61d04f03882f",
   "metadata": {},
   "outputs": [
    {
     "name": "stdout",
     "output_type": "stream",
     "text": [
      "b'\\x12hellow'\n"
     ]
    }
   ],
   "source": [
    "fh=open('im','rb')\n",
    "con=fh.read(10)\n",
    "fh.close()\n",
    "\n",
    "print(con)"
   ]
  },
  {
   "cell_type": "code",
   "execution_count": 27,
   "id": "7811f36d-4ae7-45c3-80ab-bb3ce8f812f9",
   "metadata": {},
   "outputs": [],
   "source": [
    "# readline"
   ]
  },
  {
   "cell_type": "code",
   "execution_count": 43,
   "id": "35455aca-de07-48dc-8733-0048c326bba0",
   "metadata": {},
   "outputs": [],
   "source": [
    "fh=open('new.txt','at')\n",
    "fh.write('\\n they should do')\n",
    "fh.close()"
   ]
  },
  {
   "cell_type": "code",
   "execution_count": 45,
   "id": "e3596a81-6ff9-419a-8bcc-042bbbfb0724",
   "metadata": {},
   "outputs": [
    {
     "name": "stdout",
     "output_type": "stream",
     "text": [
      "['Naveen, \\n', ' Is a good boy\\n', ' they should do']\n",
      "Naveen, \n",
      "\n",
      " Is a good boy\n",
      "\n",
      " they should do\n"
     ]
    }
   ],
   "source": [
    "fh=open('new.txt','rt')\n",
    "con=fh.readlines()\n",
    "fh.close()\n",
    "\n",
    "print(con)\n",
    "\n",
    "for line in con:\n",
    "    print(line)"
   ]
  },
  {
   "cell_type": "code",
   "execution_count": 33,
   "id": "b6ed6c6b-4c29-4365-b6e1-83f4138a212b",
   "metadata": {},
   "outputs": [],
   "source": []
  },
  {
   "cell_type": "code",
   "execution_count": 46,
   "id": "8d5c7d86-d045-4361-9b21-39ebb34e9296",
   "metadata": {},
   "outputs": [],
   "source": [
    "fh=open('new.txt','rt')\n",
    "con=fh.readlines()\n",
    "fh.close()"
   ]
  },
  {
   "cell_type": "code",
   "execution_count": 47,
   "id": "eb325cdd-746f-42f1-95a8-248dcbb36e62",
   "metadata": {},
   "outputs": [
    {
     "name": "stdout",
     "output_type": "stream",
     "text": [
      "['Naveen, \\n', ' Is a good boy\\n', ' they should do']\n"
     ]
    }
   ],
   "source": [
    "print(con)"
   ]
  },
  {
   "cell_type": "code",
   "execution_count": 48,
   "id": "37b934f8-210c-4e41-92a8-1b33e340e5f9",
   "metadata": {},
   "outputs": [
    {
     "name": "stdout",
     "output_type": "stream",
     "text": [
      "Naveen, \n",
      "\n",
      " Is a good boy\n",
      "\n",
      " they should do\n"
     ]
    }
   ],
   "source": [
    "for line in con:\n",
    "    print(line)"
   ]
  },
  {
   "cell_type": "code",
   "execution_count": 50,
   "id": "75f7fd3a-18d0-4614-8aa0-f9ea3d3bf379",
   "metadata": {},
   "outputs": [
    {
     "name": "stdout",
     "output_type": "stream",
     "text": [
      "Naveen, \n",
      " Is a good boy\n",
      " they should do\n"
     ]
    }
   ],
   "source": [
    "for line in con:\n",
    "    print(line.strip('\\n'))"
   ]
  },
  {
   "cell_type": "code",
   "execution_count": 54,
   "id": "edef170e-3b1a-45a1-9617-986191ffac69",
   "metadata": {},
   "outputs": [],
   "source": [
    "#write will remove all the previous data and writes it\n",
    "\n",
    "fh=open('im','wb')\n",
    "fh.write(b'Hi Naveen')\n",
    "fh.close()"
   ]
  },
  {
   "cell_type": "code",
   "execution_count": 55,
   "id": "396f9572-99c9-4ac1-b536-5b05c27e8db4",
   "metadata": {},
   "outputs": [
    {
     "name": "stdout",
     "output_type": "stream",
     "text": [
      "Hi Naveen\n"
     ]
    }
   ],
   "source": [
    "fh=open('im','rt')\n",
    "con=fh.read()\n",
    "fh.close()\n",
    "\n",
    "print(con)"
   ]
  },
  {
   "cell_type": "code",
   "execution_count": 57,
   "id": "f625ebae-5dbc-4713-8d70-d0bb8fbb4e09",
   "metadata": {},
   "outputs": [],
   "source": [
    "fh=open(\"fig6.bin\",'wb')\n",
    "fh.write(b'\\x12hellow')\n",
    "fh.close()"
   ]
  },
  {
   "cell_type": "code",
   "execution_count": 58,
   "id": "9a74398c-4462-43b3-8bd9-be5eb373609f",
   "metadata": {},
   "outputs": [
    {
     "name": "stdout",
     "output_type": "stream",
     "text": [
      "b'\\x12hellow'\n"
     ]
    }
   ],
   "source": [
    "fh=open('fig6.bin','rb')\n",
    "con=fh.read()\n",
    "fh.close()\n",
    "\n",
    "print(con)"
   ]
  },
  {
   "cell_type": "code",
   "execution_count": 59,
   "id": "05091276-2a90-406b-9274-9c0f9119d5be",
   "metadata": {},
   "outputs": [],
   "source": [
    "# if we use with open no need to explicitely mention the close"
   ]
  },
  {
   "cell_type": "code",
   "execution_count": 60,
   "id": "7c89216b-8f4d-42db-9f61-07ffa8618fb2",
   "metadata": {},
   "outputs": [
    {
     "name": "stdout",
     "output_type": "stream",
     "text": [
      "b'\\x12hellow'\n"
     ]
    }
   ],
   "source": [
    "with open('fig6.bin','rb') as fh:\n",
    "    print(fh.read())"
   ]
  },
  {
   "cell_type": "code",
   "execution_count": 61,
   "id": "70e01e82-f85a-472f-9804-a4c9ff289e80",
   "metadata": {},
   "outputs": [],
   "source": [
    "#pickle will help us to store structured data into binary file"
   ]
  },
  {
   "cell_type": "code",
   "execution_count": 62,
   "id": "fa53e709-b113-4d92-b3ff-5f9637a46da8",
   "metadata": {},
   "outputs": [],
   "source": [
    "student_1={'id':101,'name':'john'}\n",
    "student_2={'id':201,'class':'b'}"
   ]
  },
  {
   "cell_type": "code",
   "execution_count": 63,
   "id": "159197fa-1d9d-4cda-9fc4-7a82746ce5f4",
   "metadata": {},
   "outputs": [
    {
     "data": {
      "text/plain": [
       "dict"
      ]
     },
     "execution_count": 63,
     "metadata": {},
     "output_type": "execute_result"
    }
   ],
   "source": [
    "type(student_1)"
   ]
  },
  {
   "cell_type": "code",
   "execution_count": 64,
   "id": "e8a7974f-2a0a-4312-9788-88d007f7793a",
   "metadata": {},
   "outputs": [
    {
     "ename": "TypeError",
     "evalue": "write() argument must be str, not dict",
     "output_type": "error",
     "traceback": [
      "\u001b[1;31m---------------------------------------------------------------------------\u001b[0m",
      "\u001b[1;31mTypeError\u001b[0m                                 Traceback (most recent call last)",
      "Cell \u001b[1;32mIn[64], line 2\u001b[0m\n\u001b[0;32m      1\u001b[0m \u001b[38;5;28;01mwith\u001b[39;00m \u001b[38;5;28mopen\u001b[39m(\u001b[38;5;124m'\u001b[39m\u001b[38;5;124mstudent_info\u001b[39m\u001b[38;5;124m'\u001b[39m,\u001b[38;5;124m'\u001b[39m\u001b[38;5;124mxt\u001b[39m\u001b[38;5;124m'\u001b[39m) \u001b[38;5;28;01mas\u001b[39;00m fh:\n\u001b[1;32m----> 2\u001b[0m     fh\u001b[38;5;241m.\u001b[39mwrite(student_1)\n",
      "\u001b[1;31mTypeError\u001b[0m: write() argument must be str, not dict"
     ]
    }
   ],
   "source": [
    "with open('student_info','xt') as fh:\n",
    "    fh.write(student_1)"
   ]
  },
  {
   "cell_type": "code",
   "execution_count": 65,
   "id": "ca1d7fd0-54c3-407a-8b3e-e415f965765f",
   "metadata": {},
   "outputs": [],
   "source": [
    "# but above code you can store it via type conversion"
   ]
  },
  {
   "cell_type": "code",
   "execution_count": 66,
   "id": "baad24fa-e02d-4bb5-b7e2-c0571b5ceb9a",
   "metadata": {},
   "outputs": [
    {
     "ename": "FileExistsError",
     "evalue": "[Errno 17] File exists: 'student_info'",
     "output_type": "error",
     "traceback": [
      "\u001b[1;31m---------------------------------------------------------------------------\u001b[0m",
      "\u001b[1;31mFileExistsError\u001b[0m                           Traceback (most recent call last)",
      "Cell \u001b[1;32mIn[66], line 1\u001b[0m\n\u001b[1;32m----> 1\u001b[0m \u001b[38;5;28;01mwith\u001b[39;00m \u001b[38;5;28mopen\u001b[39m(\u001b[38;5;124m'\u001b[39m\u001b[38;5;124mstudent_info\u001b[39m\u001b[38;5;124m'\u001b[39m,\u001b[38;5;124m'\u001b[39m\u001b[38;5;124mxt\u001b[39m\u001b[38;5;124m'\u001b[39m) \u001b[38;5;28;01mas\u001b[39;00m fh:\n\u001b[0;32m      2\u001b[0m     fh\u001b[38;5;241m.\u001b[39mwrite(\u001b[38;5;28mstr\u001b[39m(student_1))\n",
      "File \u001b[1;32mC:\\ProgramData\\anaconda3\\Lib\\site-packages\\IPython\\core\\interactiveshell.py:324\u001b[0m, in \u001b[0;36m_modified_open\u001b[1;34m(file, *args, **kwargs)\u001b[0m\n\u001b[0;32m    317\u001b[0m \u001b[38;5;28;01mif\u001b[39;00m file \u001b[38;5;129;01min\u001b[39;00m {\u001b[38;5;241m0\u001b[39m, \u001b[38;5;241m1\u001b[39m, \u001b[38;5;241m2\u001b[39m}:\n\u001b[0;32m    318\u001b[0m     \u001b[38;5;28;01mraise\u001b[39;00m \u001b[38;5;167;01mValueError\u001b[39;00m(\n\u001b[0;32m    319\u001b[0m         \u001b[38;5;124mf\u001b[39m\u001b[38;5;124m\"\u001b[39m\u001b[38;5;124mIPython won\u001b[39m\u001b[38;5;124m'\u001b[39m\u001b[38;5;124mt let you open fd=\u001b[39m\u001b[38;5;132;01m{\u001b[39;00mfile\u001b[38;5;132;01m}\u001b[39;00m\u001b[38;5;124m by default \u001b[39m\u001b[38;5;124m\"\u001b[39m\n\u001b[0;32m    320\u001b[0m         \u001b[38;5;124m\"\u001b[39m\u001b[38;5;124mas it is likely to crash IPython. If you know what you are doing, \u001b[39m\u001b[38;5;124m\"\u001b[39m\n\u001b[0;32m    321\u001b[0m         \u001b[38;5;124m\"\u001b[39m\u001b[38;5;124myou can use builtins\u001b[39m\u001b[38;5;124m'\u001b[39m\u001b[38;5;124m open.\u001b[39m\u001b[38;5;124m\"\u001b[39m\n\u001b[0;32m    322\u001b[0m     )\n\u001b[1;32m--> 324\u001b[0m \u001b[38;5;28;01mreturn\u001b[39;00m io_open(file, \u001b[38;5;241m*\u001b[39margs, \u001b[38;5;241m*\u001b[39m\u001b[38;5;241m*\u001b[39mkwargs)\n",
      "\u001b[1;31mFileExistsError\u001b[0m: [Errno 17] File exists: 'student_info'"
     ]
    }
   ],
   "source": [
    "with open('student_info','xt') as fh:\n",
    "    fh.write(str(student_1))"
   ]
  },
  {
   "cell_type": "code",
   "execution_count": 67,
   "id": "c4bf825d-c0e3-44fc-93f2-ad95639a1c5c",
   "metadata": {},
   "outputs": [],
   "source": [
    "with open('student_info','wt') as fh:\n",
    "    fh.write(str(student_1))"
   ]
  },
  {
   "cell_type": "code",
   "execution_count": 69,
   "id": "f3230fa1-84d1-4a34-8d2a-53f6fb600e58",
   "metadata": {},
   "outputs": [
    {
     "name": "stdout",
     "output_type": "stream",
     "text": [
      "{'id': 101, 'name': 'john'}\n",
      "<class 'str'>\n"
     ]
    }
   ],
   "source": [
    "with open('student_info','rt') as fh:\n",
    "    con=fh.read()\n",
    "\n",
    "print(con)\n",
    "print(type(con))"
   ]
  },
  {
   "cell_type": "code",
   "execution_count": 70,
   "id": "7cb75606-4dda-44ac-a5a9-eb05a0119d40",
   "metadata": {},
   "outputs": [
    {
     "ename": "ValueError",
     "evalue": "dictionary update sequence element #0 has length 1; 2 is required",
     "output_type": "error",
     "traceback": [
      "\u001b[1;31m---------------------------------------------------------------------------\u001b[0m",
      "\u001b[1;31mValueError\u001b[0m                                Traceback (most recent call last)",
      "Cell \u001b[1;32mIn[70], line 1\u001b[0m\n\u001b[1;32m----> 1\u001b[0m \u001b[38;5;28mdict\u001b[39m(con)\n",
      "\u001b[1;31mValueError\u001b[0m: dictionary update sequence element #0 has length 1; 2 is required"
     ]
    }
   ],
   "source": [
    "dict(con)"
   ]
  },
  {
   "cell_type": "code",
   "execution_count": 71,
   "id": "a06ab171-f757-41e7-83c0-3e47723fb113",
   "metadata": {},
   "outputs": [],
   "source": [
    "d1=eval(con)"
   ]
  },
  {
   "cell_type": "code",
   "execution_count": 72,
   "id": "a83e0849-efed-4040-8d5e-1b90c02a1886",
   "metadata": {},
   "outputs": [
    {
     "data": {
      "text/plain": [
       "{'id': 101, 'name': 'john'}"
      ]
     },
     "execution_count": 72,
     "metadata": {},
     "output_type": "execute_result"
    }
   ],
   "source": [
    "d1"
   ]
  },
  {
   "cell_type": "code",
   "execution_count": 73,
   "id": "4aa278f5-7bf9-47f0-ae38-02fdc5825225",
   "metadata": {},
   "outputs": [
    {
     "data": {
      "text/plain": [
       "dict"
      ]
     },
     "execution_count": 73,
     "metadata": {},
     "output_type": "execute_result"
    }
   ],
   "source": [
    "type(d1)"
   ]
  },
  {
   "cell_type": "code",
   "execution_count": 75,
   "id": "dafab648-7aae-4392-9ff1-fa5a4e8d06d1",
   "metadata": {},
   "outputs": [],
   "source": [
    "import pickle\n",
    "#pickle will help us to store structured data into binary file"
   ]
  },
  {
   "cell_type": "code",
   "execution_count": 85,
   "id": "d69795c8-c2bb-47c9-9fa9-18e741cf997a",
   "metadata": {},
   "outputs": [
    {
     "name": "stdout",
     "output_type": "stream",
     "text": [
      "<class 'NoneType'>\n"
     ]
    }
   ],
   "source": [
    "with open('stu_info.bin','wb') as fh:\n",
    "    val=pickle.dump(student_1,fh)\n",
    "    fh.close()\n",
    "\n",
    "print(type(val))"
   ]
  },
  {
   "cell_type": "code",
   "execution_count": 86,
   "id": "ac2c97af-a5d7-4210-a5b6-9338bf71d9fa",
   "metadata": {},
   "outputs": [
    {
     "name": "stdout",
     "output_type": "stream",
     "text": [
      "{'id': 101, 'name': 'john'}\n"
     ]
    }
   ],
   "source": [
    "with open('stu_info.bin','rb') as fh:\n",
    "    out=pickle.load(fh)\n",
    "\n",
    "\n",
    "print(out)"
   ]
  },
  {
   "cell_type": "code",
   "execution_count": 87,
   "id": "c944f460-359d-4266-bb45-22920e772976",
   "metadata": {},
   "outputs": [
    {
     "name": "stdout",
     "output_type": "stream",
     "text": [
      "<class 'dict'>\n"
     ]
    }
   ],
   "source": [
    "print(type(out))"
   ]
  },
  {
   "cell_type": "code",
   "execution_count": 88,
   "id": "9e8b3099-c643-4962-8fc0-a92125ef1b30",
   "metadata": {},
   "outputs": [],
   "source": []
  },
  {
   "cell_type": "code",
   "execution_count": null,
   "id": "1a2acbbd-1d82-4393-b01f-3d314233978c",
   "metadata": {},
   "outputs": [],
   "source": []
  }
 ],
 "metadata": {
  "kernelspec": {
   "display_name": "Python 3 (ipykernel)",
   "language": "python",
   "name": "python3"
  },
  "language_info": {
   "codemirror_mode": {
    "name": "ipython",
    "version": 3
   },
   "file_extension": ".py",
   "mimetype": "text/x-python",
   "name": "python",
   "nbconvert_exporter": "python",
   "pygments_lexer": "ipython3",
   "version": "3.12.4"
  }
 },
 "nbformat": 4,
 "nbformat_minor": 5
}
