{
  "nbformat": 4,
  "nbformat_minor": 0,
  "metadata": {
    "colab": {
      "provenance": [],
      "authorship_tag": "ABX9TyN26F9KXAUpKw1UYChQilQP",
      "include_colab_link": true
    },
    "kernelspec": {
      "name": "python3",
      "display_name": "Python 3"
    },
    "language_info": {
      "name": "python"
    }
  },
  "cells": [
    {
      "cell_type": "markdown",
      "metadata": {
        "id": "view-in-github",
        "colab_type": "text"
      },
      "source": [
        "<a href=\"https://colab.research.google.com/github/NaveenShetter1/Machine-Leaning-Notebooks/blob/main/sklearnlibraries.ipynb\" target=\"_parent\"><img src=\"https://colab.research.google.com/assets/colab-badge.svg\" alt=\"Open In Colab\"/></a>"
      ]
    },
    {
      "cell_type": "markdown",
      "source": [
        "# 1. sklearn.datasets - For loading datasets\n",
        "from sklearn.datasets import load_iris, load_digits, make_classification, make_regression\n",
        "\n",
        "# 2. sklearn.model_selection - For splitting data, cross-validation, and hyperparameter tuning\n",
        "from sklearn.model_selection import train_test_split, cross_val_score, GridSearchCV, RandomizedSearchCV\n",
        "\n",
        "# 3. sklearn.linear_model - For linear models (regression, classification)\n",
        "from sklearn.linear_model import LinearRegression, LogisticRegression, Ridge, Lasso, ElasticNet\n",
        "\n",
        "# 4. sklearn.svm - For Support Vector Machines\n",
        "from sklearn.svm import SVC, SVR, LinearSVC, LinearSVR\n",
        "\n",
        "# 5. sklearn.tree - For decision trees\n",
        "from sklearn.tree import DecisionTreeClassifier, DecisionTreeRegressor\n",
        "\n",
        "# 6. sklearn.ensemble - For ensemble methods like Random Forests, Gradient Boosting\n",
        "from sklearn.ensemble import RandomForestClassifier, RandomForestRegressor, GradientBoostingClassifier, AdaBoostClassifier\n",
        "\n",
        "# 7. sklearn.neighbors - For k-Nearest Neighbors (KNN)\n",
        "from sklearn.neighbors import KNeighborsClassifier, KNeighborsRegressor\n",
        "\n",
        "# 8. sklearn.naive_bayes - For Naive Bayes classifiers\n",
        "from sklearn.naive_bayes import GaussianNB, MultinomialNB, BernoulliNB\n",
        "\n",
        "# 9. sklearn.cluster - For clustering algorithms\n",
        "from sklearn.cluster import KMeans, DBSCAN, AgglomerativeClustering\n",
        "\n",
        "# 10. sklearn.preprocessing - For feature scaling and transformation\n",
        "from sklearn.preprocessing import StandardScaler, MinMaxScaler, OneHotEncoder, LabelEncoder\n",
        "\n",
        "# 11. sklearn.decomposition - For dimensionality reduction\n",
        "from sklearn.decomposition import PCA, TruncatedSVD\n",
        "\n",
        "# 12. sklearn.feature_selection - For feature selection\n",
        "from sklearn.feature_selection import SelectKBest, RFE\n",
        "\n",
        "# 13. sklearn.metrics - For model evaluation\n",
        "from sklearn.metrics import accuracy_score, mean_squared_error, roc_auc_score, f1_score, confusion_matrix, r2_score\n",
        "\n",
        "# 14. sklearn.pipeline - For creating machine learning pipelines\n",
        "from sklearn.pipeline import Pipeline\n",
        "\n",
        "# 15. sklearn.cross_decomposition - For multi-output regression\n",
        "from sklearn.cross_decomposition import PLSRegression\n",
        "\n",
        "# 16. sklearn.inspection - For model inspection\n",
        "from sklearn.inspection import plot_partial_dependence\n"
      ],
      "metadata": {
        "id": "j4vmS4j-rZJJ"
      }
    }
  ]
}