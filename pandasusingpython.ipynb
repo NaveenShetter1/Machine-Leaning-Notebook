{
 "cells": [
  {
   "cell_type": "code",
   "execution_count": 67,
   "id": "5680a5c9-4e22-46fe-b4d8-46dd56274f4a",
   "metadata": {},
   "outputs": [],
   "source": [
    "# Pandas: - Python library that provides data structure and methods to work with structured or tabular data, data in fast or easy way\n",
    "# pandas internally uses numpy"
   ]
  },
  {
   "cell_type": "code",
   "execution_count": 68,
   "id": "e48bb9f4-a33d-40c6-a970-62fc412f6475",
   "metadata": {},
   "outputs": [],
   "source": [
    "# pandas 3rd party library is fast, flexible, powerfull and easy to use open source data analysis and manipulation tool, built on top of the python program"
   ]
  },
  {
   "cell_type": "code",
   "execution_count": 69,
   "id": "27203661-6ea1-4230-9c9c-1748d92f80e9",
   "metadata": {},
   "outputs": [
    {
     "data": {
      "text/plain": [
       "'pandas supports the integration with many file formats or data sources out of the box(csv, excel, sql, json, parquet) and converts into dataframe \\nvice-versa'"
      ]
     },
     "execution_count": 69,
     "metadata": {},
     "output_type": "execute_result"
    }
   ],
   "source": [
    "'''pandas supports the integration with many file formats or data sources out of the box(csv, excel, sql, json, parquet) and converts into dataframe \n",
    "vice-versa'''"
   ]
  },
  {
   "cell_type": "code",
   "execution_count": 70,
   "id": "9bd6702b-879b-4c20-98f6-2f529b44c15a",
   "metadata": {},
   "outputs": [],
   "source": [
    "import pandas as pd"
   ]
  },
  {
   "cell_type": "code",
   "execution_count": 71,
   "id": "5b9af87e-7145-442e-a909-ebba07029e2f",
   "metadata": {},
   "outputs": [],
   "source": [
    "ser1=pd.Series([10,20,30])"
   ]
  },
  {
   "cell_type": "code",
   "execution_count": 72,
   "id": "0290cece-2cae-47a7-9af5-cadc3d0d9ba5",
   "metadata": {},
   "outputs": [
    {
     "name": "stdout",
     "output_type": "stream",
     "text": [
      "0    10\n",
      "1    20\n",
      "2    30\n",
      "dtype: int64\n"
     ]
    }
   ],
   "source": [
    "print(ser1)"
   ]
  },
  {
   "cell_type": "code",
   "execution_count": 73,
   "id": "a8615e46-9ff2-4570-b4df-092dce27b644",
   "metadata": {},
   "outputs": [
    {
     "name": "stdout",
     "output_type": "stream",
     "text": [
      "<class 'pandas.core.series.Series'>\n"
     ]
    }
   ],
   "source": [
    "print(type(ser1))"
   ]
  },
  {
   "cell_type": "code",
   "execution_count": 74,
   "id": "a6949997-d4b2-4f64-a579-65cc49ea8e98",
   "metadata": {},
   "outputs": [
    {
     "name": "stdout",
     "output_type": "stream",
     "text": [
      "int64\n"
     ]
    }
   ],
   "source": [
    "print(ser1.dtype)"
   ]
  },
  {
   "cell_type": "code",
   "execution_count": 43,
   "id": "b214378b-11b5-4597-bf83-5581c2b5c569",
   "metadata": {},
   "outputs": [
    {
     "name": "stdout",
     "output_type": "stream",
     "text": [
      "RangeIndex(start=0, stop=3, step=1)\n"
     ]
    }
   ],
   "source": [
    "print(ser1.index)"
   ]
  },
  {
   "cell_type": "code",
   "execution_count": 44,
   "id": "d070f134-c5ac-41ee-8aaf-428c4b4bd734",
   "metadata": {},
   "outputs": [],
   "source": [
    "i1=ser1.index"
   ]
  },
  {
   "cell_type": "code",
   "execution_count": 45,
   "id": "f15ed14d-4a89-40ac-b116-7e914df167b9",
   "metadata": {},
   "outputs": [
    {
     "name": "stdout",
     "output_type": "stream",
     "text": [
      "<class 'pandas.core.indexes.range.RangeIndex'>\n"
     ]
    }
   ],
   "source": [
    "print(type(i1))"
   ]
  },
  {
   "cell_type": "code",
   "execution_count": 46,
   "id": "2e121bcb-31f4-4eed-87bf-500eb270865c",
   "metadata": {},
   "outputs": [],
   "source": [
    "v1=ser1.values"
   ]
  },
  {
   "cell_type": "code",
   "execution_count": 47,
   "id": "d3159193-c463-438d-9fde-be1a5e6db81a",
   "metadata": {},
   "outputs": [
    {
     "name": "stdout",
     "output_type": "stream",
     "text": [
      "[10 20 30]\n"
     ]
    }
   ],
   "source": [
    "print(v1)"
   ]
  },
  {
   "cell_type": "code",
   "execution_count": 48,
   "id": "60882daa-6a8d-4dff-99d8-0979d97e48e6",
   "metadata": {},
   "outputs": [
    {
     "name": "stdout",
     "output_type": "stream",
     "text": [
      "<class 'numpy.ndarray'>\n"
     ]
    }
   ],
   "source": [
    "print(type(v1))"
   ]
  },
  {
   "cell_type": "code",
   "execution_count": 49,
   "id": "1502f254-9b71-456f-9c69-7baf9a8c6b70",
   "metadata": {},
   "outputs": [],
   "source": [
    "# hence pandas use numpy internally"
   ]
  },
  {
   "cell_type": "code",
   "execution_count": 50,
   "id": "073d5eb7-e06b-4e15-aed0-089b8a06f47f",
   "metadata": {},
   "outputs": [],
   "source": [
    "# we can give indexing by mentioning under index"
   ]
  },
  {
   "cell_type": "code",
   "execution_count": 51,
   "id": "8a68524b-7c62-4660-ace8-b5647ce25da6",
   "metadata": {},
   "outputs": [],
   "source": [
    "ser2=pd.Series([10,20,30,40],index=[1,2,3,4])"
   ]
  },
  {
   "cell_type": "code",
   "execution_count": 52,
   "id": "f73f28aa-73dc-41f4-be5d-2062d1c4f0a9",
   "metadata": {},
   "outputs": [
    {
     "name": "stdout",
     "output_type": "stream",
     "text": [
      "1    10\n",
      "2    20\n",
      "3    30\n",
      "4    40\n",
      "dtype: int64\n"
     ]
    }
   ],
   "source": [
    "print(ser2)"
   ]
  },
  {
   "cell_type": "code",
   "execution_count": 53,
   "id": "47a1838c-ec16-4bae-88d1-83ce1fb73c2f",
   "metadata": {},
   "outputs": [],
   "source": [
    "ser3=pd.Series(range(10,60,10),index=range(1,6,1))"
   ]
  },
  {
   "cell_type": "code",
   "execution_count": 54,
   "id": "4b27b002-16ec-4d1e-b919-d716d76eb733",
   "metadata": {},
   "outputs": [
    {
     "name": "stdout",
     "output_type": "stream",
     "text": [
      "1    10\n",
      "2    20\n",
      "3    30\n",
      "4    40\n",
      "5    50\n",
      "dtype: int64\n"
     ]
    }
   ],
   "source": [
    "print(ser3)"
   ]
  },
  {
   "cell_type": "code",
   "execution_count": 55,
   "id": "9519cd5e-e7bf-4bc6-b919-e2ce9453d730",
   "metadata": {},
   "outputs": [],
   "source": [
    "v2=ser2.values"
   ]
  },
  {
   "cell_type": "code",
   "execution_count": 56,
   "id": "2c247b93-49de-47bb-b583-121adcfd3154",
   "metadata": {},
   "outputs": [
    {
     "name": "stdout",
     "output_type": "stream",
     "text": [
      "[10 20 30 40]\n"
     ]
    }
   ],
   "source": [
    "print(v2)"
   ]
  },
  {
   "cell_type": "code",
   "execution_count": 57,
   "id": "29b8ddbb-e6ca-4a6e-9e17-3017c089d9a9",
   "metadata": {},
   "outputs": [],
   "source": [
    "v3=ser3.values"
   ]
  },
  {
   "cell_type": "code",
   "execution_count": 58,
   "id": "fd20bb24-17a4-486c-870a-5fd0deb6beab",
   "metadata": {},
   "outputs": [
    {
     "name": "stdout",
     "output_type": "stream",
     "text": [
      "[10 20 30 40 50]\n"
     ]
    }
   ],
   "source": [
    "print(v3)"
   ]
  },
  {
   "cell_type": "code",
   "execution_count": 59,
   "id": "27dbd4f2-f197-44be-8ff5-6289f77323be",
   "metadata": {},
   "outputs": [
    {
     "name": "stdout",
     "output_type": "stream",
     "text": [
      "10\n"
     ]
    }
   ],
   "source": [
    "# here we started index by 1 so \n",
    "print(ser3[1])"
   ]
  },
  {
   "cell_type": "code",
   "execution_count": 60,
   "id": "40e102b1-ed3e-41d3-b174-42f72866d138",
   "metadata": {},
   "outputs": [
    {
     "name": "stdout",
     "output_type": "stream",
     "text": [
      "30\n"
     ]
    }
   ],
   "source": [
    "print(ser3[3])"
   ]
  },
  {
   "cell_type": "code",
   "execution_count": 61,
   "id": "1be30960-0d6e-4bf3-a0b7-f7d8be61d87d",
   "metadata": {},
   "outputs": [],
   "source": [
    "ser4=pd.Series(range(10,40,10),index=['a','b','c'])"
   ]
  },
  {
   "cell_type": "code",
   "execution_count": 62,
   "id": "1c0e4af4-fdaf-4cfd-a36d-57db55138650",
   "metadata": {},
   "outputs": [
    {
     "data": {
      "text/plain": [
       "a    10\n",
       "b    20\n",
       "c    30\n",
       "dtype: int64"
      ]
     },
     "execution_count": 62,
     "metadata": {},
     "output_type": "execute_result"
    }
   ],
   "source": [
    "ser4"
   ]
  },
  {
   "cell_type": "code",
   "execution_count": 63,
   "id": "4f509e1d-fe06-409a-8858-073e9860ecd3",
   "metadata": {},
   "outputs": [],
   "source": [
    "# to fetch data using inner index we have an option called as loc and iloc"
   ]
  },
  {
   "cell_type": "code",
   "execution_count": 64,
   "id": "f8b024bf-9bca-403d-a86f-ba61b3806b5f",
   "metadata": {},
   "outputs": [
    {
     "name": "stdout",
     "output_type": "stream",
     "text": [
      "1    10\n",
      "2    20\n",
      "3    30\n",
      "4    40\n",
      "5    50\n",
      "dtype: int64\n"
     ]
    }
   ],
   "source": [
    "# iloc-inner index\n",
    "# loc-outer index\n",
    "\n",
    "print(ser3)"
   ]
  },
  {
   "cell_type": "code",
   "execution_count": 65,
   "id": "e0e34394-0681-4e95-b22e-b9356f072a03",
   "metadata": {},
   "outputs": [
    {
     "data": {
      "text/plain": [
       "10"
      ]
     },
     "execution_count": 65,
     "metadata": {},
     "output_type": "execute_result"
    }
   ],
   "source": [
    "ser3.iloc[0]"
   ]
  },
  {
   "cell_type": "code",
   "execution_count": 76,
   "id": "e3bac76c-28b7-4d4e-ac65-1d2c7c367261",
   "metadata": {},
   "outputs": [
    {
     "ename": "KeyError",
     "evalue": "0",
     "output_type": "error",
     "traceback": [
      "\u001b[1;31m---------------------------------------------------------------------------\u001b[0m",
      "\u001b[1;31mValueError\u001b[0m                                Traceback (most recent call last)",
      "File \u001b[1;32mC:\\ProgramData\\anaconda3\\Lib\\site-packages\\pandas\\core\\indexes\\range.py:413\u001b[0m, in \u001b[0;36mRangeIndex.get_loc\u001b[1;34m(self, key)\u001b[0m\n\u001b[0;32m    412\u001b[0m \u001b[38;5;28;01mtry\u001b[39;00m:\n\u001b[1;32m--> 413\u001b[0m     \u001b[38;5;28;01mreturn\u001b[39;00m \u001b[38;5;28mself\u001b[39m\u001b[38;5;241m.\u001b[39m_range\u001b[38;5;241m.\u001b[39mindex(new_key)\n\u001b[0;32m    414\u001b[0m \u001b[38;5;28;01mexcept\u001b[39;00m \u001b[38;5;167;01mValueError\u001b[39;00m \u001b[38;5;28;01mas\u001b[39;00m err:\n",
      "\u001b[1;31mValueError\u001b[0m: 0 is not in range",
      "\nThe above exception was the direct cause of the following exception:\n",
      "\u001b[1;31mKeyError\u001b[0m                                  Traceback (most recent call last)",
      "Cell \u001b[1;32mIn[76], line 1\u001b[0m\n\u001b[1;32m----> 1\u001b[0m ser3\u001b[38;5;241m.\u001b[39mloc[\u001b[38;5;241m0\u001b[39m]\n",
      "File \u001b[1;32mC:\\ProgramData\\anaconda3\\Lib\\site-packages\\pandas\\core\\indexing.py:1191\u001b[0m, in \u001b[0;36m_LocationIndexer.__getitem__\u001b[1;34m(self, key)\u001b[0m\n\u001b[0;32m   1189\u001b[0m maybe_callable \u001b[38;5;241m=\u001b[39m com\u001b[38;5;241m.\u001b[39mapply_if_callable(key, \u001b[38;5;28mself\u001b[39m\u001b[38;5;241m.\u001b[39mobj)\n\u001b[0;32m   1190\u001b[0m maybe_callable \u001b[38;5;241m=\u001b[39m \u001b[38;5;28mself\u001b[39m\u001b[38;5;241m.\u001b[39m_check_deprecated_callable_usage(key, maybe_callable)\n\u001b[1;32m-> 1191\u001b[0m \u001b[38;5;28;01mreturn\u001b[39;00m \u001b[38;5;28mself\u001b[39m\u001b[38;5;241m.\u001b[39m_getitem_axis(maybe_callable, axis\u001b[38;5;241m=\u001b[39maxis)\n",
      "File \u001b[1;32mC:\\ProgramData\\anaconda3\\Lib\\site-packages\\pandas\\core\\indexing.py:1431\u001b[0m, in \u001b[0;36m_LocIndexer._getitem_axis\u001b[1;34m(self, key, axis)\u001b[0m\n\u001b[0;32m   1429\u001b[0m \u001b[38;5;66;03m# fall thru to straight lookup\u001b[39;00m\n\u001b[0;32m   1430\u001b[0m \u001b[38;5;28mself\u001b[39m\u001b[38;5;241m.\u001b[39m_validate_key(key, axis)\n\u001b[1;32m-> 1431\u001b[0m \u001b[38;5;28;01mreturn\u001b[39;00m \u001b[38;5;28mself\u001b[39m\u001b[38;5;241m.\u001b[39m_get_label(key, axis\u001b[38;5;241m=\u001b[39maxis)\n",
      "File \u001b[1;32mC:\\ProgramData\\anaconda3\\Lib\\site-packages\\pandas\\core\\indexing.py:1381\u001b[0m, in \u001b[0;36m_LocIndexer._get_label\u001b[1;34m(self, label, axis)\u001b[0m\n\u001b[0;32m   1379\u001b[0m \u001b[38;5;28;01mdef\u001b[39;00m \u001b[38;5;21m_get_label\u001b[39m(\u001b[38;5;28mself\u001b[39m, label, axis: AxisInt):\n\u001b[0;32m   1380\u001b[0m     \u001b[38;5;66;03m# GH#5567 this will fail if the label is not present in the axis.\u001b[39;00m\n\u001b[1;32m-> 1381\u001b[0m     \u001b[38;5;28;01mreturn\u001b[39;00m \u001b[38;5;28mself\u001b[39m\u001b[38;5;241m.\u001b[39mobj\u001b[38;5;241m.\u001b[39mxs(label, axis\u001b[38;5;241m=\u001b[39maxis)\n",
      "File \u001b[1;32mC:\\ProgramData\\anaconda3\\Lib\\site-packages\\pandas\\core\\generic.py:4301\u001b[0m, in \u001b[0;36mNDFrame.xs\u001b[1;34m(self, key, axis, level, drop_level)\u001b[0m\n\u001b[0;32m   4299\u001b[0m             new_index \u001b[38;5;241m=\u001b[39m index[loc]\n\u001b[0;32m   4300\u001b[0m \u001b[38;5;28;01melse\u001b[39;00m:\n\u001b[1;32m-> 4301\u001b[0m     loc \u001b[38;5;241m=\u001b[39m index\u001b[38;5;241m.\u001b[39mget_loc(key)\n\u001b[0;32m   4303\u001b[0m     \u001b[38;5;28;01mif\u001b[39;00m \u001b[38;5;28misinstance\u001b[39m(loc, np\u001b[38;5;241m.\u001b[39mndarray):\n\u001b[0;32m   4304\u001b[0m         \u001b[38;5;28;01mif\u001b[39;00m loc\u001b[38;5;241m.\u001b[39mdtype \u001b[38;5;241m==\u001b[39m np\u001b[38;5;241m.\u001b[39mbool_:\n",
      "File \u001b[1;32mC:\\ProgramData\\anaconda3\\Lib\\site-packages\\pandas\\core\\indexes\\range.py:415\u001b[0m, in \u001b[0;36mRangeIndex.get_loc\u001b[1;34m(self, key)\u001b[0m\n\u001b[0;32m    413\u001b[0m         \u001b[38;5;28;01mreturn\u001b[39;00m \u001b[38;5;28mself\u001b[39m\u001b[38;5;241m.\u001b[39m_range\u001b[38;5;241m.\u001b[39mindex(new_key)\n\u001b[0;32m    414\u001b[0m     \u001b[38;5;28;01mexcept\u001b[39;00m \u001b[38;5;167;01mValueError\u001b[39;00m \u001b[38;5;28;01mas\u001b[39;00m err:\n\u001b[1;32m--> 415\u001b[0m         \u001b[38;5;28;01mraise\u001b[39;00m \u001b[38;5;167;01mKeyError\u001b[39;00m(key) \u001b[38;5;28;01mfrom\u001b[39;00m \u001b[38;5;21;01merr\u001b[39;00m\n\u001b[0;32m    416\u001b[0m \u001b[38;5;28;01mif\u001b[39;00m \u001b[38;5;28misinstance\u001b[39m(key, Hashable):\n\u001b[0;32m    417\u001b[0m     \u001b[38;5;28;01mraise\u001b[39;00m \u001b[38;5;167;01mKeyError\u001b[39;00m(key)\n",
      "\u001b[1;31mKeyError\u001b[0m: 0"
     ]
    }
   ],
   "source": [
    "ser3.loc[0]"
   ]
  },
  {
   "cell_type": "code",
   "execution_count": 77,
   "id": "a2eb75c3-e7b9-49d4-a201-7f7e4d8fbcd1",
   "metadata": {},
   "outputs": [],
   "source": [
    "# we need to give exactly same number of index points to store"
   ]
  },
  {
   "cell_type": "code",
   "execution_count": 78,
   "id": "53c5f2be-7629-4e88-a40b-7c8a04483835",
   "metadata": {},
   "outputs": [
    {
     "ename": "ValueError",
     "evalue": "Length of values (5) does not match length of index (2)",
     "output_type": "error",
     "traceback": [
      "\u001b[1;31m---------------------------------------------------------------------------\u001b[0m",
      "\u001b[1;31mValueError\u001b[0m                                Traceback (most recent call last)",
      "Cell \u001b[1;32mIn[78], line 1\u001b[0m\n\u001b[1;32m----> 1\u001b[0m ser5\u001b[38;5;241m=\u001b[39mpd\u001b[38;5;241m.\u001b[39mSeries(\u001b[38;5;28mrange\u001b[39m(\u001b[38;5;241m10\u001b[39m,\u001b[38;5;241m60\u001b[39m,\u001b[38;5;241m10\u001b[39m),index\u001b[38;5;241m=\u001b[39m\u001b[38;5;28mrange\u001b[39m(\u001b[38;5;241m1\u001b[39m,\u001b[38;5;241m3\u001b[39m,\u001b[38;5;241m1\u001b[39m))\n",
      "File \u001b[1;32mC:\\ProgramData\\anaconda3\\Lib\\site-packages\\pandas\\core\\series.py:575\u001b[0m, in \u001b[0;36mSeries.__init__\u001b[1;34m(self, data, index, dtype, name, copy, fastpath)\u001b[0m\n\u001b[0;32m    573\u001b[0m     index \u001b[38;5;241m=\u001b[39m default_index(\u001b[38;5;28mlen\u001b[39m(data))\n\u001b[0;32m    574\u001b[0m \u001b[38;5;28;01melif\u001b[39;00m is_list_like(data):\n\u001b[1;32m--> 575\u001b[0m     com\u001b[38;5;241m.\u001b[39mrequire_length_match(data, index)\n\u001b[0;32m    577\u001b[0m \u001b[38;5;66;03m# create/copy the manager\u001b[39;00m\n\u001b[0;32m    578\u001b[0m \u001b[38;5;28;01mif\u001b[39;00m \u001b[38;5;28misinstance\u001b[39m(data, (SingleBlockManager, SingleArrayManager)):\n",
      "File \u001b[1;32mC:\\ProgramData\\anaconda3\\Lib\\site-packages\\pandas\\core\\common.py:573\u001b[0m, in \u001b[0;36mrequire_length_match\u001b[1;34m(data, index)\u001b[0m\n\u001b[0;32m    569\u001b[0m \u001b[38;5;250m\u001b[39m\u001b[38;5;124;03m\"\"\"\u001b[39;00m\n\u001b[0;32m    570\u001b[0m \u001b[38;5;124;03mCheck the length of data matches the length of the index.\u001b[39;00m\n\u001b[0;32m    571\u001b[0m \u001b[38;5;124;03m\"\"\"\u001b[39;00m\n\u001b[0;32m    572\u001b[0m \u001b[38;5;28;01mif\u001b[39;00m \u001b[38;5;28mlen\u001b[39m(data) \u001b[38;5;241m!=\u001b[39m \u001b[38;5;28mlen\u001b[39m(index):\n\u001b[1;32m--> 573\u001b[0m     \u001b[38;5;28;01mraise\u001b[39;00m \u001b[38;5;167;01mValueError\u001b[39;00m(\n\u001b[0;32m    574\u001b[0m         \u001b[38;5;124m\"\u001b[39m\u001b[38;5;124mLength of values \u001b[39m\u001b[38;5;124m\"\u001b[39m\n\u001b[0;32m    575\u001b[0m         \u001b[38;5;124mf\u001b[39m\u001b[38;5;124m\"\u001b[39m\u001b[38;5;124m(\u001b[39m\u001b[38;5;132;01m{\u001b[39;00m\u001b[38;5;28mlen\u001b[39m(data)\u001b[38;5;132;01m}\u001b[39;00m\u001b[38;5;124m) \u001b[39m\u001b[38;5;124m\"\u001b[39m\n\u001b[0;32m    576\u001b[0m         \u001b[38;5;124m\"\u001b[39m\u001b[38;5;124mdoes not match length of index \u001b[39m\u001b[38;5;124m\"\u001b[39m\n\u001b[0;32m    577\u001b[0m         \u001b[38;5;124mf\u001b[39m\u001b[38;5;124m\"\u001b[39m\u001b[38;5;124m(\u001b[39m\u001b[38;5;132;01m{\u001b[39;00m\u001b[38;5;28mlen\u001b[39m(index)\u001b[38;5;132;01m}\u001b[39;00m\u001b[38;5;124m)\u001b[39m\u001b[38;5;124m\"\u001b[39m\n\u001b[0;32m    578\u001b[0m     )\n",
      "\u001b[1;31mValueError\u001b[0m: Length of values (5) does not match length of index (2)"
     ]
    }
   ],
   "source": [
    "ser5=pd.Series(range(10,60,10),index=range(1,3,1))"
   ]
  },
  {
   "cell_type": "code",
   "execution_count": null,
   "id": "38db18af-006c-4285-87aa-e984b908c4ec",
   "metadata": {},
   "outputs": [],
   "source": [
    "# length of the series should be equal to length of the indexes"
   ]
  },
  {
   "cell_type": "code",
   "execution_count": 92,
   "id": "e2a5e716-c9a3-446d-a23b-324fe6788f7b",
   "metadata": {},
   "outputs": [],
   "source": [
    "ser6=pd.Series([10,20,30], index=['Naveen','Veeresh','Shetter'])"
   ]
  },
  {
   "cell_type": "code",
   "execution_count": 93,
   "id": "ff2870eb-5d4c-4043-9676-38ae9f9e3c1d",
   "metadata": {},
   "outputs": [
    {
     "name": "stdout",
     "output_type": "stream",
     "text": [
      "Naveen     10\n",
      "Veeresh    20\n",
      "Shetter    30\n",
      "dtype: int64\n"
     ]
    }
   ],
   "source": [
    "print(ser6)"
   ]
  },
  {
   "cell_type": "code",
   "execution_count": 94,
   "id": "f6aaf37d-56b9-4678-8fb8-7c25783fa8d8",
   "metadata": {},
   "outputs": [],
   "source": [
    "ser7=pd.Series([10,20,30], index=['Naveen','Naveen','Naveen'])"
   ]
  },
  {
   "cell_type": "code",
   "execution_count": 95,
   "id": "1c5d5a35-dbc6-4e4a-bfad-4debc8bcf885",
   "metadata": {},
   "outputs": [
    {
     "name": "stdout",
     "output_type": "stream",
     "text": [
      "Naveen    10\n",
      "Naveen    20\n",
      "Naveen    30\n",
      "dtype: int64\n"
     ]
    }
   ],
   "source": [
    "print(ser7)"
   ]
  },
  {
   "cell_type": "code",
   "execution_count": 96,
   "id": "ca9d107a-7dbf-4dd3-ade5-b24e6e3625c8",
   "metadata": {},
   "outputs": [],
   "source": [
    "# Series are mutable"
   ]
  },
  {
   "cell_type": "code",
   "execution_count": 97,
   "id": "c17586a1-b061-4654-bcd9-da2b01976c82",
   "metadata": {},
   "outputs": [],
   "source": [
    "ser6.loc['Naveen']=89"
   ]
  },
  {
   "cell_type": "code",
   "execution_count": 98,
   "id": "e0c8ba2c-e6c8-40f0-bb00-418a94ac88b9",
   "metadata": {},
   "outputs": [
    {
     "name": "stdout",
     "output_type": "stream",
     "text": [
      "Naveen     89\n",
      "Veeresh    20\n",
      "Shetter    30\n",
      "dtype: int64\n"
     ]
    }
   ],
   "source": [
    "print(ser6)"
   ]
  },
  {
   "cell_type": "code",
   "execution_count": 99,
   "id": "a6109e16-c258-45ee-b053-a8d650590736",
   "metadata": {},
   "outputs": [
    {
     "name": "stderr",
     "output_type": "stream",
     "text": [
      "C:\\Users\\Skyline Solutions\\AppData\\Local\\Temp\\ipykernel_7084\\3176042359.py:1: FutureWarning: ChainedAssignmentError: behaviour will change in pandas 3.0!\n",
      "You are setting values through chained assignment. Currently this works in certain cases, but when using Copy-on-Write (which will become the default behaviour in pandas 3.0) this will never work to update the original DataFrame or Series, because the intermediate object on which we are setting values will behave as a copy.\n",
      "A typical example is when you are setting values in a column of a DataFrame, like:\n",
      "\n",
      "df[\"col\"][row_indexer] = value\n",
      "\n",
      "Use `df.loc[row_indexer, \"col\"] = values` instead, to perform the assignment in a single step and ensure this keeps updating the original `df`.\n",
      "\n",
      "See the caveats in the documentation: https://pandas.pydata.org/pandas-docs/stable/user_guide/indexing.html#returning-a-view-versus-a-copy\n",
      "\n",
      "  ser7.loc['Naveen'].iloc[-1]=44\n"
     ]
    }
   ],
   "source": [
    "ser7.loc['Naveen'].iloc[-1]=44"
   ]
  },
  {
   "cell_type": "code",
   "execution_count": 100,
   "id": "40a56e92-bb37-46f3-b5cf-fc48ce1e697d",
   "metadata": {},
   "outputs": [
    {
     "name": "stdout",
     "output_type": "stream",
     "text": [
      "Naveen    10\n",
      "Naveen    20\n",
      "Naveen    44\n",
      "dtype: int64\n"
     ]
    }
   ],
   "source": [
    "print(ser7)"
   ]
  },
  {
   "cell_type": "code",
   "execution_count": 101,
   "id": "1fc235ec-147d-4951-ab26-d207f962230c",
   "metadata": {},
   "outputs": [],
   "source": [
    "# to add or we call this operations as broadcasting(means parallel operation)"
   ]
  },
  {
   "cell_type": "code",
   "execution_count": 102,
   "id": "d1b6f672-c76b-4de8-9f89-de762ea1bf42",
   "metadata": {},
   "outputs": [
    {
     "name": "stdout",
     "output_type": "stream",
     "text": [
      "Naveen     90\n",
      "Veeresh    21\n",
      "Shetter    31\n",
      "dtype: int64\n"
     ]
    }
   ],
   "source": [
    "print(ser6+1)"
   ]
  },
  {
   "cell_type": "code",
   "execution_count": 103,
   "id": "1f346005-d671-48ff-a724-f7da049864d8",
   "metadata": {},
   "outputs": [
    {
     "name": "stdout",
     "output_type": "stream",
     "text": [
      "Naveen     89\n",
      "Veeresh    20\n",
      "Shetter    30\n",
      "dtype: int64\n"
     ]
    }
   ],
   "source": [
    "print(ser6)"
   ]
  },
  {
   "cell_type": "code",
   "execution_count": 104,
   "id": "6a83e86c-a536-4a1d-8434-e2acc7e00388",
   "metadata": {},
   "outputs": [],
   "source": [
    "# get whose marks are greater than 100"
   ]
  },
  {
   "cell_type": "code",
   "execution_count": 105,
   "id": "b04659f1-1ff5-4b60-8233-944f89cf628a",
   "metadata": {},
   "outputs": [
    {
     "data": {
      "text/plain": [
       "Naveen     False\n",
       "Veeresh    False\n",
       "Shetter    False\n",
       "dtype: bool"
      ]
     },
     "execution_count": 105,
     "metadata": {},
     "output_type": "execute_result"
    }
   ],
   "source": [
    "ser6>100"
   ]
  },
  {
   "cell_type": "code",
   "execution_count": 106,
   "id": "e50a6d12-eca3-4228-839e-ce366748ada9",
   "metadata": {},
   "outputs": [
    {
     "data": {
      "text/plain": [
       "Naveen      True\n",
       "Veeresh    False\n",
       "Shetter    False\n",
       "dtype: bool"
      ]
     },
     "execution_count": 106,
     "metadata": {},
     "output_type": "execute_result"
    }
   ],
   "source": [
    "ser6>67"
   ]
  },
  {
   "cell_type": "code",
   "execution_count": 107,
   "id": "581de089-9986-4c62-8b12-5e789cfe9e81",
   "metadata": {},
   "outputs": [
    {
     "data": {
      "text/plain": [
       "Naveen    89\n",
       "dtype: int64"
      ]
     },
     "execution_count": 107,
     "metadata": {},
     "output_type": "execute_result"
    }
   ],
   "source": [
    "ser6[ser6>80]"
   ]
  },
  {
   "cell_type": "code",
   "execution_count": 108,
   "id": "d9d3bc63-328e-4d31-bbb2-5244adbd3c83",
   "metadata": {},
   "outputs": [],
   "source": [
    "import numpy as np\n",
    "\n",
    "ser7=pd.Series(np.random.randint(1,10,5))"
   ]
  },
  {
   "cell_type": "code",
   "execution_count": 109,
   "id": "751c5ebb-a764-4f93-a08d-44b975b71d35",
   "metadata": {},
   "outputs": [
    {
     "name": "stdout",
     "output_type": "stream",
     "text": [
      "0    1\n",
      "1    8\n",
      "2    4\n",
      "3    1\n",
      "4    8\n",
      "dtype: int32\n"
     ]
    }
   ],
   "source": [
    "print(ser7)"
   ]
  },
  {
   "cell_type": "code",
   "execution_count": 110,
   "id": "38461da9-3f64-4a1b-83d7-8e4ed5b0eb98",
   "metadata": {},
   "outputs": [
    {
     "data": {
      "text/plain": [
       "1    8\n",
       "2    4\n",
       "4    8\n",
       "dtype: int32"
      ]
     },
     "execution_count": 110,
     "metadata": {},
     "output_type": "execute_result"
    }
   ],
   "source": [
    "# to print even numbers in series\n",
    "\n",
    "ser7[ser7%2==0]"
   ]
  },
  {
   "cell_type": "code",
   "execution_count": 111,
   "id": "c659651d-0f60-432e-b396-c042905beb36",
   "metadata": {},
   "outputs": [
    {
     "name": "stdout",
     "output_type": "stream",
     "text": [
      "8\n"
     ]
    }
   ],
   "source": [
    "print(ser7.loc[1])"
   ]
  },
  {
   "cell_type": "code",
   "execution_count": 112,
   "id": "583a3574-1be9-48e0-b80c-a65d5f71229a",
   "metadata": {},
   "outputs": [
    {
     "name": "stdout",
     "output_type": "stream",
     "text": [
      "1    8\n",
      "2    4\n",
      "3    1\n",
      "4    8\n",
      "dtype: int32\n"
     ]
    }
   ],
   "source": [
    "print(ser7.loc[1::])"
   ]
  },
  {
   "cell_type": "code",
   "execution_count": 113,
   "id": "b9c35249-f949-44cd-a791-fe0fb2018c49",
   "metadata": {},
   "outputs": [
    {
     "name": "stdout",
     "output_type": "stream",
     "text": [
      "{'IN': 9, 'PAK': 4, 'SA': 7, 'ENG': 3, 'AFG': 4}\n"
     ]
    }
   ],
   "source": [
    "# creating series using addict\n",
    "\n",
    "matches_won={'IN':9,'PAK':4,'SA':7,'ENG':3,'AFG':4}\n",
    "\n",
    "print(matches_won)"
   ]
  },
  {
   "cell_type": "code",
   "execution_count": 114,
   "id": "af717223-eb88-4c38-8414-d908d4359c8f",
   "metadata": {},
   "outputs": [],
   "source": [
    "s1=pd.Series(matches_won)"
   ]
  },
  {
   "cell_type": "code",
   "execution_count": 115,
   "id": "24012ee8-0819-4c3b-ab35-226f7ea09717",
   "metadata": {},
   "outputs": [
    {
     "name": "stdout",
     "output_type": "stream",
     "text": [
      "IN     9\n",
      "PAK    4\n",
      "SA     7\n",
      "ENG    3\n",
      "AFG    4\n",
      "dtype: int64\n"
     ]
    }
   ],
   "source": [
    "print(s1)"
   ]
  },
  {
   "cell_type": "code",
   "execution_count": 116,
   "id": "c02bf988-ca36-429a-aa43-46c9e01a2d5f",
   "metadata": {},
   "outputs": [],
   "source": [
    "# NAN is a value used to represent a missing value in both pd and np"
   ]
  },
  {
   "cell_type": "code",
   "execution_count": 117,
   "id": "99719dbc-8708-4747-8b96-d748892f1b95",
   "metadata": {},
   "outputs": [],
   "source": [
    "ser9=pd.Series(matches_won)"
   ]
  },
  {
   "cell_type": "code",
   "execution_count": 118,
   "id": "cba455d7-022e-4aa8-80fa-01b39c0fc5e9",
   "metadata": {},
   "outputs": [
    {
     "name": "stdout",
     "output_type": "stream",
     "text": [
      "IN     9\n",
      "PAK    4\n",
      "SA     7\n",
      "ENG    3\n",
      "AFG    4\n",
      "dtype: int64\n"
     ]
    }
   ],
   "source": [
    "print(ser9)"
   ]
  },
  {
   "cell_type": "code",
   "execution_count": 119,
   "id": "fd49f44a-54f2-4461-ba89-98980087f463",
   "metadata": {},
   "outputs": [
    {
     "name": "stdout",
     "output_type": "stream",
     "text": [
      "Index(['IN', 'PAK', 'SA', 'ENG', 'AFG'], dtype='object')\n"
     ]
    }
   ],
   "source": [
    "print(ser9.index)"
   ]
  },
  {
   "cell_type": "code",
   "execution_count": 120,
   "id": "2cd08cef-fca8-4066-b6d0-e3fb91ee1588",
   "metadata": {},
   "outputs": [
    {
     "name": "stdout",
     "output_type": "stream",
     "text": [
      "<bound method IndexOpsMixin.value_counts of IN     9\n",
      "PAK    4\n",
      "SA     7\n",
      "ENG    3\n",
      "AFG    4\n",
      "dtype: int64>\n"
     ]
    }
   ],
   "source": [
    "print(ser9.value_counts)"
   ]
  },
  {
   "cell_type": "code",
   "execution_count": 121,
   "id": "59c1058c-8da0-4d7f-bff4-57ad12051d2e",
   "metadata": {},
   "outputs": [
    {
     "name": "stdout",
     "output_type": "stream",
     "text": [
      "[9 4 7 3 4]\n"
     ]
    }
   ],
   "source": [
    "print(ser9.values)"
   ]
  },
  {
   "cell_type": "code",
   "execution_count": 122,
   "id": "a3705b97-bc74-4869-af78-9999f9224868",
   "metadata": {},
   "outputs": [],
   "source": [
    "\n",
    "ser9=pd.Series(matches_won,index=['PAK','SA','BR'])"
   ]
  },
  {
   "cell_type": "code",
   "execution_count": 123,
   "id": "d2830f5d-2f5a-4fff-bd77-f8aeddb605e8",
   "metadata": {},
   "outputs": [
    {
     "name": "stdout",
     "output_type": "stream",
     "text": [
      "PAK    4.0\n",
      "SA     7.0\n",
      "BR     NaN\n",
      "dtype: float64\n"
     ]
    }
   ],
   "source": [
    "print(ser9)"
   ]
  },
  {
   "cell_type": "code",
   "execution_count": 124,
   "id": "148e12e6-aa42-49af-978b-776e50c48697",
   "metadata": {},
   "outputs": [
    {
     "name": "stdout",
     "output_type": "stream",
     "text": [
      "<class 'pandas.core.series.Series'>\n"
     ]
    }
   ],
   "source": [
    "print(type(ser9))"
   ]
  },
  {
   "cell_type": "code",
   "execution_count": 125,
   "id": "5dfcd55d-29cb-44a6-a182-fa404f20008a",
   "metadata": {},
   "outputs": [
    {
     "name": "stdout",
     "output_type": "stream",
     "text": [
      "float64\n"
     ]
    }
   ],
   "source": [
    "print(ser9.dtype)"
   ]
  },
  {
   "cell_type": "code",
   "execution_count": 126,
   "id": "c3903c8c-ce7a-4895-885b-b3c54492b3d1",
   "metadata": {},
   "outputs": [],
   "source": [
    "ser10=pd.Series([10,20,30,'H'])"
   ]
  },
  {
   "cell_type": "code",
   "execution_count": 127,
   "id": "5cb301eb-f7b0-484c-8d2b-5488cd95ce22",
   "metadata": {},
   "outputs": [
    {
     "data": {
      "text/plain": [
       "0    10\n",
       "1    20\n",
       "2    30\n",
       "3     H\n",
       "dtype: object"
      ]
     },
     "execution_count": 127,
     "metadata": {},
     "output_type": "execute_result"
    }
   ],
   "source": [
    "ser10"
   ]
  },
  {
   "cell_type": "code",
   "execution_count": 128,
   "id": "e89e0cf9-1a05-4373-8ca2-b7fb3c5cb0b5",
   "metadata": {},
   "outputs": [
    {
     "name": "stdout",
     "output_type": "stream",
     "text": [
      "<class 'pandas.core.series.Series'>\n"
     ]
    }
   ],
   "source": [
    "print(type(ser10))"
   ]
  },
  {
   "cell_type": "code",
   "execution_count": 129,
   "id": "1ed1e5db-2645-4220-bb86-5a380caad0ac",
   "metadata": {},
   "outputs": [],
   "source": [
    "ser11=pd.Series({'nov':90,'ver':96})"
   ]
  },
  {
   "cell_type": "code",
   "execution_count": 130,
   "id": "c0ee8bf5-e0b5-47f6-8742-1204b82eeb94",
   "metadata": {},
   "outputs": [
    {
     "name": "stdout",
     "output_type": "stream",
     "text": [
      "nov    90\n",
      "ver    96\n",
      "dtype: int64\n"
     ]
    }
   ],
   "source": [
    "print(ser11)"
   ]
  },
  {
   "cell_type": "code",
   "execution_count": 131,
   "id": "b3b04a4c-d406-4f73-b377-56b57eac1e49",
   "metadata": {},
   "outputs": [],
   "source": [
    "ser12=pd.Series({'nov':89,'ver':96})"
   ]
  },
  {
   "cell_type": "code",
   "execution_count": 132,
   "id": "1b989eaf-d88b-41ba-a26b-65a0f42ae82f",
   "metadata": {},
   "outputs": [
    {
     "name": "stdout",
     "output_type": "stream",
     "text": [
      "nov    89\n",
      "ver    96\n",
      "dtype: int64\n"
     ]
    }
   ],
   "source": [
    "print(ser12)"
   ]
  },
  {
   "cell_type": "code",
   "execution_count": 133,
   "id": "f51fb916-5716-444c-b1b1-3248d30d2818",
   "metadata": {},
   "outputs": [
    {
     "name": "stdout",
     "output_type": "stream",
     "text": [
      "nov    179\n",
      "ver    192\n",
      "dtype: int64\n"
     ]
    }
   ],
   "source": [
    "# we can add or do any arithmatic operation like\n",
    "\n",
    "print(ser11+ser12)"
   ]
  },
  {
   "cell_type": "code",
   "execution_count": 134,
   "id": "e50b5f4c-b2b9-445e-b291-0bcba5ac7e39",
   "metadata": {},
   "outputs": [],
   "source": [
    "total=ser11+ser12"
   ]
  },
  {
   "cell_type": "code",
   "execution_count": null,
   "id": "60061d3f-5b99-4f3c-ba08-015d76edb236",
   "metadata": {},
   "outputs": [],
   "source": [
    "print(total)"
   ]
  },
  {
   "cell_type": "code",
   "execution_count": null,
   "id": "9b877740-7b2e-4741-80d7-fef98c436600",
   "metadata": {},
   "outputs": [],
   "source": [
    "print(type(total))"
   ]
  },
  {
   "cell_type": "code",
   "execution_count": null,
   "id": "99d08f9e-4ee2-4949-8f6f-9b16eaf2c5b5",
   "metadata": {},
   "outputs": [],
   "source": [
    "print(total.isnull())"
   ]
  },
  {
   "cell_type": "code",
   "execution_count": null,
   "id": "c445dd62-a209-4ce4-807c-e994cb7e1245",
   "metadata": {},
   "outputs": [],
   "source": [
    "print(total[total.isnull()])"
   ]
  },
  {
   "cell_type": "code",
   "execution_count": null,
   "id": "d551186f-b105-498b-9fdd-f6d1f4d4bdc2",
   "metadata": {},
   "outputs": [],
   "source": [
    "print(total[total.notnull()])"
   ]
  },
  {
   "cell_type": "code",
   "execution_count": null,
   "id": "959ec178-73a1-412d-b321-65a0a4fd9f51",
   "metadata": {},
   "outputs": [],
   "source": [
    "ser11=pd.Series({'Naveen':90,'Veeresh':95,'Shetter':98})"
   ]
  },
  {
   "cell_type": "code",
   "execution_count": null,
   "id": "b050d0e9-4897-40a4-b679-ec00776f3859",
   "metadata": {},
   "outputs": [],
   "source": [
    "print(ser11)"
   ]
  },
  {
   "cell_type": "code",
   "execution_count": null,
   "id": "16c0aad2-67bd-4d38-8ff7-ba65e2aedd42",
   "metadata": {},
   "outputs": [],
   "source": [
    "# ascending"
   ]
  },
  {
   "cell_type": "code",
   "execution_count": null,
   "id": "1678510b-d9f5-4f84-9202-f058f984a5d1",
   "metadata": {},
   "outputs": [],
   "source": [
    "print(ser11.sort_values(ascending=True))"
   ]
  },
  {
   "cell_type": "code",
   "execution_count": null,
   "id": "96f1e2bb-77e4-4f3f-bbed-c83252d208d7",
   "metadata": {},
   "outputs": [],
   "source": [
    "print(ser11.sort_values(ascending=False))"
   ]
  },
  {
   "cell_type": "code",
   "execution_count": null,
   "id": "4d31e1c3-1d04-4f4e-8333-fcfad98617c0",
   "metadata": {},
   "outputs": [],
   "source": [
    "# dataframes"
   ]
  },
  {
   "cell_type": "code",
   "execution_count": null,
   "id": "89b8d29d-d0a8-46ba-9061-3cb3d1e968ce",
   "metadata": {},
   "outputs": [],
   "source": [
    "data1={'name':['Naveen','Veeresh','Shetter'],'marks':[10,20,30],'age':[20,19,90]}"
   ]
  },
  {
   "cell_type": "code",
   "execution_count": null,
   "id": "ad1d8efc-de5d-4faa-bca1-27e5405ebb83",
   "metadata": {},
   "outputs": [],
   "source": [
    "print(data1)"
   ]
  },
  {
   "cell_type": "code",
   "execution_count": null,
   "id": "28606a3c-acdc-4324-a16a-866af3f1a29e",
   "metadata": {},
   "outputs": [],
   "source": [
    "df1=pd.DataFrame(data1)"
   ]
  },
  {
   "cell_type": "code",
   "execution_count": null,
   "id": "9c50bc94-3065-4ba2-a392-9c8dc29c40d5",
   "metadata": {},
   "outputs": [],
   "source": [
    "print(df1)"
   ]
  },
  {
   "cell_type": "code",
   "execution_count": null,
   "id": "1fb1c6c4-2ffd-464b-90c3-3870bb8a3a4a",
   "metadata": {},
   "outputs": [],
   "source": [
    "print(type(df1))"
   ]
  },
  {
   "cell_type": "code",
   "execution_count": null,
   "id": "81493e67-2c82-45bc-8ac6-a69570a4f7a8",
   "metadata": {},
   "outputs": [],
   "source": [
    "df1.index"
   ]
  },
  {
   "cell_type": "code",
   "execution_count": null,
   "id": "6670345a-7459-478f-aaf0-19a59e90e799",
   "metadata": {},
   "outputs": [],
   "source": [
    "df1.values"
   ]
  },
  {
   "cell_type": "code",
   "execution_count": null,
   "id": "bd15599b-c300-4d5e-88f1-85ee2799080e",
   "metadata": {},
   "outputs": [],
   "source": [
    "df1.columns"
   ]
  },
  {
   "cell_type": "code",
   "execution_count": null,
   "id": "056f6983-26d5-4a71-ac99-1eb67d14dd5b",
   "metadata": {},
   "outputs": [],
   "source": [
    "# to make a dataframe all have same length"
   ]
  },
  {
   "cell_type": "code",
   "execution_count": null,
   "id": "be017fa4-77c8-494d-820f-acc57d5ea83d",
   "metadata": {},
   "outputs": [],
   "source": [
    "df1.index"
   ]
  },
  {
   "cell_type": "code",
   "execution_count": null,
   "id": "5453a956-a9c7-4eb8-90c7-54f93f2c50dc",
   "metadata": {},
   "outputs": [],
   "source": [
    "df1.columns"
   ]
  },
  {
   "cell_type": "code",
   "execution_count": null,
   "id": "9bc1a449-d2fc-4c92-b73c-c106504c8571",
   "metadata": {},
   "outputs": [],
   "source": [
    "df1.values"
   ]
  },
  {
   "cell_type": "code",
   "execution_count": null,
   "id": "b1fa3cde-2aeb-4a18-b6f2-a77a57b3dd0f",
   "metadata": {},
   "outputs": [],
   "source": [
    "data=data1"
   ]
  },
  {
   "cell_type": "code",
   "execution_count": null,
   "id": "38282792-f4e9-4ef4-8bbb-289817827436",
   "metadata": {},
   "outputs": [],
   "source": [
    "df2=pd.DataFrame(data,columns=['ids','percent','grades'])"
   ]
  },
  {
   "cell_type": "code",
   "execution_count": null,
   "id": "0721693b-fcf3-484b-b185-53f03223ce3e",
   "metadata": {},
   "outputs": [],
   "source": [
    "df2"
   ]
  },
  {
   "cell_type": "code",
   "execution_count": null,
   "id": "5f9ca5a2-c2b8-4345-8459-25f338842e1f",
   "metadata": {},
   "outputs": [],
   "source": [
    "df2=pd.DataFrame(data,columns=['ids','percents','grades'])"
   ]
  },
  {
   "cell_type": "code",
   "execution_count": null,
   "id": "84b03a1f-c2f2-4f90-8cc3-4bce96c90061",
   "metadata": {},
   "outputs": [],
   "source": [
    "print(df2)"
   ]
  },
  {
   "cell_type": "code",
   "execution_count": null,
   "id": "8ea5be03-32e3-4fa7-9907-59654ea6d513",
   "metadata": {},
   "outputs": [],
   "source": [
    "df3=pd.DataFrame(data,index=data['name'],columns=['ids','percents'])"
   ]
  },
  {
   "cell_type": "code",
   "execution_count": null,
   "id": "7c3da87a-e023-40c9-95c2-afafb50295f0",
   "metadata": {},
   "outputs": [],
   "source": [
    "df3"
   ]
  },
  {
   "cell_type": "code",
   "execution_count": null,
   "id": "6347a858-016f-4d42-bc79-f4c93b67b5de",
   "metadata": {},
   "outputs": [],
   "source": [
    "print(data)"
   ]
  },
  {
   "cell_type": "code",
   "execution_count": null,
   "id": "bdfc8930-6d3f-4993-8f25-512d496061a9",
   "metadata": {},
   "outputs": [],
   "source": [
    "print(type(data))"
   ]
  },
  {
   "cell_type": "code",
   "execution_count": null,
   "id": "d3044ed7-e91f-4838-8028-f67de3b79629",
   "metadata": {},
   "outputs": [],
   "source": [
    "print(data1)"
   ]
  },
  {
   "cell_type": "code",
   "execution_count": null,
   "id": "273da456-3ea9-4e4c-a591-9176afb70f0c",
   "metadata": {},
   "outputs": [],
   "source": [
    "print(type(data1))"
   ]
  },
  {
   "cell_type": "code",
   "execution_count": null,
   "id": "de74fdc3-5842-4846-bb40-4a07fe31af13",
   "metadata": {},
   "outputs": [],
   "source": [
    "df1"
   ]
  },
  {
   "cell_type": "code",
   "execution_count": null,
   "id": "308e80d2-d803-44af-868a-231873eaa0f5",
   "metadata": {},
   "outputs": [],
   "source": [
    "# drop or deleting a column"
   ]
  },
  {
   "cell_type": "code",
   "execution_count": null,
   "id": "7bab9f5b-9d4a-4e3c-a10f-fa6d669e7533",
   "metadata": {},
   "outputs": [],
   "source": [
    "data={'name':['Naveen','Veeresh','Shetter'],\n",
    "     'ids':[101,102,103],\n",
    "     'percents':[89,90,97]}"
   ]
  },
  {
   "cell_type": "code",
   "execution_count": null,
   "id": "5985931f-6938-4e30-ad8b-f1767e62e7bf",
   "metadata": {},
   "outputs": [],
   "source": [
    "data"
   ]
  },
  {
   "cell_type": "code",
   "execution_count": null,
   "id": "455d9967-4f31-4030-9dff-d09dbd6dd16c",
   "metadata": {},
   "outputs": [],
   "source": [
    "df2=pd.DataFrame(data)"
   ]
  },
  {
   "cell_type": "code",
   "execution_count": null,
   "id": "8f24fd03-2851-4cd6-8181-2a0929197966",
   "metadata": {},
   "outputs": [],
   "source": [
    "print(df2)"
   ]
  },
  {
   "cell_type": "code",
   "execution_count": null,
   "id": "50a5d129-f97f-40b0-9461-e25f8d9f754c",
   "metadata": {},
   "outputs": [],
   "source": [
    "# # drop or deleting a column"
   ]
  },
  {
   "cell_type": "code",
   "execution_count": null,
   "id": "bf652a2b-7159-48c8-bd4d-399ca14ad6cd",
   "metadata": {},
   "outputs": [],
   "source": [
    "df2.drop(['percents'],axis=1)"
   ]
  },
  {
   "cell_type": "code",
   "execution_count": null,
   "id": "3ba00dbd-9265-4d6f-a9ea-29e215a1d6c0",
   "metadata": {},
   "outputs": [],
   "source": [
    "print(df2)"
   ]
  },
  {
   "cell_type": "code",
   "execution_count": null,
   "id": "dcba835a-aae8-4442-af19-e5e11f8b4119",
   "metadata": {},
   "outputs": [],
   "source": [
    "# here it is not deleted completely so you need to delete by putting inplace=True"
   ]
  },
  {
   "cell_type": "code",
   "execution_count": null,
   "id": "da943533-6ae1-4e1c-9ec9-5eeac4cfaf14",
   "metadata": {},
   "outputs": [],
   "source": [
    "df3=pd.DataFrame(data)"
   ]
  },
  {
   "cell_type": "code",
   "execution_count": null,
   "id": "7b909100-301d-4bd1-a4fa-7c3cadf61c8a",
   "metadata": {},
   "outputs": [],
   "source": [
    "df3"
   ]
  },
  {
   "cell_type": "code",
   "execution_count": null,
   "id": "7bec2427-43c4-4fd7-a517-75f0ae97d158",
   "metadata": {},
   "outputs": [],
   "source": [
    "df3.drop(['percents'],axis=1,inplace=True)"
   ]
  },
  {
   "cell_type": "code",
   "execution_count": null,
   "id": "62064153-7e40-406d-a8e8-835995154781",
   "metadata": {},
   "outputs": [],
   "source": [
    "print(df3)"
   ]
  },
  {
   "cell_type": "code",
   "execution_count": null,
   "id": "57039f8e-22ca-4c6a-aa50-e79bf0d57ab9",
   "metadata": {},
   "outputs": [],
   "source": [
    "# now to delete a row"
   ]
  },
  {
   "cell_type": "code",
   "execution_count": null,
   "id": "8426b6d0-98d0-49bc-bae6-bb0528607f54",
   "metadata": {},
   "outputs": [],
   "source": [
    "df3.drop([0],axis=0,inplace=True)"
   ]
  },
  {
   "cell_type": "code",
   "execution_count": null,
   "id": "94f5b4bd-c3c4-4523-be62-1e3e23e44a29",
   "metadata": {},
   "outputs": [],
   "source": [
    "print(df3)"
   ]
  },
  {
   "cell_type": "code",
   "execution_count": null,
   "id": "8e11b65d-b8c4-4aab-827c-9147a5aad0d5",
   "metadata": {},
   "outputs": [],
   "source": [
    "df3['percents']=[10,20]"
   ]
  },
  {
   "cell_type": "code",
   "execution_count": null,
   "id": "5081e146-7c95-46e9-8521-db24cddc3018",
   "metadata": {},
   "outputs": [],
   "source": [
    "df3"
   ]
  },
  {
   "cell_type": "code",
   "execution_count": null,
   "id": "dca96882-45d9-4a3e-af1d-c706133d26c7",
   "metadata": {},
   "outputs": [],
   "source": [
    "df3['pe']=[10,20,30]\n",
    "\n",
    "# here while creating, we can add directly but index length should be same"
   ]
  },
  {
   "cell_type": "code",
   "execution_count": null,
   "id": "37895869-c994-4107-81a4-831498f37367",
   "metadata": {},
   "outputs": [],
   "source": [
    "df3"
   ]
  },
  {
   "cell_type": "code",
   "execution_count": null,
   "id": "7c103277-ef22-4c65-939b-b5f64c3b45b3",
   "metadata": {},
   "outputs": [],
   "source": [
    "df2"
   ]
  },
  {
   "cell_type": "code",
   "execution_count": null,
   "id": "f91da850-df2b-4733-93de-c6750ac94e4b",
   "metadata": {},
   "outputs": [],
   "source": [
    "df2['percents']>90"
   ]
  },
  {
   "cell_type": "code",
   "execution_count": null,
   "id": "6af70b08-5bab-4363-8e8e-5b933dd7ead4",
   "metadata": {},
   "outputs": [],
   "source": [
    "df2[df2['percents']>90]"
   ]
  },
  {
   "cell_type": "code",
   "execution_count": null,
   "id": "d090a3c9-e5c4-47ce-b7e1-e9621f1a5f90",
   "metadata": {},
   "outputs": [],
   "source": [
    "df2[df2['percents']<90]"
   ]
  },
  {
   "cell_type": "code",
   "execution_count": null,
   "id": "d4e75d74-6101-4cfd-be88-7910c6337da1",
   "metadata": {},
   "outputs": [],
   "source": [
    "df2[df2['percents']==90]"
   ]
  },
  {
   "cell_type": "code",
   "execution_count": null,
   "id": "972467d6-c172-43cd-b03e-99875e11a61c",
   "metadata": {},
   "outputs": [],
   "source": [
    "arr1=np.where(df2['percents']>=90,'yes','no')"
   ]
  },
  {
   "cell_type": "code",
   "execution_count": null,
   "id": "1286b256-086d-4812-9188-5c1d7917b579",
   "metadata": {},
   "outputs": [],
   "source": [
    "arr1"
   ]
  },
  {
   "cell_type": "code",
   "execution_count": null,
   "id": "ac62b191-cbfe-405a-aec6-21a6ec1b035e",
   "metadata": {},
   "outputs": [],
   "source": [
    "print(arr1)"
   ]
  },
  {
   "cell_type": "code",
   "execution_count": null,
   "id": "e5107463-6b12-449e-949d-367ca16b6d6d",
   "metadata": {},
   "outputs": [],
   "source": [
    "df2['good']=arr1"
   ]
  },
  {
   "cell_type": "code",
   "execution_count": null,
   "id": "17c58e7a-7b33-4d33-9bd3-d8e812a4e829",
   "metadata": {},
   "outputs": [],
   "source": [
    "df2"
   ]
  },
  {
   "cell_type": "code",
   "execution_count": null,
   "id": "b97582db-307b-459f-9dcc-ac628ae73cc2",
   "metadata": {},
   "outputs": [],
   "source": [
    "df2.loc[3]=['Ling','104','100','yes']"
   ]
  },
  {
   "cell_type": "code",
   "execution_count": null,
   "id": "f2fcf8f1-0749-443c-8755-0e9cf31ca2fe",
   "metadata": {},
   "outputs": [],
   "source": [
    "df2"
   ]
  },
  {
   "cell_type": "code",
   "execution_count": null,
   "id": "e4691ed2-69a3-4648-86f8-249321e96361",
   "metadata": {},
   "outputs": [],
   "source": [
    "# the above thing can be done by"
   ]
  },
  {
   "cell_type": "code",
   "execution_count": null,
   "id": "27bfa3aa-49da-4feb-b793-6dfcdb167c74",
   "metadata": {},
   "outputs": [],
   "source": [
    "def cal_grades(percent):\n",
    "    if percent>=95:\n",
    "        return 'A'\n",
    "    else:\n",
    "        return 'B'\n",
    "\n",
    "df2['grades']=df2['percents'].apply(cal_grades)"
   ]
  },
  {
   "cell_type": "code",
   "execution_count": null,
   "id": "56d174ec-c5c8-4d43-b108-32b0d0a51f2b",
   "metadata": {},
   "outputs": [],
   "source": [
    "df2.drop([3],axis=0,inplace=True)"
   ]
  },
  {
   "cell_type": "code",
   "execution_count": null,
   "id": "f39f762b-f0e5-4a47-8836-2f0a453f8351",
   "metadata": {},
   "outputs": [],
   "source": [
    "df2"
   ]
  },
  {
   "cell_type": "code",
   "execution_count": null,
   "id": "a521c2af-fa60-4251-8de0-5611ced93a04",
   "metadata": {},
   "outputs": [],
   "source": [
    "df2.loc[3]=['Ling','104',100,'yes']"
   ]
  },
  {
   "cell_type": "code",
   "execution_count": null,
   "id": "50b246cd-7930-42e9-b497-09f21b6b67a1",
   "metadata": {},
   "outputs": [],
   "source": [
    "df2"
   ]
  },
  {
   "cell_type": "code",
   "execution_count": null,
   "id": "3773cc50-7c54-4437-9a4e-5f3fa93c9148",
   "metadata": {},
   "outputs": [],
   "source": [
    "print(type(df2['percents']))"
   ]
  },
  {
   "cell_type": "code",
   "execution_count": null,
   "id": "9bf59f34-66b2-4be9-9510-e59f5fb43e21",
   "metadata": {},
   "outputs": [],
   "source": [
    "def cal_grades(percent):\n",
    "    if percent>=95:\n",
    "        return 'A'\n",
    "    else:\n",
    "        return 'B'\n",
    "\n",
    "df2['grades']=df2['percents'].apply(cal_grades)"
   ]
  },
  {
   "cell_type": "code",
   "execution_count": null,
   "id": "12796c12-90c6-4a4a-a1ff-4f50da12690a",
   "metadata": {},
   "outputs": [],
   "source": [
    "df2"
   ]
  },
  {
   "cell_type": "code",
   "execution_count": null,
   "id": "43a8d6d7-ea7f-4218-aa7b-9432cb77837b",
   "metadata": {},
   "outputs": [],
   "source": [
    "df2.describe"
   ]
  },
  {
   "cell_type": "code",
   "execution_count": null,
   "id": "a3d9b895-ebd5-4057-9d4d-242714492ce0",
   "metadata": {},
   "outputs": [],
   "source": [
    "df2.describe()"
   ]
  },
  {
   "cell_type": "code",
   "execution_count": null,
   "id": "4812fe17-60b5-474c-b7c8-2f21792b4e7b",
   "metadata": {},
   "outputs": [],
   "source": [
    "# 15nov"
   ]
  },
  {
   "cell_type": "code",
   "execution_count": null,
   "id": "39b5441f-814c-4a5d-b56f-5b5a8ff674fc",
   "metadata": {},
   "outputs": [],
   "source": [
    "data={'Company':['A','B','C','D'],\n",
    "     'Year':[2019,2020,2021,2022],\n",
    "     'Sales':[100,89,90,91],\n",
    "     'Profits':[11,9,4,5]}"
   ]
  },
  {
   "cell_type": "code",
   "execution_count": null,
   "id": "f47696bc-40d1-4857-a435-ca4ce335c504",
   "metadata": {},
   "outputs": [],
   "source": [
    "df1=pd.DataFrame(data)"
   ]
  },
  {
   "cell_type": "code",
   "execution_count": null,
   "id": "d0447473-e7fa-4206-bb6b-cf23afb0d9fc",
   "metadata": {},
   "outputs": [],
   "source": [
    "df1"
   ]
  },
  {
   "cell_type": "code",
   "execution_count": null,
   "id": "de7db72d-973c-4163-88cf-3e0ed999bb35",
   "metadata": {},
   "outputs": [],
   "source": [
    "df1['Year']"
   ]
  },
  {
   "cell_type": "code",
   "execution_count": null,
   "id": "95e764b4-117d-4384-9786-5a3e21c8d389",
   "metadata": {},
   "outputs": [],
   "source": [
    "df1.describe()"
   ]
  },
  {
   "cell_type": "code",
   "execution_count": null,
   "id": "728a3982-b945-4e85-9084-8f9c37ff1569",
   "metadata": {},
   "outputs": [],
   "source": [
    "df1.isnull()"
   ]
  },
  {
   "cell_type": "code",
   "execution_count": null,
   "id": "4905e567-b97f-4027-ae02-40bd7ef29aa5",
   "metadata": {},
   "outputs": [],
   "source": [
    "df1.isnull"
   ]
  },
  {
   "cell_type": "code",
   "execution_count": null,
   "id": "544082a5-4e40-461d-a9e6-af50f2e49faa",
   "metadata": {},
   "outputs": [],
   "source": [
    "print(type(df1['Year'][0]))"
   ]
  },
  {
   "cell_type": "code",
   "execution_count": null,
   "id": "c66f2a04-4d87-4f7a-90d5-c5d5d591bb43",
   "metadata": {},
   "outputs": [],
   "source": [
    "df1['Year']"
   ]
  },
  {
   "cell_type": "code",
   "execution_count": null,
   "id": "d2aca5be-3b7c-4dc3-8dd4-e394582b9b45",
   "metadata": {},
   "outputs": [],
   "source": [
    "# type convertion"
   ]
  },
  {
   "cell_type": "code",
   "execution_count": null,
   "id": "84769228-34cf-418f-9d6c-c7024951cf9c",
   "metadata": {},
   "outputs": [],
   "source": [
    "df1.describe(include=None)"
   ]
  },
  {
   "cell_type": "code",
   "execution_count": null,
   "id": "3fea59c7-c17e-4a0f-800b-51ca0b314caa",
   "metadata": {},
   "outputs": [],
   "source": [
    "df1.info()"
   ]
  },
  {
   "cell_type": "code",
   "execution_count": null,
   "id": "af53842e-b9c3-461d-bdbc-7f18cc4c49b9",
   "metadata": {},
   "outputs": [],
   "source": [
    "df1['Year'].astype(object)"
   ]
  },
  {
   "cell_type": "code",
   "execution_count": null,
   "id": "a20a3e70-cebb-4bdd-af01-70be2a1294e5",
   "metadata": {},
   "outputs": [],
   "source": [
    "df1.info()"
   ]
  },
  {
   "cell_type": "code",
   "execution_count": null,
   "id": "5767953f-4bc6-4e41-a333-245c360225ae",
   "metadata": {},
   "outputs": [],
   "source": [
    "df1['Company']"
   ]
  },
  {
   "cell_type": "code",
   "execution_count": null,
   "id": "3a64373b-fed4-46fb-9cd6-0ff303ee3bb6",
   "metadata": {},
   "outputs": [],
   "source": [
    "df1['Year'].value_counts()"
   ]
  },
  {
   "cell_type": "code",
   "execution_count": null,
   "id": "091e2bc4-1afc-4055-8434-d99850ecb7be",
   "metadata": {},
   "outputs": [],
   "source": [
    "df1['Profits']"
   ]
  },
  {
   "cell_type": "code",
   "execution_count": null,
   "id": "e135b005-478e-43bd-8f8b-30aa7114533d",
   "metadata": {},
   "outputs": [],
   "source": [
    "df1['Sales']"
   ]
  },
  {
   "cell_type": "code",
   "execution_count": null,
   "id": "ed6b162a-a669-4095-869e-eca61dba0b08",
   "metadata": {},
   "outputs": [],
   "source": [
    "# fetch the rows which has only company B"
   ]
  },
  {
   "cell_type": "code",
   "execution_count": null,
   "id": "6f528e59-1071-4fb1-9c6d-ffa67cf53a36",
   "metadata": {},
   "outputs": [],
   "source": [
    "df1['Company']=='B'"
   ]
  },
  {
   "cell_type": "code",
   "execution_count": null,
   "id": "89ae9617-68f1-47cf-afc4-9a83e9da14c2",
   "metadata": {},
   "outputs": [],
   "source": [
    "df1[df1['Company']=='B']"
   ]
  },
  {
   "cell_type": "code",
   "execution_count": null,
   "id": "2135de2b-b2d7-4195-936b-0df58d99dcef",
   "metadata": {},
   "outputs": [],
   "source": [
    "df1[df1['Sales']>=90]"
   ]
  },
  {
   "cell_type": "code",
   "execution_count": null,
   "id": "7eec2b4c-48fb-4bf4-bfb1-5c21e3ee9d08",
   "metadata": {},
   "outputs": [],
   "source": [
    "df1[df1['Sales']>=90]['Company']"
   ]
  },
  {
   "cell_type": "code",
   "execution_count": null,
   "id": "9686f509-db02-4c5c-b288-fff894ab03ae",
   "metadata": {},
   "outputs": [],
   "source": [
    "df1[df1['Sales']>=90]['Profits']"
   ]
  },
  {
   "cell_type": "code",
   "execution_count": null,
   "id": "86b1c617-12fe-407a-82bb-87cabe4a706e",
   "metadata": {},
   "outputs": [],
   "source": [
    "df1[df1['Company']=='B']"
   ]
  },
  {
   "cell_type": "code",
   "execution_count": null,
   "id": "91a1dd5a-88d8-4809-b6bd-c894fddfabea",
   "metadata": {},
   "outputs": [],
   "source": [
    "df1['Company']"
   ]
  },
  {
   "cell_type": "code",
   "execution_count": null,
   "id": "a880064f-6f98-413c-8aae-6f015cfaaefa",
   "metadata": {},
   "outputs": [],
   "source": [
    "df1[df1['Company']=='B']"
   ]
  },
  {
   "cell_type": "code",
   "execution_count": null,
   "id": "5cdb2d60-2fdd-4af1-8f8f-53e5976c06c0",
   "metadata": {},
   "outputs": [],
   "source": [
    "df1[df1['Company']=='B']['Sales']"
   ]
  },
  {
   "cell_type": "code",
   "execution_count": null,
   "id": "47c8e768-961f-4b92-a9ba-ad2480a4edad",
   "metadata": {},
   "outputs": [],
   "source": [
    "df1[df1['Sales']>70].value_counts()"
   ]
  },
  {
   "cell_type": "code",
   "execution_count": null,
   "id": "83116493-1e2b-4071-8735-f8dbe59ca824",
   "metadata": {},
   "outputs": [],
   "source": [
    "df1[df1['Profits']<70]['Profits']"
   ]
  },
  {
   "cell_type": "code",
   "execution_count": null,
   "id": "4ad0189c-9bcd-4c11-bb2a-c6488fae2964",
   "metadata": {},
   "outputs": [],
   "source": [
    "df1[df1['Profits']<70][['Year','Company']]"
   ]
  },
  {
   "cell_type": "code",
   "execution_count": null,
   "id": "94973c74-0efa-4ddd-9b8b-5acd5b3c4f6e",
   "metadata": {},
   "outputs": [],
   "source": [
    "df1[(df1['Company']=='A') & (df1['Profits']<40)]"
   ]
  },
  {
   "cell_type": "code",
   "execution_count": null,
   "id": "b103ea20-e721-468d-8e05-c51ee0522fa6",
   "metadata": {},
   "outputs": [],
   "source": [
    "df1[(df1['Sales']>100) | (df1['Profits']>10)]"
   ]
  },
  {
   "cell_type": "code",
   "execution_count": null,
   "id": "2b2f4be8-83ec-480b-95cf-efffa058a140",
   "metadata": {},
   "outputs": [],
   "source": [
    "df1[df1['Profits']<40]"
   ]
  },
  {
   "cell_type": "code",
   "execution_count": null,
   "id": "cd53e247-bbe7-455e-a36c-df776dcca482",
   "metadata": {},
   "outputs": [],
   "source": [
    "# query"
   ]
  },
  {
   "cell_type": "code",
   "execution_count": null,
   "id": "3684f287-ceb8-437e-9c7a-fcef689e2456",
   "metadata": {},
   "outputs": [],
   "source": [
    "df1.query(\"Company=='A'\")"
   ]
  },
  {
   "cell_type": "code",
   "execution_count": null,
   "id": "22d35888-1fe5-4935-a3b7-6d6940f11ad6",
   "metadata": {},
   "outputs": [],
   "source": [
    "df1.query(\"Company=='A' and Profits>30\")"
   ]
  },
  {
   "cell_type": "code",
   "execution_count": null,
   "id": "652f97f5-74ef-4a84-bdbe-14aedb15faae",
   "metadata": {},
   "outputs": [],
   "source": [
    "df1.query(\"Company=='A' or Profits>30\")"
   ]
  },
  {
   "cell_type": "code",
   "execution_count": null,
   "id": "775958da-52bb-4e92-8989-cc3a252cff13",
   "metadata": {},
   "outputs": [],
   "source": [
    "# find mean of profit of company A"
   ]
  },
  {
   "cell_type": "code",
   "execution_count": null,
   "id": "712f7849-35aa-44bc-ab75-06a641ba8ff9",
   "metadata": {},
   "outputs": [],
   "source": [
    "df1[df1['Company']=='A']['Profits']"
   ]
  },
  {
   "cell_type": "code",
   "execution_count": null,
   "id": "0e2b0d9b-0dc4-4481-9c57-f79826cd92df",
   "metadata": {},
   "outputs": [],
   "source": [
    "df1[df1['Company']=='A']['Profits'].mean()"
   ]
  },
  {
   "cell_type": "code",
   "execution_count": null,
   "id": "11a64f5a-fbe3-4eb7-957e-9748a75ae901",
   "metadata": {},
   "outputs": [],
   "source": [
    "df1['Company'].mode()"
   ]
  },
  {
   "cell_type": "code",
   "execution_count": null,
   "id": "f44d78ac-acb4-48aa-bb4b-0b7d579f1df5",
   "metadata": {},
   "outputs": [],
   "source": [
    "df1['Company'].describe()"
   ]
  },
  {
   "cell_type": "code",
   "execution_count": null,
   "id": "cc52e8a0-6c3d-4071-9a80-e79afd8ae525",
   "metadata": {},
   "outputs": [],
   "source": [
    "df1.describe()"
   ]
  },
  {
   "cell_type": "code",
   "execution_count": null,
   "id": "ed00a062-8921-44e3-993e-f60c49df9671",
   "metadata": {},
   "outputs": [],
   "source": [
    "df1['Year'].mode()"
   ]
  },
  {
   "cell_type": "code",
   "execution_count": null,
   "id": "6722fcdc-9d2b-4ee1-9598-12ff2e57495a",
   "metadata": {},
   "outputs": [],
   "source": [
    "df1['Year'].max()"
   ]
  },
  {
   "cell_type": "code",
   "execution_count": null,
   "id": "be0da9c7-be49-4290-ad0b-61ae9b559338",
   "metadata": {},
   "outputs": [],
   "source": [
    "df1.info()"
   ]
  },
  {
   "cell_type": "code",
   "execution_count": null,
   "id": "4698e2ed-1e96-48c5-946f-f3818b33048e",
   "metadata": {},
   "outputs": [],
   "source": [
    "df1.describe()"
   ]
  },
  {
   "cell_type": "code",
   "execution_count": null,
   "id": "6c8278cb-cecc-4d69-99a8-83c5bdb0051a",
   "metadata": {},
   "outputs": [],
   "source": [
    "df1['Sales'].quantile()"
   ]
  },
  {
   "cell_type": "code",
   "execution_count": null,
   "id": "9bdd38f6-c454-40eb-962b-b01f72e817e9",
   "metadata": {},
   "outputs": [],
   "source": [
    "df1['Sales'].quantile(.25)"
   ]
  },
  {
   "cell_type": "code",
   "execution_count": null,
   "id": "eeb846d4-9a30-4a1a-8510-ba82951dc8e0",
   "metadata": {},
   "outputs": [],
   "source": [
    "df1['Sales'].quantile(1)"
   ]
  },
  {
   "cell_type": "code",
   "execution_count": null,
   "id": "992478e2-246e-4f81-81f8-bcdbbdb604d6",
   "metadata": {},
   "outputs": [],
   "source": [
    "df1['Sales'].quantile(0.5)"
   ]
  },
  {
   "cell_type": "code",
   "execution_count": null,
   "id": "59c6af53-d686-4e0b-a981-00cd6bf1d701",
   "metadata": {},
   "outputs": [],
   "source": [
    "# pivot: - Index, column, and row"
   ]
  },
  {
   "cell_type": "code",
   "execution_count": null,
   "id": "b2407c95-cb4d-4033-80b4-b1956f60000d",
   "metadata": {},
   "outputs": [],
   "source": [
    "pivot_df=df1.pivot(index='Company',columns='Year',values='Sales')"
   ]
  },
  {
   "cell_type": "code",
   "execution_count": null,
   "id": "4d04ec27-bb4a-4e40-a728-7dcd3760aa66",
   "metadata": {},
   "outputs": [],
   "source": [
    "print(pivot_df)"
   ]
  },
  {
   "cell_type": "code",
   "execution_count": null,
   "id": "90d895fb-1a9e-4a2d-b005-7a7bbc14cb8d",
   "metadata": {},
   "outputs": [],
   "source": [
    "pivot_df=df1.pivot(index='Company',columns='Year',values=['Sales','Profits'])"
   ]
  },
  {
   "cell_type": "code",
   "execution_count": null,
   "id": "cac6d4d2-a438-4b15-97c8-04027204d224",
   "metadata": {},
   "outputs": [],
   "source": [
    "print(pivot_df)"
   ]
  },
  {
   "cell_type": "code",
   "execution_count": null,
   "id": "85e39851-fc64-43f9-8e11-fa6901b82c44",
   "metadata": {},
   "outputs": [],
   "source": [
    "df1"
   ]
  },
  {
   "cell_type": "code",
   "execution_count": 135,
   "id": "4b286e3e-75a0-4d03-a761-8affa5809529",
   "metadata": {},
   "outputs": [],
   "source": [
    "# concatination in pandas"
   ]
  },
  {
   "cell_type": "code",
   "execution_count": 136,
   "id": "67db7e1c-532c-41fa-8579-849124e06e68",
   "metadata": {},
   "outputs": [],
   "source": [
    "# min, max, sum,  are normal python function"
   ]
  },
  {
   "cell_type": "code",
   "execution_count": 137,
   "id": "92fa6822-fce2-4530-be0b-ecf1acb2aa5a",
   "metadata": {},
   "outputs": [],
   "source": [
    "li=[1,2,3,4,5]"
   ]
  },
  {
   "cell_type": "code",
   "execution_count": 138,
   "id": "ec32f670-3b37-4236-a1ea-cf7a05913da8",
   "metadata": {},
   "outputs": [
    {
     "name": "stdout",
     "output_type": "stream",
     "text": [
      "15\n"
     ]
    }
   ],
   "source": [
    "print(sum(li))"
   ]
  },
  {
   "cell_type": "code",
   "execution_count": 139,
   "id": "8408a828-e0c6-407e-97cb-8fe65cb8f72c",
   "metadata": {},
   "outputs": [
    {
     "name": "stdout",
     "output_type": "stream",
     "text": [
      "1\n"
     ]
    }
   ],
   "source": [
    "print(min(li))"
   ]
  },
  {
   "cell_type": "code",
   "execution_count": 140,
   "id": "3e9dc872-22a0-4260-818e-dfd4174f10a4",
   "metadata": {},
   "outputs": [
    {
     "name": "stdout",
     "output_type": "stream",
     "text": [
      "5\n"
     ]
    }
   ],
   "source": [
    "print(max(li))"
   ]
  },
  {
   "cell_type": "code",
   "execution_count": 149,
   "id": "343df9af-a925-46f0-8048-6e79dfd6c863",
   "metadata": {},
   "outputs": [],
   "source": [
    "# for mean we need to go by numpy mean"
   ]
  },
  {
   "cell_type": "code",
   "execution_count": 150,
   "id": "1349a9ca-15a6-40b0-a722-cfa721f99d0c",
   "metadata": {},
   "outputs": [
    {
     "name": "stdout",
     "output_type": "stream",
     "text": [
      "3.0\n"
     ]
    }
   ],
   "source": [
    "print(np.mean(li))"
   ]
  },
  {
   "cell_type": "code",
   "execution_count": 151,
   "id": "8c5b6f6b-5664-43f2-b389-26a17ce939de",
   "metadata": {},
   "outputs": [
    {
     "name": "stdout",
     "output_type": "stream",
     "text": [
      "3.0\n"
     ]
    }
   ],
   "source": [
    "print(np.median(li))"
   ]
  },
  {
   "cell_type": "code",
   "execution_count": 152,
   "id": "a56080a5-ffff-4f51-be6b-6711d5c2362e",
   "metadata": {},
   "outputs": [],
   "source": [
    "mean=sum(li)/len(li)"
   ]
  },
  {
   "cell_type": "code",
   "execution_count": 153,
   "id": "6fbfb500-1bca-4909-a997-0825c33b4b1e",
   "metadata": {},
   "outputs": [
    {
     "name": "stdout",
     "output_type": "stream",
     "text": [
      "3.0\n"
     ]
    }
   ],
   "source": [
    "print(mean)"
   ]
  },
  {
   "cell_type": "code",
   "execution_count": 154,
   "id": "069fd760-1759-48de-a176-b543f303cff5",
   "metadata": {},
   "outputs": [],
   "source": [
    "# concatinaton:- "
   ]
  },
  {
   "cell_type": "code",
   "execution_count": 155,
   "id": "df7fadfa-7315-44f8-aacc-16fa72ea3475",
   "metadata": {},
   "outputs": [],
   "source": [
    "df1={'ids':[101,102,103,104],\n",
    "    'names':['Naveen','Shetty','Veeresh','Shetty'],\n",
    "    'percent':[85,95,90,97]}"
   ]
  },
  {
   "cell_type": "code",
   "execution_count": 156,
   "id": "476ebbc5-c176-410a-94c1-2ee538fc82c7",
   "metadata": {},
   "outputs": [],
   "source": [
    "df1_1=pd.DataFrame(df1)"
   ]
  },
  {
   "cell_type": "code",
   "execution_count": 157,
   "id": "c0ad585a-57c5-4069-b4e1-ae062a47e1cb",
   "metadata": {},
   "outputs": [
    {
     "name": "stdout",
     "output_type": "stream",
     "text": [
      "   ids    names  percent\n",
      "0  101   Naveen       85\n",
      "1  102   Shetty       95\n",
      "2  103  Veeresh       90\n",
      "3  104   Shetty       97\n"
     ]
    }
   ],
   "source": [
    "print(df1_1)"
   ]
  },
  {
   "cell_type": "code",
   "execution_count": 158,
   "id": "f17b7378-da5b-430f-8d28-9db074748584",
   "metadata": {},
   "outputs": [],
   "source": [
    "df2={'ids':[201,202,203,204],\n",
    "    'names':['Naveenn','Shettyy','Veereshh','Shettyy'],\n",
    "    'percent':[86,96,91,98]}"
   ]
  },
  {
   "cell_type": "code",
   "execution_count": 159,
   "id": "505ebeb5-e01b-4786-b28c-335ef38408b5",
   "metadata": {},
   "outputs": [],
   "source": [
    "df2_2=pd.DataFrame(df2)"
   ]
  },
  {
   "cell_type": "code",
   "execution_count": 160,
   "id": "9fa1b4e6-d50a-4bcd-be6b-9ddcde516435",
   "metadata": {},
   "outputs": [
    {
     "name": "stdout",
     "output_type": "stream",
     "text": [
      "   ids     names  percent\n",
      "0  201   Naveenn       86\n",
      "1  202   Shettyy       96\n",
      "2  203  Veereshh       91\n",
      "3  204   Shettyy       98\n"
     ]
    }
   ],
   "source": [
    "print(df2_2)"
   ]
  },
  {
   "cell_type": "code",
   "execution_count": 161,
   "id": "95f3dfa2-83f4-4a30-bee3-97bffb1e195a",
   "metadata": {},
   "outputs": [
    {
     "data": {
      "text/html": [
       "<div>\n",
       "<style scoped>\n",
       "    .dataframe tbody tr th:only-of-type {\n",
       "        vertical-align: middle;\n",
       "    }\n",
       "\n",
       "    .dataframe tbody tr th {\n",
       "        vertical-align: top;\n",
       "    }\n",
       "\n",
       "    .dataframe thead th {\n",
       "        text-align: right;\n",
       "    }\n",
       "</style>\n",
       "<table border=\"1\" class=\"dataframe\">\n",
       "  <thead>\n",
       "    <tr style=\"text-align: right;\">\n",
       "      <th></th>\n",
       "      <th>ids</th>\n",
       "      <th>names</th>\n",
       "      <th>percent</th>\n",
       "    </tr>\n",
       "  </thead>\n",
       "  <tbody>\n",
       "    <tr>\n",
       "      <th>0</th>\n",
       "      <td>302</td>\n",
       "      <td>NaveenNaveenn</td>\n",
       "      <td>171</td>\n",
       "    </tr>\n",
       "    <tr>\n",
       "      <th>1</th>\n",
       "      <td>304</td>\n",
       "      <td>ShettyShettyy</td>\n",
       "      <td>191</td>\n",
       "    </tr>\n",
       "    <tr>\n",
       "      <th>2</th>\n",
       "      <td>306</td>\n",
       "      <td>VeereshVeereshh</td>\n",
       "      <td>181</td>\n",
       "    </tr>\n",
       "    <tr>\n",
       "      <th>3</th>\n",
       "      <td>308</td>\n",
       "      <td>ShettyShettyy</td>\n",
       "      <td>195</td>\n",
       "    </tr>\n",
       "  </tbody>\n",
       "</table>\n",
       "</div>"
      ],
      "text/plain": [
       "   ids            names  percent\n",
       "0  302    NaveenNaveenn      171\n",
       "1  304    ShettyShettyy      191\n",
       "2  306  VeereshVeereshh      181\n",
       "3  308    ShettyShettyy      195"
      ]
     },
     "execution_count": 161,
     "metadata": {},
     "output_type": "execute_result"
    }
   ],
   "source": [
    "df1_1+df2_2"
   ]
  },
  {
   "cell_type": "code",
   "execution_count": 167,
   "id": "cb0dca15-d0c4-4072-87e9-6bf98f76811b",
   "metadata": {},
   "outputs": [
    {
     "data": {
      "text/html": [
       "<div>\n",
       "<style scoped>\n",
       "    .dataframe tbody tr th:only-of-type {\n",
       "        vertical-align: middle;\n",
       "    }\n",
       "\n",
       "    .dataframe tbody tr th {\n",
       "        vertical-align: top;\n",
       "    }\n",
       "\n",
       "    .dataframe thead th {\n",
       "        text-align: right;\n",
       "    }\n",
       "</style>\n",
       "<table border=\"1\" class=\"dataframe\">\n",
       "  <thead>\n",
       "    <tr style=\"text-align: right;\">\n",
       "      <th></th>\n",
       "      <th>ids</th>\n",
       "      <th>names</th>\n",
       "      <th>percent</th>\n",
       "    </tr>\n",
       "  </thead>\n",
       "  <tbody>\n",
       "    <tr>\n",
       "      <th>0</th>\n",
       "      <td>101</td>\n",
       "      <td>Naveen</td>\n",
       "      <td>85</td>\n",
       "    </tr>\n",
       "    <tr>\n",
       "      <th>1</th>\n",
       "      <td>102</td>\n",
       "      <td>Shetty</td>\n",
       "      <td>95</td>\n",
       "    </tr>\n",
       "    <tr>\n",
       "      <th>2</th>\n",
       "      <td>103</td>\n",
       "      <td>Veeresh</td>\n",
       "      <td>90</td>\n",
       "    </tr>\n",
       "    <tr>\n",
       "      <th>3</th>\n",
       "      <td>104</td>\n",
       "      <td>Shetty</td>\n",
       "      <td>97</td>\n",
       "    </tr>\n",
       "    <tr>\n",
       "      <th>0</th>\n",
       "      <td>201</td>\n",
       "      <td>Naveenn</td>\n",
       "      <td>86</td>\n",
       "    </tr>\n",
       "    <tr>\n",
       "      <th>1</th>\n",
       "      <td>202</td>\n",
       "      <td>Shettyy</td>\n",
       "      <td>96</td>\n",
       "    </tr>\n",
       "    <tr>\n",
       "      <th>2</th>\n",
       "      <td>203</td>\n",
       "      <td>Veereshh</td>\n",
       "      <td>91</td>\n",
       "    </tr>\n",
       "    <tr>\n",
       "      <th>3</th>\n",
       "      <td>204</td>\n",
       "      <td>Shettyy</td>\n",
       "      <td>98</td>\n",
       "    </tr>\n",
       "  </tbody>\n",
       "</table>\n",
       "</div>"
      ],
      "text/plain": [
       "   ids     names  percent\n",
       "0  101    Naveen       85\n",
       "1  102    Shetty       95\n",
       "2  103   Veeresh       90\n",
       "3  104    Shetty       97\n",
       "0  201   Naveenn       86\n",
       "1  202   Shettyy       96\n",
       "2  203  Veereshh       91\n",
       "3  204   Shettyy       98"
      ]
     },
     "execution_count": 167,
     "metadata": {},
     "output_type": "execute_result"
    }
   ],
   "source": [
    "pd.concat([df1_1,df2_2])"
   ]
  },
  {
   "cell_type": "code",
   "execution_count": 162,
   "id": "33ea3faa-e5d8-450f-9b1e-54e1a596c02b",
   "metadata": {},
   "outputs": [],
   "source": [
    "# we need to add"
   ]
  },
  {
   "cell_type": "code",
   "execution_count": 166,
   "id": "28511222-d3a7-4e18-b6e9-0f6752070b57",
   "metadata": {},
   "outputs": [
    {
     "data": {
      "text/html": [
       "<div>\n",
       "<style scoped>\n",
       "    .dataframe tbody tr th:only-of-type {\n",
       "        vertical-align: middle;\n",
       "    }\n",
       "\n",
       "    .dataframe tbody tr th {\n",
       "        vertical-align: top;\n",
       "    }\n",
       "\n",
       "    .dataframe thead th {\n",
       "        text-align: right;\n",
       "    }\n",
       "</style>\n",
       "<table border=\"1\" class=\"dataframe\">\n",
       "  <thead>\n",
       "    <tr style=\"text-align: right;\">\n",
       "      <th></th>\n",
       "      <th>ids</th>\n",
       "      <th>names</th>\n",
       "      <th>percent</th>\n",
       "    </tr>\n",
       "  </thead>\n",
       "  <tbody>\n",
       "    <tr>\n",
       "      <th>0</th>\n",
       "      <td>101</td>\n",
       "      <td>Naveen</td>\n",
       "      <td>85</td>\n",
       "    </tr>\n",
       "    <tr>\n",
       "      <th>1</th>\n",
       "      <td>102</td>\n",
       "      <td>Shetty</td>\n",
       "      <td>95</td>\n",
       "    </tr>\n",
       "    <tr>\n",
       "      <th>2</th>\n",
       "      <td>103</td>\n",
       "      <td>Veeresh</td>\n",
       "      <td>90</td>\n",
       "    </tr>\n",
       "    <tr>\n",
       "      <th>3</th>\n",
       "      <td>104</td>\n",
       "      <td>Shetty</td>\n",
       "      <td>97</td>\n",
       "    </tr>\n",
       "    <tr>\n",
       "      <th>4</th>\n",
       "      <td>201</td>\n",
       "      <td>Naveenn</td>\n",
       "      <td>86</td>\n",
       "    </tr>\n",
       "    <tr>\n",
       "      <th>5</th>\n",
       "      <td>202</td>\n",
       "      <td>Shettyy</td>\n",
       "      <td>96</td>\n",
       "    </tr>\n",
       "    <tr>\n",
       "      <th>6</th>\n",
       "      <td>203</td>\n",
       "      <td>Veereshh</td>\n",
       "      <td>91</td>\n",
       "    </tr>\n",
       "    <tr>\n",
       "      <th>7</th>\n",
       "      <td>204</td>\n",
       "      <td>Shettyy</td>\n",
       "      <td>98</td>\n",
       "    </tr>\n",
       "  </tbody>\n",
       "</table>\n",
       "</div>"
      ],
      "text/plain": [
       "   ids     names  percent\n",
       "0  101    Naveen       85\n",
       "1  102    Shetty       95\n",
       "2  103   Veeresh       90\n",
       "3  104    Shetty       97\n",
       "4  201   Naveenn       86\n",
       "5  202   Shettyy       96\n",
       "6  203  Veereshh       91\n",
       "7  204   Shettyy       98"
      ]
     },
     "execution_count": 166,
     "metadata": {},
     "output_type": "execute_result"
    }
   ],
   "source": [
    "pd.concat([df1_1,df2_2],ignore_index=True)"
   ]
  },
  {
   "cell_type": "code",
   "execution_count": 168,
   "id": "36fdce49-8abf-4889-aa6e-ae56b06c6a7d",
   "metadata": {},
   "outputs": [
    {
     "data": {
      "text/html": [
       "<div>\n",
       "<style scoped>\n",
       "    .dataframe tbody tr th:only-of-type {\n",
       "        vertical-align: middle;\n",
       "    }\n",
       "\n",
       "    .dataframe tbody tr th {\n",
       "        vertical-align: top;\n",
       "    }\n",
       "\n",
       "    .dataframe thead th {\n",
       "        text-align: right;\n",
       "    }\n",
       "</style>\n",
       "<table border=\"1\" class=\"dataframe\">\n",
       "  <thead>\n",
       "    <tr style=\"text-align: right;\">\n",
       "      <th></th>\n",
       "      <th></th>\n",
       "      <th>ids</th>\n",
       "      <th>names</th>\n",
       "      <th>percent</th>\n",
       "    </tr>\n",
       "  </thead>\n",
       "  <tbody>\n",
       "    <tr>\n",
       "      <th rowspan=\"4\" valign=\"top\">batch1</th>\n",
       "      <th>0</th>\n",
       "      <td>101</td>\n",
       "      <td>Naveen</td>\n",
       "      <td>85</td>\n",
       "    </tr>\n",
       "    <tr>\n",
       "      <th>1</th>\n",
       "      <td>102</td>\n",
       "      <td>Shetty</td>\n",
       "      <td>95</td>\n",
       "    </tr>\n",
       "    <tr>\n",
       "      <th>2</th>\n",
       "      <td>103</td>\n",
       "      <td>Veeresh</td>\n",
       "      <td>90</td>\n",
       "    </tr>\n",
       "    <tr>\n",
       "      <th>3</th>\n",
       "      <td>104</td>\n",
       "      <td>Shetty</td>\n",
       "      <td>97</td>\n",
       "    </tr>\n",
       "    <tr>\n",
       "      <th rowspan=\"4\" valign=\"top\">batch2</th>\n",
       "      <th>0</th>\n",
       "      <td>201</td>\n",
       "      <td>Naveenn</td>\n",
       "      <td>86</td>\n",
       "    </tr>\n",
       "    <tr>\n",
       "      <th>1</th>\n",
       "      <td>202</td>\n",
       "      <td>Shettyy</td>\n",
       "      <td>96</td>\n",
       "    </tr>\n",
       "    <tr>\n",
       "      <th>2</th>\n",
       "      <td>203</td>\n",
       "      <td>Veereshh</td>\n",
       "      <td>91</td>\n",
       "    </tr>\n",
       "    <tr>\n",
       "      <th>3</th>\n",
       "      <td>204</td>\n",
       "      <td>Shettyy</td>\n",
       "      <td>98</td>\n",
       "    </tr>\n",
       "  </tbody>\n",
       "</table>\n",
       "</div>"
      ],
      "text/plain": [
       "          ids     names  percent\n",
       "batch1 0  101    Naveen       85\n",
       "       1  102    Shetty       95\n",
       "       2  103   Veeresh       90\n",
       "       3  104    Shetty       97\n",
       "batch2 0  201   Naveenn       86\n",
       "       1  202   Shettyy       96\n",
       "       2  203  Veereshh       91\n",
       "       3  204   Shettyy       98"
      ]
     },
     "execution_count": 168,
     "metadata": {},
     "output_type": "execute_result"
    }
   ],
   "source": [
    "pd.concat([df1_1,df2_2],keys=['batch1','batch2'])"
   ]
  },
  {
   "cell_type": "code",
   "execution_count": 169,
   "id": "efb8f5b1-03e9-4e78-8eb0-bdafc449f3e0",
   "metadata": {},
   "outputs": [
    {
     "data": {
      "text/html": [
       "<div>\n",
       "<style scoped>\n",
       "    .dataframe tbody tr th:only-of-type {\n",
       "        vertical-align: middle;\n",
       "    }\n",
       "\n",
       "    .dataframe tbody tr th {\n",
       "        vertical-align: top;\n",
       "    }\n",
       "\n",
       "    .dataframe thead th {\n",
       "        text-align: right;\n",
       "    }\n",
       "</style>\n",
       "<table border=\"1\" class=\"dataframe\">\n",
       "  <thead>\n",
       "    <tr style=\"text-align: right;\">\n",
       "      <th></th>\n",
       "      <th></th>\n",
       "      <th>ids</th>\n",
       "      <th>names</th>\n",
       "      <th>percent</th>\n",
       "    </tr>\n",
       "  </thead>\n",
       "  <tbody>\n",
       "    <tr>\n",
       "      <th rowspan=\"4\" valign=\"top\">batch1</th>\n",
       "      <th>0</th>\n",
       "      <td>101</td>\n",
       "      <td>Naveen</td>\n",
       "      <td>85</td>\n",
       "    </tr>\n",
       "    <tr>\n",
       "      <th>1</th>\n",
       "      <td>102</td>\n",
       "      <td>Shetty</td>\n",
       "      <td>95</td>\n",
       "    </tr>\n",
       "    <tr>\n",
       "      <th>2</th>\n",
       "      <td>103</td>\n",
       "      <td>Veeresh</td>\n",
       "      <td>90</td>\n",
       "    </tr>\n",
       "    <tr>\n",
       "      <th>3</th>\n",
       "      <td>104</td>\n",
       "      <td>Shetty</td>\n",
       "      <td>97</td>\n",
       "    </tr>\n",
       "    <tr>\n",
       "      <th rowspan=\"4\" valign=\"top\">batch2</th>\n",
       "      <th>0</th>\n",
       "      <td>201</td>\n",
       "      <td>Naveenn</td>\n",
       "      <td>86</td>\n",
       "    </tr>\n",
       "    <tr>\n",
       "      <th>1</th>\n",
       "      <td>202</td>\n",
       "      <td>Shettyy</td>\n",
       "      <td>96</td>\n",
       "    </tr>\n",
       "    <tr>\n",
       "      <th>2</th>\n",
       "      <td>203</td>\n",
       "      <td>Veereshh</td>\n",
       "      <td>91</td>\n",
       "    </tr>\n",
       "    <tr>\n",
       "      <th>3</th>\n",
       "      <td>204</td>\n",
       "      <td>Shettyy</td>\n",
       "      <td>98</td>\n",
       "    </tr>\n",
       "  </tbody>\n",
       "</table>\n",
       "</div>"
      ],
      "text/plain": [
       "          ids     names  percent\n",
       "batch1 0  101    Naveen       85\n",
       "       1  102    Shetty       95\n",
       "       2  103   Veeresh       90\n",
       "       3  104    Shetty       97\n",
       "batch2 0  201   Naveenn       86\n",
       "       1  202   Shettyy       96\n",
       "       2  203  Veereshh       91\n",
       "       3  204   Shettyy       98"
      ]
     },
     "execution_count": 169,
     "metadata": {},
     "output_type": "execute_result"
    }
   ],
   "source": [
    "pd.concat([df1_1,df2_2],keys=['batch1','batch2'],axis=0)"
   ]
  },
  {
   "cell_type": "code",
   "execution_count": 170,
   "id": "9285e993-b86d-4305-b87c-65f5a4425f96",
   "metadata": {},
   "outputs": [
    {
     "data": {
      "text/html": [
       "<div>\n",
       "<style scoped>\n",
       "    .dataframe tbody tr th:only-of-type {\n",
       "        vertical-align: middle;\n",
       "    }\n",
       "\n",
       "    .dataframe tbody tr th {\n",
       "        vertical-align: top;\n",
       "    }\n",
       "\n",
       "    .dataframe thead tr th {\n",
       "        text-align: left;\n",
       "    }\n",
       "</style>\n",
       "<table border=\"1\" class=\"dataframe\">\n",
       "  <thead>\n",
       "    <tr>\n",
       "      <th></th>\n",
       "      <th colspan=\"3\" halign=\"left\">batch1</th>\n",
       "      <th colspan=\"3\" halign=\"left\">batch2</th>\n",
       "    </tr>\n",
       "    <tr>\n",
       "      <th></th>\n",
       "      <th>ids</th>\n",
       "      <th>names</th>\n",
       "      <th>percent</th>\n",
       "      <th>ids</th>\n",
       "      <th>names</th>\n",
       "      <th>percent</th>\n",
       "    </tr>\n",
       "  </thead>\n",
       "  <tbody>\n",
       "    <tr>\n",
       "      <th>0</th>\n",
       "      <td>101</td>\n",
       "      <td>Naveen</td>\n",
       "      <td>85</td>\n",
       "      <td>201</td>\n",
       "      <td>Naveenn</td>\n",
       "      <td>86</td>\n",
       "    </tr>\n",
       "    <tr>\n",
       "      <th>1</th>\n",
       "      <td>102</td>\n",
       "      <td>Shetty</td>\n",
       "      <td>95</td>\n",
       "      <td>202</td>\n",
       "      <td>Shettyy</td>\n",
       "      <td>96</td>\n",
       "    </tr>\n",
       "    <tr>\n",
       "      <th>2</th>\n",
       "      <td>103</td>\n",
       "      <td>Veeresh</td>\n",
       "      <td>90</td>\n",
       "      <td>203</td>\n",
       "      <td>Veereshh</td>\n",
       "      <td>91</td>\n",
       "    </tr>\n",
       "    <tr>\n",
       "      <th>3</th>\n",
       "      <td>104</td>\n",
       "      <td>Shetty</td>\n",
       "      <td>97</td>\n",
       "      <td>204</td>\n",
       "      <td>Shettyy</td>\n",
       "      <td>98</td>\n",
       "    </tr>\n",
       "  </tbody>\n",
       "</table>\n",
       "</div>"
      ],
      "text/plain": [
       "  batch1                  batch2                  \n",
       "     ids    names percent    ids     names percent\n",
       "0    101   Naveen      85    201   Naveenn      86\n",
       "1    102   Shetty      95    202   Shettyy      96\n",
       "2    103  Veeresh      90    203  Veereshh      91\n",
       "3    104   Shetty      97    204   Shettyy      98"
      ]
     },
     "execution_count": 170,
     "metadata": {},
     "output_type": "execute_result"
    }
   ],
   "source": [
    "pd.concat([df1_1,df2_2],keys=['batch1','batch2'],axis=1)"
   ]
  },
  {
   "cell_type": "code",
   "execution_count": 171,
   "id": "e848f8a4-6ef2-487f-88dd-d77251b9d231",
   "metadata": {},
   "outputs": [
    {
     "data": {
      "text/html": [
       "<div>\n",
       "<style scoped>\n",
       "    .dataframe tbody tr th:only-of-type {\n",
       "        vertical-align: middle;\n",
       "    }\n",
       "\n",
       "    .dataframe tbody tr th {\n",
       "        vertical-align: top;\n",
       "    }\n",
       "\n",
       "    .dataframe thead th {\n",
       "        text-align: right;\n",
       "    }\n",
       "</style>\n",
       "<table border=\"1\" class=\"dataframe\">\n",
       "  <thead>\n",
       "    <tr style=\"text-align: right;\">\n",
       "      <th></th>\n",
       "      <th>0</th>\n",
       "      <th>1</th>\n",
       "      <th>2</th>\n",
       "      <th>3</th>\n",
       "      <th>4</th>\n",
       "      <th>5</th>\n",
       "    </tr>\n",
       "  </thead>\n",
       "  <tbody>\n",
       "    <tr>\n",
       "      <th>0</th>\n",
       "      <td>101</td>\n",
       "      <td>Naveen</td>\n",
       "      <td>85</td>\n",
       "      <td>201</td>\n",
       "      <td>Naveenn</td>\n",
       "      <td>86</td>\n",
       "    </tr>\n",
       "    <tr>\n",
       "      <th>1</th>\n",
       "      <td>102</td>\n",
       "      <td>Shetty</td>\n",
       "      <td>95</td>\n",
       "      <td>202</td>\n",
       "      <td>Shettyy</td>\n",
       "      <td>96</td>\n",
       "    </tr>\n",
       "    <tr>\n",
       "      <th>2</th>\n",
       "      <td>103</td>\n",
       "      <td>Veeresh</td>\n",
       "      <td>90</td>\n",
       "      <td>203</td>\n",
       "      <td>Veereshh</td>\n",
       "      <td>91</td>\n",
       "    </tr>\n",
       "    <tr>\n",
       "      <th>3</th>\n",
       "      <td>104</td>\n",
       "      <td>Shetty</td>\n",
       "      <td>97</td>\n",
       "      <td>204</td>\n",
       "      <td>Shettyy</td>\n",
       "      <td>98</td>\n",
       "    </tr>\n",
       "  </tbody>\n",
       "</table>\n",
       "</div>"
      ],
      "text/plain": [
       "     0        1   2    3         4   5\n",
       "0  101   Naveen  85  201   Naveenn  86\n",
       "1  102   Shetty  95  202   Shettyy  96\n",
       "2  103  Veeresh  90  203  Veereshh  91\n",
       "3  104   Shetty  97  204   Shettyy  98"
      ]
     },
     "execution_count": 171,
     "metadata": {},
     "output_type": "execute_result"
    }
   ],
   "source": [
    "pd.concat([df1_1,df2_2],keys=['batch1','batch2'],axis=1,ignore_index=True)"
   ]
  },
  {
   "cell_type": "code",
   "execution_count": 172,
   "id": "2a9ffe16-0509-4b93-9300-d038a9a15a73",
   "metadata": {},
   "outputs": [],
   "source": [
    "# handling missing data using pandas python "
   ]
  },
  {
   "cell_type": "code",
   "execution_count": 173,
   "id": "8045760d-87d5-4585-8e96-27ecf579f74d",
   "metadata": {},
   "outputs": [],
   "source": [
    "student1={\n",
    "    'names':['john','Alice',None,'Naveen','coral','mark','Dan'],\n",
    "    'ids':[101,102,None,104,105,106,None],\n",
    "    'percents':[81.5,None,91.0,None,None,77.5,88.0]\n",
    "}"
   ]
  },
  {
   "cell_type": "code",
   "execution_count": 174,
   "id": "cf10f07a-714c-4a88-8835-3d9e302e2aad",
   "metadata": {},
   "outputs": [
    {
     "name": "stdout",
     "output_type": "stream",
     "text": [
      "{'names': ['john', 'Alice', None, 'Naveen', 'coral', 'mark', 'Dan'], 'ids': [101, 102, None, 104, 105, 106, None], 'percents': [81.5, None, 91.0, None, None, 77.5, 88.0]}\n"
     ]
    }
   ],
   "source": [
    "print(student1)"
   ]
  },
  {
   "cell_type": "code",
   "execution_count": 175,
   "id": "4c45dc31-511d-4320-aa31-eecf4b3a3587",
   "metadata": {},
   "outputs": [],
   "source": [
    "df1=pd.DataFrame(student1)"
   ]
  },
  {
   "cell_type": "code",
   "execution_count": 176,
   "id": "04508279-80cf-495e-b320-7ce2637e87c1",
   "metadata": {},
   "outputs": [
    {
     "data": {
      "text/html": [
       "<div>\n",
       "<style scoped>\n",
       "    .dataframe tbody tr th:only-of-type {\n",
       "        vertical-align: middle;\n",
       "    }\n",
       "\n",
       "    .dataframe tbody tr th {\n",
       "        vertical-align: top;\n",
       "    }\n",
       "\n",
       "    .dataframe thead th {\n",
       "        text-align: right;\n",
       "    }\n",
       "</style>\n",
       "<table border=\"1\" class=\"dataframe\">\n",
       "  <thead>\n",
       "    <tr style=\"text-align: right;\">\n",
       "      <th></th>\n",
       "      <th>names</th>\n",
       "      <th>ids</th>\n",
       "      <th>percents</th>\n",
       "    </tr>\n",
       "  </thead>\n",
       "  <tbody>\n",
       "    <tr>\n",
       "      <th>0</th>\n",
       "      <td>john</td>\n",
       "      <td>101.0</td>\n",
       "      <td>81.5</td>\n",
       "    </tr>\n",
       "    <tr>\n",
       "      <th>1</th>\n",
       "      <td>Alice</td>\n",
       "      <td>102.0</td>\n",
       "      <td>NaN</td>\n",
       "    </tr>\n",
       "    <tr>\n",
       "      <th>2</th>\n",
       "      <td>None</td>\n",
       "      <td>NaN</td>\n",
       "      <td>91.0</td>\n",
       "    </tr>\n",
       "    <tr>\n",
       "      <th>3</th>\n",
       "      <td>Naveen</td>\n",
       "      <td>104.0</td>\n",
       "      <td>NaN</td>\n",
       "    </tr>\n",
       "    <tr>\n",
       "      <th>4</th>\n",
       "      <td>coral</td>\n",
       "      <td>105.0</td>\n",
       "      <td>NaN</td>\n",
       "    </tr>\n",
       "    <tr>\n",
       "      <th>5</th>\n",
       "      <td>mark</td>\n",
       "      <td>106.0</td>\n",
       "      <td>77.5</td>\n",
       "    </tr>\n",
       "    <tr>\n",
       "      <th>6</th>\n",
       "      <td>Dan</td>\n",
       "      <td>NaN</td>\n",
       "      <td>88.0</td>\n",
       "    </tr>\n",
       "  </tbody>\n",
       "</table>\n",
       "</div>"
      ],
      "text/plain": [
       "    names    ids  percents\n",
       "0    john  101.0      81.5\n",
       "1   Alice  102.0       NaN\n",
       "2    None    NaN      91.0\n",
       "3  Naveen  104.0       NaN\n",
       "4   coral  105.0       NaN\n",
       "5    mark  106.0      77.5\n",
       "6     Dan    NaN      88.0"
      ]
     },
     "execution_count": 176,
     "metadata": {},
     "output_type": "execute_result"
    }
   ],
   "source": [
    "df1"
   ]
  },
  {
   "cell_type": "code",
   "execution_count": 177,
   "id": "c86b5531-df7a-4f54-8f50-fd22fa3aa1af",
   "metadata": {},
   "outputs": [
    {
     "data": {
      "text/html": [
       "<div>\n",
       "<style scoped>\n",
       "    .dataframe tbody tr th:only-of-type {\n",
       "        vertical-align: middle;\n",
       "    }\n",
       "\n",
       "    .dataframe tbody tr th {\n",
       "        vertical-align: top;\n",
       "    }\n",
       "\n",
       "    .dataframe thead th {\n",
       "        text-align: right;\n",
       "    }\n",
       "</style>\n",
       "<table border=\"1\" class=\"dataframe\">\n",
       "  <thead>\n",
       "    <tr style=\"text-align: right;\">\n",
       "      <th></th>\n",
       "      <th>names</th>\n",
       "      <th>ids</th>\n",
       "      <th>percents</th>\n",
       "    </tr>\n",
       "  </thead>\n",
       "  <tbody>\n",
       "    <tr>\n",
       "      <th>0</th>\n",
       "      <td>False</td>\n",
       "      <td>False</td>\n",
       "      <td>False</td>\n",
       "    </tr>\n",
       "    <tr>\n",
       "      <th>1</th>\n",
       "      <td>False</td>\n",
       "      <td>False</td>\n",
       "      <td>True</td>\n",
       "    </tr>\n",
       "    <tr>\n",
       "      <th>2</th>\n",
       "      <td>True</td>\n",
       "      <td>True</td>\n",
       "      <td>False</td>\n",
       "    </tr>\n",
       "    <tr>\n",
       "      <th>3</th>\n",
       "      <td>False</td>\n",
       "      <td>False</td>\n",
       "      <td>True</td>\n",
       "    </tr>\n",
       "    <tr>\n",
       "      <th>4</th>\n",
       "      <td>False</td>\n",
       "      <td>False</td>\n",
       "      <td>True</td>\n",
       "    </tr>\n",
       "    <tr>\n",
       "      <th>5</th>\n",
       "      <td>False</td>\n",
       "      <td>False</td>\n",
       "      <td>False</td>\n",
       "    </tr>\n",
       "    <tr>\n",
       "      <th>6</th>\n",
       "      <td>False</td>\n",
       "      <td>True</td>\n",
       "      <td>False</td>\n",
       "    </tr>\n",
       "  </tbody>\n",
       "</table>\n",
       "</div>"
      ],
      "text/plain": [
       "   names    ids  percents\n",
       "0  False  False     False\n",
       "1  False  False      True\n",
       "2   True   True     False\n",
       "3  False  False      True\n",
       "4  False  False      True\n",
       "5  False  False     False\n",
       "6  False   True     False"
      ]
     },
     "execution_count": 177,
     "metadata": {},
     "output_type": "execute_result"
    }
   ],
   "source": [
    "df1.isnull()"
   ]
  },
  {
   "cell_type": "code",
   "execution_count": 178,
   "id": "edb4cf50-0115-42b1-9bee-68b7c6b98633",
   "metadata": {},
   "outputs": [
    {
     "name": "stdout",
     "output_type": "stream",
     "text": [
      "<class 'pandas.core.frame.DataFrame'>\n",
      "RangeIndex: 7 entries, 0 to 6\n",
      "Data columns (total 3 columns):\n",
      " #   Column    Non-Null Count  Dtype  \n",
      "---  ------    --------------  -----  \n",
      " 0   names     6 non-null      object \n",
      " 1   ids       5 non-null      float64\n",
      " 2   percents  4 non-null      float64\n",
      "dtypes: float64(2), object(1)\n",
      "memory usage: 300.0+ bytes\n"
     ]
    }
   ],
   "source": [
    "df1.info()"
   ]
  },
  {
   "cell_type": "code",
   "execution_count": 179,
   "id": "f430fa70-e080-4e14-9ad3-8cf5ce0832b1",
   "metadata": {},
   "outputs": [
    {
     "data": {
      "text/html": [
       "<div>\n",
       "<style scoped>\n",
       "    .dataframe tbody tr th:only-of-type {\n",
       "        vertical-align: middle;\n",
       "    }\n",
       "\n",
       "    .dataframe tbody tr th {\n",
       "        vertical-align: top;\n",
       "    }\n",
       "\n",
       "    .dataframe thead th {\n",
       "        text-align: right;\n",
       "    }\n",
       "</style>\n",
       "<table border=\"1\" class=\"dataframe\">\n",
       "  <thead>\n",
       "    <tr style=\"text-align: right;\">\n",
       "      <th></th>\n",
       "      <th>ids</th>\n",
       "      <th>percents</th>\n",
       "    </tr>\n",
       "  </thead>\n",
       "  <tbody>\n",
       "    <tr>\n",
       "      <th>count</th>\n",
       "      <td>5.000000</td>\n",
       "      <td>4.000000</td>\n",
       "    </tr>\n",
       "    <tr>\n",
       "      <th>mean</th>\n",
       "      <td>103.600000</td>\n",
       "      <td>84.500000</td>\n",
       "    </tr>\n",
       "    <tr>\n",
       "      <th>std</th>\n",
       "      <td>2.073644</td>\n",
       "      <td>6.123724</td>\n",
       "    </tr>\n",
       "    <tr>\n",
       "      <th>min</th>\n",
       "      <td>101.000000</td>\n",
       "      <td>77.500000</td>\n",
       "    </tr>\n",
       "    <tr>\n",
       "      <th>25%</th>\n",
       "      <td>102.000000</td>\n",
       "      <td>80.500000</td>\n",
       "    </tr>\n",
       "    <tr>\n",
       "      <th>50%</th>\n",
       "      <td>104.000000</td>\n",
       "      <td>84.750000</td>\n",
       "    </tr>\n",
       "    <tr>\n",
       "      <th>75%</th>\n",
       "      <td>105.000000</td>\n",
       "      <td>88.750000</td>\n",
       "    </tr>\n",
       "    <tr>\n",
       "      <th>max</th>\n",
       "      <td>106.000000</td>\n",
       "      <td>91.000000</td>\n",
       "    </tr>\n",
       "  </tbody>\n",
       "</table>\n",
       "</div>"
      ],
      "text/plain": [
       "              ids   percents\n",
       "count    5.000000   4.000000\n",
       "mean   103.600000  84.500000\n",
       "std      2.073644   6.123724\n",
       "min    101.000000  77.500000\n",
       "25%    102.000000  80.500000\n",
       "50%    104.000000  84.750000\n",
       "75%    105.000000  88.750000\n",
       "max    106.000000  91.000000"
      ]
     },
     "execution_count": 179,
     "metadata": {},
     "output_type": "execute_result"
    }
   ],
   "source": [
    "df1.describe()"
   ]
  },
  {
   "cell_type": "code",
   "execution_count": 180,
   "id": "4c7cb510-614e-46bd-a1f5-fe44e10faac5",
   "metadata": {},
   "outputs": [
    {
     "data": {
      "text/plain": [
       "<bound method DataFrame.info of     names    ids  percents\n",
       "0    john  101.0      81.5\n",
       "1   Alice  102.0       NaN\n",
       "2    None    NaN      91.0\n",
       "3  Naveen  104.0       NaN\n",
       "4   coral  105.0       NaN\n",
       "5    mark  106.0      77.5\n",
       "6     Dan    NaN      88.0>"
      ]
     },
     "execution_count": 180,
     "metadata": {},
     "output_type": "execute_result"
    }
   ],
   "source": [
    "df1.info"
   ]
  },
  {
   "cell_type": "code",
   "execution_count": 181,
   "id": "3d00119a-2468-4667-bfef-c2e0aa441247",
   "metadata": {},
   "outputs": [
    {
     "data": {
      "text/plain": [
       "<bound method NDFrame.describe of     names    ids  percents\n",
       "0    john  101.0      81.5\n",
       "1   Alice  102.0       NaN\n",
       "2    None    NaN      91.0\n",
       "3  Naveen  104.0       NaN\n",
       "4   coral  105.0       NaN\n",
       "5    mark  106.0      77.5\n",
       "6     Dan    NaN      88.0>"
      ]
     },
     "execution_count": 181,
     "metadata": {},
     "output_type": "execute_result"
    }
   ],
   "source": [
    "df1.describe"
   ]
  },
  {
   "cell_type": "code",
   "execution_count": 182,
   "id": "ce5d0ee2-4f0b-4bdd-9c6c-35ca74163f1b",
   "metadata": {},
   "outputs": [
    {
     "data": {
      "text/plain": [
       "names       1\n",
       "ids         2\n",
       "percents    3\n",
       "dtype: int64"
      ]
     },
     "execution_count": 182,
     "metadata": {},
     "output_type": "execute_result"
    }
   ],
   "source": [
    "df1.isnull().sum()"
   ]
  },
  {
   "cell_type": "code",
   "execution_count": 183,
   "id": "971e9ac2-d6a3-4d73-bc85-5a478b2280a5",
   "metadata": {},
   "outputs": [],
   "source": [
    "# filling the None values"
   ]
  },
  {
   "cell_type": "code",
   "execution_count": 184,
   "id": "12b1ebe4-f3d4-4377-83bf-52dad775bead",
   "metadata": {},
   "outputs": [
    {
     "data": {
      "text/html": [
       "<div>\n",
       "<style scoped>\n",
       "    .dataframe tbody tr th:only-of-type {\n",
       "        vertical-align: middle;\n",
       "    }\n",
       "\n",
       "    .dataframe tbody tr th {\n",
       "        vertical-align: top;\n",
       "    }\n",
       "\n",
       "    .dataframe thead th {\n",
       "        text-align: right;\n",
       "    }\n",
       "</style>\n",
       "<table border=\"1\" class=\"dataframe\">\n",
       "  <thead>\n",
       "    <tr style=\"text-align: right;\">\n",
       "      <th></th>\n",
       "      <th>names</th>\n",
       "      <th>ids</th>\n",
       "      <th>percents</th>\n",
       "    </tr>\n",
       "  </thead>\n",
       "  <tbody>\n",
       "    <tr>\n",
       "      <th>0</th>\n",
       "      <td>john</td>\n",
       "      <td>101.0</td>\n",
       "      <td>81.5</td>\n",
       "    </tr>\n",
       "    <tr>\n",
       "      <th>1</th>\n",
       "      <td>Alice</td>\n",
       "      <td>102.0</td>\n",
       "      <td>84.5</td>\n",
       "    </tr>\n",
       "    <tr>\n",
       "      <th>2</th>\n",
       "      <td>Ram</td>\n",
       "      <td>103.0</td>\n",
       "      <td>91.0</td>\n",
       "    </tr>\n",
       "    <tr>\n",
       "      <th>3</th>\n",
       "      <td>Naveen</td>\n",
       "      <td>104.0</td>\n",
       "      <td>84.5</td>\n",
       "    </tr>\n",
       "    <tr>\n",
       "      <th>4</th>\n",
       "      <td>coral</td>\n",
       "      <td>105.0</td>\n",
       "      <td>84.5</td>\n",
       "    </tr>\n",
       "    <tr>\n",
       "      <th>5</th>\n",
       "      <td>mark</td>\n",
       "      <td>106.0</td>\n",
       "      <td>77.5</td>\n",
       "    </tr>\n",
       "    <tr>\n",
       "      <th>6</th>\n",
       "      <td>Dan</td>\n",
       "      <td>103.0</td>\n",
       "      <td>88.0</td>\n",
       "    </tr>\n",
       "  </tbody>\n",
       "</table>\n",
       "</div>"
      ],
      "text/plain": [
       "    names    ids  percents\n",
       "0    john  101.0      81.5\n",
       "1   Alice  102.0      84.5\n",
       "2     Ram  103.0      91.0\n",
       "3  Naveen  104.0      84.5\n",
       "4   coral  105.0      84.5\n",
       "5    mark  106.0      77.5\n",
       "6     Dan  103.0      88.0"
      ]
     },
     "execution_count": 184,
     "metadata": {},
     "output_type": "execute_result"
    }
   ],
   "source": [
    "df1.fillna({'names':'Ram','ids':103,'percents':(df1['percents'].mean())})"
   ]
  },
  {
   "cell_type": "code",
   "execution_count": 185,
   "id": "c8f9f8dc-39ee-415e-824d-6e1c7585da03",
   "metadata": {},
   "outputs": [],
   "source": [
    "# to make permanent change you can use inplce=True"
   ]
  },
  {
   "cell_type": "code",
   "execution_count": 186,
   "id": "601563b7-3d8b-4799-8954-75ca8aa3ca0f",
   "metadata": {},
   "outputs": [],
   "source": [
    "df1.fillna({'names':'Ram','ids':103,'percents':(df1['percents'].mean())},inplace=True)"
   ]
  },
  {
   "cell_type": "code",
   "execution_count": 187,
   "id": "c5f327de-6501-462d-833a-a937e6ac4329",
   "metadata": {},
   "outputs": [
    {
     "data": {
      "text/html": [
       "<div>\n",
       "<style scoped>\n",
       "    .dataframe tbody tr th:only-of-type {\n",
       "        vertical-align: middle;\n",
       "    }\n",
       "\n",
       "    .dataframe tbody tr th {\n",
       "        vertical-align: top;\n",
       "    }\n",
       "\n",
       "    .dataframe thead th {\n",
       "        text-align: right;\n",
       "    }\n",
       "</style>\n",
       "<table border=\"1\" class=\"dataframe\">\n",
       "  <thead>\n",
       "    <tr style=\"text-align: right;\">\n",
       "      <th></th>\n",
       "      <th>names</th>\n",
       "      <th>ids</th>\n",
       "      <th>percents</th>\n",
       "    </tr>\n",
       "  </thead>\n",
       "  <tbody>\n",
       "    <tr>\n",
       "      <th>0</th>\n",
       "      <td>john</td>\n",
       "      <td>101.0</td>\n",
       "      <td>81.5</td>\n",
       "    </tr>\n",
       "    <tr>\n",
       "      <th>1</th>\n",
       "      <td>Alice</td>\n",
       "      <td>102.0</td>\n",
       "      <td>84.5</td>\n",
       "    </tr>\n",
       "    <tr>\n",
       "      <th>2</th>\n",
       "      <td>Ram</td>\n",
       "      <td>103.0</td>\n",
       "      <td>91.0</td>\n",
       "    </tr>\n",
       "    <tr>\n",
       "      <th>3</th>\n",
       "      <td>Naveen</td>\n",
       "      <td>104.0</td>\n",
       "      <td>84.5</td>\n",
       "    </tr>\n",
       "    <tr>\n",
       "      <th>4</th>\n",
       "      <td>coral</td>\n",
       "      <td>105.0</td>\n",
       "      <td>84.5</td>\n",
       "    </tr>\n",
       "    <tr>\n",
       "      <th>5</th>\n",
       "      <td>mark</td>\n",
       "      <td>106.0</td>\n",
       "      <td>77.5</td>\n",
       "    </tr>\n",
       "    <tr>\n",
       "      <th>6</th>\n",
       "      <td>Dan</td>\n",
       "      <td>103.0</td>\n",
       "      <td>88.0</td>\n",
       "    </tr>\n",
       "  </tbody>\n",
       "</table>\n",
       "</div>"
      ],
      "text/plain": [
       "    names    ids  percents\n",
       "0    john  101.0      81.5\n",
       "1   Alice  102.0      84.5\n",
       "2     Ram  103.0      91.0\n",
       "3  Naveen  104.0      84.5\n",
       "4   coral  105.0      84.5\n",
       "5    mark  106.0      77.5\n",
       "6     Dan  103.0      88.0"
      ]
     },
     "execution_count": 187,
     "metadata": {},
     "output_type": "execute_result"
    }
   ],
   "source": [
    "df1"
   ]
  },
  {
   "cell_type": "code",
   "execution_count": 188,
   "id": "d3953437-d3e2-4c27-ba34-b67447213413",
   "metadata": {},
   "outputs": [],
   "source": [
    "df2=pd.DataFrame(df1)"
   ]
  },
  {
   "cell_type": "code",
   "execution_count": 189,
   "id": "922b1c44-b55e-4a78-8513-c5b173f92611",
   "metadata": {},
   "outputs": [
    {
     "data": {
      "text/html": [
       "<div>\n",
       "<style scoped>\n",
       "    .dataframe tbody tr th:only-of-type {\n",
       "        vertical-align: middle;\n",
       "    }\n",
       "\n",
       "    .dataframe tbody tr th {\n",
       "        vertical-align: top;\n",
       "    }\n",
       "\n",
       "    .dataframe thead th {\n",
       "        text-align: right;\n",
       "    }\n",
       "</style>\n",
       "<table border=\"1\" class=\"dataframe\">\n",
       "  <thead>\n",
       "    <tr style=\"text-align: right;\">\n",
       "      <th></th>\n",
       "      <th>names</th>\n",
       "      <th>ids</th>\n",
       "      <th>percents</th>\n",
       "    </tr>\n",
       "  </thead>\n",
       "  <tbody>\n",
       "    <tr>\n",
       "      <th>0</th>\n",
       "      <td>john</td>\n",
       "      <td>101.0</td>\n",
       "      <td>81.5</td>\n",
       "    </tr>\n",
       "    <tr>\n",
       "      <th>1</th>\n",
       "      <td>Alice</td>\n",
       "      <td>102.0</td>\n",
       "      <td>84.5</td>\n",
       "    </tr>\n",
       "    <tr>\n",
       "      <th>2</th>\n",
       "      <td>Ram</td>\n",
       "      <td>103.0</td>\n",
       "      <td>91.0</td>\n",
       "    </tr>\n",
       "    <tr>\n",
       "      <th>3</th>\n",
       "      <td>Naveen</td>\n",
       "      <td>104.0</td>\n",
       "      <td>84.5</td>\n",
       "    </tr>\n",
       "    <tr>\n",
       "      <th>4</th>\n",
       "      <td>coral</td>\n",
       "      <td>105.0</td>\n",
       "      <td>84.5</td>\n",
       "    </tr>\n",
       "    <tr>\n",
       "      <th>5</th>\n",
       "      <td>mark</td>\n",
       "      <td>106.0</td>\n",
       "      <td>77.5</td>\n",
       "    </tr>\n",
       "    <tr>\n",
       "      <th>6</th>\n",
       "      <td>Dan</td>\n",
       "      <td>103.0</td>\n",
       "      <td>88.0</td>\n",
       "    </tr>\n",
       "  </tbody>\n",
       "</table>\n",
       "</div>"
      ],
      "text/plain": [
       "    names    ids  percents\n",
       "0    john  101.0      81.5\n",
       "1   Alice  102.0      84.5\n",
       "2     Ram  103.0      91.0\n",
       "3  Naveen  104.0      84.5\n",
       "4   coral  105.0      84.5\n",
       "5    mark  106.0      77.5\n",
       "6     Dan  103.0      88.0"
      ]
     },
     "execution_count": 189,
     "metadata": {},
     "output_type": "execute_result"
    }
   ],
   "source": [
    "df2"
   ]
  },
  {
   "cell_type": "code",
   "execution_count": 190,
   "id": "6f90f22e-68fc-4d36-9013-ebe548eea00f",
   "metadata": {},
   "outputs": [
    {
     "data": {
      "text/plain": [
       "'john'"
      ]
     },
     "execution_count": 190,
     "metadata": {},
     "output_type": "execute_result"
    }
   ],
   "source": [
    "df2['names'][0]"
   ]
  },
  {
   "cell_type": "code",
   "execution_count": 191,
   "id": "0e41325f-a3dc-4c5a-afab-74e0bc83aaae",
   "metadata": {},
   "outputs": [
    {
     "name": "stderr",
     "output_type": "stream",
     "text": [
      "C:\\Users\\Skyline Solutions\\AppData\\Local\\Temp\\ipykernel_7084\\2980563835.py:1: FutureWarning: ChainedAssignmentError: behaviour will change in pandas 3.0!\n",
      "You are setting values through chained assignment. Currently this works in certain cases, but when using Copy-on-Write (which will become the default behaviour in pandas 3.0) this will never work to update the original DataFrame or Series, because the intermediate object on which we are setting values will behave as a copy.\n",
      "A typical example is when you are setting values in a column of a DataFrame, like:\n",
      "\n",
      "df[\"col\"][row_indexer] = value\n",
      "\n",
      "Use `df.loc[row_indexer, \"col\"] = values` instead, to perform the assignment in a single step and ensure this keeps updating the original `df`.\n",
      "\n",
      "See the caveats in the documentation: https://pandas.pydata.org/pandas-docs/stable/user_guide/indexing.html#returning-a-view-versus-a-copy\n",
      "\n",
      "  df2['names'][0]='naveen'\n",
      "C:\\Users\\Skyline Solutions\\AppData\\Local\\Temp\\ipykernel_7084\\2980563835.py:1: SettingWithCopyWarning: \n",
      "A value is trying to be set on a copy of a slice from a DataFrame\n",
      "\n",
      "See the caveats in the documentation: https://pandas.pydata.org/pandas-docs/stable/user_guide/indexing.html#returning-a-view-versus-a-copy\n",
      "  df2['names'][0]='naveen'\n"
     ]
    }
   ],
   "source": [
    "df2['names'][0]='naveen'"
   ]
  },
  {
   "cell_type": "code",
   "execution_count": 192,
   "id": "2dfdb07f-e296-4828-93c5-efab731f8fdb",
   "metadata": {},
   "outputs": [
    {
     "data": {
      "text/html": [
       "<div>\n",
       "<style scoped>\n",
       "    .dataframe tbody tr th:only-of-type {\n",
       "        vertical-align: middle;\n",
       "    }\n",
       "\n",
       "    .dataframe tbody tr th {\n",
       "        vertical-align: top;\n",
       "    }\n",
       "\n",
       "    .dataframe thead th {\n",
       "        text-align: right;\n",
       "    }\n",
       "</style>\n",
       "<table border=\"1\" class=\"dataframe\">\n",
       "  <thead>\n",
       "    <tr style=\"text-align: right;\">\n",
       "      <th></th>\n",
       "      <th>names</th>\n",
       "      <th>ids</th>\n",
       "      <th>percents</th>\n",
       "    </tr>\n",
       "  </thead>\n",
       "  <tbody>\n",
       "    <tr>\n",
       "      <th>0</th>\n",
       "      <td>naveen</td>\n",
       "      <td>101.0</td>\n",
       "      <td>81.5</td>\n",
       "    </tr>\n",
       "    <tr>\n",
       "      <th>1</th>\n",
       "      <td>Alice</td>\n",
       "      <td>102.0</td>\n",
       "      <td>84.5</td>\n",
       "    </tr>\n",
       "    <tr>\n",
       "      <th>2</th>\n",
       "      <td>Ram</td>\n",
       "      <td>103.0</td>\n",
       "      <td>91.0</td>\n",
       "    </tr>\n",
       "    <tr>\n",
       "      <th>3</th>\n",
       "      <td>Naveen</td>\n",
       "      <td>104.0</td>\n",
       "      <td>84.5</td>\n",
       "    </tr>\n",
       "    <tr>\n",
       "      <th>4</th>\n",
       "      <td>coral</td>\n",
       "      <td>105.0</td>\n",
       "      <td>84.5</td>\n",
       "    </tr>\n",
       "    <tr>\n",
       "      <th>5</th>\n",
       "      <td>mark</td>\n",
       "      <td>106.0</td>\n",
       "      <td>77.5</td>\n",
       "    </tr>\n",
       "    <tr>\n",
       "      <th>6</th>\n",
       "      <td>Dan</td>\n",
       "      <td>103.0</td>\n",
       "      <td>88.0</td>\n",
       "    </tr>\n",
       "  </tbody>\n",
       "</table>\n",
       "</div>"
      ],
      "text/plain": [
       "    names    ids  percents\n",
       "0  naveen  101.0      81.5\n",
       "1   Alice  102.0      84.5\n",
       "2     Ram  103.0      91.0\n",
       "3  Naveen  104.0      84.5\n",
       "4   coral  105.0      84.5\n",
       "5    mark  106.0      77.5\n",
       "6     Dan  103.0      88.0"
      ]
     },
     "execution_count": 192,
     "metadata": {},
     "output_type": "execute_result"
    }
   ],
   "source": [
    "df2"
   ]
  },
  {
   "cell_type": "code",
   "execution_count": 193,
   "id": "f43d840b-1073-4c2a-a13a-b68554db9a8b",
   "metadata": {},
   "outputs": [
    {
     "data": {
      "text/html": [
       "<div>\n",
       "<style scoped>\n",
       "    .dataframe tbody tr th:only-of-type {\n",
       "        vertical-align: middle;\n",
       "    }\n",
       "\n",
       "    .dataframe tbody tr th {\n",
       "        vertical-align: top;\n",
       "    }\n",
       "\n",
       "    .dataframe thead th {\n",
       "        text-align: right;\n",
       "    }\n",
       "</style>\n",
       "<table border=\"1\" class=\"dataframe\">\n",
       "  <thead>\n",
       "    <tr style=\"text-align: right;\">\n",
       "      <th></th>\n",
       "      <th>names</th>\n",
       "      <th>ids</th>\n",
       "      <th>percents</th>\n",
       "    </tr>\n",
       "  </thead>\n",
       "  <tbody>\n",
       "    <tr>\n",
       "      <th>0</th>\n",
       "      <td>naveen</td>\n",
       "      <td>101.0</td>\n",
       "      <td>81.5</td>\n",
       "    </tr>\n",
       "    <tr>\n",
       "      <th>1</th>\n",
       "      <td>Alice</td>\n",
       "      <td>102.0</td>\n",
       "      <td>84.5</td>\n",
       "    </tr>\n",
       "    <tr>\n",
       "      <th>2</th>\n",
       "      <td>Ram</td>\n",
       "      <td>103.0</td>\n",
       "      <td>91.0</td>\n",
       "    </tr>\n",
       "    <tr>\n",
       "      <th>3</th>\n",
       "      <td>Naveen</td>\n",
       "      <td>104.0</td>\n",
       "      <td>84.5</td>\n",
       "    </tr>\n",
       "    <tr>\n",
       "      <th>4</th>\n",
       "      <td>coral</td>\n",
       "      <td>105.0</td>\n",
       "      <td>84.5</td>\n",
       "    </tr>\n",
       "    <tr>\n",
       "      <th>5</th>\n",
       "      <td>mark</td>\n",
       "      <td>106.0</td>\n",
       "      <td>77.5</td>\n",
       "    </tr>\n",
       "    <tr>\n",
       "      <th>6</th>\n",
       "      <td>Dan</td>\n",
       "      <td>103.0</td>\n",
       "      <td>88.0</td>\n",
       "    </tr>\n",
       "  </tbody>\n",
       "</table>\n",
       "</div>"
      ],
      "text/plain": [
       "    names    ids  percents\n",
       "0  naveen  101.0      81.5\n",
       "1   Alice  102.0      84.5\n",
       "2     Ram  103.0      91.0\n",
       "3  Naveen  104.0      84.5\n",
       "4   coral  105.0      84.5\n",
       "5    mark  106.0      77.5\n",
       "6     Dan  103.0      88.0"
      ]
     },
     "execution_count": 193,
     "metadata": {},
     "output_type": "execute_result"
    }
   ],
   "source": [
    "df1"
   ]
  },
  {
   "cell_type": "code",
   "execution_count": 194,
   "id": "2c09ea10-3492-445f-bec0-85220ac50aa0",
   "metadata": {},
   "outputs": [],
   "source": [
    "# deleting data"
   ]
  },
  {
   "cell_type": "code",
   "execution_count": 195,
   "id": "b7daf005-303d-4746-b1df-5015b3b7c2be",
   "metadata": {},
   "outputs": [
    {
     "data": {
      "text/html": [
       "<div>\n",
       "<style scoped>\n",
       "    .dataframe tbody tr th:only-of-type {\n",
       "        vertical-align: middle;\n",
       "    }\n",
       "\n",
       "    .dataframe tbody tr th {\n",
       "        vertical-align: top;\n",
       "    }\n",
       "\n",
       "    .dataframe thead th {\n",
       "        text-align: right;\n",
       "    }\n",
       "</style>\n",
       "<table border=\"1\" class=\"dataframe\">\n",
       "  <thead>\n",
       "    <tr style=\"text-align: right;\">\n",
       "      <th></th>\n",
       "      <th>ids</th>\n",
       "      <th>percents</th>\n",
       "    </tr>\n",
       "  </thead>\n",
       "  <tbody>\n",
       "    <tr>\n",
       "      <th>0</th>\n",
       "      <td>101.0</td>\n",
       "      <td>81.5</td>\n",
       "    </tr>\n",
       "    <tr>\n",
       "      <th>1</th>\n",
       "      <td>102.0</td>\n",
       "      <td>84.5</td>\n",
       "    </tr>\n",
       "    <tr>\n",
       "      <th>2</th>\n",
       "      <td>103.0</td>\n",
       "      <td>91.0</td>\n",
       "    </tr>\n",
       "    <tr>\n",
       "      <th>3</th>\n",
       "      <td>104.0</td>\n",
       "      <td>84.5</td>\n",
       "    </tr>\n",
       "    <tr>\n",
       "      <th>4</th>\n",
       "      <td>105.0</td>\n",
       "      <td>84.5</td>\n",
       "    </tr>\n",
       "    <tr>\n",
       "      <th>5</th>\n",
       "      <td>106.0</td>\n",
       "      <td>77.5</td>\n",
       "    </tr>\n",
       "    <tr>\n",
       "      <th>6</th>\n",
       "      <td>103.0</td>\n",
       "      <td>88.0</td>\n",
       "    </tr>\n",
       "  </tbody>\n",
       "</table>\n",
       "</div>"
      ],
      "text/plain": [
       "     ids  percents\n",
       "0  101.0      81.5\n",
       "1  102.0      84.5\n",
       "2  103.0      91.0\n",
       "3  104.0      84.5\n",
       "4  105.0      84.5\n",
       "5  106.0      77.5\n",
       "6  103.0      88.0"
      ]
     },
     "execution_count": 195,
     "metadata": {},
     "output_type": "execute_result"
    }
   ],
   "source": [
    "df1.drop(['names'],axis=1)"
   ]
  },
  {
   "cell_type": "code",
   "execution_count": 196,
   "id": "52728ecc-f396-419d-8607-e72a5e80e6b0",
   "metadata": {},
   "outputs": [
    {
     "data": {
      "text/html": [
       "<div>\n",
       "<style scoped>\n",
       "    .dataframe tbody tr th:only-of-type {\n",
       "        vertical-align: middle;\n",
       "    }\n",
       "\n",
       "    .dataframe tbody tr th {\n",
       "        vertical-align: top;\n",
       "    }\n",
       "\n",
       "    .dataframe thead th {\n",
       "        text-align: right;\n",
       "    }\n",
       "</style>\n",
       "<table border=\"1\" class=\"dataframe\">\n",
       "  <thead>\n",
       "    <tr style=\"text-align: right;\">\n",
       "      <th></th>\n",
       "      <th>names</th>\n",
       "      <th>ids</th>\n",
       "      <th>percents</th>\n",
       "    </tr>\n",
       "  </thead>\n",
       "  <tbody>\n",
       "    <tr>\n",
       "      <th>0</th>\n",
       "      <td>naveen</td>\n",
       "      <td>101.0</td>\n",
       "      <td>81.5</td>\n",
       "    </tr>\n",
       "    <tr>\n",
       "      <th>1</th>\n",
       "      <td>Alice</td>\n",
       "      <td>102.0</td>\n",
       "      <td>84.5</td>\n",
       "    </tr>\n",
       "    <tr>\n",
       "      <th>2</th>\n",
       "      <td>Ram</td>\n",
       "      <td>103.0</td>\n",
       "      <td>91.0</td>\n",
       "    </tr>\n",
       "    <tr>\n",
       "      <th>3</th>\n",
       "      <td>Naveen</td>\n",
       "      <td>104.0</td>\n",
       "      <td>84.5</td>\n",
       "    </tr>\n",
       "    <tr>\n",
       "      <th>4</th>\n",
       "      <td>coral</td>\n",
       "      <td>105.0</td>\n",
       "      <td>84.5</td>\n",
       "    </tr>\n",
       "    <tr>\n",
       "      <th>5</th>\n",
       "      <td>mark</td>\n",
       "      <td>106.0</td>\n",
       "      <td>77.5</td>\n",
       "    </tr>\n",
       "    <tr>\n",
       "      <th>6</th>\n",
       "      <td>Dan</td>\n",
       "      <td>103.0</td>\n",
       "      <td>88.0</td>\n",
       "    </tr>\n",
       "  </tbody>\n",
       "</table>\n",
       "</div>"
      ],
      "text/plain": [
       "    names    ids  percents\n",
       "0  naveen  101.0      81.5\n",
       "1   Alice  102.0      84.5\n",
       "2     Ram  103.0      91.0\n",
       "3  Naveen  104.0      84.5\n",
       "4   coral  105.0      84.5\n",
       "5    mark  106.0      77.5\n",
       "6     Dan  103.0      88.0"
      ]
     },
     "execution_count": 196,
     "metadata": {},
     "output_type": "execute_result"
    }
   ],
   "source": [
    "df1"
   ]
  },
  {
   "cell_type": "code",
   "execution_count": 197,
   "id": "87b7738b-cc26-4415-95d7-32c459db0c60",
   "metadata": {},
   "outputs": [
    {
     "ename": "KeyError",
     "evalue": "\"['names'] not found in axis\"",
     "output_type": "error",
     "traceback": [
      "\u001b[1;31m---------------------------------------------------------------------------\u001b[0m",
      "\u001b[1;31mKeyError\u001b[0m                                  Traceback (most recent call last)",
      "Cell \u001b[1;32mIn[197], line 1\u001b[0m\n\u001b[1;32m----> 1\u001b[0m df1\u001b[38;5;241m.\u001b[39mdrop([\u001b[38;5;124m'\u001b[39m\u001b[38;5;124mnames\u001b[39m\u001b[38;5;124m'\u001b[39m],inplace\u001b[38;5;241m=\u001b[39m\u001b[38;5;28;01mTrue\u001b[39;00m)\n",
      "File \u001b[1;32mC:\\ProgramData\\anaconda3\\Lib\\site-packages\\pandas\\core\\frame.py:5581\u001b[0m, in \u001b[0;36mDataFrame.drop\u001b[1;34m(self, labels, axis, index, columns, level, inplace, errors)\u001b[0m\n\u001b[0;32m   5433\u001b[0m \u001b[38;5;28;01mdef\u001b[39;00m \u001b[38;5;21mdrop\u001b[39m(\n\u001b[0;32m   5434\u001b[0m     \u001b[38;5;28mself\u001b[39m,\n\u001b[0;32m   5435\u001b[0m     labels: IndexLabel \u001b[38;5;241m|\u001b[39m \u001b[38;5;28;01mNone\u001b[39;00m \u001b[38;5;241m=\u001b[39m \u001b[38;5;28;01mNone\u001b[39;00m,\n\u001b[1;32m   (...)\u001b[0m\n\u001b[0;32m   5442\u001b[0m     errors: IgnoreRaise \u001b[38;5;241m=\u001b[39m \u001b[38;5;124m\"\u001b[39m\u001b[38;5;124mraise\u001b[39m\u001b[38;5;124m\"\u001b[39m,\n\u001b[0;32m   5443\u001b[0m ) \u001b[38;5;241m-\u001b[39m\u001b[38;5;241m>\u001b[39m DataFrame \u001b[38;5;241m|\u001b[39m \u001b[38;5;28;01mNone\u001b[39;00m:\n\u001b[0;32m   5444\u001b[0m \u001b[38;5;250m    \u001b[39m\u001b[38;5;124;03m\"\"\"\u001b[39;00m\n\u001b[0;32m   5445\u001b[0m \u001b[38;5;124;03m    Drop specified labels from rows or columns.\u001b[39;00m\n\u001b[0;32m   5446\u001b[0m \n\u001b[1;32m   (...)\u001b[0m\n\u001b[0;32m   5579\u001b[0m \u001b[38;5;124;03m            weight  1.0     0.8\u001b[39;00m\n\u001b[0;32m   5580\u001b[0m \u001b[38;5;124;03m    \"\"\"\u001b[39;00m\n\u001b[1;32m-> 5581\u001b[0m     \u001b[38;5;28;01mreturn\u001b[39;00m \u001b[38;5;28msuper\u001b[39m()\u001b[38;5;241m.\u001b[39mdrop(\n\u001b[0;32m   5582\u001b[0m         labels\u001b[38;5;241m=\u001b[39mlabels,\n\u001b[0;32m   5583\u001b[0m         axis\u001b[38;5;241m=\u001b[39maxis,\n\u001b[0;32m   5584\u001b[0m         index\u001b[38;5;241m=\u001b[39mindex,\n\u001b[0;32m   5585\u001b[0m         columns\u001b[38;5;241m=\u001b[39mcolumns,\n\u001b[0;32m   5586\u001b[0m         level\u001b[38;5;241m=\u001b[39mlevel,\n\u001b[0;32m   5587\u001b[0m         inplace\u001b[38;5;241m=\u001b[39minplace,\n\u001b[0;32m   5588\u001b[0m         errors\u001b[38;5;241m=\u001b[39merrors,\n\u001b[0;32m   5589\u001b[0m     )\n",
      "File \u001b[1;32mC:\\ProgramData\\anaconda3\\Lib\\site-packages\\pandas\\core\\generic.py:4788\u001b[0m, in \u001b[0;36mNDFrame.drop\u001b[1;34m(self, labels, axis, index, columns, level, inplace, errors)\u001b[0m\n\u001b[0;32m   4786\u001b[0m \u001b[38;5;28;01mfor\u001b[39;00m axis, labels \u001b[38;5;129;01min\u001b[39;00m axes\u001b[38;5;241m.\u001b[39mitems():\n\u001b[0;32m   4787\u001b[0m     \u001b[38;5;28;01mif\u001b[39;00m labels \u001b[38;5;129;01mis\u001b[39;00m \u001b[38;5;129;01mnot\u001b[39;00m \u001b[38;5;28;01mNone\u001b[39;00m:\n\u001b[1;32m-> 4788\u001b[0m         obj \u001b[38;5;241m=\u001b[39m obj\u001b[38;5;241m.\u001b[39m_drop_axis(labels, axis, level\u001b[38;5;241m=\u001b[39mlevel, errors\u001b[38;5;241m=\u001b[39merrors)\n\u001b[0;32m   4790\u001b[0m \u001b[38;5;28;01mif\u001b[39;00m inplace:\n\u001b[0;32m   4791\u001b[0m     \u001b[38;5;28mself\u001b[39m\u001b[38;5;241m.\u001b[39m_update_inplace(obj)\n",
      "File \u001b[1;32mC:\\ProgramData\\anaconda3\\Lib\\site-packages\\pandas\\core\\generic.py:4830\u001b[0m, in \u001b[0;36mNDFrame._drop_axis\u001b[1;34m(self, labels, axis, level, errors, only_slice)\u001b[0m\n\u001b[0;32m   4828\u001b[0m         new_axis \u001b[38;5;241m=\u001b[39m axis\u001b[38;5;241m.\u001b[39mdrop(labels, level\u001b[38;5;241m=\u001b[39mlevel, errors\u001b[38;5;241m=\u001b[39merrors)\n\u001b[0;32m   4829\u001b[0m     \u001b[38;5;28;01melse\u001b[39;00m:\n\u001b[1;32m-> 4830\u001b[0m         new_axis \u001b[38;5;241m=\u001b[39m axis\u001b[38;5;241m.\u001b[39mdrop(labels, errors\u001b[38;5;241m=\u001b[39merrors)\n\u001b[0;32m   4831\u001b[0m     indexer \u001b[38;5;241m=\u001b[39m axis\u001b[38;5;241m.\u001b[39mget_indexer(new_axis)\n\u001b[0;32m   4833\u001b[0m \u001b[38;5;66;03m# Case for non-unique axis\u001b[39;00m\n\u001b[0;32m   4834\u001b[0m \u001b[38;5;28;01melse\u001b[39;00m:\n",
      "File \u001b[1;32mC:\\ProgramData\\anaconda3\\Lib\\site-packages\\pandas\\core\\indexes\\base.py:7070\u001b[0m, in \u001b[0;36mIndex.drop\u001b[1;34m(self, labels, errors)\u001b[0m\n\u001b[0;32m   7068\u001b[0m \u001b[38;5;28;01mif\u001b[39;00m mask\u001b[38;5;241m.\u001b[39many():\n\u001b[0;32m   7069\u001b[0m     \u001b[38;5;28;01mif\u001b[39;00m errors \u001b[38;5;241m!=\u001b[39m \u001b[38;5;124m\"\u001b[39m\u001b[38;5;124mignore\u001b[39m\u001b[38;5;124m\"\u001b[39m:\n\u001b[1;32m-> 7070\u001b[0m         \u001b[38;5;28;01mraise\u001b[39;00m \u001b[38;5;167;01mKeyError\u001b[39;00m(\u001b[38;5;124mf\u001b[39m\u001b[38;5;124m\"\u001b[39m\u001b[38;5;132;01m{\u001b[39;00mlabels[mask]\u001b[38;5;241m.\u001b[39mtolist()\u001b[38;5;132;01m}\u001b[39;00m\u001b[38;5;124m not found in axis\u001b[39m\u001b[38;5;124m\"\u001b[39m)\n\u001b[0;32m   7071\u001b[0m     indexer \u001b[38;5;241m=\u001b[39m indexer[\u001b[38;5;241m~\u001b[39mmask]\n\u001b[0;32m   7072\u001b[0m \u001b[38;5;28;01mreturn\u001b[39;00m \u001b[38;5;28mself\u001b[39m\u001b[38;5;241m.\u001b[39mdelete(indexer)\n",
      "\u001b[1;31mKeyError\u001b[0m: \"['names'] not found in axis\""
     ]
    }
   ],
   "source": [
    "df1.drop(['names'],inplace=True)"
   ]
  },
  {
   "cell_type": "code",
   "execution_count": 198,
   "id": "f9dd5843-0c37-4982-8fc2-4820ecd35aa6",
   "metadata": {},
   "outputs": [
    {
     "data": {
      "text/html": [
       "<div>\n",
       "<style scoped>\n",
       "    .dataframe tbody tr th:only-of-type {\n",
       "        vertical-align: middle;\n",
       "    }\n",
       "\n",
       "    .dataframe tbody tr th {\n",
       "        vertical-align: top;\n",
       "    }\n",
       "\n",
       "    .dataframe thead th {\n",
       "        text-align: right;\n",
       "    }\n",
       "</style>\n",
       "<table border=\"1\" class=\"dataframe\">\n",
       "  <thead>\n",
       "    <tr style=\"text-align: right;\">\n",
       "      <th></th>\n",
       "      <th>names</th>\n",
       "      <th>ids</th>\n",
       "      <th>percents</th>\n",
       "    </tr>\n",
       "  </thead>\n",
       "  <tbody>\n",
       "    <tr>\n",
       "      <th>0</th>\n",
       "      <td>naveen</td>\n",
       "      <td>101.0</td>\n",
       "      <td>81.5</td>\n",
       "    </tr>\n",
       "    <tr>\n",
       "      <th>1</th>\n",
       "      <td>Alice</td>\n",
       "      <td>102.0</td>\n",
       "      <td>84.5</td>\n",
       "    </tr>\n",
       "    <tr>\n",
       "      <th>2</th>\n",
       "      <td>Ram</td>\n",
       "      <td>103.0</td>\n",
       "      <td>91.0</td>\n",
       "    </tr>\n",
       "    <tr>\n",
       "      <th>3</th>\n",
       "      <td>Naveen</td>\n",
       "      <td>104.0</td>\n",
       "      <td>84.5</td>\n",
       "    </tr>\n",
       "    <tr>\n",
       "      <th>4</th>\n",
       "      <td>coral</td>\n",
       "      <td>105.0</td>\n",
       "      <td>84.5</td>\n",
       "    </tr>\n",
       "    <tr>\n",
       "      <th>5</th>\n",
       "      <td>mark</td>\n",
       "      <td>106.0</td>\n",
       "      <td>77.5</td>\n",
       "    </tr>\n",
       "    <tr>\n",
       "      <th>6</th>\n",
       "      <td>Dan</td>\n",
       "      <td>103.0</td>\n",
       "      <td>88.0</td>\n",
       "    </tr>\n",
       "  </tbody>\n",
       "</table>\n",
       "</div>"
      ],
      "text/plain": [
       "    names    ids  percents\n",
       "0  naveen  101.0      81.5\n",
       "1   Alice  102.0      84.5\n",
       "2     Ram  103.0      91.0\n",
       "3  Naveen  104.0      84.5\n",
       "4   coral  105.0      84.5\n",
       "5    mark  106.0      77.5\n",
       "6     Dan  103.0      88.0"
      ]
     },
     "execution_count": 198,
     "metadata": {},
     "output_type": "execute_result"
    }
   ],
   "source": [
    "df1"
   ]
  },
  {
   "cell_type": "code",
   "execution_count": 199,
   "id": "3dd63f94-e02d-40fe-968f-e7fdad14e449",
   "metadata": {},
   "outputs": [],
   "source": [
    "df1.drop(['names'],inplace=True,axis=1)"
   ]
  },
  {
   "cell_type": "code",
   "execution_count": 200,
   "id": "9fffa766-b226-420c-8d03-bd1a46587aa4",
   "metadata": {},
   "outputs": [
    {
     "data": {
      "text/html": [
       "<div>\n",
       "<style scoped>\n",
       "    .dataframe tbody tr th:only-of-type {\n",
       "        vertical-align: middle;\n",
       "    }\n",
       "\n",
       "    .dataframe tbody tr th {\n",
       "        vertical-align: top;\n",
       "    }\n",
       "\n",
       "    .dataframe thead th {\n",
       "        text-align: right;\n",
       "    }\n",
       "</style>\n",
       "<table border=\"1\" class=\"dataframe\">\n",
       "  <thead>\n",
       "    <tr style=\"text-align: right;\">\n",
       "      <th></th>\n",
       "      <th>ids</th>\n",
       "      <th>percents</th>\n",
       "    </tr>\n",
       "  </thead>\n",
       "  <tbody>\n",
       "    <tr>\n",
       "      <th>0</th>\n",
       "      <td>101.0</td>\n",
       "      <td>81.5</td>\n",
       "    </tr>\n",
       "    <tr>\n",
       "      <th>1</th>\n",
       "      <td>102.0</td>\n",
       "      <td>84.5</td>\n",
       "    </tr>\n",
       "    <tr>\n",
       "      <th>2</th>\n",
       "      <td>103.0</td>\n",
       "      <td>91.0</td>\n",
       "    </tr>\n",
       "    <tr>\n",
       "      <th>3</th>\n",
       "      <td>104.0</td>\n",
       "      <td>84.5</td>\n",
       "    </tr>\n",
       "    <tr>\n",
       "      <th>4</th>\n",
       "      <td>105.0</td>\n",
       "      <td>84.5</td>\n",
       "    </tr>\n",
       "    <tr>\n",
       "      <th>5</th>\n",
       "      <td>106.0</td>\n",
       "      <td>77.5</td>\n",
       "    </tr>\n",
       "    <tr>\n",
       "      <th>6</th>\n",
       "      <td>103.0</td>\n",
       "      <td>88.0</td>\n",
       "    </tr>\n",
       "  </tbody>\n",
       "</table>\n",
       "</div>"
      ],
      "text/plain": [
       "     ids  percents\n",
       "0  101.0      81.5\n",
       "1  102.0      84.5\n",
       "2  103.0      91.0\n",
       "3  104.0      84.5\n",
       "4  105.0      84.5\n",
       "5  106.0      77.5\n",
       "6  103.0      88.0"
      ]
     },
     "execution_count": 200,
     "metadata": {},
     "output_type": "execute_result"
    }
   ],
   "source": [
    "df1"
   ]
  },
  {
   "cell_type": "code",
   "execution_count": 201,
   "id": "f7982917-f936-470a-b53c-d902032ac730",
   "metadata": {},
   "outputs": [],
   "source": [
    "# dropna\n",
    "\n",
    "student1={\n",
    "    'names':['john','Alice',None,'Naveen','coral','mark','Dan'],\n",
    "    'ids':[101,102,None,104,105,106,None],\n",
    "    'percents':[81.5,None,91.0,None,None,77.5,88.0]\n",
    "}"
   ]
  },
  {
   "cell_type": "code",
   "execution_count": 202,
   "id": "c62399bc-45c4-4db9-af45-57f42eda57ba",
   "metadata": {},
   "outputs": [],
   "source": [
    "df3=pd.DataFrame(student1)"
   ]
  },
  {
   "cell_type": "code",
   "execution_count": 203,
   "id": "61b421d0-d06b-43a5-bfc2-8f9d5c9c2830",
   "metadata": {},
   "outputs": [
    {
     "data": {
      "text/html": [
       "<div>\n",
       "<style scoped>\n",
       "    .dataframe tbody tr th:only-of-type {\n",
       "        vertical-align: middle;\n",
       "    }\n",
       "\n",
       "    .dataframe tbody tr th {\n",
       "        vertical-align: top;\n",
       "    }\n",
       "\n",
       "    .dataframe thead th {\n",
       "        text-align: right;\n",
       "    }\n",
       "</style>\n",
       "<table border=\"1\" class=\"dataframe\">\n",
       "  <thead>\n",
       "    <tr style=\"text-align: right;\">\n",
       "      <th></th>\n",
       "      <th>names</th>\n",
       "      <th>ids</th>\n",
       "      <th>percents</th>\n",
       "    </tr>\n",
       "  </thead>\n",
       "  <tbody>\n",
       "    <tr>\n",
       "      <th>0</th>\n",
       "      <td>john</td>\n",
       "      <td>101.0</td>\n",
       "      <td>81.5</td>\n",
       "    </tr>\n",
       "    <tr>\n",
       "      <th>1</th>\n",
       "      <td>Alice</td>\n",
       "      <td>102.0</td>\n",
       "      <td>NaN</td>\n",
       "    </tr>\n",
       "    <tr>\n",
       "      <th>2</th>\n",
       "      <td>None</td>\n",
       "      <td>NaN</td>\n",
       "      <td>91.0</td>\n",
       "    </tr>\n",
       "    <tr>\n",
       "      <th>3</th>\n",
       "      <td>Naveen</td>\n",
       "      <td>104.0</td>\n",
       "      <td>NaN</td>\n",
       "    </tr>\n",
       "    <tr>\n",
       "      <th>4</th>\n",
       "      <td>coral</td>\n",
       "      <td>105.0</td>\n",
       "      <td>NaN</td>\n",
       "    </tr>\n",
       "    <tr>\n",
       "      <th>5</th>\n",
       "      <td>mark</td>\n",
       "      <td>106.0</td>\n",
       "      <td>77.5</td>\n",
       "    </tr>\n",
       "    <tr>\n",
       "      <th>6</th>\n",
       "      <td>Dan</td>\n",
       "      <td>NaN</td>\n",
       "      <td>88.0</td>\n",
       "    </tr>\n",
       "  </tbody>\n",
       "</table>\n",
       "</div>"
      ],
      "text/plain": [
       "    names    ids  percents\n",
       "0    john  101.0      81.5\n",
       "1   Alice  102.0       NaN\n",
       "2    None    NaN      91.0\n",
       "3  Naveen  104.0       NaN\n",
       "4   coral  105.0       NaN\n",
       "5    mark  106.0      77.5\n",
       "6     Dan    NaN      88.0"
      ]
     },
     "execution_count": 203,
     "metadata": {},
     "output_type": "execute_result"
    }
   ],
   "source": [
    "df3"
   ]
  },
  {
   "cell_type": "code",
   "execution_count": 204,
   "id": "f16e0fca-2a21-4e98-8d10-591f303b6266",
   "metadata": {},
   "outputs": [
    {
     "data": {
      "text/html": [
       "<div>\n",
       "<style scoped>\n",
       "    .dataframe tbody tr th:only-of-type {\n",
       "        vertical-align: middle;\n",
       "    }\n",
       "\n",
       "    .dataframe tbody tr th {\n",
       "        vertical-align: top;\n",
       "    }\n",
       "\n",
       "    .dataframe thead th {\n",
       "        text-align: right;\n",
       "    }\n",
       "</style>\n",
       "<table border=\"1\" class=\"dataframe\">\n",
       "  <thead>\n",
       "    <tr style=\"text-align: right;\">\n",
       "      <th></th>\n",
       "      <th>names</th>\n",
       "      <th>ids</th>\n",
       "      <th>percents</th>\n",
       "    </tr>\n",
       "  </thead>\n",
       "  <tbody>\n",
       "    <tr>\n",
       "      <th>0</th>\n",
       "      <td>john</td>\n",
       "      <td>101.0</td>\n",
       "      <td>81.5</td>\n",
       "    </tr>\n",
       "    <tr>\n",
       "      <th>5</th>\n",
       "      <td>mark</td>\n",
       "      <td>106.0</td>\n",
       "      <td>77.5</td>\n",
       "    </tr>\n",
       "  </tbody>\n",
       "</table>\n",
       "</div>"
      ],
      "text/plain": [
       "  names    ids  percents\n",
       "0  john  101.0      81.5\n",
       "5  mark  106.0      77.5"
      ]
     },
     "execution_count": 204,
     "metadata": {},
     "output_type": "execute_result"
    }
   ],
   "source": [
    "df3.dropna()"
   ]
  },
  {
   "cell_type": "code",
   "execution_count": 205,
   "id": "bbf28d96-ad15-48fe-8993-7514146ec3da",
   "metadata": {},
   "outputs": [
    {
     "data": {
      "text/html": [
       "<div>\n",
       "<style scoped>\n",
       "    .dataframe tbody tr th:only-of-type {\n",
       "        vertical-align: middle;\n",
       "    }\n",
       "\n",
       "    .dataframe tbody tr th {\n",
       "        vertical-align: top;\n",
       "    }\n",
       "\n",
       "    .dataframe thead th {\n",
       "        text-align: right;\n",
       "    }\n",
       "</style>\n",
       "<table border=\"1\" class=\"dataframe\">\n",
       "  <thead>\n",
       "    <tr style=\"text-align: right;\">\n",
       "      <th></th>\n",
       "      <th>names</th>\n",
       "      <th>ids</th>\n",
       "      <th>percents</th>\n",
       "    </tr>\n",
       "  </thead>\n",
       "  <tbody>\n",
       "    <tr>\n",
       "      <th>0</th>\n",
       "      <td>john</td>\n",
       "      <td>101.0</td>\n",
       "      <td>81.5</td>\n",
       "    </tr>\n",
       "    <tr>\n",
       "      <th>1</th>\n",
       "      <td>Alice</td>\n",
       "      <td>102.0</td>\n",
       "      <td>NaN</td>\n",
       "    </tr>\n",
       "    <tr>\n",
       "      <th>2</th>\n",
       "      <td>None</td>\n",
       "      <td>NaN</td>\n",
       "      <td>91.0</td>\n",
       "    </tr>\n",
       "    <tr>\n",
       "      <th>3</th>\n",
       "      <td>Naveen</td>\n",
       "      <td>104.0</td>\n",
       "      <td>NaN</td>\n",
       "    </tr>\n",
       "    <tr>\n",
       "      <th>4</th>\n",
       "      <td>coral</td>\n",
       "      <td>105.0</td>\n",
       "      <td>NaN</td>\n",
       "    </tr>\n",
       "    <tr>\n",
       "      <th>5</th>\n",
       "      <td>mark</td>\n",
       "      <td>106.0</td>\n",
       "      <td>77.5</td>\n",
       "    </tr>\n",
       "    <tr>\n",
       "      <th>6</th>\n",
       "      <td>Dan</td>\n",
       "      <td>NaN</td>\n",
       "      <td>88.0</td>\n",
       "    </tr>\n",
       "  </tbody>\n",
       "</table>\n",
       "</div>"
      ],
      "text/plain": [
       "    names    ids  percents\n",
       "0    john  101.0      81.5\n",
       "1   Alice  102.0       NaN\n",
       "2    None    NaN      91.0\n",
       "3  Naveen  104.0       NaN\n",
       "4   coral  105.0       NaN\n",
       "5    mark  106.0      77.5\n",
       "6     Dan    NaN      88.0"
      ]
     },
     "execution_count": 205,
     "metadata": {},
     "output_type": "execute_result"
    }
   ],
   "source": [
    "df3"
   ]
  },
  {
   "cell_type": "code",
   "execution_count": 206,
   "id": "7b92115e-6b6a-4ef7-af28-7a66b0096778",
   "metadata": {},
   "outputs": [
    {
     "data": {
      "text/html": [
       "<div>\n",
       "<style scoped>\n",
       "    .dataframe tbody tr th:only-of-type {\n",
       "        vertical-align: middle;\n",
       "    }\n",
       "\n",
       "    .dataframe tbody tr th {\n",
       "        vertical-align: top;\n",
       "    }\n",
       "\n",
       "    .dataframe thead th {\n",
       "        text-align: right;\n",
       "    }\n",
       "</style>\n",
       "<table border=\"1\" class=\"dataframe\">\n",
       "  <thead>\n",
       "    <tr style=\"text-align: right;\">\n",
       "      <th></th>\n",
       "    </tr>\n",
       "  </thead>\n",
       "  <tbody>\n",
       "    <tr>\n",
       "      <th>0</th>\n",
       "    </tr>\n",
       "    <tr>\n",
       "      <th>1</th>\n",
       "    </tr>\n",
       "    <tr>\n",
       "      <th>2</th>\n",
       "    </tr>\n",
       "    <tr>\n",
       "      <th>3</th>\n",
       "    </tr>\n",
       "    <tr>\n",
       "      <th>4</th>\n",
       "    </tr>\n",
       "    <tr>\n",
       "      <th>5</th>\n",
       "    </tr>\n",
       "    <tr>\n",
       "      <th>6</th>\n",
       "    </tr>\n",
       "  </tbody>\n",
       "</table>\n",
       "</div>"
      ],
      "text/plain": [
       "Empty DataFrame\n",
       "Columns: []\n",
       "Index: [0, 1, 2, 3, 4, 5, 6]"
      ]
     },
     "execution_count": 206,
     "metadata": {},
     "output_type": "execute_result"
    }
   ],
   "source": [
    "df3.dropna(axis=1)"
   ]
  },
  {
   "cell_type": "code",
   "execution_count": 207,
   "id": "0499ccec-b618-49f8-a29c-ba703d7aae2c",
   "metadata": {},
   "outputs": [
    {
     "data": {
      "text/html": [
       "<div>\n",
       "<style scoped>\n",
       "    .dataframe tbody tr th:only-of-type {\n",
       "        vertical-align: middle;\n",
       "    }\n",
       "\n",
       "    .dataframe tbody tr th {\n",
       "        vertical-align: top;\n",
       "    }\n",
       "\n",
       "    .dataframe thead th {\n",
       "        text-align: right;\n",
       "    }\n",
       "</style>\n",
       "<table border=\"1\" class=\"dataframe\">\n",
       "  <thead>\n",
       "    <tr style=\"text-align: right;\">\n",
       "      <th></th>\n",
       "      <th>names</th>\n",
       "      <th>ids</th>\n",
       "      <th>percents</th>\n",
       "    </tr>\n",
       "  </thead>\n",
       "  <tbody>\n",
       "    <tr>\n",
       "      <th>0</th>\n",
       "      <td>john</td>\n",
       "      <td>101.0</td>\n",
       "      <td>81.5</td>\n",
       "    </tr>\n",
       "    <tr>\n",
       "      <th>1</th>\n",
       "      <td>Alice</td>\n",
       "      <td>102.0</td>\n",
       "      <td>NaN</td>\n",
       "    </tr>\n",
       "    <tr>\n",
       "      <th>2</th>\n",
       "      <td>None</td>\n",
       "      <td>NaN</td>\n",
       "      <td>91.0</td>\n",
       "    </tr>\n",
       "    <tr>\n",
       "      <th>3</th>\n",
       "      <td>Naveen</td>\n",
       "      <td>104.0</td>\n",
       "      <td>NaN</td>\n",
       "    </tr>\n",
       "    <tr>\n",
       "      <th>4</th>\n",
       "      <td>coral</td>\n",
       "      <td>105.0</td>\n",
       "      <td>NaN</td>\n",
       "    </tr>\n",
       "    <tr>\n",
       "      <th>5</th>\n",
       "      <td>mark</td>\n",
       "      <td>106.0</td>\n",
       "      <td>77.5</td>\n",
       "    </tr>\n",
       "    <tr>\n",
       "      <th>6</th>\n",
       "      <td>Dan</td>\n",
       "      <td>NaN</td>\n",
       "      <td>88.0</td>\n",
       "    </tr>\n",
       "  </tbody>\n",
       "</table>\n",
       "</div>"
      ],
      "text/plain": [
       "    names    ids  percents\n",
       "0    john  101.0      81.5\n",
       "1   Alice  102.0       NaN\n",
       "2    None    NaN      91.0\n",
       "3  Naveen  104.0       NaN\n",
       "4   coral  105.0       NaN\n",
       "5    mark  106.0      77.5\n",
       "6     Dan    NaN      88.0"
      ]
     },
     "execution_count": 207,
     "metadata": {},
     "output_type": "execute_result"
    }
   ],
   "source": [
    "df3"
   ]
  },
  {
   "cell_type": "code",
   "execution_count": 208,
   "id": "b6f11e74-d2e7-46c6-a9c5-9d40f67c63b3",
   "metadata": {},
   "outputs": [
    {
     "data": {
      "text/html": [
       "<div>\n",
       "<style scoped>\n",
       "    .dataframe tbody tr th:only-of-type {\n",
       "        vertical-align: middle;\n",
       "    }\n",
       "\n",
       "    .dataframe tbody tr th {\n",
       "        vertical-align: top;\n",
       "    }\n",
       "\n",
       "    .dataframe thead th {\n",
       "        text-align: right;\n",
       "    }\n",
       "</style>\n",
       "<table border=\"1\" class=\"dataframe\">\n",
       "  <thead>\n",
       "    <tr style=\"text-align: right;\">\n",
       "      <th></th>\n",
       "      <th>names</th>\n",
       "      <th>ids</th>\n",
       "      <th>percents</th>\n",
       "    </tr>\n",
       "  </thead>\n",
       "  <tbody>\n",
       "    <tr>\n",
       "      <th>0</th>\n",
       "      <td>john</td>\n",
       "      <td>101.0</td>\n",
       "      <td>81.5</td>\n",
       "    </tr>\n",
       "    <tr>\n",
       "      <th>5</th>\n",
       "      <td>mark</td>\n",
       "      <td>106.0</td>\n",
       "      <td>77.5</td>\n",
       "    </tr>\n",
       "  </tbody>\n",
       "</table>\n",
       "</div>"
      ],
      "text/plain": [
       "  names    ids  percents\n",
       "0  john  101.0      81.5\n",
       "5  mark  106.0      77.5"
      ]
     },
     "execution_count": 208,
     "metadata": {},
     "output_type": "execute_result"
    }
   ],
   "source": [
    "df3.dropna(axis=0)"
   ]
  },
  {
   "cell_type": "code",
   "execution_count": 209,
   "id": "b412641f-8936-465d-b967-f4eded5707fd",
   "metadata": {},
   "outputs": [
    {
     "data": {
      "text/html": [
       "<div>\n",
       "<style scoped>\n",
       "    .dataframe tbody tr th:only-of-type {\n",
       "        vertical-align: middle;\n",
       "    }\n",
       "\n",
       "    .dataframe tbody tr th {\n",
       "        vertical-align: top;\n",
       "    }\n",
       "\n",
       "    .dataframe thead th {\n",
       "        text-align: right;\n",
       "    }\n",
       "</style>\n",
       "<table border=\"1\" class=\"dataframe\">\n",
       "  <thead>\n",
       "    <tr style=\"text-align: right;\">\n",
       "      <th></th>\n",
       "      <th>names</th>\n",
       "      <th>ids</th>\n",
       "      <th>percents</th>\n",
       "    </tr>\n",
       "  </thead>\n",
       "  <tbody>\n",
       "    <tr>\n",
       "      <th>0</th>\n",
       "      <td>john</td>\n",
       "      <td>101.0</td>\n",
       "      <td>81.5</td>\n",
       "    </tr>\n",
       "    <tr>\n",
       "      <th>1</th>\n",
       "      <td>Alice</td>\n",
       "      <td>102.0</td>\n",
       "      <td>NaN</td>\n",
       "    </tr>\n",
       "    <tr>\n",
       "      <th>2</th>\n",
       "      <td>None</td>\n",
       "      <td>NaN</td>\n",
       "      <td>91.0</td>\n",
       "    </tr>\n",
       "    <tr>\n",
       "      <th>3</th>\n",
       "      <td>Naveen</td>\n",
       "      <td>104.0</td>\n",
       "      <td>NaN</td>\n",
       "    </tr>\n",
       "    <tr>\n",
       "      <th>4</th>\n",
       "      <td>coral</td>\n",
       "      <td>105.0</td>\n",
       "      <td>NaN</td>\n",
       "    </tr>\n",
       "    <tr>\n",
       "      <th>5</th>\n",
       "      <td>mark</td>\n",
       "      <td>106.0</td>\n",
       "      <td>77.5</td>\n",
       "    </tr>\n",
       "    <tr>\n",
       "      <th>6</th>\n",
       "      <td>Dan</td>\n",
       "      <td>NaN</td>\n",
       "      <td>88.0</td>\n",
       "    </tr>\n",
       "  </tbody>\n",
       "</table>\n",
       "</div>"
      ],
      "text/plain": [
       "    names    ids  percents\n",
       "0    john  101.0      81.5\n",
       "1   Alice  102.0       NaN\n",
       "2    None    NaN      91.0\n",
       "3  Naveen  104.0       NaN\n",
       "4   coral  105.0       NaN\n",
       "5    mark  106.0      77.5\n",
       "6     Dan    NaN      88.0"
      ]
     },
     "execution_count": 209,
     "metadata": {},
     "output_type": "execute_result"
    }
   ],
   "source": [
    "df3"
   ]
  },
  {
   "cell_type": "code",
   "execution_count": 210,
   "id": "89108bd3-c401-424d-89d4-7f55e49697a1",
   "metadata": {},
   "outputs": [],
   "source": [
    "# thresh : - if we have atleast value should be there."
   ]
  },
  {
   "cell_type": "code",
   "execution_count": 211,
   "id": "861fc484-eba5-4437-8036-463f79f9cfc0",
   "metadata": {},
   "outputs": [
    {
     "data": {
      "text/html": [
       "<div>\n",
       "<style scoped>\n",
       "    .dataframe tbody tr th:only-of-type {\n",
       "        vertical-align: middle;\n",
       "    }\n",
       "\n",
       "    .dataframe tbody tr th {\n",
       "        vertical-align: top;\n",
       "    }\n",
       "\n",
       "    .dataframe thead th {\n",
       "        text-align: right;\n",
       "    }\n",
       "</style>\n",
       "<table border=\"1\" class=\"dataframe\">\n",
       "  <thead>\n",
       "    <tr style=\"text-align: right;\">\n",
       "      <th></th>\n",
       "      <th>names</th>\n",
       "      <th>ids</th>\n",
       "      <th>percents</th>\n",
       "    </tr>\n",
       "  </thead>\n",
       "  <tbody>\n",
       "    <tr>\n",
       "      <th>0</th>\n",
       "      <td>john</td>\n",
       "      <td>101.0</td>\n",
       "      <td>81.5</td>\n",
       "    </tr>\n",
       "    <tr>\n",
       "      <th>1</th>\n",
       "      <td>Alice</td>\n",
       "      <td>102.0</td>\n",
       "      <td>NaN</td>\n",
       "    </tr>\n",
       "    <tr>\n",
       "      <th>2</th>\n",
       "      <td>None</td>\n",
       "      <td>NaN</td>\n",
       "      <td>91.0</td>\n",
       "    </tr>\n",
       "    <tr>\n",
       "      <th>3</th>\n",
       "      <td>Naveen</td>\n",
       "      <td>104.0</td>\n",
       "      <td>NaN</td>\n",
       "    </tr>\n",
       "    <tr>\n",
       "      <th>4</th>\n",
       "      <td>coral</td>\n",
       "      <td>105.0</td>\n",
       "      <td>NaN</td>\n",
       "    </tr>\n",
       "    <tr>\n",
       "      <th>5</th>\n",
       "      <td>mark</td>\n",
       "      <td>106.0</td>\n",
       "      <td>77.5</td>\n",
       "    </tr>\n",
       "    <tr>\n",
       "      <th>6</th>\n",
       "      <td>Dan</td>\n",
       "      <td>NaN</td>\n",
       "      <td>88.0</td>\n",
       "    </tr>\n",
       "  </tbody>\n",
       "</table>\n",
       "</div>"
      ],
      "text/plain": [
       "    names    ids  percents\n",
       "0    john  101.0      81.5\n",
       "1   Alice  102.0       NaN\n",
       "2    None    NaN      91.0\n",
       "3  Naveen  104.0       NaN\n",
       "4   coral  105.0       NaN\n",
       "5    mark  106.0      77.5\n",
       "6     Dan    NaN      88.0"
      ]
     },
     "execution_count": 211,
     "metadata": {},
     "output_type": "execute_result"
    }
   ],
   "source": [
    "df3.dropna(axis=1,thresh=3)"
   ]
  },
  {
   "cell_type": "code",
   "execution_count": 212,
   "id": "5d731f18-e65f-42af-af9d-0495856425e6",
   "metadata": {},
   "outputs": [
    {
     "data": {
      "text/html": [
       "<div>\n",
       "<style scoped>\n",
       "    .dataframe tbody tr th:only-of-type {\n",
       "        vertical-align: middle;\n",
       "    }\n",
       "\n",
       "    .dataframe tbody tr th {\n",
       "        vertical-align: top;\n",
       "    }\n",
       "\n",
       "    .dataframe thead th {\n",
       "        text-align: right;\n",
       "    }\n",
       "</style>\n",
       "<table border=\"1\" class=\"dataframe\">\n",
       "  <thead>\n",
       "    <tr style=\"text-align: right;\">\n",
       "      <th></th>\n",
       "      <th>names</th>\n",
       "      <th>ids</th>\n",
       "      <th>percents</th>\n",
       "    </tr>\n",
       "  </thead>\n",
       "  <tbody>\n",
       "    <tr>\n",
       "      <th>0</th>\n",
       "      <td>john</td>\n",
       "      <td>101.0</td>\n",
       "      <td>81.5</td>\n",
       "    </tr>\n",
       "    <tr>\n",
       "      <th>1</th>\n",
       "      <td>Alice</td>\n",
       "      <td>102.0</td>\n",
       "      <td>NaN</td>\n",
       "    </tr>\n",
       "    <tr>\n",
       "      <th>2</th>\n",
       "      <td>None</td>\n",
       "      <td>NaN</td>\n",
       "      <td>91.0</td>\n",
       "    </tr>\n",
       "    <tr>\n",
       "      <th>3</th>\n",
       "      <td>Naveen</td>\n",
       "      <td>104.0</td>\n",
       "      <td>NaN</td>\n",
       "    </tr>\n",
       "    <tr>\n",
       "      <th>4</th>\n",
       "      <td>coral</td>\n",
       "      <td>105.0</td>\n",
       "      <td>NaN</td>\n",
       "    </tr>\n",
       "    <tr>\n",
       "      <th>5</th>\n",
       "      <td>mark</td>\n",
       "      <td>106.0</td>\n",
       "      <td>77.5</td>\n",
       "    </tr>\n",
       "    <tr>\n",
       "      <th>6</th>\n",
       "      <td>Dan</td>\n",
       "      <td>NaN</td>\n",
       "      <td>88.0</td>\n",
       "    </tr>\n",
       "  </tbody>\n",
       "</table>\n",
       "</div>"
      ],
      "text/plain": [
       "    names    ids  percents\n",
       "0    john  101.0      81.5\n",
       "1   Alice  102.0       NaN\n",
       "2    None    NaN      91.0\n",
       "3  Naveen  104.0       NaN\n",
       "4   coral  105.0       NaN\n",
       "5    mark  106.0      77.5\n",
       "6     Dan    NaN      88.0"
      ]
     },
     "execution_count": 212,
     "metadata": {},
     "output_type": "execute_result"
    }
   ],
   "source": [
    "df3.dropna(axis=1,thresh=2)"
   ]
  },
  {
   "cell_type": "code",
   "execution_count": 213,
   "id": "886779c7-deab-4e7b-a0ca-6e6b52b01468",
   "metadata": {},
   "outputs": [
    {
     "data": {
      "text/html": [
       "<div>\n",
       "<style scoped>\n",
       "    .dataframe tbody tr th:only-of-type {\n",
       "        vertical-align: middle;\n",
       "    }\n",
       "\n",
       "    .dataframe tbody tr th {\n",
       "        vertical-align: top;\n",
       "    }\n",
       "\n",
       "    .dataframe thead th {\n",
       "        text-align: right;\n",
       "    }\n",
       "</style>\n",
       "<table border=\"1\" class=\"dataframe\">\n",
       "  <thead>\n",
       "    <tr style=\"text-align: right;\">\n",
       "      <th></th>\n",
       "      <th>names</th>\n",
       "      <th>ids</th>\n",
       "    </tr>\n",
       "  </thead>\n",
       "  <tbody>\n",
       "    <tr>\n",
       "      <th>0</th>\n",
       "      <td>john</td>\n",
       "      <td>101.0</td>\n",
       "    </tr>\n",
       "    <tr>\n",
       "      <th>1</th>\n",
       "      <td>Alice</td>\n",
       "      <td>102.0</td>\n",
       "    </tr>\n",
       "    <tr>\n",
       "      <th>2</th>\n",
       "      <td>None</td>\n",
       "      <td>NaN</td>\n",
       "    </tr>\n",
       "    <tr>\n",
       "      <th>3</th>\n",
       "      <td>Naveen</td>\n",
       "      <td>104.0</td>\n",
       "    </tr>\n",
       "    <tr>\n",
       "      <th>4</th>\n",
       "      <td>coral</td>\n",
       "      <td>105.0</td>\n",
       "    </tr>\n",
       "    <tr>\n",
       "      <th>5</th>\n",
       "      <td>mark</td>\n",
       "      <td>106.0</td>\n",
       "    </tr>\n",
       "    <tr>\n",
       "      <th>6</th>\n",
       "      <td>Dan</td>\n",
       "      <td>NaN</td>\n",
       "    </tr>\n",
       "  </tbody>\n",
       "</table>\n",
       "</div>"
      ],
      "text/plain": [
       "    names    ids\n",
       "0    john  101.0\n",
       "1   Alice  102.0\n",
       "2    None    NaN\n",
       "3  Naveen  104.0\n",
       "4   coral  105.0\n",
       "5    mark  106.0\n",
       "6     Dan    NaN"
      ]
     },
     "execution_count": 213,
     "metadata": {},
     "output_type": "execute_result"
    }
   ],
   "source": [
    "df3.dropna(axis=1,thresh=5)"
   ]
  },
  {
   "cell_type": "code",
   "execution_count": null,
   "id": "a2f5f26a-2544-4e7a-8bbf-c2a2a2e1e126",
   "metadata": {},
   "outputs": [],
   "source": []
  },
  {
   "cell_type": "code",
   "execution_count": null,
   "id": "9ba392f1-5d83-48c1-8b05-034307742d08",
   "metadata": {},
   "outputs": [],
   "source": []
  }
 ],
 "metadata": {
  "kernelspec": {
   "display_name": "Python 3 (ipykernel)",
   "language": "python",
   "name": "python3"
  },
  "language_info": {
   "codemirror_mode": {
    "name": "ipython",
    "version": 3
   },
   "file_extension": ".py",
   "mimetype": "text/x-python",
   "name": "python",
   "nbconvert_exporter": "python",
   "pygments_lexer": "ipython3",
   "version": "3.12.4"
  }
 },
 "nbformat": 4,
 "nbformat_minor": 5
}
