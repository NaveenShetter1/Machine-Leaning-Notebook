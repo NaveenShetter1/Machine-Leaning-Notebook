{
 "cells": [
  {
   "cell_type": "code",
   "execution_count": 67,
   "id": "5680a5c9-4e22-46fe-b4d8-46dd56274f4a",
   "metadata": {},
   "outputs": [],
   "source": [
    "# Pandas: - Python library that provides data structure and methods to work with structured or tabular data, data in fast or easy way\n",
    "# pandas internally uses numpy"
   ]
  },
  {
   "cell_type": "code",
   "execution_count": 68,
   "id": "e48bb9f4-a33d-40c6-a970-62fc412f6475",
   "metadata": {},
   "outputs": [],
   "source": [
    "# pandas 3rd party library is fast, flexible, powerfull and easy to use open source data analysis and manipulation tool, built on top of the python program"
   ]
  },
  {
   "cell_type": "code",
   "execution_count": 69,
   "id": "27203661-6ea1-4230-9c9c-1748d92f80e9",
   "metadata": {},
   "outputs": [
    {
     "data": {
      "text/plain": [
       "'pandas supports the integration with many file formats or data sources out of the box(csv, excel, sql, json, parquet) and converts into dataframe \\nvice-versa'"
      ]
     },
     "execution_count": 69,
     "metadata": {},
     "output_type": "execute_result"
    }
   ],
   "source": [
    "'''pandas supports the integration with many file formats or data sources out of the box(csv, excel, sql, json, parquet) and converts into dataframe \n",
    "vice-versa'''"
   ]
  },
  {
   "cell_type": "code",
   "execution_count": 70,
   "id": "9bd6702b-879b-4c20-98f6-2f529b44c15a",
   "metadata": {},
   "outputs": [],
   "source": [
    "import pandas as pd"
   ]
  },
  {
   "cell_type": "code",
   "execution_count": 71,
   "id": "5b9af87e-7145-442e-a909-ebba07029e2f",
   "metadata": {},
   "outputs": [],
   "source": [
    "ser1=pd.Series([10,20,30])"
   ]
  },
  {
   "cell_type": "code",
   "execution_count": 72,
   "id": "0290cece-2cae-47a7-9af5-cadc3d0d9ba5",
   "metadata": {},
   "outputs": [
    {
     "name": "stdout",
     "output_type": "stream",
     "text": [
      "0    10\n",
      "1    20\n",
      "2    30\n",
      "dtype: int64\n"
     ]
    }
   ],
   "source": [
    "print(ser1)"
   ]
  },
  {
   "cell_type": "code",
   "execution_count": 73,
   "id": "a8615e46-9ff2-4570-b4df-092dce27b644",
   "metadata": {},
   "outputs": [
    {
     "name": "stdout",
     "output_type": "stream",
     "text": [
      "<class 'pandas.core.series.Series'>\n"
     ]
    }
   ],
   "source": [
    "print(type(ser1))"
   ]
  },
  {
   "cell_type": "code",
   "execution_count": 74,
   "id": "a6949997-d4b2-4f64-a579-65cc49ea8e98",
   "metadata": {},
   "outputs": [
    {
     "name": "stdout",
     "output_type": "stream",
     "text": [
      "int64\n"
     ]
    }
   ],
   "source": [
    "print(ser1.dtype)"
   ]
  },
  {
   "cell_type": "code",
   "execution_count": 43,
   "id": "b214378b-11b5-4597-bf83-5581c2b5c569",
   "metadata": {},
   "outputs": [
    {
     "name": "stdout",
     "output_type": "stream",
     "text": [
      "RangeIndex(start=0, stop=3, step=1)\n"
     ]
    }
   ],
   "source": [
    "print(ser1.index)"
   ]
  },
  {
   "cell_type": "code",
   "execution_count": 44,
   "id": "d070f134-c5ac-41ee-8aaf-428c4b4bd734",
   "metadata": {},
   "outputs": [],
   "source": [
    "i1=ser1.index"
   ]
  },
  {
   "cell_type": "code",
   "execution_count": 45,
   "id": "f15ed14d-4a89-40ac-b116-7e914df167b9",
   "metadata": {},
   "outputs": [
    {
     "name": "stdout",
     "output_type": "stream",
     "text": [
      "<class 'pandas.core.indexes.range.RangeIndex'>\n"
     ]
    }
   ],
   "source": [
    "print(type(i1))"
   ]
  },
  {
   "cell_type": "code",
   "execution_count": 46,
   "id": "2e121bcb-31f4-4eed-87bf-500eb270865c",
   "metadata": {},
   "outputs": [],
   "source": [
    "v1=ser1.values"
   ]
  },
  {
   "cell_type": "code",
   "execution_count": 47,
   "id": "d3159193-c463-438d-9fde-be1a5e6db81a",
   "metadata": {},
   "outputs": [
    {
     "name": "stdout",
     "output_type": "stream",
     "text": [
      "[10 20 30]\n"
     ]
    }
   ],
   "source": [
    "print(v1)"
   ]
  },
  {
   "cell_type": "code",
   "execution_count": 48,
   "id": "60882daa-6a8d-4dff-99d8-0979d97e48e6",
   "metadata": {},
   "outputs": [
    {
     "name": "stdout",
     "output_type": "stream",
     "text": [
      "<class 'numpy.ndarray'>\n"
     ]
    }
   ],
   "source": [
    "print(type(v1))"
   ]
  },
  {
   "cell_type": "code",
   "execution_count": 49,
   "id": "1502f254-9b71-456f-9c69-7baf9a8c6b70",
   "metadata": {},
   "outputs": [],
   "source": [
    "# hence pandas use numpy internally"
   ]
  },
  {
   "cell_type": "code",
   "execution_count": 50,
   "id": "073d5eb7-e06b-4e15-aed0-089b8a06f47f",
   "metadata": {},
   "outputs": [],
   "source": [
    "# we can give indexing by mentioning under index"
   ]
  },
  {
   "cell_type": "code",
   "execution_count": 51,
   "id": "8a68524b-7c62-4660-ace8-b5647ce25da6",
   "metadata": {},
   "outputs": [],
   "source": [
    "ser2=pd.Series([10,20,30,40],index=[1,2,3,4])"
   ]
  },
  {
   "cell_type": "code",
   "execution_count": 52,
   "id": "f73f28aa-73dc-41f4-be5d-2062d1c4f0a9",
   "metadata": {},
   "outputs": [
    {
     "name": "stdout",
     "output_type": "stream",
     "text": [
      "1    10\n",
      "2    20\n",
      "3    30\n",
      "4    40\n",
      "dtype: int64\n"
     ]
    }
   ],
   "source": [
    "print(ser2)"
   ]
  },
  {
   "cell_type": "code",
   "execution_count": 53,
   "id": "47a1838c-ec16-4bae-88d1-83ce1fb73c2f",
   "metadata": {},
   "outputs": [],
   "source": [
    "ser3=pd.Series(range(10,60,10),index=range(1,6,1))"
   ]
  },
  {
   "cell_type": "code",
   "execution_count": 54,
   "id": "4b27b002-16ec-4d1e-b919-d716d76eb733",
   "metadata": {},
   "outputs": [
    {
     "name": "stdout",
     "output_type": "stream",
     "text": [
      "1    10\n",
      "2    20\n",
      "3    30\n",
      "4    40\n",
      "5    50\n",
      "dtype: int64\n"
     ]
    }
   ],
   "source": [
    "print(ser3)"
   ]
  },
  {
   "cell_type": "code",
   "execution_count": 55,
   "id": "9519cd5e-e7bf-4bc6-b919-e2ce9453d730",
   "metadata": {},
   "outputs": [],
   "source": [
    "v2=ser2.values"
   ]
  },
  {
   "cell_type": "code",
   "execution_count": 56,
   "id": "2c247b93-49de-47bb-b583-121adcfd3154",
   "metadata": {},
   "outputs": [
    {
     "name": "stdout",
     "output_type": "stream",
     "text": [
      "[10 20 30 40]\n"
     ]
    }
   ],
   "source": [
    "print(v2)"
   ]
  },
  {
   "cell_type": "code",
   "execution_count": 57,
   "id": "29b8ddbb-e6ca-4a6e-9e17-3017c089d9a9",
   "metadata": {},
   "outputs": [],
   "source": [
    "v3=ser3.values"
   ]
  },
  {
   "cell_type": "code",
   "execution_count": 58,
   "id": "fd20bb24-17a4-486c-870a-5fd0deb6beab",
   "metadata": {},
   "outputs": [
    {
     "name": "stdout",
     "output_type": "stream",
     "text": [
      "[10 20 30 40 50]\n"
     ]
    }
   ],
   "source": [
    "print(v3)"
   ]
  },
  {
   "cell_type": "code",
   "execution_count": 59,
   "id": "27dbd4f2-f197-44be-8ff5-6289f77323be",
   "metadata": {},
   "outputs": [
    {
     "name": "stdout",
     "output_type": "stream",
     "text": [
      "10\n"
     ]
    }
   ],
   "source": [
    "# here we started index by 1 so \n",
    "print(ser3[1])"
   ]
  },
  {
   "cell_type": "code",
   "execution_count": 60,
   "id": "40e102b1-ed3e-41d3-b174-42f72866d138",
   "metadata": {},
   "outputs": [
    {
     "name": "stdout",
     "output_type": "stream",
     "text": [
      "30\n"
     ]
    }
   ],
   "source": [
    "print(ser3[3])"
   ]
  },
  {
   "cell_type": "code",
   "execution_count": 61,
   "id": "1be30960-0d6e-4bf3-a0b7-f7d8be61d87d",
   "metadata": {},
   "outputs": [],
   "source": [
    "ser4=pd.Series(range(10,40,10),index=['a','b','c'])"
   ]
  },
  {
   "cell_type": "code",
   "execution_count": 62,
   "id": "1c0e4af4-fdaf-4cfd-a36d-57db55138650",
   "metadata": {},
   "outputs": [
    {
     "data": {
      "text/plain": [
       "a    10\n",
       "b    20\n",
       "c    30\n",
       "dtype: int64"
      ]
     },
     "execution_count": 62,
     "metadata": {},
     "output_type": "execute_result"
    }
   ],
   "source": [
    "ser4"
   ]
  },
  {
   "cell_type": "code",
   "execution_count": 63,
   "id": "4f509e1d-fe06-409a-8858-073e9860ecd3",
   "metadata": {},
   "outputs": [],
   "source": [
    "# to fetch data using inner index we have an option called as loc and iloc"
   ]
  },
  {
   "cell_type": "code",
   "execution_count": 64,
   "id": "f8b024bf-9bca-403d-a86f-ba61b3806b5f",
   "metadata": {},
   "outputs": [
    {
     "name": "stdout",
     "output_type": "stream",
     "text": [
      "1    10\n",
      "2    20\n",
      "3    30\n",
      "4    40\n",
      "5    50\n",
      "dtype: int64\n"
     ]
    }
   ],
   "source": [
    "# iloc-inner index\n",
    "# loc-outer index\n",
    "\n",
    "print(ser3)"
   ]
  },
  {
   "cell_type": "code",
   "execution_count": 65,
   "id": "e0e34394-0681-4e95-b22e-b9356f072a03",
   "metadata": {},
   "outputs": [
    {
     "data": {
      "text/plain": [
       "10"
      ]
     },
     "execution_count": 65,
     "metadata": {},
     "output_type": "execute_result"
    }
   ],
   "source": [
    "ser3.iloc[0]"
   ]
  },
  {
   "cell_type": "code",
   "execution_count": 76,
   "id": "e3bac76c-28b7-4d4e-ac65-1d2c7c367261",
   "metadata": {},
   "outputs": [
    {
     "ename": "KeyError",
     "evalue": "0",
     "output_type": "error",
     "traceback": [
      "\u001b[1;31m---------------------------------------------------------------------------\u001b[0m",
      "\u001b[1;31mValueError\u001b[0m                                Traceback (most recent call last)",
      "File \u001b[1;32mC:\\ProgramData\\anaconda3\\Lib\\site-packages\\pandas\\core\\indexes\\range.py:413\u001b[0m, in \u001b[0;36mRangeIndex.get_loc\u001b[1;34m(self, key)\u001b[0m\n\u001b[0;32m    412\u001b[0m \u001b[38;5;28;01mtry\u001b[39;00m:\n\u001b[1;32m--> 413\u001b[0m     \u001b[38;5;28;01mreturn\u001b[39;00m \u001b[38;5;28mself\u001b[39m\u001b[38;5;241m.\u001b[39m_range\u001b[38;5;241m.\u001b[39mindex(new_key)\n\u001b[0;32m    414\u001b[0m \u001b[38;5;28;01mexcept\u001b[39;00m \u001b[38;5;167;01mValueError\u001b[39;00m \u001b[38;5;28;01mas\u001b[39;00m err:\n",
      "\u001b[1;31mValueError\u001b[0m: 0 is not in range",
      "\nThe above exception was the direct cause of the following exception:\n",
      "\u001b[1;31mKeyError\u001b[0m                                  Traceback (most recent call last)",
      "Cell \u001b[1;32mIn[76], line 1\u001b[0m\n\u001b[1;32m----> 1\u001b[0m ser3\u001b[38;5;241m.\u001b[39mloc[\u001b[38;5;241m0\u001b[39m]\n",
      "File \u001b[1;32mC:\\ProgramData\\anaconda3\\Lib\\site-packages\\pandas\\core\\indexing.py:1191\u001b[0m, in \u001b[0;36m_LocationIndexer.__getitem__\u001b[1;34m(self, key)\u001b[0m\n\u001b[0;32m   1189\u001b[0m maybe_callable \u001b[38;5;241m=\u001b[39m com\u001b[38;5;241m.\u001b[39mapply_if_callable(key, \u001b[38;5;28mself\u001b[39m\u001b[38;5;241m.\u001b[39mobj)\n\u001b[0;32m   1190\u001b[0m maybe_callable \u001b[38;5;241m=\u001b[39m \u001b[38;5;28mself\u001b[39m\u001b[38;5;241m.\u001b[39m_check_deprecated_callable_usage(key, maybe_callable)\n\u001b[1;32m-> 1191\u001b[0m \u001b[38;5;28;01mreturn\u001b[39;00m \u001b[38;5;28mself\u001b[39m\u001b[38;5;241m.\u001b[39m_getitem_axis(maybe_callable, axis\u001b[38;5;241m=\u001b[39maxis)\n",
      "File \u001b[1;32mC:\\ProgramData\\anaconda3\\Lib\\site-packages\\pandas\\core\\indexing.py:1431\u001b[0m, in \u001b[0;36m_LocIndexer._getitem_axis\u001b[1;34m(self, key, axis)\u001b[0m\n\u001b[0;32m   1429\u001b[0m \u001b[38;5;66;03m# fall thru to straight lookup\u001b[39;00m\n\u001b[0;32m   1430\u001b[0m \u001b[38;5;28mself\u001b[39m\u001b[38;5;241m.\u001b[39m_validate_key(key, axis)\n\u001b[1;32m-> 1431\u001b[0m \u001b[38;5;28;01mreturn\u001b[39;00m \u001b[38;5;28mself\u001b[39m\u001b[38;5;241m.\u001b[39m_get_label(key, axis\u001b[38;5;241m=\u001b[39maxis)\n",
      "File \u001b[1;32mC:\\ProgramData\\anaconda3\\Lib\\site-packages\\pandas\\core\\indexing.py:1381\u001b[0m, in \u001b[0;36m_LocIndexer._get_label\u001b[1;34m(self, label, axis)\u001b[0m\n\u001b[0;32m   1379\u001b[0m \u001b[38;5;28;01mdef\u001b[39;00m \u001b[38;5;21m_get_label\u001b[39m(\u001b[38;5;28mself\u001b[39m, label, axis: AxisInt):\n\u001b[0;32m   1380\u001b[0m     \u001b[38;5;66;03m# GH#5567 this will fail if the label is not present in the axis.\u001b[39;00m\n\u001b[1;32m-> 1381\u001b[0m     \u001b[38;5;28;01mreturn\u001b[39;00m \u001b[38;5;28mself\u001b[39m\u001b[38;5;241m.\u001b[39mobj\u001b[38;5;241m.\u001b[39mxs(label, axis\u001b[38;5;241m=\u001b[39maxis)\n",
      "File \u001b[1;32mC:\\ProgramData\\anaconda3\\Lib\\site-packages\\pandas\\core\\generic.py:4301\u001b[0m, in \u001b[0;36mNDFrame.xs\u001b[1;34m(self, key, axis, level, drop_level)\u001b[0m\n\u001b[0;32m   4299\u001b[0m             new_index \u001b[38;5;241m=\u001b[39m index[loc]\n\u001b[0;32m   4300\u001b[0m \u001b[38;5;28;01melse\u001b[39;00m:\n\u001b[1;32m-> 4301\u001b[0m     loc \u001b[38;5;241m=\u001b[39m index\u001b[38;5;241m.\u001b[39mget_loc(key)\n\u001b[0;32m   4303\u001b[0m     \u001b[38;5;28;01mif\u001b[39;00m \u001b[38;5;28misinstance\u001b[39m(loc, np\u001b[38;5;241m.\u001b[39mndarray):\n\u001b[0;32m   4304\u001b[0m         \u001b[38;5;28;01mif\u001b[39;00m loc\u001b[38;5;241m.\u001b[39mdtype \u001b[38;5;241m==\u001b[39m np\u001b[38;5;241m.\u001b[39mbool_:\n",
      "File \u001b[1;32mC:\\ProgramData\\anaconda3\\Lib\\site-packages\\pandas\\core\\indexes\\range.py:415\u001b[0m, in \u001b[0;36mRangeIndex.get_loc\u001b[1;34m(self, key)\u001b[0m\n\u001b[0;32m    413\u001b[0m         \u001b[38;5;28;01mreturn\u001b[39;00m \u001b[38;5;28mself\u001b[39m\u001b[38;5;241m.\u001b[39m_range\u001b[38;5;241m.\u001b[39mindex(new_key)\n\u001b[0;32m    414\u001b[0m     \u001b[38;5;28;01mexcept\u001b[39;00m \u001b[38;5;167;01mValueError\u001b[39;00m \u001b[38;5;28;01mas\u001b[39;00m err:\n\u001b[1;32m--> 415\u001b[0m         \u001b[38;5;28;01mraise\u001b[39;00m \u001b[38;5;167;01mKeyError\u001b[39;00m(key) \u001b[38;5;28;01mfrom\u001b[39;00m \u001b[38;5;21;01merr\u001b[39;00m\n\u001b[0;32m    416\u001b[0m \u001b[38;5;28;01mif\u001b[39;00m \u001b[38;5;28misinstance\u001b[39m(key, Hashable):\n\u001b[0;32m    417\u001b[0m     \u001b[38;5;28;01mraise\u001b[39;00m \u001b[38;5;167;01mKeyError\u001b[39;00m(key)\n",
      "\u001b[1;31mKeyError\u001b[0m: 0"
     ]
    }
   ],
   "source": [
    "ser3.loc[0]"
   ]
  },
  {
   "cell_type": "code",
   "execution_count": 77,
   "id": "a2eb75c3-e7b9-49d4-a201-7f7e4d8fbcd1",
   "metadata": {},
   "outputs": [],
   "source": [
    "# we need to give exactly same number of index points to store"
   ]
  },
  {
   "cell_type": "code",
   "execution_count": 78,
   "id": "53c5f2be-7629-4e88-a40b-7c8a04483835",
   "metadata": {},
   "outputs": [
    {
     "ename": "ValueError",
     "evalue": "Length of values (5) does not match length of index (2)",
     "output_type": "error",
     "traceback": [
      "\u001b[1;31m---------------------------------------------------------------------------\u001b[0m",
      "\u001b[1;31mValueError\u001b[0m                                Traceback (most recent call last)",
      "Cell \u001b[1;32mIn[78], line 1\u001b[0m\n\u001b[1;32m----> 1\u001b[0m ser5\u001b[38;5;241m=\u001b[39mpd\u001b[38;5;241m.\u001b[39mSeries(\u001b[38;5;28mrange\u001b[39m(\u001b[38;5;241m10\u001b[39m,\u001b[38;5;241m60\u001b[39m,\u001b[38;5;241m10\u001b[39m),index\u001b[38;5;241m=\u001b[39m\u001b[38;5;28mrange\u001b[39m(\u001b[38;5;241m1\u001b[39m,\u001b[38;5;241m3\u001b[39m,\u001b[38;5;241m1\u001b[39m))\n",
      "File \u001b[1;32mC:\\ProgramData\\anaconda3\\Lib\\site-packages\\pandas\\core\\series.py:575\u001b[0m, in \u001b[0;36mSeries.__init__\u001b[1;34m(self, data, index, dtype, name, copy, fastpath)\u001b[0m\n\u001b[0;32m    573\u001b[0m     index \u001b[38;5;241m=\u001b[39m default_index(\u001b[38;5;28mlen\u001b[39m(data))\n\u001b[0;32m    574\u001b[0m \u001b[38;5;28;01melif\u001b[39;00m is_list_like(data):\n\u001b[1;32m--> 575\u001b[0m     com\u001b[38;5;241m.\u001b[39mrequire_length_match(data, index)\n\u001b[0;32m    577\u001b[0m \u001b[38;5;66;03m# create/copy the manager\u001b[39;00m\n\u001b[0;32m    578\u001b[0m \u001b[38;5;28;01mif\u001b[39;00m \u001b[38;5;28misinstance\u001b[39m(data, (SingleBlockManager, SingleArrayManager)):\n",
      "File \u001b[1;32mC:\\ProgramData\\anaconda3\\Lib\\site-packages\\pandas\\core\\common.py:573\u001b[0m, in \u001b[0;36mrequire_length_match\u001b[1;34m(data, index)\u001b[0m\n\u001b[0;32m    569\u001b[0m \u001b[38;5;250m\u001b[39m\u001b[38;5;124;03m\"\"\"\u001b[39;00m\n\u001b[0;32m    570\u001b[0m \u001b[38;5;124;03mCheck the length of data matches the length of the index.\u001b[39;00m\n\u001b[0;32m    571\u001b[0m \u001b[38;5;124;03m\"\"\"\u001b[39;00m\n\u001b[0;32m    572\u001b[0m \u001b[38;5;28;01mif\u001b[39;00m \u001b[38;5;28mlen\u001b[39m(data) \u001b[38;5;241m!=\u001b[39m \u001b[38;5;28mlen\u001b[39m(index):\n\u001b[1;32m--> 573\u001b[0m     \u001b[38;5;28;01mraise\u001b[39;00m \u001b[38;5;167;01mValueError\u001b[39;00m(\n\u001b[0;32m    574\u001b[0m         \u001b[38;5;124m\"\u001b[39m\u001b[38;5;124mLength of values \u001b[39m\u001b[38;5;124m\"\u001b[39m\n\u001b[0;32m    575\u001b[0m         \u001b[38;5;124mf\u001b[39m\u001b[38;5;124m\"\u001b[39m\u001b[38;5;124m(\u001b[39m\u001b[38;5;132;01m{\u001b[39;00m\u001b[38;5;28mlen\u001b[39m(data)\u001b[38;5;132;01m}\u001b[39;00m\u001b[38;5;124m) \u001b[39m\u001b[38;5;124m\"\u001b[39m\n\u001b[0;32m    576\u001b[0m         \u001b[38;5;124m\"\u001b[39m\u001b[38;5;124mdoes not match length of index \u001b[39m\u001b[38;5;124m\"\u001b[39m\n\u001b[0;32m    577\u001b[0m         \u001b[38;5;124mf\u001b[39m\u001b[38;5;124m\"\u001b[39m\u001b[38;5;124m(\u001b[39m\u001b[38;5;132;01m{\u001b[39;00m\u001b[38;5;28mlen\u001b[39m(index)\u001b[38;5;132;01m}\u001b[39;00m\u001b[38;5;124m)\u001b[39m\u001b[38;5;124m\"\u001b[39m\n\u001b[0;32m    578\u001b[0m     )\n",
      "\u001b[1;31mValueError\u001b[0m: Length of values (5) does not match length of index (2)"
     ]
    }
   ],
   "source": [
    "ser5=pd.Series(range(10,60,10),index=range(1,3,1))"
   ]
  },
  {
   "cell_type": "code",
   "execution_count": null,
   "id": "38db18af-006c-4285-87aa-e984b908c4ec",
   "metadata": {},
   "outputs": [],
   "source": [
    "# length of the series should be equal to length of the indexes"
   ]
  },
  {
   "cell_type": "code",
   "execution_count": 92,
   "id": "e2a5e716-c9a3-446d-a23b-324fe6788f7b",
   "metadata": {},
   "outputs": [],
   "source": [
    "ser6=pd.Series([10,20,30], index=['Naveen','Veeresh','Shetter'])"
   ]
  },
  {
   "cell_type": "code",
   "execution_count": 93,
   "id": "ff2870eb-5d4c-4043-9676-38ae9f9e3c1d",
   "metadata": {},
   "outputs": [
    {
     "name": "stdout",
     "output_type": "stream",
     "text": [
      "Naveen     10\n",
      "Veeresh    20\n",
      "Shetter    30\n",
      "dtype: int64\n"
     ]
    }
   ],
   "source": [
    "print(ser6)"
   ]
  },
  {
   "cell_type": "code",
   "execution_count": 94,
   "id": "f6aaf37d-56b9-4678-8fb8-7c25783fa8d8",
   "metadata": {},
   "outputs": [],
   "source": [
    "ser7=pd.Series([10,20,30], index=['Naveen','Naveen','Naveen'])"
   ]
  },
  {
   "cell_type": "code",
   "execution_count": 95,
   "id": "1c5d5a35-dbc6-4e4a-bfad-4debc8bcf885",
   "metadata": {},
   "outputs": [
    {
     "name": "stdout",
     "output_type": "stream",
     "text": [
      "Naveen    10\n",
      "Naveen    20\n",
      "Naveen    30\n",
      "dtype: int64\n"
     ]
    }
   ],
   "source": [
    "print(ser7)"
   ]
  },
  {
   "cell_type": "code",
   "execution_count": 96,
   "id": "ca9d107a-7dbf-4dd3-ade5-b24e6e3625c8",
   "metadata": {},
   "outputs": [],
   "source": [
    "# Series are mutable"
   ]
  },
  {
   "cell_type": "code",
   "execution_count": 97,
   "id": "c17586a1-b061-4654-bcd9-da2b01976c82",
   "metadata": {},
   "outputs": [],
   "source": [
    "ser6.loc['Naveen']=89"
   ]
  },
  {
   "cell_type": "code",
   "execution_count": 98,
   "id": "e0c8ba2c-e6c8-40f0-bb00-418a94ac88b9",
   "metadata": {},
   "outputs": [
    {
     "name": "stdout",
     "output_type": "stream",
     "text": [
      "Naveen     89\n",
      "Veeresh    20\n",
      "Shetter    30\n",
      "dtype: int64\n"
     ]
    }
   ],
   "source": [
    "print(ser6)"
   ]
  },
  {
   "cell_type": "code",
   "execution_count": 99,
   "id": "a6109e16-c258-45ee-b053-a8d650590736",
   "metadata": {},
   "outputs": [
    {
     "name": "stderr",
     "output_type": "stream",
     "text": [
      "C:\\Users\\Skyline Solutions\\AppData\\Local\\Temp\\ipykernel_7084\\3176042359.py:1: FutureWarning: ChainedAssignmentError: behaviour will change in pandas 3.0!\n",
      "You are setting values through chained assignment. Currently this works in certain cases, but when using Copy-on-Write (which will become the default behaviour in pandas 3.0) this will never work to update the original DataFrame or Series, because the intermediate object on which we are setting values will behave as a copy.\n",
      "A typical example is when you are setting values in a column of a DataFrame, like:\n",
      "\n",
      "df[\"col\"][row_indexer] = value\n",
      "\n",
      "Use `df.loc[row_indexer, \"col\"] = values` instead, to perform the assignment in a single step and ensure this keeps updating the original `df`.\n",
      "\n",
      "See the caveats in the documentation: https://pandas.pydata.org/pandas-docs/stable/user_guide/indexing.html#returning-a-view-versus-a-copy\n",
      "\n",
      "  ser7.loc['Naveen'].iloc[-1]=44\n"
     ]
    }
   ],
   "source": [
    "ser7.loc['Naveen'].iloc[-1]=44"
   ]
  },
  {
   "cell_type": "code",
   "execution_count": 100,
   "id": "40a56e92-bb37-46f3-b5cf-fc48ce1e697d",
   "metadata": {},
   "outputs": [
    {
     "name": "stdout",
     "output_type": "stream",
     "text": [
      "Naveen    10\n",
      "Naveen    20\n",
      "Naveen    44\n",
      "dtype: int64\n"
     ]
    }
   ],
   "source": [
    "print(ser7)"
   ]
  },
  {
   "cell_type": "code",
   "execution_count": 101,
   "id": "1fc235ec-147d-4951-ab26-d207f962230c",
   "metadata": {},
   "outputs": [],
   "source": [
    "# to add or we call this operations as broadcasting(means parallel operation)"
   ]
  },
  {
   "cell_type": "code",
   "execution_count": 102,
   "id": "d1b6f672-c76b-4de8-9f89-de762ea1bf42",
   "metadata": {},
   "outputs": [
    {
     "name": "stdout",
     "output_type": "stream",
     "text": [
      "Naveen     90\n",
      "Veeresh    21\n",
      "Shetter    31\n",
      "dtype: int64\n"
     ]
    }
   ],
   "source": [
    "print(ser6+1)"
   ]
  },
  {
   "cell_type": "code",
   "execution_count": 103,
   "id": "1f346005-d671-48ff-a724-f7da049864d8",
   "metadata": {},
   "outputs": [
    {
     "name": "stdout",
     "output_type": "stream",
     "text": [
      "Naveen     89\n",
      "Veeresh    20\n",
      "Shetter    30\n",
      "dtype: int64\n"
     ]
    }
   ],
   "source": [
    "print(ser6)"
   ]
  },
  {
   "cell_type": "code",
   "execution_count": 104,
   "id": "6a83e86c-a536-4a1d-8434-e2acc7e00388",
   "metadata": {},
   "outputs": [],
   "source": [
    "# get whose marks are greater than 100"
   ]
  },
  {
   "cell_type": "code",
   "execution_count": 105,
   "id": "b04659f1-1ff5-4b60-8233-944f89cf628a",
   "metadata": {},
   "outputs": [
    {
     "data": {
      "text/plain": [
       "Naveen     False\n",
       "Veeresh    False\n",
       "Shetter    False\n",
       "dtype: bool"
      ]
     },
     "execution_count": 105,
     "metadata": {},
     "output_type": "execute_result"
    }
   ],
   "source": [
    "ser6>100"
   ]
  },
  {
   "cell_type": "code",
   "execution_count": 106,
   "id": "e50a6d12-eca3-4228-839e-ce366748ada9",
   "metadata": {},
   "outputs": [
    {
     "data": {
      "text/plain": [
       "Naveen      True\n",
       "Veeresh    False\n",
       "Shetter    False\n",
       "dtype: bool"
      ]
     },
     "execution_count": 106,
     "metadata": {},
     "output_type": "execute_result"
    }
   ],
   "source": [
    "ser6>67"
   ]
  },
  {
   "cell_type": "code",
   "execution_count": 107,
   "id": "581de089-9986-4c62-8b12-5e789cfe9e81",
   "metadata": {},
   "outputs": [
    {
     "data": {
      "text/plain": [
       "Naveen    89\n",
       "dtype: int64"
      ]
     },
     "execution_count": 107,
     "metadata": {},
     "output_type": "execute_result"
    }
   ],
   "source": [
    "ser6[ser6>80]"
   ]
  },
  {
   "cell_type": "code",
   "execution_count": 108,
   "id": "d9d3bc63-328e-4d31-bbb2-5244adbd3c83",
   "metadata": {},
   "outputs": [],
   "source": [
    "import numpy as np\n",
    "\n",
    "ser7=pd.Series(np.random.randint(1,10,5))"
   ]
  },
  {
   "cell_type": "code",
   "execution_count": 109,
   "id": "751c5ebb-a764-4f93-a08d-44b975b71d35",
   "metadata": {},
   "outputs": [
    {
     "name": "stdout",
     "output_type": "stream",
     "text": [
      "0    1\n",
      "1    8\n",
      "2    4\n",
      "3    1\n",
      "4    8\n",
      "dtype: int32\n"
     ]
    }
   ],
   "source": [
    "print(ser7)"
   ]
  },
  {
   "cell_type": "code",
   "execution_count": 110,
   "id": "38461da9-3f64-4a1b-83d7-8e4ed5b0eb98",
   "metadata": {},
   "outputs": [
    {
     "data": {
      "text/plain": [
       "1    8\n",
       "2    4\n",
       "4    8\n",
       "dtype: int32"
      ]
     },
     "execution_count": 110,
     "metadata": {},
     "output_type": "execute_result"
    }
   ],
   "source": [
    "# to print even numbers in series\n",
    "\n",
    "ser7[ser7%2==0]"
   ]
  },
  {
   "cell_type": "code",
   "execution_count": 111,
   "id": "c659651d-0f60-432e-b396-c042905beb36",
   "metadata": {},
   "outputs": [
    {
     "name": "stdout",
     "output_type": "stream",
     "text": [
      "8\n"
     ]
    }
   ],
   "source": [
    "print(ser7.loc[1])"
   ]
  },
  {
   "cell_type": "code",
   "execution_count": 112,
   "id": "583a3574-1be9-48e0-b80c-a65d5f71229a",
   "metadata": {},
   "outputs": [
    {
     "name": "stdout",
     "output_type": "stream",
     "text": [
      "1    8\n",
      "2    4\n",
      "3    1\n",
      "4    8\n",
      "dtype: int32\n"
     ]
    }
   ],
   "source": [
    "print(ser7.loc[1::])"
   ]
  },
  {
   "cell_type": "code",
   "execution_count": 113,
   "id": "b9c35249-f949-44cd-a791-fe0fb2018c49",
   "metadata": {},
   "outputs": [
    {
     "name": "stdout",
     "output_type": "stream",
     "text": [
      "{'IN': 9, 'PAK': 4, 'SA': 7, 'ENG': 3, 'AFG': 4}\n"
     ]
    }
   ],
   "source": [
    "# creating series using addict\n",
    "\n",
    "matches_won={'IN':9,'PAK':4,'SA':7,'ENG':3,'AFG':4}\n",
    "\n",
    "print(matches_won)"
   ]
  },
  {
   "cell_type": "code",
   "execution_count": 114,
   "id": "af717223-eb88-4c38-8414-d908d4359c8f",
   "metadata": {},
   "outputs": [],
   "source": [
    "s1=pd.Series(matches_won)"
   ]
  },
  {
   "cell_type": "code",
   "execution_count": 115,
   "id": "24012ee8-0819-4c3b-ab35-226f7ea09717",
   "metadata": {},
   "outputs": [
    {
     "name": "stdout",
     "output_type": "stream",
     "text": [
      "IN     9\n",
      "PAK    4\n",
      "SA     7\n",
      "ENG    3\n",
      "AFG    4\n",
      "dtype: int64\n"
     ]
    }
   ],
   "source": [
    "print(s1)"
   ]
  },
  {
   "cell_type": "code",
   "execution_count": 116,
   "id": "c02bf988-ca36-429a-aa43-46c9e01a2d5f",
   "metadata": {},
   "outputs": [],
   "source": [
    "# NAN is a value used to represent a missing value in both pd and np"
   ]
  },
  {
   "cell_type": "code",
   "execution_count": 117,
   "id": "99719dbc-8708-4747-8b96-d748892f1b95",
   "metadata": {},
   "outputs": [],
   "source": [
    "ser9=pd.Series(matches_won)"
   ]
  },
  {
   "cell_type": "code",
   "execution_count": 118,
   "id": "cba455d7-022e-4aa8-80fa-01b39c0fc5e9",
   "metadata": {},
   "outputs": [
    {
     "name": "stdout",
     "output_type": "stream",
     "text": [
      "IN     9\n",
      "PAK    4\n",
      "SA     7\n",
      "ENG    3\n",
      "AFG    4\n",
      "dtype: int64\n"
     ]
    }
   ],
   "source": [
    "print(ser9)"
   ]
  },
  {
   "cell_type": "code",
   "execution_count": 119,
   "id": "fd49f44a-54f2-4461-ba89-98980087f463",
   "metadata": {},
   "outputs": [
    {
     "name": "stdout",
     "output_type": "stream",
     "text": [
      "Index(['IN', 'PAK', 'SA', 'ENG', 'AFG'], dtype='object')\n"
     ]
    }
   ],
   "source": [
    "print(ser9.index)"
   ]
  },
  {
   "cell_type": "code",
   "execution_count": 120,
   "id": "2cd08cef-fca8-4066-b6d0-e3fb91ee1588",
   "metadata": {},
   "outputs": [
    {
     "name": "stdout",
     "output_type": "stream",
     "text": [
      "<bound method IndexOpsMixin.value_counts of IN     9\n",
      "PAK    4\n",
      "SA     7\n",
      "ENG    3\n",
      "AFG    4\n",
      "dtype: int64>\n"
     ]
    }
   ],
   "source": [
    "print(ser9.value_counts)"
   ]
  },
  {
   "cell_type": "code",
   "execution_count": 121,
   "id": "59c1058c-8da0-4d7f-bff4-57ad12051d2e",
   "metadata": {},
   "outputs": [
    {
     "name": "stdout",
     "output_type": "stream",
     "text": [
      "[9 4 7 3 4]\n"
     ]
    }
   ],
   "source": [
    "print(ser9.values)"
   ]
  },
  {
   "cell_type": "code",
   "execution_count": 122,
   "id": "a3705b97-bc74-4869-af78-9999f9224868",
   "metadata": {},
   "outputs": [],
   "source": [
    "\n",
    "ser9=pd.Series(matches_won,index=['PAK','SA','BR'])"
   ]
  },
  {
   "cell_type": "code",
   "execution_count": 123,
   "id": "d2830f5d-2f5a-4fff-bd77-f8aeddb605e8",
   "metadata": {},
   "outputs": [
    {
     "name": "stdout",
     "output_type": "stream",
     "text": [
      "PAK    4.0\n",
      "SA     7.0\n",
      "BR     NaN\n",
      "dtype: float64\n"
     ]
    }
   ],
   "source": [
    "print(ser9)"
   ]
  },
  {
   "cell_type": "code",
   "execution_count": 124,
   "id": "148e12e6-aa42-49af-978b-776e50c48697",
   "metadata": {},
   "outputs": [
    {
     "name": "stdout",
     "output_type": "stream",
     "text": [
      "<class 'pandas.core.series.Series'>\n"
     ]
    }
   ],
   "source": [
    "print(type(ser9))"
   ]
  },
  {
   "cell_type": "code",
   "execution_count": 125,
   "id": "5dfcd55d-29cb-44a6-a182-fa404f20008a",
   "metadata": {},
   "outputs": [
    {
     "name": "stdout",
     "output_type": "stream",
     "text": [
      "float64\n"
     ]
    }
   ],
   "source": [
    "print(ser9.dtype)"
   ]
  },
  {
   "cell_type": "code",
   "execution_count": 126,
   "id": "c3903c8c-ce7a-4895-885b-b3c54492b3d1",
   "metadata": {},
   "outputs": [],
   "source": [
    "ser10=pd.Series([10,20,30,'H'])"
   ]
  },
  {
   "cell_type": "code",
   "execution_count": 127,
   "id": "5cb301eb-f7b0-484c-8d2b-5488cd95ce22",
   "metadata": {},
   "outputs": [
    {
     "data": {
      "text/plain": [
       "0    10\n",
       "1    20\n",
       "2    30\n",
       "3     H\n",
       "dtype: object"
      ]
     },
     "execution_count": 127,
     "metadata": {},
     "output_type": "execute_result"
    }
   ],
   "source": [
    "ser10"
   ]
  },
  {
   "cell_type": "code",
   "execution_count": 128,
   "id": "e89e0cf9-1a05-4373-8ca2-b7fb3c5cb0b5",
   "metadata": {},
   "outputs": [
    {
     "name": "stdout",
     "output_type": "stream",
     "text": [
      "<class 'pandas.core.series.Series'>\n"
     ]
    }
   ],
   "source": [
    "print(type(ser10))"
   ]
  },
  {
   "cell_type": "code",
   "execution_count": 129,
   "id": "1ed1e5db-2645-4220-bb86-5a380caad0ac",
   "metadata": {},
   "outputs": [],
   "source": [
    "ser11=pd.Series({'nov':90,'ver':96})"
   ]
  },
  {
   "cell_type": "code",
   "execution_count": 130,
   "id": "c0ee8bf5-e0b5-47f6-8742-1204b82eeb94",
   "metadata": {},
   "outputs": [
    {
     "name": "stdout",
     "output_type": "stream",
     "text": [
      "nov    90\n",
      "ver    96\n",
      "dtype: int64\n"
     ]
    }
   ],
   "source": [
    "print(ser11)"
   ]
  },
  {
   "cell_type": "code",
   "execution_count": 131,
   "id": "b3b04a4c-d406-4f73-b377-56b57eac1e49",
   "metadata": {},
   "outputs": [],
   "source": [
    "ser12=pd.Series({'nov':89,'ver':96})"
   ]
  },
  {
   "cell_type": "code",
   "execution_count": 132,
   "id": "1b989eaf-d88b-41ba-a26b-65a0f42ae82f",
   "metadata": {},
   "outputs": [
    {
     "name": "stdout",
     "output_type": "stream",
     "text": [
      "nov    89\n",
      "ver    96\n",
      "dtype: int64\n"
     ]
    }
   ],
   "source": [
    "print(ser12)"
   ]
  },
  {
   "cell_type": "code",
   "execution_count": 133,
   "id": "f51fb916-5716-444c-b1b1-3248d30d2818",
   "metadata": {},
   "outputs": [
    {
     "name": "stdout",
     "output_type": "stream",
     "text": [
      "nov    179\n",
      "ver    192\n",
      "dtype: int64\n"
     ]
    }
   ],
   "source": [
    "# we can add or do any arithmatic operation like\n",
    "\n",
    "print(ser11+ser12)"
   ]
  },
  {
   "cell_type": "code",
   "execution_count": 134,
   "id": "e50b5f4c-b2b9-445e-b291-0bcba5ac7e39",
   "metadata": {},
   "outputs": [],
   "source": [
    "total=ser11+ser12"
   ]
  },
  {
   "cell_type": "code",
   "execution_count": null,
   "id": "60061d3f-5b99-4f3c-ba08-015d76edb236",
   "metadata": {},
   "outputs": [],
   "source": [
    "print(total)"
   ]
  },
  {
   "cell_type": "code",
   "execution_count": null,
   "id": "9b877740-7b2e-4741-80d7-fef98c436600",
   "metadata": {},
   "outputs": [],
   "source": [
    "print(type(total))"
   ]
  },
  {
   "cell_type": "code",
   "execution_count": null,
   "id": "99d08f9e-4ee2-4949-8f6f-9b16eaf2c5b5",
   "metadata": {},
   "outputs": [],
   "source": [
    "print(total.isnull())"
   ]
  },
  {
   "cell_type": "code",
   "execution_count": null,
   "id": "c445dd62-a209-4ce4-807c-e994cb7e1245",
   "metadata": {},
   "outputs": [],
   "source": [
    "print(total[total.isnull()])"
   ]
  },
  {
   "cell_type": "code",
   "execution_count": null,
   "id": "d551186f-b105-498b-9fdd-f6d1f4d4bdc2",
   "metadata": {},
   "outputs": [],
   "source": [
    "print(total[total.notnull()])"
   ]
  },
  {
   "cell_type": "code",
   "execution_count": null,
   "id": "959ec178-73a1-412d-b321-65a0a4fd9f51",
   "metadata": {},
   "outputs": [],
   "source": [
    "ser11=pd.Series({'Naveen':90,'Veeresh':95,'Shetter':98})"
   ]
  },
  {
   "cell_type": "code",
   "execution_count": null,
   "id": "b050d0e9-4897-40a4-b679-ec00776f3859",
   "metadata": {},
   "outputs": [],
   "source": [
    "print(ser11)"
   ]
  },
  {
   "cell_type": "code",
   "execution_count": null,
   "id": "16c0aad2-67bd-4d38-8ff7-ba65e2aedd42",
   "metadata": {},
   "outputs": [],
   "source": [
    "# ascending"
   ]
  },
  {
   "cell_type": "code",
   "execution_count": null,
   "id": "1678510b-d9f5-4f84-9202-f058f984a5d1",
   "metadata": {},
   "outputs": [],
   "source": [
    "print(ser11.sort_values(ascending=True))"
   ]
  },
  {
   "cell_type": "code",
   "execution_count": null,
   "id": "96f1e2bb-77e4-4f3f-bbed-c83252d208d7",
   "metadata": {},
   "outputs": [],
   "source": [
    "print(ser11.sort_values(ascending=False))"
   ]
  },
  {
   "cell_type": "code",
   "execution_count": null,
   "id": "4d31e1c3-1d04-4f4e-8333-fcfad98617c0",
   "metadata": {},
   "outputs": [],
   "source": [
    "# dataframes"
   ]
  },
  {
   "cell_type": "code",
   "execution_count": null,
   "id": "89b8d29d-d0a8-46ba-9061-3cb3d1e968ce",
   "metadata": {},
   "outputs": [],
   "source": [
    "data1={'name':['Naveen','Veeresh','Shetter'],'marks':[10,20,30],'age':[20,19,90]}"
   ]
  },
  {
   "cell_type": "code",
   "execution_count": null,
   "id": "ad1d8efc-de5d-4faa-bca1-27e5405ebb83",
   "metadata": {},
   "outputs": [],
   "source": [
    "print(data1)"
   ]
  },
  {
   "cell_type": "code",
   "execution_count": null,
   "id": "28606a3c-acdc-4324-a16a-866af3f1a29e",
   "metadata": {},
   "outputs": [],
   "source": [
    "df1=pd.DataFrame(data1)"
   ]
  },
  {
   "cell_type": "code",
   "execution_count": null,
   "id": "9c50bc94-3065-4ba2-a392-9c8dc29c40d5",
   "metadata": {},
   "outputs": [],
   "source": [
    "print(df1)"
   ]
  },
  {
   "cell_type": "code",
   "execution_count": null,
   "id": "1fb1c6c4-2ffd-464b-90c3-3870bb8a3a4a",
   "metadata": {},
   "outputs": [],
   "source": [
    "print(type(df1))"
   ]
  },
  {
   "cell_type": "code",
   "execution_count": null,
   "id": "81493e67-2c82-45bc-8ac6-a69570a4f7a8",
   "metadata": {},
   "outputs": [],
   "source": [
    "df1.index"
   ]
  },
  {
   "cell_type": "code",
   "execution_count": null,
   "id": "6670345a-7459-478f-aaf0-19a59e90e799",
   "metadata": {},
   "outputs": [],
   "source": [
    "df1.values"
   ]
  },
  {
   "cell_type": "code",
   "execution_count": null,
   "id": "bd15599b-c300-4d5e-88f1-85ee2799080e",
   "metadata": {},
   "outputs": [],
   "source": [
    "df1.columns"
   ]
  },
  {
   "cell_type": "code",
   "execution_count": null,
   "id": "056f6983-26d5-4a71-ac99-1eb67d14dd5b",
   "metadata": {},
   "outputs": [],
   "source": [
    "# to make a dataframe all have same length"
   ]
  },
  {
   "cell_type": "code",
   "execution_count": null,
   "id": "be017fa4-77c8-494d-820f-acc57d5ea83d",
   "metadata": {},
   "outputs": [],
   "source": [
    "df1.index"
   ]
  },
  {
   "cell_type": "code",
   "execution_count": null,
   "id": "5453a956-a9c7-4eb8-90c7-54f93f2c50dc",
   "metadata": {},
   "outputs": [],
   "source": [
    "df1.columns"
   ]
  },
  {
   "cell_type": "code",
   "execution_count": null,
   "id": "9bc1a449-d2fc-4c92-b73c-c106504c8571",
   "metadata": {},
   "outputs": [],
   "source": [
    "df1.values"
   ]
  },
  {
   "cell_type": "code",
   "execution_count": null,
   "id": "b1fa3cde-2aeb-4a18-b6f2-a77a57b3dd0f",
   "metadata": {},
   "outputs": [],
   "source": [
    "data=data1"
   ]
  },
  {
   "cell_type": "code",
   "execution_count": null,
   "id": "38282792-f4e9-4ef4-8bbb-289817827436",
   "metadata": {},
   "outputs": [],
   "source": [
    "df2=pd.DataFrame(data,columns=['ids','percent','grades'])"
   ]
  },
  {
   "cell_type": "code",
   "execution_count": null,
   "id": "0721693b-fcf3-484b-b185-53f03223ce3e",
   "metadata": {},
   "outputs": [],
   "source": [
    "df2"
   ]
  },
  {
   "cell_type": "code",
   "execution_count": null,
   "id": "5f9ca5a2-c2b8-4345-8459-25f338842e1f",
   "metadata": {},
   "outputs": [],
   "source": [
    "df2=pd.DataFrame(data,columns=['ids','percents','grades'])"
   ]
  },
  {
   "cell_type": "code",
   "execution_count": null,
   "id": "84b03a1f-c2f2-4f90-8cc3-4bce96c90061",
   "metadata": {},
   "outputs": [],
   "source": [
    "print(df2)"
   ]
  },
  {
   "cell_type": "code",
   "execution_count": null,
   "id": "8ea5be03-32e3-4fa7-9907-59654ea6d513",
   "metadata": {},
   "outputs": [],
   "source": [
    "df3=pd.DataFrame(data,index=data['name'],columns=['ids','percents'])"
   ]
  },
  {
   "cell_type": "code",
   "execution_count": null,
   "id": "7c3da87a-e023-40c9-95c2-afafb50295f0",
   "metadata": {},
   "outputs": [],
   "source": [
    "df3"
   ]
  },
  {
   "cell_type": "code",
   "execution_count": null,
   "id": "6347a858-016f-4d42-bc79-f4c93b67b5de",
   "metadata": {},
   "outputs": [],
   "source": [
    "print(data)"
   ]
  },
  {
   "cell_type": "code",
   "execution_count": null,
   "id": "bdfc8930-6d3f-4993-8f25-512d496061a9",
   "metadata": {},
   "outputs": [],
   "source": [
    "print(type(data))"
   ]
  },
  {
   "cell_type": "code",
   "execution_count": null,
   "id": "d3044ed7-e91f-4838-8028-f67de3b79629",
   "metadata": {},
   "outputs": [],
   "source": [
    "print(data1)"
   ]
  },
  {
   "cell_type": "code",
   "execution_count": null,
   "id": "273da456-3ea9-4e4c-a591-9176afb70f0c",
   "metadata": {},
   "outputs": [],
   "source": [
    "print(type(data1))"
   ]
  },
  {
   "cell_type": "code",
   "execution_count": null,
   "id": "de74fdc3-5842-4846-bb40-4a07fe31af13",
   "metadata": {},
   "outputs": [],
   "source": [
    "df1"
   ]
  },
  {
   "cell_type": "code",
   "execution_count": null,
   "id": "308e80d2-d803-44af-868a-231873eaa0f5",
   "metadata": {},
   "outputs": [],
   "source": [
    "# drop or deleting a column"
   ]
  },
  {
   "cell_type": "code",
   "execution_count": null,
   "id": "7bab9f5b-9d4a-4e3c-a10f-fa6d669e7533",
   "metadata": {},
   "outputs": [],
   "source": [
    "data={'name':['Naveen','Veeresh','Shetter'],\n",
    "     'ids':[101,102,103],\n",
    "     'percents':[89,90,97]}"
   ]
  },
  {
   "cell_type": "code",
   "execution_count": null,
   "id": "5985931f-6938-4e30-ad8b-f1767e62e7bf",
   "metadata": {},
   "outputs": [],
   "source": [
    "data"
   ]
  },
  {
   "cell_type": "code",
   "execution_count": null,
   "id": "455d9967-4f31-4030-9dff-d09dbd6dd16c",
   "metadata": {},
   "outputs": [],
   "source": [
    "df2=pd.DataFrame(data)"
   ]
  },
  {
   "cell_type": "code",
   "execution_count": null,
   "id": "8f24fd03-2851-4cd6-8181-2a0929197966",
   "metadata": {},
   "outputs": [],
   "source": [
    "print(df2)"
   ]
  },
  {
   "cell_type": "code",
   "execution_count": null,
   "id": "50a5d129-f97f-40b0-9461-e25f8d9f754c",
   "metadata": {},
   "outputs": [],
   "source": [
    "# # drop or deleting a column"
   ]
  },
  {
   "cell_type": "code",
   "execution_count": null,
   "id": "bf652a2b-7159-48c8-bd4d-399ca14ad6cd",
   "metadata": {},
   "outputs": [],
   "source": [
    "df2.drop(['percents'],axis=1)"
   ]
  },
  {
   "cell_type": "code",
   "execution_count": null,
   "id": "3ba00dbd-9265-4d6f-a9ea-29e215a1d6c0",
   "metadata": {},
   "outputs": [],
   "source": [
    "print(df2)"
   ]
  },
  {
   "cell_type": "code",
   "execution_count": null,
   "id": "dcba835a-aae8-4442-af19-e5e11f8b4119",
   "metadata": {},
   "outputs": [],
   "source": [
    "# here it is not deleted completely so you need to delete by putting inplace=True"
   ]
  },
  {
   "cell_type": "code",
   "execution_count": null,
   "id": "da943533-6ae1-4e1c-9ec9-5eeac4cfaf14",
   "metadata": {},
   "outputs": [],
   "source": [
    "df3=pd.DataFrame(data)"
   ]
  },
  {
   "cell_type": "code",
   "execution_count": null,
   "id": "7b909100-301d-4bd1-a4fa-7c3cadf61c8a",
   "metadata": {},
   "outputs": [],
   "source": [
    "df3"
   ]
  },
  {
   "cell_type": "code",
   "execution_count": null,
   "id": "7bec2427-43c4-4fd7-a517-75f0ae97d158",
   "metadata": {},
   "outputs": [],
   "source": [
    "df3.drop(['percents'],axis=1,inplace=True)"
   ]
  },
  {
   "cell_type": "code",
   "execution_count": null,
   "id": "62064153-7e40-406d-a8e8-835995154781",
   "metadata": {},
   "outputs": [],
   "source": [
    "print(df3)"
   ]
  },
  {
   "cell_type": "code",
   "execution_count": null,
   "id": "57039f8e-22ca-4c6a-aa50-e79bf0d57ab9",
   "metadata": {},
   "outputs": [],
   "source": [
    "# now to delete a row"
   ]
  },
  {
   "cell_type": "code",
   "execution_count": null,
   "id": "8426b6d0-98d0-49bc-bae6-bb0528607f54",
   "metadata": {},
   "outputs": [],
   "source": [
    "df3.drop([0],axis=0,inplace=True)"
   ]
  },
  {
   "cell_type": "code",
   "execution_count": null,
   "id": "94f5b4bd-c3c4-4523-be62-1e3e23e44a29",
   "metadata": {},
   "outputs": [],
   "source": [
    "print(df3)"
   ]
  },
  {
   "cell_type": "code",
   "execution_count": null,
   "id": "8e11b65d-b8c4-4aab-827c-9147a5aad0d5",
   "metadata": {},
   "outputs": [],
   "source": [
    "df3['percents']=[10,20]"
   ]
  },
  {
   "cell_type": "code",
   "execution_count": null,
   "id": "5081e146-7c95-46e9-8521-db24cddc3018",
   "metadata": {},
   "outputs": [],
   "source": [
    "df3"
   ]
  },
  {
   "cell_type": "code",
   "execution_count": null,
   "id": "dca96882-45d9-4a3e-af1d-c706133d26c7",
   "metadata": {},
   "outputs": [],
   "source": [
    "df3['pe']=[10,20,30]\n",
    "\n",
    "# here while creating, we can add directly but index length should be same"
   ]
  },
  {
   "cell_type": "code",
   "execution_count": null,
   "id": "37895869-c994-4107-81a4-831498f37367",
   "metadata": {},
   "outputs": [],
   "source": [
    "df3"
   ]
  },
  {
   "cell_type": "code",
   "execution_count": null,
   "id": "7c103277-ef22-4c65-939b-b5f64c3b45b3",
   "metadata": {},
   "outputs": [],
   "source": [
    "df2"
   ]
  },
  {
   "cell_type": "code",
   "execution_count": null,
   "id": "f91da850-df2b-4733-93de-c6750ac94e4b",
   "metadata": {},
   "outputs": [],
   "source": [
    "df2['percents']>90"
   ]
  },
  {
   "cell_type": "code",
   "execution_count": null,
   "id": "6af70b08-5bab-4363-8e8e-5b933dd7ead4",
   "metadata": {},
   "outputs": [],
   "source": [
    "df2[df2['percents']>90]"
   ]
  },
  {
   "cell_type": "code",
   "execution_count": null,
   "id": "d090a3c9-e5c4-47ce-b7e1-e9621f1a5f90",
   "metadata": {},
   "outputs": [],
   "source": [
    "df2[df2['percents']<90]"
   ]
  },
  {
   "cell_type": "code",
   "execution_count": null,
   "id": "d4e75d74-6101-4cfd-be88-7910c6337da1",
   "metadata": {},
   "outputs": [],
   "source": [
    "df2[df2['percents']==90]"
   ]
  },
  {
   "cell_type": "code",
   "execution_count": null,
   "id": "972467d6-c172-43cd-b03e-99875e11a61c",
   "metadata": {},
   "outputs": [],
   "source": [
    "arr1=np.where(df2['percents']>=90,'yes','no')"
   ]
  },
  {
   "cell_type": "code",
   "execution_count": null,
   "id": "1286b256-086d-4812-9188-5c1d7917b579",
   "metadata": {},
   "outputs": [],
   "source": [
    "arr1"
   ]
  },
  {
   "cell_type": "code",
   "execution_count": null,
   "id": "ac62b191-cbfe-405a-aec6-21a6ec1b035e",
   "metadata": {},
   "outputs": [],
   "source": [
    "print(arr1)"
   ]
  },
  {
   "cell_type": "code",
   "execution_count": null,
   "id": "e5107463-6b12-449e-949d-367ca16b6d6d",
   "metadata": {},
   "outputs": [],
   "source": [
    "df2['good']=arr1"
   ]
  },
  {
   "cell_type": "code",
   "execution_count": null,
   "id": "17c58e7a-7b33-4d33-9bd3-d8e812a4e829",
   "metadata": {},
   "outputs": [],
   "source": [
    "df2"
   ]
  },
  {
   "cell_type": "code",
   "execution_count": null,
   "id": "b97582db-307b-459f-9dcc-ac628ae73cc2",
   "metadata": {},
   "outputs": [],
   "source": [
    "df2.loc[3]=['Ling','104','100','yes']"
   ]
  },
  {
   "cell_type": "code",
   "execution_count": null,
   "id": "f2fcf8f1-0749-443c-8755-0e9cf31ca2fe",
   "metadata": {},
   "outputs": [],
   "source": [
    "df2"
   ]
  },
  {
   "cell_type": "code",
   "execution_count": null,
   "id": "e4691ed2-69a3-4648-86f8-249321e96361",
   "metadata": {},
   "outputs": [],
   "source": [
    "# the above thing can be done by"
   ]
  },
  {
   "cell_type": "code",
   "execution_count": null,
   "id": "27bfa3aa-49da-4feb-b793-6dfcdb167c74",
   "metadata": {},
   "outputs": [],
   "source": [
    "def cal_grades(percent):\n",
    "    if percent>=95:\n",
    "        return 'A'\n",
    "    else:\n",
    "        return 'B'\n",
    "\n",
    "df2['grades']=df2['percents'].apply(cal_grades)"
   ]
  },
  {
   "cell_type": "code",
   "execution_count": null,
   "id": "56d174ec-c5c8-4d43-b108-32b0d0a51f2b",
   "metadata": {},
   "outputs": [],
   "source": [
    "df2.drop([3],axis=0,inplace=True)"
   ]
  },
  {
   "cell_type": "code",
   "execution_count": null,
   "id": "f39f762b-f0e5-4a47-8836-2f0a453f8351",
   "metadata": {},
   "outputs": [],
   "source": [
    "df2"
   ]
  },
  {
   "cell_type": "code",
   "execution_count": null,
   "id": "a521c2af-fa60-4251-8de0-5611ced93a04",
   "metadata": {},
   "outputs": [],
   "source": [
    "df2.loc[3]=['Ling','104',100,'yes']"
   ]
  },
  {
   "cell_type": "code",
   "execution_count": null,
   "id": "50b246cd-7930-42e9-b497-09f21b6b67a1",
   "metadata": {},
   "outputs": [],
   "source": [
    "df2"
   ]
  },
  {
   "cell_type": "code",
   "execution_count": null,
   "id": "3773cc50-7c54-4437-9a4e-5f3fa93c9148",
   "metadata": {},
   "outputs": [],
   "source": [
    "print(type(df2['percents']))"
   ]
  },
  {
   "cell_type": "code",
   "execution_count": null,
   "id": "9bf59f34-66b2-4be9-9510-e59f5fb43e21",
   "metadata": {},
   "outputs": [],
   "source": [
    "def cal_grades(percent):\n",
    "    if percent>=95:\n",
    "        return 'A'\n",
    "    else:\n",
    "        return 'B'\n",
    "\n",
    "df2['grades']=df2['percents'].apply(cal_grades)"
   ]
  },
  {
   "cell_type": "code",
   "execution_count": null,
   "id": "12796c12-90c6-4a4a-a1ff-4f50da12690a",
   "metadata": {},
   "outputs": [],
   "source": [
    "df2"
   ]
  },
  {
   "cell_type": "code",
   "execution_count": null,
   "id": "43a8d6d7-ea7f-4218-aa7b-9432cb77837b",
   "metadata": {},
   "outputs": [],
   "source": [
    "df2.describe"
   ]
  },
  {
   "cell_type": "code",
   "execution_count": null,
   "id": "a3d9b895-ebd5-4057-9d4d-242714492ce0",
   "metadata": {},
   "outputs": [],
   "source": [
    "df2.describe()"
   ]
  },
  {
   "cell_type": "code",
   "execution_count": null,
   "id": "4812fe17-60b5-474c-b7c8-2f21792b4e7b",
   "metadata": {},
   "outputs": [],
   "source": [
    "# 15nov"
   ]
  },
  {
   "cell_type": "code",
   "execution_count": null,
   "id": "39b5441f-814c-4a5d-b56f-5b5a8ff674fc",
   "metadata": {},
   "outputs": [],
   "source": [
    "data={'Company':['A','B','C','D'],\n",
    "     'Year':[2019,2020,2021,2022],\n",
    "     'Sales':[100,89,90,91],\n",
    "     'Profits':[11,9,4,5]}"
   ]
  },
  {
   "cell_type": "code",
   "execution_count": null,
   "id": "f47696bc-40d1-4857-a435-ca4ce335c504",
   "metadata": {},
   "outputs": [],
   "source": [
    "df1=pd.DataFrame(data)"
   ]
  },
  {
   "cell_type": "code",
   "execution_count": null,
   "id": "d0447473-e7fa-4206-bb6b-cf23afb0d9fc",
   "metadata": {},
   "outputs": [],
   "source": [
    "df1"
   ]
  },
  {
   "cell_type": "code",
   "execution_count": null,
   "id": "de7db72d-973c-4163-88cf-3e0ed999bb35",
   "metadata": {},
   "outputs": [],
   "source": [
    "df1['Year']"
   ]
  },
  {
   "cell_type": "code",
   "execution_count": null,
   "id": "95e764b4-117d-4384-9786-5a3e21c8d389",
   "metadata": {},
   "outputs": [],
   "source": [
    "df1.describe()"
   ]
  },
  {
   "cell_type": "code",
   "execution_count": null,
   "id": "728a3982-b945-4e85-9084-8f9c37ff1569",
   "metadata": {},
   "outputs": [],
   "source": [
    "df1.isnull()"
   ]
  },
  {
   "cell_type": "code",
   "execution_count": null,
   "id": "4905e567-b97f-4027-ae02-40bd7ef29aa5",
   "metadata": {},
   "outputs": [],
   "source": [
    "df1.isnull"
   ]
  },
  {
   "cell_type": "code",
   "execution_count": null,
   "id": "544082a5-4e40-461d-a9e6-af50f2e49faa",
   "metadata": {},
   "outputs": [],
   "source": [
    "print(type(df1['Year'][0]))"
   ]
  },
  {
   "cell_type": "code",
   "execution_count": null,
   "id": "c66f2a04-4d87-4f7a-90d5-c5d5d591bb43",
   "metadata": {},
   "outputs": [],
   "source": [
    "df1['Year']"
   ]
  },
  {
   "cell_type": "code",
   "execution_count": null,
   "id": "d2aca5be-3b7c-4dc3-8dd4-e394582b9b45",
   "metadata": {},
   "outputs": [],
   "source": [
    "# type convertion"
   ]
  },
  {
   "cell_type": "code",
   "execution_count": null,
   "id": "84769228-34cf-418f-9d6c-c7024951cf9c",
   "metadata": {},
   "outputs": [],
   "source": [
    "df1.describe(include=None)"
   ]
  },
  {
   "cell_type": "code",
   "execution_count": null,
   "id": "3fea59c7-c17e-4a0f-800b-51ca0b314caa",
   "metadata": {},
   "outputs": [],
   "source": [
    "df1.info()"
   ]
  },
  {
   "cell_type": "code",
   "execution_count": null,
   "id": "af53842e-b9c3-461d-bdbc-7f18cc4c49b9",
   "metadata": {},
   "outputs": [],
   "source": [
    "df1['Year'].astype(object)"
   ]
  },
  {
   "cell_type": "code",
   "execution_count": null,
   "id": "a20a3e70-cebb-4bdd-af01-70be2a1294e5",
   "metadata": {},
   "outputs": [],
   "source": [
    "df1.info()"
   ]
  },
  {
   "cell_type": "code",
   "execution_count": null,
   "id": "5767953f-4bc6-4e41-a333-245c360225ae",
   "metadata": {},
   "outputs": [],
   "source": [
    "df1['Company']"
   ]
  },
  {
   "cell_type": "code",
   "execution_count": null,
   "id": "3a64373b-fed4-46fb-9cd6-0ff303ee3bb6",
   "metadata": {},
   "outputs": [],
   "source": [
    "df1['Year'].value_counts()"
   ]
  },
  {
   "cell_type": "code",
   "execution_count": null,
   "id": "091e2bc4-1afc-4055-8434-d99850ecb7be",
   "metadata": {},
   "outputs": [],
   "source": [
    "df1['Profits']"
   ]
  },
  {
   "cell_type": "code",
   "execution_count": null,
   "id": "e135b005-478e-43bd-8f8b-30aa7114533d",
   "metadata": {},
   "outputs": [],
   "source": [
    "df1['Sales']"
   ]
  },
  {
   "cell_type": "code",
   "execution_count": null,
   "id": "ed6b162a-a669-4095-869e-eca61dba0b08",
   "metadata": {},
   "outputs": [],
   "source": [
    "# fetch the rows which has only company B"
   ]
  },
  {
   "cell_type": "code",
   "execution_count": null,
   "id": "6f528e59-1071-4fb1-9c6d-ffa67cf53a36",
   "metadata": {},
   "outputs": [],
   "source": [
    "df1['Company']=='B'"
   ]
  },
  {
   "cell_type": "code",
   "execution_count": null,
   "id": "89ae9617-68f1-47cf-afc4-9a83e9da14c2",
   "metadata": {},
   "outputs": [],
   "source": [
    "df1[df1['Company']=='B']"
   ]
  },
  {
   "cell_type": "code",
   "execution_count": null,
   "id": "2135de2b-b2d7-4195-936b-0df58d99dcef",
   "metadata": {},
   "outputs": [],
   "source": [
    "df1[df1['Sales']>=90]"
   ]
  },
  {
   "cell_type": "code",
   "execution_count": null,
   "id": "7eec2b4c-48fb-4bf4-bfb1-5c21e3ee9d08",
   "metadata": {},
   "outputs": [],
   "source": [
    "df1[df1['Sales']>=90]['Company']"
   ]
  },
  {
   "cell_type": "code",
   "execution_count": null,
   "id": "9686f509-db02-4c5c-b288-fff894ab03ae",
   "metadata": {},
   "outputs": [],
   "source": [
    "df1[df1['Sales']>=90]['Profits']"
   ]
  },
  {
   "cell_type": "code",
   "execution_count": null,
   "id": "86b1c617-12fe-407a-82bb-87cabe4a706e",
   "metadata": {},
   "outputs": [],
   "source": [
    "df1[df1['Company']=='B']"
   ]
  },
  {
   "cell_type": "code",
   "execution_count": null,
   "id": "91a1dd5a-88d8-4809-b6bd-c894fddfabea",
   "metadata": {},
   "outputs": [],
   "source": [
    "df1['Company']"
   ]
  },
  {
   "cell_type": "code",
   "execution_count": null,
   "id": "a880064f-6f98-413c-8aae-6f015cfaaefa",
   "metadata": {},
   "outputs": [],
   "source": [
    "df1[df1['Company']=='B']"
   ]
  },
  {
   "cell_type": "code",
   "execution_count": null,
   "id": "5cdb2d60-2fdd-4af1-8f8f-53e5976c06c0",
   "metadata": {},
   "outputs": [],
   "source": [
    "df1[df1['Company']=='B']['Sales']"
   ]
  },
  {
   "cell_type": "code",
   "execution_count": null,
   "id": "47c8e768-961f-4b92-a9ba-ad2480a4edad",
   "metadata": {},
   "outputs": [],
   "source": [
    "df1[df1['Sales']>70].value_counts()"
   ]
  },
  {
   "cell_type": "code",
   "execution_count": null,
   "id": "83116493-1e2b-4071-8735-f8dbe59ca824",
   "metadata": {},
   "outputs": [],
   "source": [
    "df1[df1['Profits']<70]['Profits']"
   ]
  },
  {
   "cell_type": "code",
   "execution_count": null,
   "id": "4ad0189c-9bcd-4c11-bb2a-c6488fae2964",
   "metadata": {},
   "outputs": [],
   "source": [
    "df1[df1['Profits']<70][['Year','Company']]"
   ]
  },
  {
   "cell_type": "code",
   "execution_count": null,
   "id": "94973c74-0efa-4ddd-9b8b-5acd5b3c4f6e",
   "metadata": {},
   "outputs": [],
   "source": [
    "df1[(df1['Company']=='A') & (df1['Profits']<40)]"
   ]
  },
  {
   "cell_type": "code",
   "execution_count": null,
   "id": "b103ea20-e721-468d-8e05-c51ee0522fa6",
   "metadata": {},
   "outputs": [],
   "source": [
    "df1[(df1['Sales']>100) | (df1['Profits']>10)]"
   ]
  },
  {
   "cell_type": "code",
   "execution_count": null,
   "id": "2b2f4be8-83ec-480b-95cf-efffa058a140",
   "metadata": {},
   "outputs": [],
   "source": [
    "df1[df1['Profits']<40]"
   ]
  },
  {
   "cell_type": "code",
   "execution_count": null,
   "id": "cd53e247-bbe7-455e-a36c-df776dcca482",
   "metadata": {},
   "outputs": [],
   "source": [
    "# query"
   ]
  },
  {
   "cell_type": "code",
   "execution_count": null,
   "id": "3684f287-ceb8-437e-9c7a-fcef689e2456",
   "metadata": {},
   "outputs": [],
   "source": [
    "df1.query(\"Company=='A'\")"
   ]
  },
  {
   "cell_type": "code",
   "execution_count": null,
   "id": "22d35888-1fe5-4935-a3b7-6d6940f11ad6",
   "metadata": {},
   "outputs": [],
   "source": [
    "df1.query(\"Company=='A' and Profits>30\")"
   ]
  },
  {
   "cell_type": "code",
   "execution_count": null,
   "id": "652f97f5-74ef-4a84-bdbe-14aedb15faae",
   "metadata": {},
   "outputs": [],
   "source": [
    "df1.query(\"Company=='A' or Profits>30\")"
   ]
  },
  {
   "cell_type": "code",
   "execution_count": null,
   "id": "775958da-52bb-4e92-8989-cc3a252cff13",
   "metadata": {},
   "outputs": [],
   "source": [
    "# find mean of profit of company A"
   ]
  },
  {
   "cell_type": "code",
   "execution_count": null,
   "id": "712f7849-35aa-44bc-ab75-06a641ba8ff9",
   "metadata": {},
   "outputs": [],
   "source": [
    "df1[df1['Company']=='A']['Profits']"
   ]
  },
  {
   "cell_type": "code",
   "execution_count": null,
   "id": "0e2b0d9b-0dc4-4481-9c57-f79826cd92df",
   "metadata": {},
   "outputs": [],
   "source": [
    "df1[df1['Company']=='A']['Profits'].mean()"
   ]
  },
  {
   "cell_type": "code",
   "execution_count": null,
   "id": "11a64f5a-fbe3-4eb7-957e-9748a75ae901",
   "metadata": {},
   "outputs": [],
   "source": [
    "df1['Company'].mode()"
   ]
  },
  {
   "cell_type": "code",
   "execution_count": null,
   "id": "f44d78ac-acb4-48aa-bb4b-0b7d579f1df5",
   "metadata": {},
   "outputs": [],
   "source": [
    "df1['Company'].describe()"
   ]
  },
  {
   "cell_type": "code",
   "execution_count": null,
   "id": "cc52e8a0-6c3d-4071-9a80-e79afd8ae525",
   "metadata": {},
   "outputs": [],
   "source": [
    "df1.describe()"
   ]
  },
  {
   "cell_type": "code",
   "execution_count": null,
   "id": "ed00a062-8921-44e3-993e-f60c49df9671",
   "metadata": {},
   "outputs": [],
   "source": [
    "df1['Year'].mode()"
   ]
  },
  {
   "cell_type": "code",
   "execution_count": null,
   "id": "6722fcdc-9d2b-4ee1-9598-12ff2e57495a",
   "metadata": {},
   "outputs": [],
   "source": [
    "df1['Year'].max()"
   ]
  },
  {
   "cell_type": "code",
   "execution_count": null,
   "id": "be0da9c7-be49-4290-ad0b-61ae9b559338",
   "metadata": {},
   "outputs": [],
   "source": [
    "df1.info()"
   ]
  },
  {
   "cell_type": "code",
   "execution_count": null,
   "id": "4698e2ed-1e96-48c5-946f-f3818b33048e",
   "metadata": {},
   "outputs": [],
   "source": [
    "df1.describe()"
   ]
  },
  {
   "cell_type": "code",
   "execution_count": null,
   "id": "6c8278cb-cecc-4d69-99a8-83c5bdb0051a",
   "metadata": {},
   "outputs": [],
   "source": [
    "df1['Sales'].quantile()"
   ]
  },
  {
   "cell_type": "code",
   "execution_count": null,
   "id": "9bdd38f6-c454-40eb-962b-b01f72e817e9",
   "metadata": {},
   "outputs": [],
   "source": [
    "df1['Sales'].quantile(.25)"
   ]
  },
  {
   "cell_type": "code",
   "execution_count": null,
   "id": "eeb846d4-9a30-4a1a-8510-ba82951dc8e0",
   "metadata": {},
   "outputs": [],
   "source": [
    "df1['Sales'].quantile(1)"
   ]
  },
  {
   "cell_type": "code",
   "execution_count": null,
   "id": "992478e2-246e-4f81-81f8-bcdbbdb604d6",
   "metadata": {},
   "outputs": [],
   "source": [
    "df1['Sales'].quantile(0.5)"
   ]
  },
  {
   "cell_type": "code",
   "execution_count": null,
   "id": "59c6af53-d686-4e0b-a981-00cd6bf1d701",
   "metadata": {},
   "outputs": [],
   "source": [
    "# pivot: - Index, column, and row"
   ]
  },
  {
   "cell_type": "code",
   "execution_count": null,
   "id": "b2407c95-cb4d-4033-80b4-b1956f60000d",
   "metadata": {},
   "outputs": [],
   "source": [
    "pivot_df=df1.pivot(index='Company',columns='Year',values='Sales')"
   ]
  },
  {
   "cell_type": "code",
   "execution_count": null,
   "id": "4d04ec27-bb4a-4e40-a728-7dcd3760aa66",
   "metadata": {},
   "outputs": [],
   "source": [
    "print(pivot_df)"
   ]
  },
  {
   "cell_type": "code",
   "execution_count": null,
   "id": "90d895fb-1a9e-4a2d-b005-7a7bbc14cb8d",
   "metadata": {},
   "outputs": [],
   "source": [
    "pivot_df=df1.pivot(index='Company',columns='Year',values=['Sales','Profits'])"
   ]
  },
  {
   "cell_type": "code",
   "execution_count": null,
   "id": "cac6d4d2-a438-4b15-97c8-04027204d224",
   "metadata": {},
   "outputs": [],
   "source": [
    "print(pivot_df)"
   ]
  },
  {
   "cell_type": "code",
   "execution_count": null,
   "id": "85e39851-fc64-43f9-8e11-fa6901b82c44",
   "metadata": {},
   "outputs": [],
   "source": [
    "df1"
   ]
  },
  {
   "cell_type": "code",
   "execution_count": null,
   "id": "4b286e3e-75a0-4d03-a761-8affa5809529",
   "metadata": {},
   "outputs": [],
   "source": []
  },
  {
   "cell_type": "code",
   "execution_count": null,
   "id": "67db7e1c-532c-41fa-8579-849124e06e68",
   "metadata": {},
   "outputs": [],
   "source": []
  },
  {
   "cell_type": "code",
   "execution_count": null,
   "id": "92fa6822-fce2-4530-be0b-ecf1acb2aa5a",
   "metadata": {},
   "outputs": [],
   "source": []
  }
 ],
 "metadata": {
  "kernelspec": {
   "display_name": "Python 3 (ipykernel)",
   "language": "python",
   "name": "python3"
  },
  "language_info": {
   "codemirror_mode": {
    "name": "ipython",
    "version": 3
   },
   "file_extension": ".py",
   "mimetype": "text/x-python",
   "name": "python",
   "nbconvert_exporter": "python",
   "pygments_lexer": "ipython3",
   "version": "3.12.4"
  }
 },
 "nbformat": 4,
 "nbformat_minor": 5
}
