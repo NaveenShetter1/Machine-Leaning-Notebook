{
 "cells": [
  {
   "cell_type": "code",
   "execution_count": 1,
   "id": "f90ef80d-2acb-4ce0-9c08-b6eb8d568a47",
   "metadata": {},
   "outputs": [],
   "source": [
    "# simple interest: - find simple interest on 10000 for 5% rate of interest for 5 years"
   ]
  },
  {
   "cell_type": "code",
   "execution_count": 2,
   "id": "9fe27b59-e6ab-4e66-82c3-742117ed9456",
   "metadata": {},
   "outputs": [],
   "source": [
    "# p-principle amount, I- interest rate, T - time, SI- simple interest"
   ]
  },
  {
   "cell_type": "code",
   "execution_count": 3,
   "id": "71d3896b-d429-44df-a114-a01e43acab75",
   "metadata": {},
   "outputs": [
    {
     "name": "stdout",
     "output_type": "stream",
     "text": [
      "simple interest is  2500.0\n"
     ]
    }
   ],
   "source": [
    "P=10000\n",
    "I=5\n",
    "T=5\n",
    "\n",
    "SI=(P*I*T)/100\n",
    "\n",
    "print(\"simple interest is \",SI)"
   ]
  },
  {
   "cell_type": "code",
   "execution_count": 4,
   "id": "4faf765c-02e5-431e-a39d-ac82989229f8",
   "metadata": {},
   "outputs": [
    {
     "name": "stdout",
     "output_type": "stream",
     "text": [
      "Compound interest is 6288.946267774416\n"
     ]
    }
   ],
   "source": [
    "# Python3 program to find compound\n",
    "# interest for given values.\n",
    " \n",
    " \n",
    "def compound_interest(principal, rate, time):\n",
    " \n",
    "    # Calculates compound interest\n",
    "    Amount = principal * (pow((1 + rate / 100), time))\n",
    "    CI = Amount - principal\n",
    "    print(\"Compound interest is\", CI)\n",
    " \n",
    " \n",
    "# Driver Code\n",
    "compound_interest(10000, 10.25, 5)"
   ]
  },
  {
   "cell_type": "code",
   "execution_count": null,
   "id": "17c71b18-f2c7-49e0-af8e-670cbadcab34",
   "metadata": {},
   "outputs": [],
   "source": []
  }
 ],
 "metadata": {
  "kernelspec": {
   "display_name": "Python 3 (ipykernel)",
   "language": "python",
   "name": "python3"
  },
  "language_info": {
   "codemirror_mode": {
    "name": "ipython",
    "version": 3
   },
   "file_extension": ".py",
   "mimetype": "text/x-python",
   "name": "python",
   "nbconvert_exporter": "python",
   "pygments_lexer": "ipython3",
   "version": "3.12.4"
  }
 },
 "nbformat": 4,
 "nbformat_minor": 5
}
