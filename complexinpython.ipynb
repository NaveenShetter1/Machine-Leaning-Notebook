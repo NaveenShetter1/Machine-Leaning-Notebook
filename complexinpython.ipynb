{
 "cells": [
  {
   "cell_type": "markdown",
   "id": "704f9b3c",
   "metadata": {},
   "source": [
    "Q. Declare a complex number and store it in a variable.\n",
    "Check the type and print the id of the same."
   ]
  },
  {
   "cell_type": "code",
   "execution_count": 2,
   "id": "0ed8bf93",
   "metadata": {},
   "outputs": [
    {
     "name": "stdout",
     "output_type": "stream",
     "text": [
      "<class 'complex'>\n",
      "2651382004560\n"
     ]
    }
   ],
   "source": [
    "num=3+5j\n",
    "print(type(num))\n",
    "print(id(num))"
   ]
  },
  {
   "cell_type": "markdown",
   "id": "01f8e6a8",
   "metadata": {},
   "source": [
    "Q. Arithmetic Operations on complex number\n",
    "Take two different complex numbers.\n",
    "Store them in two different variables.\n",
    "Do below operations on them:-\n",
    "Find sum of both numbers\n",
    "Find difference between them\n",
    "Find the product of both numbers.\n",
    "Find value after dividing first num with second number\n",
    "Find the result of the first num to the power of the second number."
   ]
  },
  {
   "cell_type": "code",
   "execution_count": 6,
   "id": "f51afb08",
   "metadata": {},
   "outputs": [
    {
     "name": "stdout",
     "output_type": "stream",
     "text": [
      "(5+7j)\n",
      "(-1-1j)\n",
      "(-6+17j)\n",
      "(0.72+0.04j)\n",
      "(-0.204552921794176+0.8966232598799766j)\n"
     ]
    }
   ],
   "source": [
    "num1=2+3j\n",
    "num2=3+4j\n",
    "sumoftwo=num1+num2\n",
    "diffoftwo=num1-num2\n",
    "prooftwo=num1*num2\n",
    "divoftwo=num1/num2\n",
    "powoftwo=num1**num2\n",
    "print(sumoftwo)\n",
    "print(diffoftwo)\n",
    "print(prooftwo)\n",
    "print(divoftwo)\n",
    "print(powoftwo)"
   ]
  },
  {
   "cell_type": "markdown",
   "id": "0dc00e8c",
   "metadata": {},
   "source": [
    "Q. Comparison Operation not applicable between instance of complex\n",
    "values.\n",
    "Object reusability concept is not applicable on complex number"
   ]
  },
  {
   "cell_type": "code",
   "execution_count": 8,
   "id": "a08ebbfc",
   "metadata": {},
   "outputs": [
    {
     "name": "stdout",
     "output_type": "stream",
     "text": [
      "False\n",
      "True\n"
     ]
    }
   ],
   "source": [
    "num1=2+3j\n",
    "num2=2+3j\n",
    "print(num1 is num2)\n",
    "print(num1 is not num2)"
   ]
  },
  {
   "cell_type": "markdown",
   "id": "72d03994",
   "metadata": {},
   "source": [
    "Q. Equality Operator\n",
    "Take two different complex numbers.\n",
    "Store them in two different variables.\n",
    "Equate them using equality operators (==, !=)\n",
    "Observe the output(return type should be boolean)"
   ]
  },
  {
   "cell_type": "code",
   "execution_count": 10,
   "id": "0d80fb75",
   "metadata": {},
   "outputs": [
    {
     "name": "stdout",
     "output_type": "stream",
     "text": [
      "False\n",
      "True\n"
     ]
    }
   ],
   "source": [
    "num1=2+3j\n",
    "num2=3+4j\n",
    "print(num1==num2)\n",
    "print(num1!=num2)"
   ]
  },
  {
   "cell_type": "markdown",
   "id": "1c097e5f",
   "metadata": {},
   "source": [
    "Q. Logical operators\n",
    "Observe the output of below code\n",
    "Cross check the output manually\n",
    "print(10+20j and 20+30j) #20+30j\n",
    "#----------------------------------------->Output is 20+30j\n",
    "print(0+0j and 20+30j) #0+0j\n",
    "#----------------------------------------->Output is 0j\n",
    "print(20+30j and 0+0j) #0+0j\n",
    "#----------------------------------------->Output is 0j\n",
    "print(0+0j and 0+0j) #0+0j\n",
    "#----------------------------------------->Output is 0j\n",
    "print(10+20j or 20+30j) #10+20j\n",
    "#----------------------------------------->Output is 10+20j\n",
    "\n",
    "print(0+0j or 20+30j) #20+30j\n",
    "#----------------------------------------->Output is 20+30j\n",
    "print(20+30j or 0+0j) #20+30j\n",
    "#----------------------------------------->Output is 20+30j\n",
    "print(0+0j or 0+0j) #0+0j\n",
    "#----------------------------------------->Output is 0j\n",
    "print(not 10+20j) #False\n",
    "#----------------------------------------->Output is False\n",
    "print(not 0+0j) #True\n",
    "#----------------------------------------->Output is True"
   ]
  },
  {
   "cell_type": "code",
   "execution_count": 12,
   "id": "a4a26eae",
   "metadata": {},
   "outputs": [
    {
     "name": "stdout",
     "output_type": "stream",
     "text": [
      "(20+30j)\n"
     ]
    }
   ],
   "source": [
    "print(10+20j and 20+30j)"
   ]
  },
  {
   "cell_type": "code",
   "execution_count": 13,
   "id": "fe2887c1",
   "metadata": {},
   "outputs": [
    {
     "name": "stdout",
     "output_type": "stream",
     "text": [
      "0j\n"
     ]
    }
   ],
   "source": [
    "print(0+0j and 20+30j)"
   ]
  },
  {
   "cell_type": "code",
   "execution_count": 14,
   "id": "0a99055c",
   "metadata": {},
   "outputs": [
    {
     "name": "stdout",
     "output_type": "stream",
     "text": [
      "0j\n"
     ]
    }
   ],
   "source": [
    "print(20+30j and 0+0j)"
   ]
  },
  {
   "cell_type": "code",
   "execution_count": 15,
   "id": "d05e877e",
   "metadata": {},
   "outputs": [
    {
     "name": "stdout",
     "output_type": "stream",
     "text": [
      "0j\n"
     ]
    }
   ],
   "source": [
    "print(0+0j and 0+0j) "
   ]
  },
  {
   "cell_type": "code",
   "execution_count": 16,
   "id": "431f5159",
   "metadata": {},
   "outputs": [
    {
     "name": "stdout",
     "output_type": "stream",
     "text": [
      "(10+20j)\n"
     ]
    }
   ],
   "source": [
    "print(10+20j or 20+30j)"
   ]
  },
  {
   "cell_type": "code",
   "execution_count": 17,
   "id": "50be4a1f",
   "metadata": {},
   "outputs": [
    {
     "name": "stdout",
     "output_type": "stream",
     "text": [
      "(20+30j)\n"
     ]
    }
   ],
   "source": [
    "print(0+0j or 20+30j)\n"
   ]
  },
  {
   "cell_type": "code",
   "execution_count": 18,
   "id": "8830131f",
   "metadata": {},
   "outputs": [
    {
     "name": "stdout",
     "output_type": "stream",
     "text": [
      "(20+30j)\n"
     ]
    }
   ],
   "source": [
    "print(20+30j or 0+0j)"
   ]
  },
  {
   "cell_type": "code",
   "execution_count": 19,
   "id": "a083eecd",
   "metadata": {},
   "outputs": [
    {
     "name": "stdout",
     "output_type": "stream",
     "text": [
      "0j\n"
     ]
    }
   ],
   "source": [
    "print(0+0j or 0+0j)"
   ]
  },
  {
   "cell_type": "code",
   "execution_count": 20,
   "id": "05223047",
   "metadata": {},
   "outputs": [
    {
     "name": "stdout",
     "output_type": "stream",
     "text": [
      "False\n"
     ]
    }
   ],
   "source": [
    "print(not 10+20j)"
   ]
  },
  {
   "cell_type": "code",
   "execution_count": 21,
   "id": "01a2a35b",
   "metadata": {},
   "outputs": [
    {
     "name": "stdout",
     "output_type": "stream",
     "text": [
      "True\n"
     ]
    }
   ],
   "source": [
    "print(not 0+0j)"
   ]
  },
  {
   "cell_type": "markdown",
   "id": "7b44cec6",
   "metadata": {},
   "source": [
    "Q. What is the output of the expression inside the print statement.\n",
    "Cross check before running the program.\n",
    "a = 10+20j\n",
    "b = 10+20j\n",
    "print(a is b) #False #True or False?\n",
    "print(a is not b) #True #True or False?"
   ]
  },
  {
   "cell_type": "code",
   "execution_count": 23,
   "id": "423ef574",
   "metadata": {},
   "outputs": [
    {
     "name": "stdout",
     "output_type": "stream",
     "text": [
      "False\n",
      "True\n"
     ]
    }
   ],
   "source": [
    "a = 10+20j\n",
    "b = 10+20j\n",
    "print(a is b) \n",
    "print(a is not b)"
   ]
  },
  {
   "cell_type": "markdown",
   "id": "3a6ae4e6",
   "metadata": {},
   "source": [
    "Q. Membership operation\n",
    "in, not in are two membership operators and it returns boolean value\n",
    "print('2.7' in 'Python2.7.8') #True\n",
    "print(10+20j in [10,10.20,10+20j,'Python']) #True\n",
    "print(10+20j in (10,10.20,10+20j,'Python')) #True\n",
    "print(30+40j in {1,20.30,30+40j}) #True\n",
    "print(30+40j in {1:100, 2.3:200, 30+40j:300}) #True\n",
    "print(10 in range(20))"
   ]
  },
  {
   "cell_type": "code",
   "execution_count": 24,
   "id": "8c650f63",
   "metadata": {},
   "outputs": [
    {
     "name": "stdout",
     "output_type": "stream",
     "text": [
      "True\n",
      "True\n",
      "True\n",
      "True\n",
      "True\n",
      "True\n"
     ]
    }
   ],
   "source": [
    "print('2.7' in 'Python2.7.8')\n",
    "print(10+20j in [10,10.20,10+20j,'Python'])\n",
    "print(10+20j in (10,10.20,10+20j,'Python'))\n",
    "print(30+40j in {1,20.30,30+40j})\n",
    "print(30+40j in {1:100, 2.3:200, 30+40j:300})\n",
    "print(10 in range(20))"
   ]
  },
  {
   "cell_type": "code",
   "execution_count": null,
   "id": "ec6bf757",
   "metadata": {},
   "outputs": [],
   "source": []
  }
 ],
 "metadata": {
  "kernelspec": {
   "display_name": "Python 3 (ipykernel)",
   "language": "python",
   "name": "python3"
  },
  "language_info": {
   "codemirror_mode": {
    "name": "ipython",
    "version": 3
   },
   "file_extension": ".py",
   "mimetype": "text/x-python",
   "name": "python",
   "nbconvert_exporter": "python",
   "pygments_lexer": "ipython3",
   "version": "3.11.4"
  }
 },
 "nbformat": 4,
 "nbformat_minor": 5
}
